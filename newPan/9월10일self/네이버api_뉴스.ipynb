{
 "cells": [
  {
   "cell_type": "code",
   "execution_count": 5,
   "id": "c106c070",
   "metadata": {},
   "outputs": [
    {
     "name": "stdout",
     "output_type": "stream",
     "text": [
      "뉴스 검색어를 입력해주세요서울시 노인보호구역\n"
     ]
    }
   ],
   "source": [
    "import os\n",
    "import sys\n",
    "import urllib.request\n",
    "import json\n",
    "import re\n",
    "\n",
    "client_id = \"ZfhA97N3n2D26_pj344P\"\n",
    "client_secret = \"WjSgWdzg65\"\n",
    "\n",
    "keyword = input('뉴스 검색어를 입력해주세요')\n",
    "\n",
    "encText = urllib.parse.quote(keyword)\n",
    "\n",
    "tlist = []\n",
    "llist = []\n",
    "dlist = []\n",
    "\n",
    "\n",
    "for pagenum in range(1,1000,100):\n",
    "    try:\n",
    "    \n",
    "        url = \"https://openapi.naver.com/v1/search/news.json?query=\" + encText +\"&display=100&sort=sim&start=\"+str(pagenum)# json 결과   블로그 1~100  101~200\n",
    "        request = urllib.request.Request(url)\n",
    "        request.add_header(\"X-Naver-Client-Id\",client_id)\n",
    "        request.add_header(\"X-Naver-Client-Secret\",client_secret)\n",
    "        response = urllib.request.urlopen(request)\n",
    "        rescode = response.getcode()\n",
    "        if(rescode==200):\n",
    "            response_body = response.read()\n",
    "            jtemp = response_body.decode('utf-8')\n",
    "            jdata = json.loads(jtemp)\n",
    "\n",
    "            jdata['items']\n",
    "            for temp in jdata['items']:  \n",
    "                hangul = re.compile('[^ ㄱ-ㅎ|가-힣]+')\n",
    "                tdata = temp['title']\n",
    "                ldata = temp['link']\n",
    "                ddata = hangul.sub(r'',temp['description'])\n",
    "\n",
    "                tlist.append(tdata)\n",
    "                llist.append(ldata)\n",
    "                dlist.append(ddata)\n",
    "\n",
    "        else:\n",
    "            print(\"Error Code:\" + rescode)\n",
    "            \n",
    "    except:\n",
    "        print('Error')\n",
    "        \n",
    "        \n",
    "\n",
    "result = []\n",
    "for temp in range(len(tlist)):\n",
    "    temp1 = []\n",
    "    temp1.append(tlist[temp])\n",
    "    temp1.append(llist[temp])\n",
    "    temp1.append(dlist[temp])\n",
    "    \n",
    "    result.append(temp1)\n",
    "    \n",
    "    \n",
    "f = open('{0} - 네이버API 뉴스검색.csv'.format(keyword) , 'w', encoding='utf-8')\n",
    "f.write('제목'+',' + '링크' + ',' + '내용' + '\\n')\n",
    "for temp in result:    \n",
    "        f.write(temp[0] + ',' + temp[1] + ',' + temp[2] +'\\n')\n",
    "f.close()"
   ]
  },
  {
   "cell_type": "code",
   "execution_count": 6,
   "id": "84641cfb",
   "metadata": {},
   "outputs": [],
   "source": [
    "import konlpy\n",
    "from konlpy.tag import Okt\n",
    "from collections import Counter\n",
    "from wordcloud import WordCloud\n",
    "import matplotlib.pyplot as plt\n",
    "import numpy as np\n",
    "from PIL import Image\n",
    "\n",
    "\n",
    "def get_tags(text, ntags=50):\n",
    "    spliter = Okt()\n",
    "    nouns = spliter.nouns(text)\n",
    "    count = Counter(nouns)\n",
    "    return dict(count.most_common(ntags))\n",
    "\n",
    "\n",
    "def clean_str(s):\n",
    "    hangul = re.compile('[^ㄱ-ㅎ|가-힣]+')\n",
    "    s = hangul.sub(r' ',s)\n",
    "    \n",
    "    cp = re.compile(\"[\"\n",
    "                     u\"\\U00010000-\\U0010FFFF\"\n",
    "                     \"]+\", flags=re.UNICODE)\n",
    "    s = cp.sub(r' ',s)\n",
    "    \n",
    "    return s.strip()\n",
    "\n",
    "def Wordcloud(data , savename , maskname=''):\n",
    "    \n",
    "    if maskname == '':\n",
    "        wc = WordCloud( font_path='font/BMEULJIROTTF.ttf' , background_color='white', max_font_size=60, colormap='copper')\n",
    "    else:\n",
    "        maskimg = np.array(Image.open(maskname))\n",
    "        wc = WordCloud(font_path='font/BMEULJIROTTF.ttf' , background_color='white', mask=maskimg, max_font_size=60, colormap='copper')\n",
    "        \n",
    "    wc.generate_from_frequencies(data)\n",
    "    plt.figure(figsize=(20,10))\n",
    "    plt.imshow(wc)\n",
    "    plt.tight_layout(pad=0)\n",
    "    plt.axis('off')\n",
    "    plt.show()\n",
    "    wc.to_file(savename + \".png\")\n",
    "    \n",
    "    \n",
    "    "
   ]
  },
  {
   "cell_type": "code",
   "execution_count": 7,
   "id": "95cb7b7d",
   "metadata": {},
   "outputs": [],
   "source": [
    "textdata = ''\n",
    "\n",
    "for temp in result:\n",
    "    textdata = textdata + ' ' + temp[2]\n",
    "\n",
    "    \n",
    "tresult = get_tags(textdata)"
   ]
  },
  {
   "cell_type": "code",
   "execution_count": 9,
   "id": "71e23ff9",
   "metadata": {},
   "outputs": [
    {
     "ename": "NameError",
     "evalue": "name 'mask' is not defined",
     "output_type": "error",
     "traceback": [
      "\u001b[1;31m---------------------------------------------------------------------------\u001b[0m",
      "\u001b[1;31mNameError\u001b[0m                                 Traceback (most recent call last)",
      "\u001b[1;32m<ipython-input-9-0e9a92ed108f>\u001b[0m in \u001b[0;36m<module>\u001b[1;34m\u001b[0m\n\u001b[0;32m      1\u001b[0m \u001b[0mtresult\u001b[0m \u001b[1;33m=\u001b[0m \u001b[0mget_tags\u001b[0m\u001b[1;33m(\u001b[0m\u001b[0mtextdata\u001b[0m\u001b[1;33m,\u001b[0m\u001b[0mntags\u001b[0m\u001b[1;33m=\u001b[0m\u001b[1;36m200\u001b[0m\u001b[1;33m)\u001b[0m\u001b[1;33m\u001b[0m\u001b[1;33m\u001b[0m\u001b[0m\n\u001b[0;32m      2\u001b[0m \u001b[1;33m\u001b[0m\u001b[0m\n\u001b[1;32m----> 3\u001b[1;33m \u001b[0mWordcloud\u001b[0m\u001b[1;33m(\u001b[0m\u001b[0mtresult\u001b[0m\u001b[1;33m,\u001b[0m\u001b[1;34m'노인'\u001b[0m\u001b[1;33m,\u001b[0m\u001b[0mmask\u001b[0m\u001b[1;33m/\u001b[0m\u001b[0mmask_img\u001b[0m\u001b[1;33m.\u001b[0m\u001b[0mpng\u001b[0m\u001b[1;33m)\u001b[0m\u001b[1;33m\u001b[0m\u001b[1;33m\u001b[0m\u001b[0m\n\u001b[0m\u001b[0;32m      4\u001b[0m \u001b[1;31m#Wrodcloud(tresult,'커피블로그',/mask/mask...)\u001b[0m\u001b[1;33m\u001b[0m\u001b[1;33m\u001b[0m\u001b[1;33m\u001b[0m\u001b[0m\n",
      "\u001b[1;31mNameError\u001b[0m: name 'mask' is not defined"
     ]
    }
   ],
   "source": [
    "tresult = get_tags(textdata,ntags=200)\n",
    "\n",
    "Wordcloud(tresult,'노인',mask/mask_img.png)\n",
    "#Wrodcloud(tresult,'커피블로그',/mask/mask...)"
   ]
  },
  {
   "cell_type": "code",
   "execution_count": null,
   "id": "b596faae",
   "metadata": {},
   "outputs": [],
   "source": [
    "import pandas as pd\n"
   ]
  }
 ],
 "metadata": {
  "kernelspec": {
   "display_name": "Python 3",
   "language": "python",
   "name": "python3"
  },
  "language_info": {
   "codemirror_mode": {
    "name": "ipython",
    "version": 3
   },
   "file_extension": ".py",
   "mimetype": "text/x-python",
   "name": "python",
   "nbconvert_exporter": "python",
   "pygments_lexer": "ipython3",
   "version": "3.8.8"
  }
 },
 "nbformat": 4,
 "nbformat_minor": 5
}
