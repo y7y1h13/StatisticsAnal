{
 "cells": [
  {
   "cell_type": "code",
   "execution_count": 1,
   "id": "5df14f12",
   "metadata": {},
   "outputs": [],
   "source": [
    "from selenium import webdriver\n",
    "from selenium.webdriver.common.keys import Keys\n",
    "from selenium.webdriver.chrome.options import Options\n",
    "import time\n",
    "from bs4 import BeautifulSoup\n",
    "import csv\n",
    "import urllib\n",
    "import ssl"
   ]
  },
  {
   "cell_type": "code",
   "execution_count": 5,
   "id": "1f021795",
   "metadata": {},
   "outputs": [
    {
     "name": "stdout",
     "output_type": "stream",
     "text": [
      "검색어를 입력하세요 :  커피\n"
     ]
    },
    {
     "name": "stderr",
     "output_type": "stream",
     "text": [
      "<ipython-input-5-c20d7784ad87>:12: DeprecationWarning: use options instead of chrome_options\n",
      "  driver = webdriver.Chrome('chromedriver.exe' , chrome_options=options)\n"
     ]
    },
    {
     "name": "stdout",
     "output_type": "stream",
     "text": [
      "[]\n",
      "[<a class=\" xil3i\" href=\"/explore/tags/japanesegourmet/\" tabindex=\"0\">#japanesegourmet</a>, <a class=\" xil3i\" href=\"/explore/tags/hanako/\" tabindex=\"0\">#hanako</a>, <a class=\" xil3i\" href=\"/explore/tags/hanakoinkyoto/\" tabindex=\"0\">#hanakoinkyoto</a>, <a class=\" xil3i\" href=\"/explore/tags/dots/\" tabindex=\"0\">#dots</a>, <a class=\" xil3i\" href=\"/explore/tags/スマート/\" tabindex=\"0\">#スマート</a>, <a class=\" xil3i\" href=\"/explore/tags/coffee/\" tabindex=\"0\">#coffee</a>, <a class=\" xil3i\" href=\"/explore/tags/kyoto/\" tabindex=\"0\">#kyoto</a>, <a class=\" xil3i\" href=\"/explore/tags/japanesecafe/\" tabindex=\"0\">#japanesecafe</a>, <a class=\" xil3i\" href=\"/explore/tags/京都カフェ/\" tabindex=\"0\">#京都カフェ</a>, <a class=\" xil3i\" href=\"/explore/tags/커피/\" tabindex=\"0\">#커피</a>, <a class=\" xil3i\" href=\"/explore/tags/instagramjapan/\" tabindex=\"0\">#instagramjapan</a>, <a class=\" xil3i\" href=\"/explore/tags/京都旅行/\" tabindex=\"0\">#京都旅行</a>, <a class=\" xil3i\" href=\"/explore/tags/カフェ/\" tabindex=\"0\">#カフェ</a>, <a class=\" xil3i\" href=\"/explore/tags/カフェ巡り/\" tabindex=\"0\">#カフェ巡り</a>, <a class=\" xil3i\" href=\"/explore/tags/cafe/\" tabindex=\"0\">#cafe</a>, <a class=\" xil3i\" href=\"/explore/tags/カフェ部/\" tabindex=\"0\">#カフェ部</a>, <a class=\" xil3i\" href=\"/explore/tags/카페/\" tabindex=\"0\">#카페</a>, <a class=\" xil3i\" href=\"/explore/tags/먹스타그램/\" tabindex=\"0\">#먹스타그램</a>, <a class=\" xil3i\" href=\"/explore/tags/japanesecafe/\" tabindex=\"0\">#japanesecafe</a>, <a class=\" xil3i\" href=\"/explore/tags/デリスタグラマー/\" tabindex=\"0\">#デリスタグラマー</a>, <a class=\" xil3i\" href=\"/explore/tags/ファインダー越しの私の世界/\" tabindex=\"0\">#ファインダー越しの私の世界</a>, <a class=\" xil3i\" href=\"/explore/tags/京都スイーツ/\" tabindex=\"0\">#京都スイーツ</a>, <a class=\" xil3i\" href=\"/explore/tags/カフェ好きな人と繋がりたい/\" tabindex=\"0\">#カフェ好きな人と繋がりたい</a>, <a class=\" xil3i\" href=\"/explore/tags/写真好きな人と繋がりたい/\" tabindex=\"0\">#写真好きな人と繋がりたい</a>, <a class=\" xil3i\" href=\"/explore/tags/京都グルメ/\" tabindex=\"0\">#京都グルメ</a>, <a class=\" xil3i\" href=\"/explore/tags/京都/\" tabindex=\"0\">#京都</a>, <a class=\" xil3i\" href=\"/explore/tags/일본/\" tabindex=\"0\">#일본</a>, <a class=\" xil3i\" href=\"/explore/tags/kyototrip/\" tabindex=\"0\">#kyototrip</a>, <a class=\" xil3i\" href=\"/explore/tags/ライター/\" tabindex=\"0\">#ライター</a>, <a class=\" xil3i\" href=\"/explore/tags/焼菓子/\" tabindex=\"0\">#焼菓子</a>]\n",
      "#japanesegourmet\n",
      "#hanako\n",
      "#hanakoinkyoto\n",
      "#dots\n",
      "#スマート\n",
      "#coffee\n",
      "#kyoto\n",
      "#japanesecafe\n",
      "#京都カフェ\n",
      "#커피\n",
      "#instagramjapan\n",
      "#京都旅行\n",
      "#カフェ\n",
      "#カフェ巡り\n",
      "#cafe\n",
      "#カフェ部\n",
      "#카페\n",
      "#먹스타그램\n",
      "#japanesecafe\n",
      "#デリスタグラマー\n",
      "#ファインダー越しの私の世界\n",
      "#京都スイーツ\n",
      "#カフェ好きな人と繋がりたい\n",
      "#写真好きな人と繋がりたい\n",
      "#京都グルメ\n",
      "#京都\n",
      "#일본\n",
      "#kyototrip\n",
      "#ライター\n",
      "#焼菓子\n",
      "[<a class=\" xil3i\" href=\"/explore/tags/☕️/\" tabindex=\"0\">#☕️</a>, <a class=\" xil3i\" href=\"/explore/tags/커피올렸다내려드립니다/\" tabindex=\"0\">#커피올렸다내려드립니다</a>]\n",
      "#☕️\n",
      "#커피올렸다내려드립니다\n",
      "[<a class=\" xil3i\" href=\"/explore/tags/카페선일/\" tabindex=\"0\">#카페선일</a>]\n",
      "#카페선일\n",
      "[<a class=\" xil3i\" href=\"/explore/tags/데얼커피/\" tabindex=\"0\">#데얼커피</a>, <a class=\" xil3i\" href=\"/explore/tags/theircoffee/\" tabindex=\"0\">#theircoffee</a>]\n",
      "#데얼커피\n",
      "#theircoffee\n"
     ]
    }
   ],
   "source": [
    "keyword = input('검색어를 입력하세요 :  ')\n",
    "\n",
    "#인증서 관련 오류가 생길때 사용\n",
    "#ssl._create_defahttp://localhost:8888/notebooks/kdigital/%EC%9D%B8%EC%8A%A4%ED%83%80%20%EB%8C%93%EA%B8%80%EB%B0%8F%ED%95%B4%EC%8B%9C%ED%83%9C%EA%B7%B8%20%ED%81%AC%EB%A1%A4%EB%A7%81.ipynb#ult_https_context = ssl._create_unverified_context   \n",
    "\n",
    "\n",
    "url = 'https://www.instagram.com/explore/tags/'+str(urllib.parse.quote(keyword)) +'/'\n",
    "\n",
    "options = Options()\n",
    "#options.add_argument('--start-fullscreen')\n",
    "\n",
    "driver = webdriver.Chrome('chromedriver.exe' , chrome_options=options)\n",
    "driver.implicitly_wait(1)\n",
    "driver.get(url)\n",
    "time.sleep(60)\n",
    "\n",
    "driver.find_element_by_class_name('eLAPa').click()\n",
    "\n",
    "time.sleep(2)\n",
    "\n",
    "for temp in range(0,5):\n",
    "    html = driver.page_source\n",
    "    soup = BeautifulSoup(html,'lxml')\n",
    "    \n",
    "    rdata = soup.find_all('a',{'class':'xil3i'})\n",
    "    \n",
    "    print(rdata)\n",
    "    \n",
    "    for temp1 in rdata:\n",
    "        print(temp1.text)\n",
    "        \n",
    "    \n",
    "    driver.find_element_by_link_text('다음').click()\n",
    "    time.sleep(range(2,10))\n"
   ]
  },
  {
   "cell_type": "code",
   "execution_count": null,
   "id": "e5a9d1eb",
   "metadata": {},
   "outputs": [],
   "source": []
  }
 ],
 "metadata": {
  "kernelspec": {
   "display_name": "Python 3",
   "language": "python",
   "name": "python3"
  },
  "language_info": {
   "codemirror_mode": {
    "name": "ipython",
    "version": 3
   },
   "file_extension": ".py",
   "mimetype": "text/x-python",
   "name": "python",
   "nbconvert_exporter": "python",
   "pygments_lexer": "ipython3",
   "version": "3.8.8"
  }
 },
 "nbformat": 4,
 "nbformat_minor": 5
}
