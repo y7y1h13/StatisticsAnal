{
 "cells": [
  {
   "cell_type": "code",
   "execution_count": 76,
   "id": "39489209",
   "metadata": {},
   "outputs": [],
   "source": [
    "#리스트를 ndarray로 변환\n",
    "list1 = [1,2,3]\n",
    "print(type(list1)) # 리스트\n",
    "arr1 = np.array(list1) # 리스트를 ndarray로 변환\n",
    "print(type(arr1)) # 타입 출력\n",
    "print(arr1, arr1.dtype) # 속성 데이터타입 출력"
   ]
  },
  {
   "cell_type": "code",
   "execution_count": 77,
   "id": "5b8cf3db",
   "metadata": {},
   "outputs": [],
   "source": [
    "#데이터값의 타입 변경\n",
    "array_int = np.array([1, 2, 3]) #int생성\n",
    "array_float = array_int.astype('float64') #float로 변경\n",
    "print(array_float, array_float.dtype)"
   ]
  },
  {
   "cell_type": "code",
   "execution_count": 78,
   "id": "a3c8883e",
   "metadata": {},
   "outputs": [],
   "source": [
    "array_int1 = array_float.astype('int32') #int로변경\n",
    "print(array_int1, array_int1.dtype)"
   ]
  },
  {
   "cell_type": "code",
   "execution_count": 79,
   "id": "c8baeff8",
   "metadata": {},
   "outputs": [],
   "source": [
    "array_float1 = np.array([1.1,2.1,3.1]) #float\n",
    "array_int2 = array_float1.astype('int32') #int로변경\n",
    "print(array_int2, array_int2.dtype)"
   ]
  },
  {
   "cell_type": "code",
   "execution_count": 80,
   "id": "ff5af9b8",
   "metadata": {},
   "outputs": [],
   "source": [
    "seq = np.arange(10) # 시작값이 생략되어있다. 생략되면 0부터 setp도 생략 1이 들어감\n",
    "#0~10 까지 1간격으로 생성 / 10은 포함안된다.\n",
    "print(seq)\n",
    "print(seq.dtype, seq.shape) #seq의 type과 모양 알려줌"
   ]
  },
  {
   "cell_type": "markdown",
   "id": "bc992292",
   "metadata": {},
   "source": [
    "** 참고 **\n",
    "\n",
    "start : 시작값,\n",
    "stop : 마지막값,\n",
    "num : 전체갯수 (기본값 50),\n",
    "\n",
    "endpoint : stop값 포함시킬지말지,\n",
    "dtype : type 지정"
   ]
  },
  {
   "cell_type": "code",
   "execution_count": 81,
   "id": "55504df2",
   "metadata": {},
   "outputs": [],
   "source": [
    "#특정차원 및 크기를 변환\n",
    "arr1 = np.arange(10) # 0~10까지 생성\n",
    "print('arr1:\\n',arr1)\n",
    "print()"
   ]
  },
  {
   "cell_type": "code",
   "execution_count": 82,
   "id": "1965572e",
   "metadata": {},
   "outputs": [],
   "source": [
    "arr2 = arr1.reshape(2,5) # arr1의 모양을 2행 5열로 바꿈\n",
    "print('arr2:\\n' ,arr2)\n",
    "print()"
   ]
  },
  {
   "cell_type": "code",
   "execution_count": 83,
   "id": "261ff1ee",
   "metadata": {},
   "outputs": [],
   "source": [
    "arr3 = arr1.reshape(-1, 2) # arr1의 모양을 5행 2열로 바꿈\n",
    "print('arr3:\\n', arr3)"
   ]
  },
  {
   "cell_type": "markdown",
   "id": "b19c9237",
   "metadata": {},
   "source": [
    "**꿀팁**\n",
    "나눌때 잘 모르겠으면 원하는 값,-1 하면 알아서 맞춰준다."
   ]
  },
  {
   "cell_type": "code",
   "execution_count": 84,
   "id": "ea950528",
   "metadata": {},
   "outputs": [],
   "source": [
    "#차원 변경\n",
    "arr1 = np.arange(8)\n",
    "arr3d = arr1.reshape((2,2,2)) # 3차원으로 변경\n",
    "print('arr3d:\\n',arr3d.tolist())# tolist는 리스트로 변환해주는 함수이다.\n",
    "print('arr3d shape:', arr3d.shape)\n",
    "print()"
   ]
  },
  {
   "cell_type": "code",
   "execution_count": 85,
   "id": "94b93974",
   "metadata": {},
   "outputs": [],
   "source": [
    "# 3차원 ndarray를 2차원 ndarray로 변환\n",
    "arr5 = arr3d.reshape(-1, 1)\n",
    "print('arr5:\\n',arr5.tolist())\n",
    "print('arr5 shape:', arr5.shape)\n",
    "print()"
   ]
  },
  {
   "cell_type": "code",
   "execution_count": 86,
   "id": "93aac612",
   "metadata": {},
   "outputs": [],
   "source": [
    "# 1차원 ndarray를 2차원 ndarray로 변환\n",
    "arr6 = arr1.reshape(-1, 1)\n",
    "print('arr6:\\n', arr6.tolist())\n",
    "print('arr6 shape:', arr6.shape)\n",
    "#괄호잘보기"
   ]
  },
  {
   "cell_type": "markdown",
   "id": "bafb03d7",
   "metadata": {},
   "source": [
    "그냥 외우기 \n",
    "axis 0은 row(행)\n",
    "\n",
    "axis 1은 column(열)\n",
    "\n",
    "axis 2는 heigh(높이) -> 3차원\n",
    "\n",
    "axis가 생략되면 axis 0을 의미한다."
   ]
  },
  {
   "cell_type": "code",
   "execution_count": 87,
   "id": "1f185a91",
   "metadata": {},
   "outputs": [],
   "source": [
    "#불린 인덱싱\n",
    "\n",
    "arr1d = np.arange(1, 10)\n",
    "# [ ] 안에 arr1d > 5 불린 인덱싱 적용\n",
    "arr3 = arr1d[arr1d > 5]\n",
    "print('arr1d > 5 불린 인덱싱 결과 값 :', arr3)\n",
    "arr1d > 5\n",
    "boolean_index = np.array([False, False, False, False, False,  True,  True,  True,  True])\n",
    "arr3 = arr1d[boolean_index]\n",
    "print('불린 인덱스로 필터링 결과:', arr3)"
   ]
  },
  {
   "cell_type": "code",
   "execution_count": 65,
   "id": "a3df2512",
   "metadata": {},
   "outputs": [],
   "source": [
    "# ort() 호출방법은 여러가지가 있다.\n",
    "# np.sort => 넘파이에서 호출 (원 행렬 그대로 유지함)\n",
    "# ndarray.sort() => 행렬 자체에서 호출 (원 행렬을 정렬해버림)"
   ]
  },
  {
   "cell_type": "code",
   "execution_count": 88,
   "id": "0a260316",
   "metadata": {},
   "outputs": [],
   "source": [
    "#2차원 이상일 경우 axis로 행렬 방향정렬이 가능\n",
    "arr2d = np.array([[8, 12],\n",
    "                 [7,1]])\n",
    "\n",
    "sort_arr2d_axis0 = np.sort(arr2d, axis=0)\n",
    "print('로우 방향으로 정렬:\\n', sort_arr2d_axis0)\n",
    "print()\n",
    "\n",
    "sort_arr2d_axis1 = np.sort(arr2d, axis=1)\n",
    "print('컬럼 방향으로 정렬:\\n', sort_arr2d_axis1)"
   ]
  },
  {
   "cell_type": "code",
   "execution_count": 89,
   "id": "daee1471",
   "metadata": {},
   "outputs": [],
   "source": [
    "#정렬된 행렬의 인덱스가 궁금할땐\n",
    "org_arr = np.array([3,1,9,5])\n",
    "sort_in = np.argsort(org_arr)\n",
    "print(type(sort_in))\n",
    "print('행렬 정렬 시 원본 행렬의 인덱스:', sort_in)"
   ]
  },
  {
   "cell_type": "markdown",
   "id": "7bd4b16b",
   "metadata": {},
   "source": [
    "describe() 데이터 분포\n",
    "pd.DataFrame(변환할데이터, 컬럼=컬럼데이터)\n",
    "\n",
    "1차원은 컬럼 한개필요\n",
    "\n",
    ".values - 넘파이로 변환, \n",
    "tolist() - 리스트로 변환"
   ]
  },
  {
   "cell_type": "markdown",
   "id": "33ff4070",
   "metadata": {},
   "source": [
    "iloc - 위치(좌표) => 종료-1 까지, 숫자기반이기때문에\n",
    "\n",
    "loc - 명칭(컬럼, 인덱스) => 종료까지.... 명칭기반\n"
   ]
  },
  {
   "cell_type": "markdown",
   "id": "cbcc252a",
   "metadata": {},
   "source": [
    "and = & , or = | , Not = ~"
   ]
  },
  {
   "cell_type": "code",
   "execution_count": 68,
   "id": "43e17af5",
   "metadata": {},
   "outputs": [],
   "source": [
    "import pandas as pd\n",
    "import numpy as np\n",
    "from numpy import random\n",
    "df = pd.read_csv('../답지/data/성적표.csv', encoding='cp949')\n",
    "# 인코딩을 지정 해주면 한글도 잘 나온다. (EUC-KR, CP949)\n",
    "import scipy as sp #붉은색 뜨는거 없애는거"
   ]
  },
  {
   "cell_type": "code",
   "execution_count": 90,
   "id": "93355d0c",
   "metadata": {},
   "outputs": [],
   "source": [
    "df.head() # 지정안하면 앞에서 다섯개까지 불러온다\n",
    "# head() 앞쪽부터 (원하는만큼)\n",
    "# tail() 뒤쪽\n",
    "# .shape 크기"
   ]
  },
  {
   "cell_type": "code",
   "execution_count": 91,
   "id": "aecd4ef6",
   "metadata": {},
   "outputs": [],
   "source": [
    "#결측값 랜덤으로 처리 하기\n",
    "#60,101 = 60~100까지 랜덤으로\n",
    "df['name'] = random.randint(60,101, size=len(df))\n",
    "df['name'] = random.randint(60,101, size=len(df))\n",
    "df.head(3)"
   ]
  },
  {
   "cell_type": "code",
   "execution_count": 92,
   "id": "83452865",
   "metadata": {},
   "outputs": [],
   "source": [
    "df['성별'] = df['남/여'].apply(lambda x : 1 if x=='남자' else 2)\n",
    "df = df [['순번','이름','학과','남/여','성별','학년','이론','실기']]\n",
    "df.head(3)"
   ]
  },
  {
   "cell_type": "code",
   "execution_count": 93,
   "id": "fd116beb",
   "metadata": {},
   "outputs": [],
   "source": [
    "#name의 고유값을 목록으로 추출\n",
    "df['name'].unique()"
   ]
  },
  {
   "cell_type": "code",
   "execution_count": 94,
   "id": "8636d0cf",
   "metadata": {},
   "outputs": [],
   "source": [
    "#데이터는 전달할때 정렬까지 해줘라!\n",
    "def uniqu(s):\n",
    "    a=[]\n",
    "    for i in s:\n",
    "        if i not in a:\n",
    "            a.append(i)\n",
    "    a.sort()\n",
    "    return a\n",
    "\n",
    "uniqu(df['name'])"
   ]
  },
  {
   "cell_type": "code",
   "execution_count": 95,
   "id": "9abd5277",
   "metadata": {},
   "outputs": [],
   "source": [
    "import pandas as pd\n",
    "#파일이름은 영어로 하는게 좋음\n",
    "#1행을 컬럼으로 하겠다\n",
    "df = pd.read_csv('data/서울시 인구현황_구.txt',sep='\\t',header=1) \n",
    "# EUC-KR, CP949, \n",
    "# sep='\\t' = 탭이 들어가있어서 넣음 ,가 있으면 ',' header=1 = "
   ]
  },
  {
   "cell_type": "code",
   "execution_count": 75,
   "id": "320452d5",
   "metadata": {},
   "outputs": [],
   "source": [
    "df.drop(0, inplace=True) #지정인덱스 삭제 "
   ]
  },
  {
   "cell_type": "code",
   "execution_count": null,
   "id": "9ff36fb3",
   "metadata": {},
   "outputs": [],
   "source": [
    "#컬럼 삭제\n",
    "# df1 = df.iloc[:, [0,1,3,4,5,6,7,8,9,10,11,-1]] ,마지막\n",
    "df1 = df.drop(['원하는 컬럼','원하는컬럼1'], axis=1)"
   ]
  },
  {
   "cell_type": "code",
   "execution_count": null,
   "id": "b14d5ee4",
   "metadata": {},
   "outputs": [],
   "source": [
    "# 그리기 임포트\n",
    "import matplotlib.pyplot as plt\n",
    "%matplotlib inline"
   ]
  },
  {
   "cell_type": "code",
   "execution_count": null,
   "id": "19ba6cbc",
   "metadata": {},
   "outputs": [],
   "source": [
    "gu=input('조회할 name')\n",
    "\n",
    "df3= df2[ df2['a']==gu]\n",
    "plt.plot(df3['b'],df3['c'])\n",
    "plt.xlabel('year')\n",
    "plt.ylabel('population')\n",
    "plt.show()\n",
    "\n",
    "plt.plot(df3['b'],df3['d'])\n",
    "plt.plot(df3['b'],df3['e'])\n",
    "plt.show()"
   ]
  },
  {
   "cell_type": "code",
   "execution_count": null,
   "id": "432c01ba",
   "metadata": {},
   "outputs": [],
   "source": [
    "import pandas as pd\n",
    "import matplotlib.pyplot as plt\n",
    "from matplotlib import font_manager, rc\n",
    "\n",
    "import matplotlib\n",
    "import platform\n",
    "if platform.system() == 'Windows':\n",
    "    matplotlib.rc('font', family='Malgun Gothic')\n",
    "    \n",
    "%matplotlib inline\n",
    "\n",
    "\n",
    "df = pd.read_csv('data/넣고싶은 파일',encoding='cp949')"
   ]
  },
  {
   "cell_type": "code",
   "execution_count": null,
   "id": "8031a682",
   "metadata": {},
   "outputs": [],
   "source": [
    "df.info() #데이터확인"
   ]
  },
  {
   "cell_type": "code",
   "execution_count": null,
   "id": "4fb9816c",
   "metadata": {},
   "outputs": [],
   "source": [
    "#변경하는법 1\n",
    "df[(df['출력'] == '?')] = '0' \n",
    "# for temp in df.columns:\n",
    "#     df[temp] = df[temp].str.replace('?','0')\n",
    "df = df.astype({'출력':'float64','name':'float64','name1':'int64','name2':'float64','name3':'float64','name4':'float64','name5':'int64','name5':int})"
   ]
  },
  {
   "cell_type": "code",
   "execution_count": null,
   "id": "96bf0aaf",
   "metadata": {},
   "outputs": [],
   "source": [
    "#변경하는법 2 \n",
    "crime_df['절도 발생'] = crime_df['절도 발생'].str.replace(',','')\n",
    "crime_df['절도 발생'] = crime_df['절도 발생'].astype('int')"
   ]
  },
  {
   "cell_type": "code",
   "execution_count": null,
   "id": "912d50c0",
   "metadata": {},
   "outputs": [],
   "source": [
    "#오류가나면 예외처리를 해준다.\n",
    "for temp in df.columns:\n",
    "    try:#밑에있는 코드가 문제없이 돌아가면 처리하고\n",
    "        df[temp] = df[temp].str.replace('?','0')\n",
    "    except:#오류나면\n",
    "        print('오류났어요' + temp)"
   ]
  },
  {
   "cell_type": "code",
   "execution_count": null,
   "id": "d7a3c578",
   "metadata": {},
   "outputs": [],
   "source": [
    "df.corr() #상관관계 분석\n",
    "#숫자끼리만 상관관계를 분석해준다.\n",
    "#0에 가까울수록 상관관계가 없다."
   ]
  },
  {
   "cell_type": "code",
   "execution_count": null,
   "id": "3782708c",
   "metadata": {},
   "outputs": [],
   "source": [
    "#히트맵으로 그려보기\n",
    "import pandas as pd\n",
    "import matplotlib.pyplot as plt\n",
    "from matplotlib import font_manager, rc\n",
    "import matplotlib\n",
    "import platform\n",
    "if platform.system() == 'Windows':\n",
    "    matplotlib.rc('font', family='NanumGothic')\n",
    "    #Malgun \n",
    "%matplotlib inline"
   ]
  },
  {
   "cell_type": "code",
   "execution_count": null,
   "id": "125e1263",
   "metadata": {},
   "outputs": [],
   "source": [
    "import pandas as pd\n",
    "# crime_df = pd.read_csv('../data/crimeSeoul.csv', encoding='cp949')\n",
    "crime_df = pd.read_csv('../data/crimeSeoul.csv',sep=',',engine='python',encoding='euc-kr')"
   ]
  },
  {
   "cell_type": "code",
   "execution_count": null,
   "id": "9949a9a7",
   "metadata": {},
   "outputs": [],
   "source": [
    "#필요한 데이터만 가져오는법\n",
    "police_df1 = police_df[police_df['name'] == 'a'] #name안에 a랑 맞는것만 호출"
   ]
  },
  {
   "cell_type": "code",
   "execution_count": null,
   "id": "f832bbf6",
   "metadata": {},
   "outputs": [],
   "source": [
    "# crime_df['관서명'] = crime_df['관서명'].str.replace('서','경찰서')\n",
    "# crime_df['관서명'] = '서울' + crime_df['관서명']\n",
    "nameresult = []\n",
    "for temp in crime_df['관서명']:\n",
    "    nameresult.append('서울'+ temp[:-1] + '경찰서')\n",
    "crime_df['관서명'] = nameresult\n",
    "\n",
    "\n",
    "#여기까지만 하고 지도로 넘어감\n",
    "crimepolicedf = crime_df"
   ]
  },
  {
   "cell_type": "code",
   "execution_count": null,
   "id": "f9870c47",
   "metadata": {},
   "outputs": [],
   "source": [
    "gudata = []\n",
    "\n",
    "for temp in crime_df['관서명']:\n",
    "    gudata.append(police_df1.loc[police_df1['지구대파출소']==temp, :].주소.str.split(' ').values[0][0])\n",
    "    \n",
    "gudata"
   ]
  },
  {
   "cell_type": "code",
   "execution_count": null,
   "id": "3954cf95",
   "metadata": {},
   "outputs": [],
   "source": [
    "gudata =[]\n",
    "for temp in crime_df['관서명']:\n",
    "    tempa = police_df1.loc[police_df1['지구대파출소']==temp,:].주소\n",
    "    tempb = tempa.str.split(' ').values\n",
    "    gudata.append(tempb[0][0])\n",
    "    \n",
    "gudata"
   ]
  },
  {
   "cell_type": "code",
   "execution_count": null,
   "id": "f2b1a5b2",
   "metadata": {},
   "outputs": [],
   "source": [
    "import pandas as pd\n",
    "import matplotlib.pyplot as plt\n",
    "from matplotlib import font_manager, rc\n",
    "import matplotlib\n",
    "import platform\n",
    "if platform.system() == 'Windows':\n",
    "    matplotlib.rc('font', family='NanumGothic')\n",
    "    #Malgun \n",
    "%matplotlib inline"
   ]
  },
  {
   "cell_type": "code",
   "execution_count": null,
   "id": "8e9bb05a",
   "metadata": {},
   "outputs": [],
   "source": [
    "a.plot(kind='bar', title='서울시 구별 살인 발생 및 검거 현황')"
   ]
  },
  {
   "cell_type": "code",
   "execution_count": null,
   "id": "a0834f5c",
   "metadata": {},
   "outputs": [],
   "source": [
    "xlist = []\n",
    "ylist = []\n",
    "for temp in crimepolicedf['관서명']:\n",
    "    temp1 = police_df1.loc[police_df1['지구대파출소']==temp,:]['X좌표'].values[0]\n",
    "    temp2 = police_df1.loc[police_df1['지구대파출소']==temp,:]['Y좌표'].values[0]\n",
    "\n",
    "    xlist.append(temp1)\n",
    "    ylist.append(temp2)\n",
    "    \n",
    "crimepolicedf['X좌표'] = xlist\n",
    "crimepolicedf['Y좌표'] = ylist"
   ]
  },
  {
   "cell_type": "code",
   "execution_count": null,
   "id": "ffcd73ac",
   "metadata": {},
   "outputs": [],
   "source": [
    "import folium\n",
    "\n",
    "center = [37.541 , 126.986]#지도의 중심을 넣어준다.\n",
    "mapdata = folium.Map(location=center, zoom_start = 12)\n",
    "\n",
    "for temp in crimepolicedf.index:\n",
    "    folium.Circle(\n",
    "        [crimepolicedf['Y좌표'][temp], crimepolicedf['X좌표'][temp]],\n",
    "        radius = int(crimepolicedf.loc[temp,['범죄 합계']].values[0] / 5),color='#3185cc',fill_color='#3185cc'\n",
    "        \n",
    "    ).add_to(mapdata) #지도에 원을 다 더해라\n",
    "mapdata"
   ]
  },
  {
   "cell_type": "code",
   "execution_count": null,
   "id": "4d59a8ca",
   "metadata": {},
   "outputs": [],
   "source": [
    "#테이블 형태이면 판다스에서 바로 가져올 수 있다.\n",
    "\n",
    "import pandas as pd\n",
    "\n",
    "df = pd.read_html('https://ko.wikipedia.org/wiki/%EB%8C%80%ED%95%9C%EB%AF%BC%EA%B5%AD%EC%9D%98_%EC%BD%94%EB%A1%9C%EB%82%9819_%EB%B2%94%EC%9C%A0%ED%96%89')"
   ]
  },
  {
   "cell_type": "code",
   "execution_count": null,
   "id": "d7fbdbe0",
   "metadata": {},
   "outputs": [],
   "source": [
    "wifidata = df.value_counts(df['자치구'])\n",
    "wdf = pd.DataFrame(wifidata)\n",
    "wdf = wdf.rename(columns={0:'설치현황'})"
   ]
  },
  {
   "cell_type": "code",
   "execution_count": null,
   "id": "fa313277",
   "metadata": {},
   "outputs": [],
   "source": [
    "wdf.plot(kind='bar', label = '구',legend=True, title='서울시 구별 와이파이 통계')"
   ]
  },
  {
   "cell_type": "code",
   "execution_count": null,
   "id": "5f20d8dd",
   "metadata": {},
   "outputs": [],
   "source": [
    "import seaborn as sns\n",
    "\n",
    "plt.figure(figsize=(17,8))\n",
    "bp = sns.barplot(x=wdf.index, y='설치현황',data=wdf)\n",
    "bp.set_title('서울시 공공wifi 현황',fontsize=30)\n",
    "bp.set_xlabel('지역명',fontsize=20)\n",
    "bp.set_ylabel('설치수(개)',fontsize=20)\n",
    "\n",
    "for temp in bp.patches:\n",
    "    bp.annotate('%d'%temp.get_height(), (temp.get_x()+temp.get_width()/2, temp.get_height()), ha='center',va='bottom')\n",
    "\n",
    "plt.grid(axis='y',alpha=0.5)\n",
    "plt.show()"
   ]
  },
  {
   "cell_type": "code",
   "execution_count": null,
   "id": "b74d671c",
   "metadata": {},
   "outputs": [],
   "source": [
    "for temp in bp.patches:\n",
    "    print(temp)#막대 하나하나당 데이터를 담고있다."
   ]
  },
  {
   "cell_type": "code",
   "execution_count": null,
   "id": "a10c2952",
   "metadata": {},
   "outputs": [],
   "source": [
    "df.describe()"
   ]
  },
  {
   "cell_type": "code",
   "execution_count": null,
   "id": "e8b68374",
   "metadata": {},
   "outputs": [],
   "source": []
  },
  {
   "cell_type": "code",
   "execution_count": null,
   "id": "df7603c3",
   "metadata": {},
   "outputs": [],
   "source": []
  },
  {
   "cell_type": "code",
   "execution_count": null,
   "id": "004a3ae3",
   "metadata": {},
   "outputs": [],
   "source": []
  },
  {
   "cell_type": "code",
   "execution_count": null,
   "id": "a0272817",
   "metadata": {},
   "outputs": [],
   "source": []
  },
  {
   "cell_type": "code",
   "execution_count": null,
   "id": "d036470b",
   "metadata": {},
   "outputs": [],
   "source": []
  },
  {
   "cell_type": "code",
   "execution_count": null,
   "id": "06f7731a",
   "metadata": {},
   "outputs": [],
   "source": []
  }
 ],
 "metadata": {
  "kernelspec": {
   "display_name": "Python 3",
   "language": "python",
   "name": "python3"
  },
  "language_info": {
   "codemirror_mode": {
    "name": "ipython",
    "version": 3
   },
   "file_extension": ".py",
   "mimetype": "text/x-python",
   "name": "python",
   "nbconvert_exporter": "python",
   "pygments_lexer": "ipython3",
   "version": "3.8.8"
  }
 },
 "nbformat": 4,
 "nbformat_minor": 5
}
