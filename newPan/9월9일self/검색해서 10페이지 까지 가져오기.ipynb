{
 "cells": [
  {
   "cell_type": "code",
   "execution_count": 1,
   "id": "cfc1d7cc",
   "metadata": {},
   "outputs": [],
   "source": [
    "import requests\n",
    "from bs4 import BeautifulSoup\n",
    "import urllib\n",
    "import re"
   ]
  },
  {
   "cell_type": "code",
   "execution_count": 3,
   "id": "73577ee4",
   "metadata": {},
   "outputs": [
    {
     "name": "stdout",
     "output_type": "stream",
     "text": [
      "검색하실 키워드를 입력하세요(ex:커피,코로나...) : a\n"
     ]
    }
   ],
   "source": [
    "keyword = input('검색하실 키워드를 입력하세요(ex:커피,코로나...) : ')\n",
    "keyword1 = urllib.parse.quote(keyword)"
   ]
  },
  {
   "cell_type": "code",
   "execution_count": 6,
   "id": "60bc8706",
   "metadata": {},
   "outputs": [],
   "source": [
    "for temp in range(1,101,10):\n",
    "    \n",
    "    \n",
    "    url = 'https://search.naver.com/search.naver?where=news&sm=tab_pge&query={0}&start={1}'.format(keyword,temp)\n",
    "    \n",
    "    page = requests.get(url)\n",
    "    html = page.text\n",
    "    soup = BeautifulSoup(html,'lxml')\n",
    "    data1 = soup.find('div',{'id':'main_pack'})\n",
    "    data2 = data1.find_all('div',{'class':'news_area'})\n",
    "    import re\n",
    "\n",
    "    result_title = []\n",
    "\n",
    "    for temp in data2:\n",
    "        titletemp = temp.find('a',{'class':'news_tit'})\n",
    "        result_title.append( re.sub('[^A-Za-z0-9가-힣]',' ',titletemp.attrs['title']) )  \n",
    "\n",
    "    data3 = data1.find_all('a',{'class':'api_txt_lines dsc_txt_wrap'})\n",
    "\n",
    "    result_desc = []\n",
    "\n",
    "    for temp in data3:\n",
    "        result_desc.append(re.sub('[^A-Za-z0-9가-힣]',' ',temp.text))\n",
    "    \n",
    "    \n",
    "    result = []\n",
    "\n",
    "\n",
    "    for temp in range(0,10):\n",
    "        temp1 = []\n",
    "        temp1.append(result_title[temp])\n",
    "        temp1.append(result_desc[temp])\n",
    "\n",
    "        result.append(temp1)"
   ]
  },
  {
   "cell_type": "code",
   "execution_count": 5,
   "id": "244083f5",
   "metadata": {},
   "outputs": [
    {
     "ename": "NameError",
     "evalue": "name 'result' is not defined",
     "output_type": "error",
     "traceback": [
      "\u001b[1;31m---------------------------------------------------------------------------\u001b[0m",
      "\u001b[1;31mNameError\u001b[0m                                 Traceback (most recent call last)",
      "\u001b[1;32m<ipython-input-5-5f89ec79d385>\u001b[0m in \u001b[0;36m<module>\u001b[1;34m\u001b[0m\n\u001b[0;32m      1\u001b[0m \u001b[0mf\u001b[0m \u001b[1;33m=\u001b[0m \u001b[0mopen\u001b[0m\u001b[1;33m(\u001b[0m\u001b[1;34m'{0}뉴스기사검색.csv'\u001b[0m\u001b[1;33m.\u001b[0m\u001b[0mformat\u001b[0m\u001b[1;33m(\u001b[0m\u001b[0mkeyword\u001b[0m\u001b[1;33m)\u001b[0m \u001b[1;33m,\u001b[0m \u001b[1;34m'w'\u001b[0m\u001b[1;33m)\u001b[0m\u001b[1;33m\u001b[0m\u001b[1;33m\u001b[0m\u001b[0m\n\u001b[0;32m      2\u001b[0m \u001b[0mf\u001b[0m\u001b[1;33m.\u001b[0m\u001b[0mwrite\u001b[0m\u001b[1;33m(\u001b[0m\u001b[1;34m'제목'\u001b[0m \u001b[1;33m+\u001b[0m\u001b[1;34m','\u001b[0m \u001b[1;33m+\u001b[0m \u001b[1;34m'내용'\u001b[0m \u001b[1;33m+\u001b[0m \u001b[1;34m'\\n'\u001b[0m\u001b[1;33m)\u001b[0m\u001b[1;33m\u001b[0m\u001b[1;33m\u001b[0m\u001b[0m\n\u001b[1;32m----> 3\u001b[1;33m \u001b[1;32mfor\u001b[0m \u001b[0mtemp\u001b[0m \u001b[1;32min\u001b[0m \u001b[0mresult\u001b[0m\u001b[1;33m:\u001b[0m\u001b[1;33m\u001b[0m\u001b[1;33m\u001b[0m\u001b[0m\n\u001b[0m\u001b[0;32m      4\u001b[0m         \u001b[0mf\u001b[0m\u001b[1;33m.\u001b[0m\u001b[0mwrite\u001b[0m\u001b[1;33m(\u001b[0m\u001b[0mtemp\u001b[0m\u001b[1;33m[\u001b[0m\u001b[1;36m0\u001b[0m\u001b[1;33m]\u001b[0m \u001b[1;33m+\u001b[0m \u001b[1;34m','\u001b[0m \u001b[1;33m+\u001b[0m \u001b[0mtemp\u001b[0m\u001b[1;33m[\u001b[0m\u001b[1;36m1\u001b[0m\u001b[1;33m]\u001b[0m \u001b[1;33m+\u001b[0m \u001b[1;34m'\\n'\u001b[0m\u001b[1;33m)\u001b[0m\u001b[1;33m\u001b[0m\u001b[1;33m\u001b[0m\u001b[0m\n\u001b[0;32m      5\u001b[0m \u001b[0mf\u001b[0m\u001b[1;33m.\u001b[0m\u001b[0mclose\u001b[0m\u001b[1;33m(\u001b[0m\u001b[1;33m)\u001b[0m\u001b[1;33m\u001b[0m\u001b[1;33m\u001b[0m\u001b[0m\n",
      "\u001b[1;31mNameError\u001b[0m: name 'result' is not defined"
     ]
    }
   ],
   "source": [
    "f = open('{0}뉴스기사검색.csv'.format(keyword) , 'w')\n",
    "f.write('제목' +',' + '내용' + '\\n')\n",
    "for temp in result:    \n",
    "        f.write(temp[0] + ',' + temp[1] + '\\n')\n",
    "f.close()"
   ]
  },
  {
   "cell_type": "code",
   "execution_count": null,
   "id": "ac643e32",
   "metadata": {},
   "outputs": [],
   "source": []
  }
 ],
 "metadata": {
  "kernelspec": {
   "display_name": "Python 3",
   "language": "python",
   "name": "python3"
  },
  "language_info": {
   "codemirror_mode": {
    "name": "ipython",
    "version": 3
   },
   "file_extension": ".py",
   "mimetype": "text/x-python",
   "name": "python",
   "nbconvert_exporter": "python",
   "pygments_lexer": "ipython3",
   "version": "3.8.8"
  }
 },
 "nbformat": 4,
 "nbformat_minor": 5
}
