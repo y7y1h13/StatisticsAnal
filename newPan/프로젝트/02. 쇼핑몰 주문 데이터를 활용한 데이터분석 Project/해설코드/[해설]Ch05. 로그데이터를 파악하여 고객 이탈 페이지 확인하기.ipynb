{
 "cells": [
  {
   "cell_type": "markdown",
   "metadata": {},
   "source": [
    "### 학습목표\n",
    "1. 로그데이터로 고객 이탈 페이지 확인하기"
   ]
  },
  {
   "cell_type": "code",
   "execution_count": null,
   "metadata": {},
   "outputs": [],
   "source": [
    "import pandas as pd\n",
    "import numpy as np"
   ]
  },
  {
   "cell_type": "markdown",
   "metadata": {},
   "source": [
    "#### 웹서버 로그 데이터\n",
    " - 웹서버에 클라이언트로의 요청(request) 전달 시, 해당 요청에 대한 정보(ip, 시각, 방문 페이지 등등)를 기록하는 파일\n",
    " - 기록되는 로그의 포맷(format)의 표준이 있으나 설정으로 포맷 변경 가능\n",
    " - 로그 데이터는 주로 웹 서버의 디버깅, 데이터 분석 등의 형태로 사용 됨\n",
    " - 예제에서 사용하는 형식\u001c",
    "\n",
    "   - ip 세션아이디 사용자식별자 시각 요청 페이지 상태코드 바이트사이즈\n",
    "   ```\n",
    "   1.0.0.1 sessionid user59 [16/Dec/2019:02:00:08] GET /checkout 200 1508\n",
    "   ```"
   ]
  },
  {
   "cell_type": "code",
   "execution_count": null,
   "metadata": {},
   "outputs": [],
   "source": [
    "logs = pd.read_csv('web.log', \n",
    "                   sep='\\s',\n",
    "                   engine='python',\n",
    "                   names=['ip', 'session_id', 'user_id', 'datetime', 'request', 'url', 'status', 'bytesize'])\n",
    "\n",
    "logs.head()"
   ]
  },
  {
   "cell_type": "code",
   "execution_count": null,
   "metadata": {},
   "outputs": [],
   "source": [
    "logs.info()"
   ]
  },
  {
   "cell_type": "code",
   "execution_count": null,
   "metadata": {},
   "outputs": [],
   "source": [
    "logs.describe()"
   ]
  },
  {
   "cell_type": "markdown",
   "metadata": {},
   "source": [
    "#### 날짜 형식 변환"
   ]
  },
  {
   "cell_type": "code",
   "execution_count": null,
   "metadata": {},
   "outputs": [],
   "source": [
    "# 01/Dec/2019T00:47:11\n",
    "logs['datetime'] = logs['datetime'].apply(lambda date: date.replace('[', '').replace(']', ''))\n",
    "logs['datetime'] = pd.to_datetime(logs['datetime'], format='%d/%b/%YT%H:%M:%S')\n",
    "\n",
    "logs.head()"
   ]
  },
  {
   "cell_type": "code",
   "execution_count": null,
   "metadata": {},
   "outputs": [],
   "source": [
    "logs.info()"
   ]
  },
  {
   "cell_type": "markdown",
   "metadata": {},
   "source": [
    "#### 어떤 페이지에서 고객이 이탈을 할까?\n",
    " - 고객 이탈 페이지를 알면 해당 페이지를 분석하여 고객을 최종 단계로 더 많이 유도 가능\n",
    " - 대부분의 경우 다음 스텝으로 넘어갈때의 장벽이(신용카드 입력, 정보 입력 등등) 높은 경우가 해당 됨"
   ]
  },
  {
   "cell_type": "code",
   "execution_count": null,
   "metadata": {},
   "outputs": [],
   "source": [
    "logs.head()"
   ]
  },
  {
   "cell_type": "code",
   "execution_count": null,
   "metadata": {},
   "outputs": [],
   "source": [
    "session_id, product_list, product_detail, cart, order_complete\n",
    "1           XXXX          YYYY            N     N"
   ]
  },
  {
   "cell_type": "markdown",
   "metadata": {},
   "source": [
    "#### 퍼널 스텝 dataframe 생성\n",
    " - 스텝 순서(ordering) 등을 명시하기 위해 사용"
   ]
  },
  {
   "cell_type": "code",
   "execution_count": null,
   "metadata": {},
   "outputs": [],
   "source": [
    "funnel_dict = {'/product_list' : 1, '/product_detail': 2, '/cart': 3, '/order_complete': 4}\n",
    "funnel_steps = pd.DataFrame.from_dict(funnel_dict, orient='index', columns=['step_no'])\n",
    "funnel_steps"
   ]
  },
  {
   "cell_type": "markdown",
   "metadata": {},
   "source": [
    "#### session, url 로 grouping\n",
    " - user_id가 아닌 session을 기준으로 삼는 이유는 동일한 유저가 다른 세션으로 접속한 경우도 다른 경우로 간주해야 하기 때문\n",
    " - session_id와 url로 그루핑하여 가장 시간대가 빠른 해당 이벤트에 대해 추출"
   ]
  },
  {
   "cell_type": "code",
   "execution_count": null,
   "metadata": {},
   "outputs": [],
   "source": [
    "grouped = logs.groupby(['session_id', 'url'])['datetime'].agg(np.min)\n",
    "grouped = pd.DataFrame(grouped).merge(funnel_steps, left_on='url', right_index=True)\n",
    "\n",
    "grouped.tail()"
   ]
  },
  {
   "cell_type": "markdown",
   "metadata": {},
   "source": [
    "#### 퍼널 테이블 생성\n",
    " - 각 퍼널의 스텝이 순서대로 columns으로 오도록 변경"
   ]
  },
  {
   "cell_type": "code",
   "execution_count": null,
   "metadata": {},
   "outputs": [],
   "source": [
    "funnel = grouped.reset_index().pivot(index='session_id', columns='step_no', values='datetime')\n",
    "funnel.columns = funnel_steps.index\n",
    "funnel.head()"
   ]
  },
  {
   "cell_type": "markdown",
   "metadata": {},
   "source": [
    "#### 퍼널 카운트 계산\n",
    " - 각 퍼널 스텝별 카운트 계산"
   ]
  },
  {
   "cell_type": "code",
   "execution_count": null,
   "metadata": {},
   "outputs": [],
   "source": [
    "step_values = [funnel[index].notnull().sum() for index in funnel_steps.index]\n",
    "step_values"
   ]
  },
  {
   "cell_type": "code",
   "execution_count": null,
   "metadata": {},
   "outputs": [],
   "source": [
    "def show_funnel(funnel_values, funnel_steps):\n",
    "    from plotly import graph_objects as go\n",
    "    \n",
    "    fig = go.Figure(go.Funnel(\n",
    "        y = funnel_steps,\n",
    "        x = funnel_values\n",
    "    ))\n",
    "    \n",
    "    fig.show()"
   ]
  },
  {
   "cell_type": "code",
   "execution_count": null,
   "metadata": {},
   "outputs": [],
   "source": [
    "show_funnel(step_values, funnel_steps.index)"
   ]
  },
  {
   "cell_type": "markdown",
   "metadata": {},
   "source": [
    "#### 평균 시간 계산\n",
    " - 각 퍼널별 소요 시간 계산"
   ]
  },
  {
   "cell_type": "code",
   "execution_count": null,
   "metadata": {},
   "outputs": [],
   "source": [
    "np.mean(funnel['/product_detail'] - funnel['/product_list'])"
   ]
  },
  {
   "cell_type": "code",
   "execution_count": null,
   "metadata": {},
   "outputs": [],
   "source": [
    "np.mean(funnel['/cart'] - funnel['/product_detail'])"
   ]
  },
  {
   "cell_type": "code",
   "execution_count": null,
   "metadata": {},
   "outputs": [],
   "source": [
    "np.mean(funnel['/order_complete'] - funnel['/cart'])"
   ]
  },
  {
   "cell_type": "code",
   "execution_count": null,
   "metadata": {},
   "outputs": [],
   "source": []
  }
 ],
 "metadata": {
  "kernelspec": {
   "display_name": "Python 3",
   "language": "python",
   "name": "python3"
  },
  "language_info": {
   "codemirror_mode": {
    "name": "ipython",
    "version": 3
   },
   "file_extension": ".py",
   "mimetype": "text/x-python",
   "name": "python",
   "nbconvert_exporter": "python",
   "pygments_lexer": "ipython3",
   "version": "3.7.5"
  }
 },
 "nbformat": 4,
 "nbformat_minor": 2
}
