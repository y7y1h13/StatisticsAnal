{
 "cells": [
  {
   "cell_type": "code",
   "execution_count": 2,
   "id": "37081bf4",
   "metadata": {},
   "outputs": [],
   "source": [
    "import requests\n",
    "from bs4 import BeautifulSoup\n",
    "import json\n",
    "import urllib\n",
    "import time"
   ]
  },
  {
   "cell_type": "markdown",
   "id": "611d6171",
   "metadata": {},
   "source": [
    "# 네이버 쇼핑 검색 "
   ]
  },
  {
   "cell_type": "code",
   "execution_count": null,
   "id": "4d96c5a4",
   "metadata": {},
   "outputs": [],
   "source": [
    "# 아까랑 똑같음\n",
    "keyword = input('네이버 쇼핑 검색어 : ')\n",
    "keyword = urllib.parse.quote(keyword)\n",
    "\n",
    "result = []\n",
    "\n",
    "\n",
    "#이건 어제 했던건데 페이지 넘길때마다 주소 어디부분이 바뀌는지 체크후 만들어주면된다.\n",
    "for pagenum in range(1,11):\n",
    "    url = 'https://search.shopping.naver.com/search/all?frm=NVSCTAB&origQuery={0}&pagingIndex={1}&pagingSize=40&productSet=total&query={0}&sort=rel&timestamp=&viewType=list'.format(keyword,pagenum)\n",
    "    page = requests.get(url)\n",
    "    html = page.text\n",
    "    soup = BeautifulSoup(html,'lxml')\n",
    "    jsonresult = soup.find('script',{'id':'__NEXT_DATA__'})\n",
    "    \n",
    "    jsondata = json.loads(jsonresult.string)\n",
    "    \n",
    "    \n",
    "    \n",
    "    jdata1 = jsondata['props']['pageProps']['initialState']['products']['list']\n",
    "\n",
    "    for temp in jdata1:\n",
    "        rtemp = []\n",
    "        rtemp.append(temp['item']['productTitle'])\n",
    "        rtemp.append(temp['item']['lowPrice'])\n",
    "\n",
    "        result.append(rtemp)\n",
    "        \n",
    "        \n",
    "        \n",
    "        #여기서부터는 데이터 저장\n",
    "        \n",
    "#파일이름 지정해주고 w모드로 열면 쓰기 가능       \n",
    "f = open('갤럭시네이버 쇼핑검색.csv'.format(keyword) , 'w')\n",
    "\n",
    "\n",
    "#해더값을 넣어준다.\n",
    "\n",
    "#1은 첫 번째 페이지일 때를 뜻한다. 첫 번째 페이지의 데이터가 들어왔을 때만 헤더를 생성해 줘야 한다. 아니면 페이지를 만들 때마다 헤더가 생성돼서#헤더\n",
    "#데이터\n",
    "#헤더\n",
    "#데이터\n",
    "#이런 식으로 들어가게 된다. 이러면 안 되기 때문에 첫 번째만 넣어줌\n",
    "if pagenum == 1:\n",
    "    f.write('상품이름' +',' + '최저가' + '\\n')\n",
    "\n",
    "\n",
    "for temp in result:    \n",
    "        #이렇게하면 리스트로 받아오는데\n",
    "        #리스트를 출력해보면\n",
    "        #[제목,가격] 이렇게 받아온다.\n",
    "        # 제목만 받아오려면 temp[0]\n",
    "        # 가격만 받아오려면 temp[1]\n",
    "        print(temp)\n",
    "#         print(temp[0]) 제목출력\n",
    "#         print(temp[1]) 가격출력\n",
    "        #형식을 이렇게 넣어주면 \n",
    "        #제목, 가격 엔터\n",
    "        #제목, 가격 엔터\n",
    "        #제목, 가격 엔터 이런식으로 들어간다.\n",
    "        # str을 해준이유는 + 는 문자형에서만 쓸 수 있다. 제목은 문자만 들어있겠지만 혹시 숫자가 들어가 있을수도 있기 때문에 문자형으로 변환해준다..\n",
    "        # 가격은 숫자이기때문에 문자로 변환해준다.\n",
    "        f.write(str(temp[0]) + ',' + str(temp[1]) + '\\n')\n",
    "       \n",
    "f.close()\n",
    "\n",
    "print('------------------------------------------------------------------')\n"
   ]
  }
 ],
 "metadata": {
  "kernelspec": {
   "display_name": "Python 3",
   "language": "python",
   "name": "python3"
  },
  "language_info": {
   "codemirror_mode": {
    "name": "ipython",
    "version": 3
   },
   "file_extension": ".py",
   "mimetype": "text/x-python",
   "name": "python",
   "nbconvert_exporter": "python",
   "pygments_lexer": "ipython3",
   "version": "3.8.8"
  }
 },
 "nbformat": 4,
 "nbformat_minor": 5
}
