{
 "cells": [
  {
   "cell_type": "markdown",
   "metadata": {},
   "source": [
    "# 직접 해보세요!\n",
    "## groupby 메서드로 평균값 구하기(215쪽)"
   ]
  },
  {
   "cell_type": "code",
   "execution_count": 23,
   "metadata": {},
   "outputs": [],
   "source": [
    "import pandas as pd \n",
    "df = pd.read_csv('data2/gapminder.tsv', sep='\\t')  # 갭마인더 데이터 불러오기 "
   ]
  },
  {
   "cell_type": "code",
   "execution_count": 3,
   "metadata": {},
   "outputs": [
    {
     "name": "stdout",
     "output_type": "stream",
     "text": [
      "year\n",
      "1952    49.057620\n",
      "1957    51.507401\n",
      "1962    53.609249\n",
      "1967    55.678290\n",
      "1972    57.647386\n",
      "1977    59.570157\n",
      "1982    61.533197\n",
      "1987    63.212613\n",
      "1992    64.160338\n",
      "1997    65.014676\n",
      "2002    65.694923\n",
      "2007    67.007423\n",
      "Name: lifeExp, dtype: float64\n"
     ]
    }
   ],
   "source": [
    "avg_life_exp_by_year = df.groupby('year').lifeExp.mean()   # year을 기준으로 기대수명 평균 구하기 \n",
    "print(avg_life_exp_by_year)\n",
    "\n",
    "# avg_life_exp_by_year = df.groupby('year')['lifeExp'].mean()\n",
    "# print(avg_life_exp_by_year)"
   ]
  },
  {
   "cell_type": "markdown",
   "metadata": {},
   "source": [
    "# 직접 해보세요!\n",
    "## 분할-반영-결합 과정 살펴보기(216쪽)"
   ]
  },
  {
   "cell_type": "code",
   "execution_count": 5,
   "metadata": {},
   "outputs": [
    {
     "name": "stdout",
     "output_type": "stream",
     "text": [
      "[1952 1957 1962 1967 1972 1977 1982 1987 1992 1997 2002 2007]\n"
     ]
    }
   ],
   "source": [
    "years = df.year.unique()  # 중복없이 year 데이터 뽑기  (분할작업)\n",
    "print(years)"
   ]
  },
  {
   "cell_type": "code",
   "execution_count": 6,
   "metadata": {},
   "outputs": [
    {
     "name": "stdout",
     "output_type": "stream",
     "text": [
      "        country continent  year  lifeExp       pop    gdpPercap\n",
      "0   Afghanistan      Asia  1952   28.801   8425333   779.445314\n",
      "12      Albania    Europe  1952   55.230   1282697  1601.056136\n",
      "24      Algeria    Africa  1952   43.077   9279525  2449.008185\n",
      "36       Angola    Africa  1952   30.015   4232095  3520.610273\n",
      "48    Argentina  Americas  1952   62.485  17876956  5911.315053\n"
     ]
    }
   ],
   "source": [
    "y1952 = df.loc[df.year == 1952, :]   # 1952년 데이터 추출 하기 (반영작업)\n",
    "print(y1952.head())"
   ]
  },
  {
   "cell_type": "code",
   "execution_count": 7,
   "metadata": {},
   "outputs": [
    {
     "name": "stdout",
     "output_type": "stream",
     "text": [
      "49.05761971830987\n"
     ]
    }
   ],
   "source": [
    "y1952_mean = y1952.lifeExp.mean()  #1952년 기대수명 평균구하기 (반영작업)\n",
    "print(y1952_mean)"
   ]
  },
  {
   "cell_type": "code",
   "execution_count": 8,
   "metadata": {
    "scrolled": true
   },
   "outputs": [
    {
     "name": "stdout",
     "output_type": "stream",
     "text": [
      "51.50740112676054\n",
      "53.60924901408449\n",
      "67.00742253521126\n"
     ]
    }
   ],
   "source": [
    "y1957 = df.loc[df.year == 1957, :] \n",
    "y1957_mean = y1957.lifeExp.mean( )\n",
    "print(y1957_mean)\n",
    "\n",
    "y1962 = df.loc[df.year == 1962, :] \n",
    "y1962_mean = y1962.lifeExp.mean( )\n",
    "print(y1962_mean)\n",
    "\n",
    "y2007 = df.loc[df.year == 2007, :] \n",
    "y2007_mean = y2007.lifeExp.mean( )\n",
    "print(y2007_mean)"
   ]
  },
  {
   "cell_type": "code",
   "execution_count": 10,
   "metadata": {},
   "outputs": [
    {
     "name": "stdout",
     "output_type": "stream",
     "text": [
      "   year      mean \n",
      "0  1952  49.057620\n",
      "1  1957  51.507401\n",
      "2  1962  53.609249\n",
      "3  2007  67.007423\n"
     ]
    }
   ],
   "source": [
    "df2 = pd.DataFrame({\"year\":[1952, 1957, 1962, 2007],                     # 연도별 계산한 평균값 합치기 (결합작업)\n",
    "                    \"mean \":[y1952_mean, y1957_mean,y1962_mean,y2007_mean]}) \n",
    "print(df2)"
   ]
  },
  {
   "cell_type": "markdown",
   "metadata": {},
   "source": [
    "# 직접 해보세요!\n",
    "## 평균값을 구하는 사용자 함수와 groupby 메서드(219쪽)"
   ]
  },
  {
   "cell_type": "code",
   "execution_count": 24,
   "metadata": {},
   "outputs": [],
   "source": [
    "def my_mean(values):\n",
    "    n = len(values)                                # 입력받은 열의 평균값을 구하는 함수 \n",
    "    \n",
    "    sum = 0 \n",
    "    for value in values:\n",
    "        sum += value\n",
    "    \n",
    "    return sum / n"
   ]
  },
  {
   "cell_type": "code",
   "execution_count": 25,
   "metadata": {},
   "outputs": [
    {
     "name": "stdout",
     "output_type": "stream",
     "text": [
      "year\n",
      "1952    49.057620\n",
      "1957    51.507401\n",
      "1962    53.609249\n",
      "1967    55.678290\n",
      "1972    57.647386\n",
      "1977    59.570157\n",
      "1982    61.533197\n",
      "1987    63.212613\n",
      "1992    64.160338\n",
      "1997    65.014676\n",
      "2002    65.694923\n",
      "2007    67.007423\n",
      "Name: lifeExp, dtype: float64\n"
     ]
    }
   ],
   "source": [
    "agg_my_mean = df.groupby('year').lifeExp.agg(my_mean)  #위에서 만든 함수와 groupby 메서드 조합하기 위해 agg메서드 사용\n",
    "print(agg_my_mean)"
   ]
  },
  {
   "cell_type": "markdown",
   "metadata": {},
   "source": [
    "# 직접 해보세요!\n",
    "## 두 개의 인잣값을 받아 처리하는 사용자 함수와 groupby 메서드(220쪽)"
   ]
  },
  {
   "cell_type": "code",
   "execution_count": 10,
   "metadata": {},
   "outputs": [],
   "source": [
    "def my_mean_diff(values, diff_value):       # 첫번째 인자로 받은 열의 평균값을 구하여 두번째 인자로 받은\n",
    "    n = len(values)                         # 값과의 차이를 계신 \n",
    "    sum = 0 \n",
    "    for value in values:\n",
    "        sum += value \n",
    "    mean = sum / n \n",
    "    return mean - diff_value"
   ]
  },
  {
   "cell_type": "code",
   "execution_count": 11,
   "metadata": {},
   "outputs": [
    {
     "name": "stdout",
     "output_type": "stream",
     "text": [
      "59.47443936619713\n"
     ]
    }
   ],
   "source": [
    "global_mean = df.lifeExp.mean() \n",
    "print(global_mean)                      # 전체 평균 수명 구하기 "
   ]
  },
  {
   "cell_type": "code",
   "execution_count": 12,
   "metadata": {},
   "outputs": [
    {
     "name": "stdout",
     "output_type": "stream",
     "text": [
      "year\n",
      "1952   -10.416820\n",
      "1957    -7.967038\n",
      "1962    -5.865190\n",
      "1967    -3.796150\n",
      "1972    -1.827053\n",
      "1977     0.095718\n",
      "1982     2.058758\n",
      "1987     3.738173\n",
      "1992     4.685899\n",
      "1997     5.540237\n",
      "2002     6.220483\n",
      "2007     7.532983\n",
      "Name: lifeExp, dtype: float64\n"
     ]
    }
   ],
   "source": [
    "agg_mean_diff = df.groupby('year').lifeExp.agg(my_mean_diff, diff_value=global_mean) \n",
    "print(agg_mean_diff)                   # 연도별 평균 수명 - 전체 평균 수명 "
   ]
  },
  {
   "cell_type": "markdown",
   "metadata": {},
   "source": [
    "# 직접 해보세요!\n",
    "## 집계 메서드를 리스트, 딕셔너리에 담아 전달하기(221쪽)"
   ]
  },
  {
   "cell_type": "code",
   "execution_count": 26,
   "metadata": {},
   "outputs": [
    {
     "name": "stdout",
     "output_type": "stream",
     "text": [
      "      count_nonzero       mean        std\n",
      "year                                     \n",
      "1952          142.0  49.057620  12.225956\n",
      "1957          142.0  51.507401  12.231286\n",
      "1962          142.0  53.609249  12.097245\n",
      "1967          142.0  55.678290  11.718858\n",
      "1972          142.0  57.647386  11.381953\n",
      "1977          142.0  59.570157  11.227229\n",
      "1982          142.0  61.533197  10.770618\n",
      "1987          142.0  63.212613  10.556285\n",
      "1992          142.0  64.160338  11.227380\n",
      "1997          142.0  65.014676  11.559439\n",
      "2002          142.0  65.694923  12.279823\n",
      "2007          142.0  67.007423  12.073021\n"
     ]
    }
   ],
   "source": [
    "import numpy as np\n",
    "gdf = df.groupby('year').lifeExp.agg([np.count_nonzero, np.mean, np.std]) \n",
    "print(gdf)                                 # 0이 아닌개수, 평균, 표준편차 "
   ]
  },
  {
   "cell_type": "code",
   "execution_count": 27,
   "metadata": {},
   "outputs": [
    {
     "name": "stdout",
     "output_type": "stream",
     "text": [
      "        lifeExp         pop    gdpPercap\n",
      "year                                    \n",
      "1952  49.057620   3943953.0  1968.528344\n",
      "1957  51.507401   4282942.0  2173.220291\n",
      "1962  53.609249   4686039.5  2335.439533\n",
      "1967  55.678290   5170175.5  2678.334741\n",
      "1972  57.647386   5877996.5  3339.129407\n",
      "1977  59.570157   6404036.5  3798.609244\n",
      "1982  61.533197   7007320.0  4216.228428\n",
      "1987  63.212613   7774861.5  4280.300366\n",
      "1992  64.160338   8688686.5  4386.085502\n",
      "1997  65.014676   9735063.5  4781.825478\n",
      "2002  65.694923  10372918.5  5319.804524\n",
      "2007  67.007423  10517531.0  6124.371109\n"
     ]
    }
   ],
   "source": [
    "gdf_dict = df.groupby('year').agg({'lifeExp': 'mean', 'pop': 'median', 'gdpPercap': 'median'}) \n",
    "print(gdf_dict)                     # 집계 메서드를 딕션너리에 담아 agg 메서드 전달 "
   ]
  },
  {
   "cell_type": "markdown",
   "metadata": {},
   "source": [
    "# 직접 해보세요!\n",
    "## 표준점수 계산하기(223쪽)"
   ]
  },
  {
   "cell_type": "code",
   "execution_count": 33,
   "metadata": {},
   "outputs": [],
   "source": [
    "def my_zscore(x):\n",
    "    return (x - x.mean()) / x.std()   # z-score 평균 0, 표준편차 1"
   ]
  },
  {
   "cell_type": "code",
   "execution_count": 34,
   "metadata": {},
   "outputs": [
    {
     "name": "stdout",
     "output_type": "stream",
     "text": [
      "0   -1.656854\n",
      "1   -1.731249\n",
      "2   -1.786543\n",
      "3   -1.848157\n",
      "4   -1.894173\n",
      "Name: lifeExp, dtype: float64\n"
     ]
    }
   ],
   "source": [
    "transform_z = df.groupby('year').lifeExp.transform(my_zscore)   #transform 메서드를 사용하여 각 연도별 \n",
    "                                                                # 기대수명 표준점수 계산\n",
    "\n",
    "print(transform_z.head())"
   ]
  },
  {
   "cell_type": "code",
   "execution_count": 35,
   "metadata": {},
   "outputs": [
    {
     "name": "stdout",
     "output_type": "stream",
     "text": [
      "(1704, 6)\n"
     ]
    }
   ],
   "source": [
    "print(df.shape)"
   ]
  },
  {
   "cell_type": "code",
   "execution_count": 36,
   "metadata": {},
   "outputs": [
    {
     "name": "stdout",
     "output_type": "stream",
     "text": [
      "(1704,)\n"
     ]
    }
   ],
   "source": [
    "print(transform_z.shape) "
   ]
  },
  {
   "cell_type": "markdown",
   "metadata": {},
   "source": [
    "# 직접 해보세요!\n",
    "## 누락값을 평균값으로 처리하기(224쪽)"
   ]
  },
  {
   "cell_type": "code",
   "execution_count": 37,
   "metadata": {},
   "outputs": [
    {
     "name": "stdout",
     "output_type": "stream",
     "text": [
      "     total_bill   tip     sex smoker   day    time  size\n",
      "24        19.82  3.18    Male     No   Sat  Dinner     2\n",
      "6          8.77  2.00    Male     No   Sun  Dinner     2\n",
      "153         NaN  2.00    Male     No   Sun  Dinner     4\n",
      "211         NaN  5.16    Male    Yes   Sat  Dinner     4\n",
      "198         NaN  2.00  Female    Yes  Thur   Lunch     2\n",
      "176         NaN  2.00    Male    Yes   Sun  Dinner     2\n",
      "192       28.44  2.56    Male    Yes  Thur   Lunch     2\n",
      "124       12.48  2.52  Female     No  Thur   Lunch     2\n",
      "9         14.78  3.23    Male     No   Sun  Dinner     2\n",
      "101       15.38  3.00  Female    Yes   Fri  Dinner     2\n"
     ]
    }
   ],
   "source": [
    "import seaborn as sns \n",
    "import numpy as np\n",
    "\n",
    "np.random.seed(42)  # random 함수 넣어주고 \n",
    "tips_10 = sns.load_dataset('tips').sample(10)  # sample 10개 뽑기 \n",
    "tips_10.loc[np.random.permutation(tips_10.index)[:4], 'total_bill'] = np.NaN\n",
    "                                                      # 열의 값 4개를 임의로 선택하여 누락값으로 바꾸기\n",
    "print(tips_10) "
   ]
  },
  {
   "cell_type": "code",
   "execution_count": 38,
   "metadata": {},
   "outputs": [
    {
     "name": "stdout",
     "output_type": "stream",
     "text": [
      "        total_bill  tip  smoker  day  time  size\n",
      "sex                                             \n",
      "Male             4    7       7    7     7     7\n",
      "Female           2    3       3    3     3     3\n"
     ]
    }
   ],
   "source": [
    "count_sex = tips_10.groupby('sex').count() \n",
    "print(count_sex)"
   ]
  },
  {
   "cell_type": "code",
   "execution_count": 39,
   "metadata": {},
   "outputs": [],
   "source": [
    "def fill_na_mean(x):\n",
    "    avg = x.mean() \n",
    "    return x.fillna(avg)                # 누락값을 평균값으로 처리하기 "
   ]
  },
  {
   "cell_type": "code",
   "execution_count": 40,
   "metadata": {},
   "outputs": [
    {
     "name": "stdout",
     "output_type": "stream",
     "text": [
      "     total_bill   tip     sex smoker   day    time  size  fill_total_bill\n",
      "24        19.82  3.18    Male     No   Sat  Dinner     2          19.8200\n",
      "6          8.77  2.00    Male     No   Sun  Dinner     2           8.7700\n",
      "153         NaN  2.00    Male     No   Sun  Dinner     4          17.9525\n",
      "211         NaN  5.16    Male    Yes   Sat  Dinner     4          17.9525\n",
      "198         NaN  2.00  Female    Yes  Thur   Lunch     2          13.9300\n",
      "176         NaN  2.00    Male    Yes   Sun  Dinner     2          17.9525\n",
      "192       28.44  2.56    Male    Yes  Thur   Lunch     2          28.4400\n",
      "124       12.48  2.52  Female     No  Thur   Lunch     2          12.4800\n",
      "9         14.78  3.23    Male     No   Sun  Dinner     2          14.7800\n",
      "101       15.38  3.00  Female    Yes   Fri  Dinner     2          15.3800\n"
     ]
    }
   ],
   "source": [
    "total_bill_group_mean = tips_10.groupby('sex').total_bill.transform(fill_na_mean)\n",
    "tips_10['fill_total_bill'] = total_bill_group_mean\n",
    "print(tips_10)"
   ]
  },
  {
   "cell_type": "markdown",
   "metadata": {},
   "source": [
    "\n",
    "## 데이터 필터링 사용하기 ─ filter 메서드(227쪽)"
   ]
  },
  {
   "cell_type": "code",
   "execution_count": 41,
   "metadata": {},
   "outputs": [
    {
     "name": "stdout",
     "output_type": "stream",
     "text": [
      "(244, 7)\n"
     ]
    }
   ],
   "source": [
    "tips = sns.load_dataset('tips')\n",
    "\n",
    "\n",
    "print(tips.shape)"
   ]
  },
  {
   "cell_type": "code",
   "execution_count": 43,
   "metadata": {},
   "outputs": [
    {
     "data": {
      "text/html": [
       "<div>\n",
       "<style scoped>\n",
       "    .dataframe tbody tr th:only-of-type {\n",
       "        vertical-align: middle;\n",
       "    }\n",
       "\n",
       "    .dataframe tbody tr th {\n",
       "        vertical-align: top;\n",
       "    }\n",
       "\n",
       "    .dataframe thead th {\n",
       "        text-align: right;\n",
       "    }\n",
       "</style>\n",
       "<table border=\"1\" class=\"dataframe\">\n",
       "  <thead>\n",
       "    <tr style=\"text-align: right;\">\n",
       "      <th></th>\n",
       "      <th>total_bill</th>\n",
       "      <th>tip</th>\n",
       "      <th>sex</th>\n",
       "      <th>smoker</th>\n",
       "      <th>day</th>\n",
       "      <th>time</th>\n",
       "      <th>size</th>\n",
       "    </tr>\n",
       "  </thead>\n",
       "  <tbody>\n",
       "    <tr>\n",
       "      <th>0</th>\n",
       "      <td>16.99</td>\n",
       "      <td>1.01</td>\n",
       "      <td>Female</td>\n",
       "      <td>No</td>\n",
       "      <td>Sun</td>\n",
       "      <td>Dinner</td>\n",
       "      <td>2</td>\n",
       "    </tr>\n",
       "    <tr>\n",
       "      <th>1</th>\n",
       "      <td>10.34</td>\n",
       "      <td>1.66</td>\n",
       "      <td>Male</td>\n",
       "      <td>No</td>\n",
       "      <td>Sun</td>\n",
       "      <td>Dinner</td>\n",
       "      <td>3</td>\n",
       "    </tr>\n",
       "    <tr>\n",
       "      <th>2</th>\n",
       "      <td>21.01</td>\n",
       "      <td>3.50</td>\n",
       "      <td>Male</td>\n",
       "      <td>No</td>\n",
       "      <td>Sun</td>\n",
       "      <td>Dinner</td>\n",
       "      <td>3</td>\n",
       "    </tr>\n",
       "    <tr>\n",
       "      <th>3</th>\n",
       "      <td>23.68</td>\n",
       "      <td>3.31</td>\n",
       "      <td>Male</td>\n",
       "      <td>No</td>\n",
       "      <td>Sun</td>\n",
       "      <td>Dinner</td>\n",
       "      <td>2</td>\n",
       "    </tr>\n",
       "    <tr>\n",
       "      <th>4</th>\n",
       "      <td>24.59</td>\n",
       "      <td>3.61</td>\n",
       "      <td>Female</td>\n",
       "      <td>No</td>\n",
       "      <td>Sun</td>\n",
       "      <td>Dinner</td>\n",
       "      <td>4</td>\n",
       "    </tr>\n",
       "    <tr>\n",
       "      <th>...</th>\n",
       "      <td>...</td>\n",
       "      <td>...</td>\n",
       "      <td>...</td>\n",
       "      <td>...</td>\n",
       "      <td>...</td>\n",
       "      <td>...</td>\n",
       "      <td>...</td>\n",
       "    </tr>\n",
       "    <tr>\n",
       "      <th>239</th>\n",
       "      <td>29.03</td>\n",
       "      <td>5.92</td>\n",
       "      <td>Male</td>\n",
       "      <td>No</td>\n",
       "      <td>Sat</td>\n",
       "      <td>Dinner</td>\n",
       "      <td>3</td>\n",
       "    </tr>\n",
       "    <tr>\n",
       "      <th>240</th>\n",
       "      <td>27.18</td>\n",
       "      <td>2.00</td>\n",
       "      <td>Female</td>\n",
       "      <td>Yes</td>\n",
       "      <td>Sat</td>\n",
       "      <td>Dinner</td>\n",
       "      <td>2</td>\n",
       "    </tr>\n",
       "    <tr>\n",
       "      <th>241</th>\n",
       "      <td>22.67</td>\n",
       "      <td>2.00</td>\n",
       "      <td>Male</td>\n",
       "      <td>Yes</td>\n",
       "      <td>Sat</td>\n",
       "      <td>Dinner</td>\n",
       "      <td>2</td>\n",
       "    </tr>\n",
       "    <tr>\n",
       "      <th>242</th>\n",
       "      <td>17.82</td>\n",
       "      <td>1.75</td>\n",
       "      <td>Male</td>\n",
       "      <td>No</td>\n",
       "      <td>Sat</td>\n",
       "      <td>Dinner</td>\n",
       "      <td>2</td>\n",
       "    </tr>\n",
       "    <tr>\n",
       "      <th>243</th>\n",
       "      <td>18.78</td>\n",
       "      <td>3.00</td>\n",
       "      <td>Female</td>\n",
       "      <td>No</td>\n",
       "      <td>Thur</td>\n",
       "      <td>Dinner</td>\n",
       "      <td>2</td>\n",
       "    </tr>\n",
       "  </tbody>\n",
       "</table>\n",
       "<p>244 rows × 7 columns</p>\n",
       "</div>"
      ],
      "text/plain": [
       "     total_bill   tip     sex smoker   day    time  size\n",
       "0         16.99  1.01  Female     No   Sun  Dinner     2\n",
       "1         10.34  1.66    Male     No   Sun  Dinner     3\n",
       "2         21.01  3.50    Male     No   Sun  Dinner     3\n",
       "3         23.68  3.31    Male     No   Sun  Dinner     2\n",
       "4         24.59  3.61  Female     No   Sun  Dinner     4\n",
       "..          ...   ...     ...    ...   ...     ...   ...\n",
       "239       29.03  5.92    Male     No   Sat  Dinner     3\n",
       "240       27.18  2.00  Female    Yes   Sat  Dinner     2\n",
       "241       22.67  2.00    Male    Yes   Sat  Dinner     2\n",
       "242       17.82  1.75    Male     No   Sat  Dinner     2\n",
       "243       18.78  3.00  Female     No  Thur  Dinner     2\n",
       "\n",
       "[244 rows x 7 columns]"
      ]
     },
     "execution_count": 43,
     "metadata": {},
     "output_type": "execute_result"
    }
   ],
   "source": [
    "tips"
   ]
  },
  {
   "cell_type": "code",
   "execution_count": 44,
   "metadata": {},
   "outputs": [
    {
     "name": "stdout",
     "output_type": "stream",
     "text": [
      "2    156\n",
      "3     38\n",
      "4     37\n",
      "5      5\n",
      "6      4\n",
      "1      4\n",
      "Name: size, dtype: int64\n"
     ]
    }
   ],
   "source": [
    "tips['size'].value_counts()"
   ]
  },
  {
   "cell_type": "code",
   "execution_count": 45,
   "metadata": {},
   "outputs": [],
   "source": [
    "tips_filtered = tips.\\\n",
    "    groupby('size').\\\n",
    "    filter(lambda x: x['size'].count() >= 30)   \n",
    "# 30이상인 사이즈만 출력하기 "
   ]
  },
  {
   "cell_type": "code",
   "execution_count": 46,
   "metadata": {},
   "outputs": [
    {
     "name": "stdout",
     "output_type": "stream",
     "text": [
      "(231, 7)\n"
     ]
    }
   ],
   "source": [
    "print(tips_filtered.shape)"
   ]
  },
  {
   "cell_type": "code",
   "execution_count": 27,
   "metadata": {},
   "outputs": [
    {
     "name": "stdout",
     "output_type": "stream",
     "text": [
      "2    156\n",
      "3     38\n",
      "4     37\n",
      "Name: size, dtype: int64\n"
     ]
    }
   ],
   "source": [
    "print(tips_filtered['size'].value_counts()) "
   ]
  },
  {
   "cell_type": "markdown",
   "metadata": {},
   "source": [
    "# 직접 해보세요!\n",
    "## 그룹 오브젝트 저장하여 살펴보기(229쪽)"
   ]
  },
  {
   "cell_type": "code",
   "execution_count": 47,
   "metadata": {},
   "outputs": [
    {
     "name": "stdout",
     "output_type": "stream",
     "text": [
      "     total_bill   tip     sex smoker   day    time  size\n",
      "24        19.82  3.18    Male     No   Sat  Dinner     2\n",
      "6          8.77  2.00    Male     No   Sun  Dinner     2\n",
      "153       24.55  2.00    Male     No   Sun  Dinner     4\n",
      "211       25.89  5.16    Male    Yes   Sat  Dinner     4\n",
      "198       13.00  2.00  Female    Yes  Thur   Lunch     2\n",
      "176       17.89  2.00    Male    Yes   Sun  Dinner     2\n",
      "192       28.44  2.56    Male    Yes  Thur   Lunch     2\n",
      "124       12.48  2.52  Female     No  Thur   Lunch     2\n",
      "9         14.78  3.23    Male     No   Sun  Dinner     2\n",
      "101       15.38  3.00  Female    Yes   Fri  Dinner     2\n"
     ]
    }
   ],
   "source": [
    "tips_10 = sns.load_dataset('tips').sample(10, random_state=42) \n",
    "print(tips_10)"
   ]
  },
  {
   "cell_type": "code",
   "execution_count": 48,
   "metadata": {},
   "outputs": [
    {
     "name": "stdout",
     "output_type": "stream",
     "text": [
      "<pandas.core.groupby.generic.DataFrameGroupBy object at 0x000001E9645FBDF0>\n"
     ]
    }
   ],
   "source": [
    "grouped = tips_10.groupby('sex')\n",
    "print(grouped)"
   ]
  },
  {
   "cell_type": "code",
   "execution_count": 49,
   "metadata": {},
   "outputs": [
    {
     "name": "stdout",
     "output_type": "stream",
     "text": [
      "{'Male': [24, 6, 153, 211, 176, 192, 9], 'Female': [198, 124, 101]}\n"
     ]
    }
   ],
   "source": [
    "print(grouped.groups)"
   ]
  },
  {
   "cell_type": "markdown",
   "metadata": {},
   "source": [
    "# 직접 해보세요!\n",
    "## 그룹 오브젝트의 평균 구하기(230쪽)"
   ]
  },
  {
   "cell_type": "code",
   "execution_count": 31,
   "metadata": {},
   "outputs": [
    {
     "name": "stdout",
     "output_type": "stream",
     "text": [
      "        total_bill       tip      size\n",
      "sex                                   \n",
      "Male         20.02  2.875714  2.571429\n",
      "Female       13.62  2.506667  2.000000\n"
     ]
    }
   ],
   "source": [
    "avgs = grouped.mean() \n",
    "print(avgs)"
   ]
  },
  {
   "cell_type": "code",
   "execution_count": 32,
   "metadata": {},
   "outputs": [
    {
     "name": "stdout",
     "output_type": "stream",
     "text": [
      "Index(['total_bill', 'tip', 'sex', 'smoker', 'day', 'time', 'size'], dtype='object')\n"
     ]
    }
   ],
   "source": [
    "print(tips_10.columns)"
   ]
  },
  {
   "cell_type": "markdown",
   "metadata": {},
   "source": [
    "# 직접 해보세요!\n",
    "## 그룹 오브젝트에서 데이터 추출하고 반복하기(231쪽)"
   ]
  },
  {
   "cell_type": "code",
   "execution_count": 33,
   "metadata": {},
   "outputs": [],
   "source": [
    "# 그룹 오브젝트 활용 참고\n",
    "# https://pandas.pydata.org/pandas-docs/stable/generated/pandas.DataFrame.groupby.html"
   ]
  },
  {
   "cell_type": "code",
   "execution_count": 50,
   "metadata": {},
   "outputs": [
    {
     "name": "stdout",
     "output_type": "stream",
     "text": [
      "     total_bill   tip     sex smoker   day    time  size\n",
      "198       13.00  2.00  Female    Yes  Thur   Lunch     2\n",
      "124       12.48  2.52  Female     No  Thur   Lunch     2\n",
      "101       15.38  3.00  Female    Yes   Fri  Dinner     2\n"
     ]
    }
   ],
   "source": [
    "female = grouped.get_group('Female') \n",
    "print(female)"
   ]
  },
  {
   "cell_type": "code",
   "execution_count": 51,
   "metadata": {},
   "outputs": [
    {
     "name": "stdout",
     "output_type": "stream",
     "text": [
      "('Male',      total_bill   tip   sex smoker   day    time  size\n",
      "24        19.82  3.18  Male     No   Sat  Dinner     2\n",
      "6          8.77  2.00  Male     No   Sun  Dinner     2\n",
      "153       24.55  2.00  Male     No   Sun  Dinner     4\n",
      "211       25.89  5.16  Male    Yes   Sat  Dinner     4\n",
      "176       17.89  2.00  Male    Yes   Sun  Dinner     2\n",
      "192       28.44  2.56  Male    Yes  Thur   Lunch     2\n",
      "9         14.78  3.23  Male     No   Sun  Dinner     2)\n",
      "('Female',      total_bill   tip     sex smoker   day    time  size\n",
      "198       13.00  2.00  Female    Yes  Thur   Lunch     2\n",
      "124       12.48  2.52  Female     No  Thur   Lunch     2\n",
      "101       15.38  3.00  Female    Yes   Fri  Dinner     2)\n"
     ]
    }
   ],
   "source": [
    "for sex_group in grouped:\n",
    "    print(sex_group)"
   ]
  },
  {
   "cell_type": "code",
   "execution_count": 36,
   "metadata": {},
   "outputs": [
    {
     "name": "stdout",
     "output_type": "stream",
     "text": [
      "the type is: <class 'tuple'>\n",
      "\n",
      "the length is: 2\n",
      "\n",
      "the first element is: Male\n",
      "\n",
      "it has a type of: <class 'str'>\n",
      "\n",
      "the second element is:\n",
      "     total_bill   tip   sex smoker   day    time  size\n",
      "24        19.82  3.18  Male     No   Sat  Dinner     2\n",
      "6          8.77  2.00  Male     No   Sun  Dinner     2\n",
      "153       24.55  2.00  Male     No   Sun  Dinner     4\n",
      "211       25.89  5.16  Male    Yes   Sat  Dinner     4\n",
      "176       17.89  2.00  Male    Yes   Sun  Dinner     2\n",
      "192       28.44  2.56  Male    Yes  Thur   Lunch     2\n",
      "9         14.78  3.23  Male     No   Sun  Dinner     2\n",
      "\n",
      "it has a type of: <class 'pandas.core.frame.DataFrame'>\n",
      "\n",
      "what we have:\n",
      "('Male',      total_bill   tip   sex smoker   day    time  size\n",
      "24        19.82  3.18  Male     No   Sat  Dinner     2\n",
      "6          8.77  2.00  Male     No   Sun  Dinner     2\n",
      "153       24.55  2.00  Male     No   Sun  Dinner     4\n",
      "211       25.89  5.16  Male    Yes   Sat  Dinner     4\n",
      "176       17.89  2.00  Male    Yes   Sun  Dinner     2\n",
      "192       28.44  2.56  Male    Yes  Thur   Lunch     2\n",
      "9         14.78  3.23  Male     No   Sun  Dinner     2)\n"
     ]
    }
   ],
   "source": [
    "for sex_group in grouped:\n",
    "    print('the type is: {}\\n'.format(type(sex_group)))\n",
    "    print('the length is: {}\\n'.format(len(sex_group)))\n",
    "\n",
    "    first_element = sex_group[0] \n",
    "    print('the first element is: {}\\n'.format(first_element))\n",
    "    print('it has a type of: {}\\n'.format(type(sex_group[0])))\n",
    "\n",
    "    second_element = sex_group[1] \n",
    "    print('the second element is:\\n{}\\n'.format(second_element))\n",
    "    print('it has a type of: {}\\n'.format(type(second_element)))\n",
    "\n",
    "    print('what we have:') \n",
    "    print(sex_group)\n",
    "\n",
    "    break"
   ]
  },
  {
   "cell_type": "markdown",
   "metadata": {},
   "source": [
    "# 직접 해보세요!\n",
    "## 그룹 오브젝트 계산하고 살펴보기(234쪽)"
   ]
  },
  {
   "cell_type": "code",
   "execution_count": 40,
   "metadata": {},
   "outputs": [
    {
     "name": "stdout",
     "output_type": "stream",
     "text": [
      "               total_bill       tip      size\n",
      "sex    time                                  \n",
      "Male   Lunch    28.440000  2.560000  2.000000\n",
      "       Dinner   18.616667  2.928333  2.666667\n",
      "Female Lunch    12.740000  2.260000  2.000000\n",
      "       Dinner   15.380000  3.000000  2.000000\n"
     ]
    }
   ],
   "source": [
    "bill_sex_time = tips_10.groupby(['sex', 'time'])\n",
    "group_avg = bill_sex_time.mean() \n",
    "\n",
    "print(group_avg)"
   ]
  },
  {
   "cell_type": "code",
   "execution_count": 39,
   "metadata": {},
   "outputs": [
    {
     "name": "stdout",
     "output_type": "stream",
     "text": [
      "<class 'pandas.core.frame.DataFrame'>\n"
     ]
    }
   ],
   "source": [
    "print(type(group_avg))"
   ]
  },
  {
   "cell_type": "code",
   "execution_count": 40,
   "metadata": {},
   "outputs": [
    {
     "name": "stdout",
     "output_type": "stream",
     "text": [
      "Index(['total_bill', 'tip', 'size'], dtype='object')\n"
     ]
    }
   ],
   "source": [
    "print(group_avg.columns)"
   ]
  },
  {
   "cell_type": "code",
   "execution_count": 41,
   "metadata": {},
   "outputs": [
    {
     "name": "stdout",
     "output_type": "stream",
     "text": [
      "MultiIndex(levels=[['Male', 'Female'], ['Lunch', 'Dinner']],\n",
      "           labels=[[0, 0, 1, 1], [0, 1, 0, 1]],\n",
      "           names=['sex', 'time'])\n"
     ]
    }
   ],
   "source": [
    "print(group_avg.index)"
   ]
  },
  {
   "cell_type": "code",
   "execution_count": null,
   "metadata": {},
   "outputs": [],
   "source": [
    "group_method = tips_10.groupby(['sex', 'time']).mean().reset_index() \n",
    "print(group_method)"
   ]
  },
  {
   "cell_type": "code",
   "execution_count": null,
   "metadata": {},
   "outputs": [],
   "source": [
    "group_param = tips_10.groupby(['sex', 'time'], as_index=False).mean( ) \n",
    "print(group_param)"
   ]
  }
 ],
 "metadata": {
  "kernelspec": {
   "display_name": "Python 3",
   "language": "python",
   "name": "python3"
  },
  "language_info": {
   "codemirror_mode": {
    "name": "ipython",
    "version": 3
   },
   "file_extension": ".py",
   "mimetype": "text/x-python",
   "name": "python",
   "nbconvert_exporter": "python",
   "pygments_lexer": "ipython3",
   "version": "3.8.8"
  }
 },
 "nbformat": 4,
 "nbformat_minor": 1
}
