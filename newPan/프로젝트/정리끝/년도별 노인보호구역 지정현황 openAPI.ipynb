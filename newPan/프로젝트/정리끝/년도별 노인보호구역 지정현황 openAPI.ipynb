{
 "cells": [
  {
   "cell_type": "code",
   "execution_count": 5,
   "id": "fe29c5eb",
   "metadata": {
    "collapsed": true
   },
   "outputs": [
    {
     "name": "stdout",
     "output_type": "stream",
     "text": [
      "b'{\"RESULT\":{\"resultCode\":\"INFO-3\",\"resultMsg\":\"\\xeb\\x8d\\xb0\\xec\\x9d\\xb4\\xed\\x84\\xb0\\xec\\x97\\x86\\xec\\x9d\\x8c \\xec\\x97\\x90\\xeb\\x9f\\xac\"}}'\n",
      "b'{\"RESULT\":{\"resultCode\":\"INFO-3\",\"resultMsg\":\"\\xeb\\x8d\\xb0\\xec\\x9d\\xb4\\xed\\x84\\xb0\\xec\\x97\\x86\\xec\\x9d\\x8c \\xec\\x97\\x90\\xeb\\x9f\\xac\"}}'\n",
      "b'{\"DesignationProtectionZonesYear\":[{\"head\":[{\"totalCount\":1},{\"numOfRows\":\"3\",\"pageNo\":\"1\",\"type\":\"JSON\"},{\"RESULT\":{\"resultCode\":\"INFO-0\",\"resultMsg\":\"NOMAL SERVICE\"}}]},{\"row\":[{\"bas_yy\":\"2007\",\"tot\":\"8429\",\"child_protct_zon\":\"8429\",\"seni_protct_zon\":\"0\",\"disbld_protct_zon\":\"0\"}]}]}'\n",
      "b'{\"DesignationProtectionZonesYear\":[{\"head\":[{\"totalCount\":1},{\"numOfRows\":\"3\",\"pageNo\":\"1\",\"type\":\"JSON\"},{\"RESULT\":{\"resultCode\":\"INFO-0\",\"resultMsg\":\"NOMAL SERVICE\"}}]},{\"row\":[{\"bas_yy\":\"2008\",\"tot\":\"9096\",\"child_protct_zon\":\"8999\",\"seni_protct_zon\":\"97\",\"disbld_protct_zon\":\"0\"}]}]}'\n",
      "b'{\"DesignationProtectionZonesYear\":[{\"head\":[{\"totalCount\":1},{\"numOfRows\":\"3\",\"pageNo\":\"1\",\"type\":\"JSON\"},{\"RESULT\":{\"resultCode\":\"INFO-0\",\"resultMsg\":\"NOMAL SERVICE\"}}]},{\"row\":[{\"bas_yy\":\"2009\",\"tot\":\"9789\",\"child_protct_zon\":\"9584\",\"seni_protct_zon\":\"205\",\"disbld_protct_zon\":\"0\"}]}]}'\n",
      "b'{\"DesignationProtectionZonesYear\":[{\"head\":[{\"totalCount\":1},{\"numOfRows\":\"3\",\"pageNo\":\"1\",\"type\":\"JSON\"},{\"RESULT\":{\"resultCode\":\"INFO-0\",\"resultMsg\":\"NOMAL SERVICE\"}}]},{\"row\":[{\"bas_yy\":\"2010\",\"tot\":\"13472\",\"child_protct_zon\":\"13207\",\"seni_protct_zon\":\"265\",\"disbld_protct_zon\":\"0\"}]}]}'\n",
      "b'{\"DesignationProtectionZonesYear\":[{\"head\":[{\"totalCount\":1},{\"numOfRows\":\"3\",\"pageNo\":\"1\",\"type\":\"JSON\"},{\"RESULT\":{\"resultCode\":\"INFO-0\",\"resultMsg\":\"NOMAL SERVICE\"}}]},{\"row\":[{\"bas_yy\":\"2011\",\"tot\":\"15338\",\"child_protct_zon\":\"14921\",\"seni_protct_zon\":\"417\",\"disbld_protct_zon\":\"0\"}]}]}'\n",
      "b'{\"DesignationProtectionZonesYear\":[{\"head\":[{\"totalCount\":1},{\"numOfRows\":\"3\",\"pageNo\":\"1\",\"type\":\"JSON\"},{\"RESULT\":{\"resultCode\":\"INFO-0\",\"resultMsg\":\"NOMAL SERVICE\"}}]},{\"row\":[{\"bas_yy\":\"2012\",\"tot\":\"15730\",\"child_protct_zon\":\"15136\",\"seni_protct_zon\":\"566\",\"disbld_protct_zon\":\"28\"}]}]}'\n",
      "b'{\"DesignationProtectionZonesYear\":[{\"head\":[{\"totalCount\":1},{\"numOfRows\":\"3\",\"pageNo\":\"1\",\"type\":\"JSON\"},{\"RESULT\":{\"resultCode\":\"INFO-0\",\"resultMsg\":\"NOMAL SERVICE\"}}]},{\"row\":[{\"bas_yy\":\"2013\",\"tot\":\"16105\",\"child_protct_zon\":\"15444\",\"seni_protct_zon\":\"626\",\"disbld_protct_zon\":\"35\"}]}]}'\n",
      "b'{\"DesignationProtectionZonesYear\":[{\"head\":[{\"totalCount\":1},{\"numOfRows\":\"3\",\"pageNo\":\"1\",\"type\":\"JSON\"},{\"RESULT\":{\"resultCode\":\"INFO-0\",\"resultMsg\":\"NOMAL SERVICE\"}}]},{\"row\":[{\"bas_yy\":\"2014\",\"tot\":\"16537\",\"child_protct_zon\":\"15799\",\"seni_protct_zon\":\"697\",\"disbld_protct_zon\":\"41\"}]}]}'\n",
      "b'{\"DesignationProtectionZonesYear\":[{\"head\":[{\"totalCount\":1},{\"numOfRows\":\"3\",\"pageNo\":\"1\",\"type\":\"JSON\"},{\"RESULT\":{\"resultCode\":\"INFO-0\",\"resultMsg\":\"NOMAL SERVICE\"}}]},{\"row\":[{\"bas_yy\":\"2015\",\"tot\":\"16995\",\"child_protct_zon\":\"16085\",\"seni_protct_zon\":\"859\",\"disbld_protct_zon\":\"51\"}]}]}'\n",
      "b'{\"DesignationProtectionZonesYear\":[{\"head\":[{\"totalCount\":1},{\"numOfRows\":\"3\",\"pageNo\":\"1\",\"type\":\"JSON\"},{\"RESULT\":{\"resultCode\":\"INFO-0\",\"resultMsg\":\"NOMAL SERVICE\"}}]},{\"row\":[{\"bas_yy\":\"2016\",\"tot\":\"17531\",\"child_protct_zon\":\"16355\",\"seni_protct_zon\":\"1107\",\"disbld_protct_zon\":\"69\"}]}]}'\n",
      "b'{\"DesignationProtectionZonesYear\":[{\"head\":[{\"totalCount\":1},{\"numOfRows\":\"3\",\"pageNo\":\"1\",\"type\":\"JSON\"},{\"RESULT\":{\"resultCode\":\"INFO-0\",\"resultMsg\":\"NOMAL SERVICE\"}}]},{\"row\":[{\"bas_yy\":\"2017\",\"tot\":\"17939\",\"child_protct_zon\":\"16555\",\"seni_protct_zon\":\"1299\",\"disbld_protct_zon\":\"85\"}]}]}'\n",
      "b'{\"DesignationProtectionZonesYear\":[{\"head\":[{\"totalCount\":1},{\"numOfRows\":\"3\",\"pageNo\":\"1\",\"type\":\"JSON\"},{\"RESULT\":{\"resultCode\":\"INFO-0\",\"resultMsg\":\"NOMAL SERVICE\"}}]},{\"row\":[{\"bas_yy\":\"2018\",\"tot\":\"18494\",\"child_protct_zon\":\"16765\",\"seni_protct_zon\":\"1639\",\"disbld_protct_zon\":\"90\"}]}]}'\n",
      "b'{\"DesignationProtectionZonesYear\":[{\"head\":[{\"totalCount\":1},{\"numOfRows\":\"3\",\"pageNo\":\"1\",\"type\":\"JSON\"},{\"RESULT\":{\"resultCode\":\"INFO-0\",\"resultMsg\":\"NOMAL SERVICE\"}}]},{\"row\":[{\"bas_yy\":\"2019\",\"tot\":\"18941\",\"child_protct_zon\":\"16912\",\"seni_protct_zon\":\"1932\",\"disbld_protct_zon\":\"97\"}]}]}'\n"
     ]
    }
   ],
   "source": [
    "# Python 샘플 코드 #\n",
    "\n",
    "\n",
    "from urllib.request import Request, urlopen\n",
    "from urllib.parse import urlencode, quote_plus\n",
    "for i in range(2005,2020):\n",
    "    url = 'http://apis.data.go.kr/1741000/DesignationProtectionZonesYear/getDesignationProtectionZonesYearList'\n",
    "    queryParams = '?' + urlencode({ quote_plus('ServiceKey') : 'rqhjv1LU12E5PvOh9i4ytUPxBvLJgSCJ14gUQ2t7SngOmCUd7UDHOnrSJFu9BKbepq4n52jX4gCsFm1mIIMMow==', quote_plus('pageNo') : '1', quote_plus('numOfRows') : '3', quote_plus('type') : 'json', quote_plus('bas_yy') : str(i) })\n",
    "\n",
    "    request = Request(url + queryParams)\n",
    "    request.get_method = lambda: 'GET'\n",
    "    response_body = urlopen(request).read()\n",
    "    print(response_body)\n",
    "#연도별로 몇개가 지정되어 있는지 확인하고 갯수를 저장후 뺴줘야함\n",
    "#연도별증가 갯수와 교통사고발생건수를 비교하여 노인보호구역이 늘었을 때 교통사고발생이 줄었는지 체크해야함."
   ]
  },
  {
   "cell_type": "code",
   "execution_count": 10,
   "id": "36284a37",
   "metadata": {},
   "outputs": [
    {
     "name": "stdout",
     "output_type": "stream",
     "text": [
      "b'{\"resultCode\":\"03\",\"resultMsg\":\"NODATA_ERROR\",\"items\":{\"item\":[]},\"totalCount\":0,\"numOfRows\":0,\"pageNo\":1}'\n"
     ]
    }
   ],
   "source": [
    "from urllib.request import Request, urlopen\n",
    "from urllib.parse import urlencode, quote_plus\n",
    "\n",
    "url = 'http://apis.data.go.kr/B552061/frequentzoneOldman/getRestFrequentzoneOldman'\n",
    "queryParams = '?' + urlencode({ quote_plus('ServiceKey') : 'rqhjv1LU12E5PvOh9i4ytUPxBvLJgSCJ14gUQ2t7SngOmCUd7UDHOnrSJFu9BKbepq4n52jX4gCsFm1mIIMMow==', quote_plus('searchYearCd') : '2021', quote_plus('siDo') : '11', quote_plus('guGun') : '230', quote_plus('type') : 'json', quote_plus('numOfRows') : '1000', quote_plus('pageNo') : '1' })\n",
    "\n",
    "request = Request(url + queryParams)\n",
    "request.get_method = lambda: 'GET'\n",
    "response_body = urlopen(request).read()\n",
    "print (response_body)"
   ]
  },
  {
   "cell_type": "code",
   "execution_count": 14,
   "id": "636dde90",
   "metadata": {},
   "outputs": [
    {
     "name": "stdout",
     "output_type": "stream",
     "text": [
      "b'{\"resultCode\":\"00\",\"resultMsg\":\"NORMAL_CODE\",\"items\":{\"item\":[{\"afos_fid\":6715453,\"afos_id\":\"2021056\",\"bjd_cd\":\"1123010300\",\"spot_cd\":\"11230001\",\"sido_sgg_nm\":\"\\xec\\x84\\x9c\\xec\\x9a\\xb8\\xed\\x8a\\xb9\\xeb\\xb3\\x84\\xec\\x8b\\x9c \\xeb\\x8f\\x99\\xeb\\x8c\\x80\\xeb\\xac\\xb8\\xea\\xb5\\xac1\",\"spot_nm\":\"\\xec\\x84\\x9c\\xec\\x9a\\xb8\\xed\\x8a\\xb9\\xeb\\xb3\\x84\\xec\\x8b\\x9c \\xeb\\x8f\\x99\\xeb\\x8c\\x80\\xeb\\xac\\xb8\\xea\\xb5\\xac \\xec\\xa0\\x9c\\xea\\xb8\\xb0\\xeb\\x8f\\x99(\\xea\\xb2\\xbd\\xeb\\x8f\\x99\\xec\\x8b\\x9c\\xec\\x9e\\xa5\\xec\\x95\\x9e\\xea\\xb5\\x90\\xec\\xb0\\xa8\\xeb\\xa1\\x9c \\xec\\x9d\\xb8\\xea\\xb7\\xbc)\",\"occrrnc_cnt\":34,\"caslt_cnt\":40,\"dth_dnv_cnt\":0,\"se_dnv_cnt\":11,\"sl_dnv_cnt\":24,\"wnd_dnv_cnt\":5,\"geom_json\":\"{\\\\\"type\\\\\":\\\\\"Polygon\\\\\",\\\\\"coordinates\\\\\":[[[127.03967499,37.57817775],[127.0396491,37.57796941],[127.03957242,37.57776908],[127.0394479,37.57758445],[127.03928033,37.57742262],[127.03907613,37.57728981],[127.03884317,37.57719113],[127.0385904,37.57713036],[127.03832752,37.57710984],[127.03806464,37.57713036],[127.03781186,37.57719113],[127.0375789,37.57728981],[127.03737471,37.57742262],[127.03720714,37.57758445],[127.03708262,37.57776908],[127.03700594,37.57796941],[127.03698005,37.57817775],[127.03700594,37.57838608],[127.03708262,37.57858641],[127.03720714,37.57877104],[127.03737471,37.57893286],[127.0375789,37.57906567],[127.03781186,37.57916435],[127.03806464,37.57922512],[127.03832752,37.57924564],[127.0385904,37.57922512],[127.03884317,37.57916435],[127.03907613,37.57906567],[127.03928033,37.57893286],[127.0394479,37.57877104],[127.03957242,37.57858641],[127.0396491,37.57838608],[127.03967499,37.57817775]]]}\",\"lo_crd\":\"127.038327519101\",\"la_crd\":\"37.578177746007\"},{\"afos_fid\":6715454,\"afos_id\":\"2021056\",\"bjd_cd\":\"1123010100\",\"spot_cd\":\"11230002\",\"sido_sgg_nm\":\"\\xec\\x84\\x9c\\xec\\x9a\\xb8\\xed\\x8a\\xb9\\xeb\\xb3\\x84\\xec\\x8b\\x9c \\xeb\\x8f\\x99\\xeb\\x8c\\x80\\xeb\\xac\\xb8\\xea\\xb5\\xac2\",\"spot_nm\":\"\\xec\\x84\\x9c\\xec\\x9a\\xb8\\xed\\x8a\\xb9\\xeb\\xb3\\x84\\xec\\x8b\\x9c \\xeb\\x8f\\x99\\xeb\\x8c\\x80\\xeb\\xac\\xb8\\xea\\xb5\\xac \\xec\\x8b\\xa0\\xec\\x84\\xa4\\xeb\\x8f\\x99(\\xec\\x8b\\xa0\\xec\\x84\\xa4\\xeb\\x8f\\x99\\xec\\x97\\xad\\xea\\xb5\\x90\\xec\\xb0\\xa8\\xeb\\xa1\\x9c \\xec\\x9d\\xb8\\xea\\xb7\\xbc)\",\"occrrnc_cnt\":33,\"caslt_cnt\":50,\"dth_dnv_cnt\":0,\"se_dnv_cnt\":8,\"sl_dnv_cnt\":39,\"wnd_dnv_cnt\":3,\"geom_json\":\"{\\\\\"type\\\\\":\\\\\"Polygon\\\\\",\\\\\"coordinates\\\\\":[[[127.02457491,37.57558086],[127.02454901,37.57537252],[127.02447234,37.57517218],[127.02434782,37.57498755],[127.02418024,37.57482571],[127.02397605,37.5746929],[127.02374309,37.57459421],[127.02349031,37.57453344],[127.02322743,37.57451292],[127.02296455,37.57453344],[127.02271178,37.57459421],[127.02247882,37.5746929],[127.02227463,37.57482571],[127.02210705,37.57498755],[127.02198253,37.57517218],[127.02190585,37.57537252],[127.02187996,37.57558086],[127.02190585,37.57578921],[127.02198253,37.57598955],[127.02210705,37.57617418],[127.02227463,37.57633601],[127.02247882,37.57646882],[127.02271178,37.5765675],[127.02296455,37.57662828],[127.02322743,37.5766488],[127.02349031,37.57662828],[127.02374309,37.5765675],[127.02397605,37.57646882],[127.02418024,37.57633601],[127.02434782,37.57617418],[127.02447234,37.57598955],[127.02454901,37.57578921],[127.02457491,37.57558086]]]}\",\"lo_crd\":\"127.023227432501\",\"la_crd\":\"37.575580863667\"},{\"afos_fid\":6715455,\"afos_id\":\"2021056\",\"bjd_cd\":\"1123010600\",\"spot_cd\":\"11230003\",\"sido_sgg_nm\":\"\\xec\\x84\\x9c\\xec\\x9a\\xb8\\xed\\x8a\\xb9\\xeb\\xb3\\x84\\xec\\x8b\\x9c \\xeb\\x8f\\x99\\xeb\\x8c\\x80\\xeb\\xac\\xb8\\xea\\xb5\\xac3\",\"spot_nm\":\"\\xec\\x84\\x9c\\xec\\x9a\\xb8\\xed\\x8a\\xb9\\xeb\\xb3\\x84\\xec\\x8b\\x9c \\xeb\\x8f\\x99\\xeb\\x8c\\x80\\xeb\\xac\\xb8\\xea\\xb5\\xac \\xec\\x9e\\xa5\\xec\\x95\\x88\\xeb\\x8f\\x99(\\xec\\x9e\\xa5\\xec\\x95\\x88\\xeb\\x8f\\x9946914 \\xec\\x9d\\xb8\\xea\\xb7\\xbc)\",\"occrrnc_cnt\":31,\"caslt_cnt\":34,\"dth_dnv_cnt\":1,\"se_dnv_cnt\":9,\"sl_dnv_cnt\":24,\"wnd_dnv_cnt\":0,\"geom_json\":\"{\\\\\"type\\\\\":\\\\\"Polygon\\\\\",\\\\\"coordinates\\\\\":[[[127.07272216,37.57171784],[127.07269626,37.57150948],[127.07261959,37.57130914],[127.07249507,37.57112449],[127.07232749,37.57096265],[127.0721233,37.57082983],[127.07189034,37.57073114],[127.07163756,37.57067036],[127.07137468,37.57064984],[127.0711118,37.57067036],[127.07085903,37.57073114],[127.07062607,37.57082983],[127.07042188,37.57096265],[127.0702543,37.57112449],[127.07012978,37.57130914],[127.0700531,37.57150948],[127.07002721,37.57171784],[127.0700531,37.5719262],[127.07012978,37.57212654],[127.0702543,37.57231118],[127.07042188,37.57247302],[127.07062607,37.57260584],[127.07085903,37.57270453],[127.0711118,37.57276531],[127.07137468,37.57278583],[127.07163756,37.57276531],[127.07189034,37.57270453],[127.0721233,37.57260584],[127.07232749,37.57247302],[127.07249507,37.57231118],[127.07261959,37.57212654],[127.07269626,37.5719262],[127.07272216,37.57171784]]]}\",\"lo_crd\":\"127.071374682397\",\"la_crd\":\"37.571717840207\"}]},\"totalCount\":3,\"numOfRows\":3,\"pageNo\":1}'\n"
     ]
    }
   ],
   "source": [
    "from urllib.request import Request, urlopen\n",
    "from urllib.parse import urlencode, quote_plus\n",
    "\n",
    "url = 'http://apis.data.go.kr/B552061/frequentzoneLg/getRestFrequentzoneLg'\n",
    "queryParams = '?' + urlencode({ quote_plus('ServiceKey') : 'rqhjv1LU12E5PvOh9i4ytUPxBvLJgSCJ14gUQ2t7SngOmCUd7UDHOnrSJFu9BKbepq4n52jX4gCsFm1mIIMMow==', quote_plus('searchYearCd') : '2020', quote_plus('siDo') : '11', quote_plus('guGun') : '230', quote_plus('type') : 'json', quote_plus('numOfRows') : '10', quote_plus('pageNo') : '1' })\n",
    "\n",
    "request = Request(url + queryParams)\n",
    "request.get_method = lambda: 'GET'\n",
    "response_body = urlopen(request).read()\n",
    "print(response_body)"
   ]
  },
  {
   "cell_type": "code",
   "execution_count": null,
   "id": "6111c464",
   "metadata": {},
   "outputs": [],
   "source": []
  }
 ],
 "metadata": {
  "kernelspec": {
   "display_name": "Python 3",
   "language": "python",
   "name": "python3"
  },
  "language_info": {
   "codemirror_mode": {
    "name": "ipython",
    "version": 3
   },
   "file_extension": ".py",
   "mimetype": "text/x-python",
   "name": "python",
   "nbconvert_exporter": "python",
   "pygments_lexer": "ipython3",
   "version": "3.8.8"
  }
 },
 "nbformat": 4,
 "nbformat_minor": 5
}
