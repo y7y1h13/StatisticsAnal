{
 "cells": [
  {
   "cell_type": "code",
   "execution_count": 1,
   "id": "b116c27c",
   "metadata": {},
   "outputs": [],
   "source": [
    "import requests\n",
    "from bs4 import BeautifulSoup\n",
    "import urllib\n",
    "import re"
   ]
  },
  {
   "cell_type": "code",
   "execution_count": 3,
   "id": "d6c5002f",
   "metadata": {},
   "outputs": [],
   "source": [
    "#agent 넣어줘야함\n",
    "headers = {'User-Agent' : 'mozilla/5.0', 'Accept-Encoding':'gzip,deflate','Accept':'*/*','Connection':'keep-alive'}\n",
    "page = requests.get('https://search.naver.com/search.naver?where=news&sm=tab_jum&query=%EC%BB%A4%ED%94%BC')\n",
    "html = page.text"
   ]
  },
  {
   "cell_type": "code",
   "execution_count": 4,
   "id": "93aae914",
   "metadata": {},
   "outputs": [],
   "source": [
    "soup = BeautifulSoup(html, 'lxml')"
   ]
  },
  {
   "cell_type": "code",
   "execution_count": 5,
   "id": "2ad5ec6a",
   "metadata": {},
   "outputs": [],
   "source": [
    "data = soup.find('div',{'id':'main_pack'})\n",
    "data2 = data.find_all('div',{'class':'news_area'})"
   ]
  },
  {
   "cell_type": "code",
   "execution_count": 6,
   "id": "88ab4a00",
   "metadata": {},
   "outputs": [],
   "source": [
    "result_title = []\n",
    "\n",
    "for temp in data2:\n",
    "    titletemp = temp.find('a',{'class':'news_tit'})\n",
    "    result_title.append(re.sub('[^A-Za-z0-9가-힣]',' ',titletemp.attrs['title']))\n"
   ]
  },
  {
   "cell_type": "code",
   "execution_count": 7,
   "id": "df0d28b8",
   "metadata": {},
   "outputs": [],
   "source": [
    "data3 = data.find_all('a',{'class':'api_txt_lines dsc_txt_wrap'})"
   ]
  },
  {
   "cell_type": "code",
   "execution_count": 8,
   "id": "caf63266",
   "metadata": {},
   "outputs": [],
   "source": [
    "result_desc = []\n",
    "for temp in data3:\n",
    "    result_desc.append(re.sub('[^A-Za-z0-9가-힣]', ' ', temp.text))\n"
   ]
  },
  {
   "cell_type": "code",
   "execution_count": 9,
   "id": "fc222fa4",
   "metadata": {},
   "outputs": [],
   "source": [
    "result = []\n",
    "\n",
    "for temp in range(0, 10):\n",
    "    temp1 = []\n",
    "    temp1.append(result_title[temp])\n",
    "    temp1.append(result_desc[temp])\n",
    "    \n",
    "    result.append(temp1)"
   ]
  },
  {
   "cell_type": "code",
   "execution_count": null,
   "id": "e2df9c2e",
   "metadata": {},
   "outputs": [],
   "source": [
    "f = open('{0} 데이터.csv'.format(keyword), 'w')\n",
    "f.write('제목' +',' + '내용' +'\\n')\n",
    "\n",
    "for temp in result:\n",
    "    f.write(temp[0]+','+temp[1]+'\\n')\n",
    "f.close()"
   ]
  }
 ],
 "metadata": {
  "kernelspec": {
   "display_name": "Python 3",
   "language": "python",
   "name": "python3"
  },
  "language_info": {
   "codemirror_mode": {
    "name": "ipython",
    "version": 3
   },
   "file_extension": ".py",
   "mimetype": "text/x-python",
   "name": "python",
   "nbconvert_exporter": "python",
   "pygments_lexer": "ipython3",
   "version": "3.8.8"
  }
 },
 "nbformat": 4,
 "nbformat_minor": 5
}
