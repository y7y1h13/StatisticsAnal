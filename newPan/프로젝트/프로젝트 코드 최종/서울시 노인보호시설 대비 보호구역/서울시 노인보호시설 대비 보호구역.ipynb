{
 "cells": [
  {
   "cell_type": "code",
   "execution_count": 1,
   "id": "d38398b0",
   "metadata": {},
   "outputs": [],
   "source": [
    "import warnings\n",
    "warnings.filterwarnings(action='ignore') \n",
    "import pandas as pd\n",
    "import numpy as np\n",
    "import matplotlib.pyplot as plt\n",
    "from matplotlib import font_manager, rc\n",
    "import matplotlib\n",
    "import platform\n",
    "import seaborn as sns \n",
    "import matplotlib\n",
    "matplotlib.rcParams['font.family']\n",
    "if platform.system() == 'Windows':\n",
    "    matplotlib.rc('font', family='Malgun Gothic')\n",
    "    #Malgun \n",
    "%matplotlib inline"
   ]
  },
  {
   "cell_type": "code",
   "execution_count": 2,
   "id": "c1ae4ad4",
   "metadata": {},
   "outputs": [],
   "source": [
    "df1 = pd.read_csv('../data/노인보호시설 대비 보호구역/서울특별시 사회복지시설(노인여가복지시설) 목록.csv',encoding='cp949')\n",
    "df2 = pd.read_csv('../data/노인보호시설 대비 보호구역/서울특별시 경로당 정보.csv')\n",
    "df_m = pd.read_csv('../data/노인보호시설 대비 보호구역/서울시 전통시장 현황.csv')"
   ]
  },
  {
   "cell_type": "code",
   "execution_count": 6,
   "id": "b6e10309",
   "metadata": {},
   "outputs": [],
   "source": [
    "df3 = pd.read_csv('../data/노인보호시설 대비 보호구역/서울시 년도별 노인보호구역 지정현황.csv')"
   ]
  },
  {
   "cell_type": "code",
   "execution_count": 7,
   "id": "3f4c2c70",
   "metadata": {},
   "outputs": [],
   "source": [
    "count = [len(df1)+len(df2)+len(df_m),len(df3)]"
   ]
  },
  {
   "cell_type": "code",
   "execution_count": 8,
   "id": "178fccef",
   "metadata": {},
   "outputs": [],
   "source": [
    "all = pd.DataFrame(count)"
   ]
  },
  {
   "cell_type": "code",
   "execution_count": 10,
   "id": "7f2fee99",
   "metadata": {},
   "outputs": [],
   "source": [
    "all.columns = ['갯수']"
   ]
  },
  {
   "cell_type": "code",
   "execution_count": 18,
   "id": "e435062d",
   "metadata": {},
   "outputs": [],
   "source": [
    "all.rename(index={0:'노인 이용시설', 1:'노인 보호구역'},inplace=True)"
   ]
  },
  {
   "cell_type": "code",
   "execution_count": 19,
   "id": "51401580",
   "metadata": {},
   "outputs": [
    {
     "data": {
      "text/html": [
       "<div>\n",
       "<style scoped>\n",
       "    .dataframe tbody tr th:only-of-type {\n",
       "        vertical-align: middle;\n",
       "    }\n",
       "\n",
       "    .dataframe tbody tr th {\n",
       "        vertical-align: top;\n",
       "    }\n",
       "\n",
       "    .dataframe thead th {\n",
       "        text-align: right;\n",
       "    }\n",
       "</style>\n",
       "<table border=\"1\" class=\"dataframe\">\n",
       "  <thead>\n",
       "    <tr style=\"text-align: right;\">\n",
       "      <th></th>\n",
       "      <th>갯수</th>\n",
       "    </tr>\n",
       "  </thead>\n",
       "  <tbody>\n",
       "    <tr>\n",
       "      <th>노인 이용시설</th>\n",
       "      <td>4172</td>\n",
       "    </tr>\n",
       "    <tr>\n",
       "      <th>노인 보호구역</th>\n",
       "      <td>163</td>\n",
       "    </tr>\n",
       "  </tbody>\n",
       "</table>\n",
       "</div>"
      ],
      "text/plain": [
       "           갯수\n",
       "노인 이용시설  4172\n",
       "노인 보호구역   163"
      ]
     },
     "execution_count": 19,
     "metadata": {},
     "output_type": "execute_result"
    }
   ],
   "source": [
    "all"
   ]
  },
  {
   "cell_type": "code",
   "execution_count": 21,
   "id": "a4e54a88",
   "metadata": {},
   "outputs": [
    {
     "data": {
      "image/png": "[encoded data removed]",
      "text/plain": [
       "<Figure size 432x288 with 1 Axes>"
      ]
     },
     "metadata": {},
     "output_type": "display_data"
    }
   ],
   "source": [
    "data = all['갯수']\n",
    "colors = ['#99CCFF', '#AAB9FF']\n",
    "wedgeprops={'width': 0.7, 'edgecolor': 'w', 'linewidth': 5}\n",
    "plt.title('노인 보호구역과 노인 이용시설 비교 ')\n",
    "plt.pie(data,labels=all.index, autopct='%.1f%%', startangle=260, counterclock=False, colors=colors, wedgeprops=wedgeprops)\n",
    "plt.show()"
   ]
  },
  {
   "cell_type": "code",
   "execution_count": null,
   "id": "1a9fb61a",
   "metadata": {},
   "outputs": [],
   "source": []
  }
 ],
 "metadata": {
  "kernelspec": {
   "display_name": "Python 3",
   "language": "python",
   "name": "python3"
  },
  "language_info": {
   "codemirror_mode": {
    "name": "ipython",
    "version": 3
   },
   "file_extension": ".py",
   "mimetype": "text/x-python",
   "name": "python",
   "nbconvert_exporter": "python",
   "pygments_lexer": "ipython3",
   "version": "3.8.8"
  }
 },
 "nbformat": 4,
 "nbformat_minor": 5
}
