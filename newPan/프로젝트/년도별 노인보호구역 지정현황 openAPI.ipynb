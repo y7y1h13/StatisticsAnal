{
 "cells": [
  {
   "cell_type": "code",
   "execution_count": 5,
   "id": "fe29c5eb",
   "metadata": {},
   "outputs": [
    {
     "name": "stdout",
     "output_type": "stream",
     "text": [
      "b'{\"RESULT\":{\"resultCode\":\"INFO-3\",\"resultMsg\":\"\\xeb\\x8d\\xb0\\xec\\x9d\\xb4\\xed\\x84\\xb0\\xec\\x97\\x86\\xec\\x9d\\x8c \\xec\\x97\\x90\\xeb\\x9f\\xac\"}}'\n",
      "b'{\"RESULT\":{\"resultCode\":\"INFO-3\",\"resultMsg\":\"\\xeb\\x8d\\xb0\\xec\\x9d\\xb4\\xed\\x84\\xb0\\xec\\x97\\x86\\xec\\x9d\\x8c \\xec\\x97\\x90\\xeb\\x9f\\xac\"}}'\n",
      "b'{\"DesignationProtectionZonesYear\":[{\"head\":[{\"totalCount\":1},{\"numOfRows\":\"3\",\"pageNo\":\"1\",\"type\":\"JSON\"},{\"RESULT\":{\"resultCode\":\"INFO-0\",\"resultMsg\":\"NOMAL SERVICE\"}}]},{\"row\":[{\"bas_yy\":\"2007\",\"tot\":\"8429\",\"child_protct_zon\":\"8429\",\"seni_protct_zon\":\"0\",\"disbld_protct_zon\":\"0\"}]}]}'\n",
      "b'{\"DesignationProtectionZonesYear\":[{\"head\":[{\"totalCount\":1},{\"numOfRows\":\"3\",\"pageNo\":\"1\",\"type\":\"JSON\"},{\"RESULT\":{\"resultCode\":\"INFO-0\",\"resultMsg\":\"NOMAL SERVICE\"}}]},{\"row\":[{\"bas_yy\":\"2008\",\"tot\":\"9096\",\"child_protct_zon\":\"8999\",\"seni_protct_zon\":\"97\",\"disbld_protct_zon\":\"0\"}]}]}'\n",
      "b'{\"DesignationProtectionZonesYear\":[{\"head\":[{\"totalCount\":1},{\"numOfRows\":\"3\",\"pageNo\":\"1\",\"type\":\"JSON\"},{\"RESULT\":{\"resultCode\":\"INFO-0\",\"resultMsg\":\"NOMAL SERVICE\"}}]},{\"row\":[{\"bas_yy\":\"2009\",\"tot\":\"9789\",\"child_protct_zon\":\"9584\",\"seni_protct_zon\":\"205\",\"disbld_protct_zon\":\"0\"}]}]}'\n",
      "b'{\"DesignationProtectionZonesYear\":[{\"head\":[{\"totalCount\":1},{\"numOfRows\":\"3\",\"pageNo\":\"1\",\"type\":\"JSON\"},{\"RESULT\":{\"resultCode\":\"INFO-0\",\"resultMsg\":\"NOMAL SERVICE\"}}]},{\"row\":[{\"bas_yy\":\"2010\",\"tot\":\"13472\",\"child_protct_zon\":\"13207\",\"seni_protct_zon\":\"265\",\"disbld_protct_zon\":\"0\"}]}]}'\n",
      "b'{\"DesignationProtectionZonesYear\":[{\"head\":[{\"totalCount\":1},{\"numOfRows\":\"3\",\"pageNo\":\"1\",\"type\":\"JSON\"},{\"RESULT\":{\"resultCode\":\"INFO-0\",\"resultMsg\":\"NOMAL SERVICE\"}}]},{\"row\":[{\"bas_yy\":\"2011\",\"tot\":\"15338\",\"child_protct_zon\":\"14921\",\"seni_protct_zon\":\"417\",\"disbld_protct_zon\":\"0\"}]}]}'\n",
      "b'{\"DesignationProtectionZonesYear\":[{\"head\":[{\"totalCount\":1},{\"numOfRows\":\"3\",\"pageNo\":\"1\",\"type\":\"JSON\"},{\"RESULT\":{\"resultCode\":\"INFO-0\",\"resultMsg\":\"NOMAL SERVICE\"}}]},{\"row\":[{\"bas_yy\":\"2012\",\"tot\":\"15730\",\"child_protct_zon\":\"15136\",\"seni_protct_zon\":\"566\",\"disbld_protct_zon\":\"28\"}]}]}'\n",
      "b'{\"DesignationProtectionZonesYear\":[{\"head\":[{\"totalCount\":1},{\"numOfRows\":\"3\",\"pageNo\":\"1\",\"type\":\"JSON\"},{\"RESULT\":{\"resultCode\":\"INFO-0\",\"resultMsg\":\"NOMAL SERVICE\"}}]},{\"row\":[{\"bas_yy\":\"2013\",\"tot\":\"16105\",\"child_protct_zon\":\"15444\",\"seni_protct_zon\":\"626\",\"disbld_protct_zon\":\"35\"}]}]}'\n",
      "b'{\"DesignationProtectionZonesYear\":[{\"head\":[{\"totalCount\":1},{\"numOfRows\":\"3\",\"pageNo\":\"1\",\"type\":\"JSON\"},{\"RESULT\":{\"resultCode\":\"INFO-0\",\"resultMsg\":\"NOMAL SERVICE\"}}]},{\"row\":[{\"bas_yy\":\"2014\",\"tot\":\"16537\",\"child_protct_zon\":\"15799\",\"seni_protct_zon\":\"697\",\"disbld_protct_zon\":\"41\"}]}]}'\n",
      "b'{\"DesignationProtectionZonesYear\":[{\"head\":[{\"totalCount\":1},{\"numOfRows\":\"3\",\"pageNo\":\"1\",\"type\":\"JSON\"},{\"RESULT\":{\"resultCode\":\"INFO-0\",\"resultMsg\":\"NOMAL SERVICE\"}}]},{\"row\":[{\"bas_yy\":\"2015\",\"tot\":\"16995\",\"child_protct_zon\":\"16085\",\"seni_protct_zon\":\"859\",\"disbld_protct_zon\":\"51\"}]}]}'\n",
      "b'{\"DesignationProtectionZonesYear\":[{\"head\":[{\"totalCount\":1},{\"numOfRows\":\"3\",\"pageNo\":\"1\",\"type\":\"JSON\"},{\"RESULT\":{\"resultCode\":\"INFO-0\",\"resultMsg\":\"NOMAL SERVICE\"}}]},{\"row\":[{\"bas_yy\":\"2016\",\"tot\":\"17531\",\"child_protct_zon\":\"16355\",\"seni_protct_zon\":\"1107\",\"disbld_protct_zon\":\"69\"}]}]}'\n",
      "b'{\"DesignationProtectionZonesYear\":[{\"head\":[{\"totalCount\":1},{\"numOfRows\":\"3\",\"pageNo\":\"1\",\"type\":\"JSON\"},{\"RESULT\":{\"resultCode\":\"INFO-0\",\"resultMsg\":\"NOMAL SERVICE\"}}]},{\"row\":[{\"bas_yy\":\"2017\",\"tot\":\"17939\",\"child_protct_zon\":\"16555\",\"seni_protct_zon\":\"1299\",\"disbld_protct_zon\":\"85\"}]}]}'\n",
      "b'{\"DesignationProtectionZonesYear\":[{\"head\":[{\"totalCount\":1},{\"numOfRows\":\"3\",\"pageNo\":\"1\",\"type\":\"JSON\"},{\"RESULT\":{\"resultCode\":\"INFO-0\",\"resultMsg\":\"NOMAL SERVICE\"}}]},{\"row\":[{\"bas_yy\":\"2018\",\"tot\":\"18494\",\"child_protct_zon\":\"16765\",\"seni_protct_zon\":\"1639\",\"disbld_protct_zon\":\"90\"}]}]}'\n",
      "b'{\"DesignationProtectionZonesYear\":[{\"head\":[{\"totalCount\":1},{\"numOfRows\":\"3\",\"pageNo\":\"1\",\"type\":\"JSON\"},{\"RESULT\":{\"resultCode\":\"INFO-0\",\"resultMsg\":\"NOMAL SERVICE\"}}]},{\"row\":[{\"bas_yy\":\"2019\",\"tot\":\"18941\",\"child_protct_zon\":\"16912\",\"seni_protct_zon\":\"1932\",\"disbld_protct_zon\":\"97\"}]}]}'\n"
     ]
    }
   ],
   "source": [
    "# Python 샘플 코드 #\n",
    "\n",
    "\n",
    "from urllib.request import Request, urlopen\n",
    "from urllib.parse import urlencode, quote_plus\n",
    "for i in range(2005,2020):\n",
    "    url = 'http://apis.data.go.kr/1741000/DesignationProtectionZonesYear/getDesignationProtectionZonesYearList'\n",
    "    queryParams = '?' + urlencode({ quote_plus('ServiceKey') : 'rqhjv1LU12E5PvOh9i4ytUPxBvLJgSCJ14gUQ2t7SngOmCUd7UDHOnrSJFu9BKbepq4n52jX4gCsFm1mIIMMow==', quote_plus('pageNo') : '1', quote_plus('numOfRows') : '3', quote_plus('type') : 'json', quote_plus('bas_yy') : str(i) })\n",
    "\n",
    "    request = Request(url + queryParams)\n",
    "    request.get_method = lambda: 'GET'\n",
    "    response_body = urlopen(request).read()\n",
    "    print(response_body)\n",
    "#연도별로 몇개가 지정되어 있는지 확인하고 갯수를 저장후 뺴줘야함\n",
    "#연도별증가 갯수와 교통사고발생건수를 비교하여 노인보호구역이 늘었을 때 교통사고발생이 줄었는지 체크해야함."
   ]
  },
  {
   "cell_type": "code",
   "execution_count": null,
   "id": "36284a37",
   "metadata": {},
   "outputs": [],
   "source": []
  }
 ],
 "metadata": {
  "kernelspec": {
   "display_name": "Python 3",
   "language": "python",
   "name": "python3"
  },
  "language_info": {
   "codemirror_mode": {
    "name": "ipython",
    "version": 3
   },
   "file_extension": ".py",
   "mimetype": "text/x-python",
   "name": "python",
   "nbconvert_exporter": "python",
   "pygments_lexer": "ipython3",
   "version": "3.8.8"
  }
 },
 "nbformat": 4,
 "nbformat_minor": 5
}
