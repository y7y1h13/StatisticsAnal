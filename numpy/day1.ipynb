{
 "cells": [
  {
   "cell_type": "code",
   "execution_count": 110,
   "id": "55d8f1b0",
   "metadata": {},
   "outputs": [
    {
     "name": "stdout",
     "output_type": "stream",
     "text": [
      "[ 2  3  5  7 11 13 17 19 23 29 31]\n"
     ]
    }
   ],
   "source": [
    "import numpy as np # numpy 불러오기\n",
    "arr1 = np.array([2, 3, 5, 7, 11, 13, 17, 19, 23, 29, 31]) # numpy array 함수 사용\n",
    "print(arr1)"
   ]
  },
  {
   "cell_type": "code",
   "execution_count": 111,
   "id": "6e01928f",
   "metadata": {},
   "outputs": [
    {
     "data": {
      "text/plain": [
       "numpy.ndarray"
      ]
     },
     "execution_count": 111,
     "metadata": {},
     "output_type": "execute_result"
    }
   ],
   "source": [
    "type(arr1)"
   ]
  },
  {
   "cell_type": "code",
   "execution_count": 112,
   "id": "e310449e",
   "metadata": {},
   "outputs": [],
   "source": [
    "arr2 = np.array([[1,2,3,4],[5,6,7,8],[9,10,11,12]]) #2차원"
   ]
  },
  {
   "cell_type": "code",
   "execution_count": 113,
   "id": "c6a18f4f",
   "metadata": {},
   "outputs": [
    {
     "data": {
      "text/plain": [
       "array([[ 1,  2,  3,  4],\n",
       "       [ 5,  6,  7,  8],\n",
       "       [ 9, 10, 11, 12]])"
      ]
     },
     "execution_count": 113,
     "metadata": {},
     "output_type": "execute_result"
    }
   ],
   "source": [
    "arr2"
   ]
  },
  {
   "cell_type": "code",
   "execution_count": 114,
   "id": "8867f7e9",
   "metadata": {},
   "outputs": [
    {
     "data": {
      "text/plain": [
       "numpy.ndarray"
      ]
     },
     "execution_count": 114,
     "metadata": {},
     "output_type": "execute_result"
    }
   ],
   "source": [
    "type(arr2)"
   ]
  },
  {
   "cell_type": "code",
   "execution_count": 115,
   "id": "f76051e5",
   "metadata": {},
   "outputs": [
    {
     "data": {
      "text/plain": [
       "(3, 4)"
      ]
     },
     "execution_count": 115,
     "metadata": {},
     "output_type": "execute_result"
    }
   ],
   "source": [
    "arr2.shape"
   ]
  },
  {
   "cell_type": "code",
   "execution_count": 116,
   "id": "2ff8c379",
   "metadata": {},
   "outputs": [
    {
     "data": {
      "text/plain": [
       "11"
      ]
     },
     "execution_count": 116,
     "metadata": {},
     "output_type": "execute_result"
    }
   ],
   "source": [
    "arr1.size #사이즈 확인"
   ]
  },
  {
   "cell_type": "code",
   "execution_count": 117,
   "id": "b4bf5c3d",
   "metadata": {},
   "outputs": [
    {
     "data": {
      "text/plain": [
       "12"
      ]
     },
     "execution_count": 117,
     "metadata": {},
     "output_type": "execute_result"
    }
   ],
   "source": [
    "arr2.size "
   ]
  },
  {
   "cell_type": "code",
   "execution_count": 118,
   "id": "9d0e0342",
   "metadata": {},
   "outputs": [],
   "source": [
    "import numpy as np # numpy 불러오기\n",
    "arr1 = np.array([2, 3, 5, 7, 11, 13, 17, 19, 23, 29, 31]) # numpy array 함수 사용, 인덱싱"
   ]
  },
  {
   "cell_type": "code",
   "execution_count": 119,
   "id": "f7014fc0",
   "metadata": {},
   "outputs": [
    {
     "data": {
      "text/plain": [
       "2"
      ]
     },
     "execution_count": 119,
     "metadata": {},
     "output_type": "execute_result"
    }
   ],
   "source": [
    "arr1[0]"
   ]
  },
  {
   "cell_type": "code",
   "execution_count": 120,
   "id": "1ed3391b",
   "metadata": {},
   "outputs": [
    {
     "data": {
      "text/plain": [
       "13"
      ]
     },
     "execution_count": 120,
     "metadata": {},
     "output_type": "execute_result"
    }
   ],
   "source": [
    "arr1[5]"
   ]
  },
  {
   "cell_type": "code",
   "execution_count": 121,
   "id": "c62c9bb9",
   "metadata": {},
   "outputs": [
    {
     "data": {
      "text/plain": [
       "31"
      ]
     },
     "execution_count": 121,
     "metadata": {},
     "output_type": "execute_result"
    }
   ],
   "source": [
    "arr1[-1]"
   ]
  },
  {
   "cell_type": "code",
   "execution_count": 122,
   "id": "bafcd118",
   "metadata": {},
   "outputs": [
    {
     "data": {
      "text/plain": [
       "array([ 3,  7, 11])"
      ]
     },
     "execution_count": 122,
     "metadata": {},
     "output_type": "execute_result"
    }
   ],
   "source": [
    "arr1[[1,3,4]]"
   ]
  },
  {
   "cell_type": "code",
   "execution_count": 123,
   "id": "e9c7c5b0",
   "metadata": {},
   "outputs": [],
   "source": [
    "arr2 = np.array([2, 1, 3])"
   ]
  },
  {
   "cell_type": "code",
   "execution_count": 124,
   "id": "f3419355",
   "metadata": {},
   "outputs": [
    {
     "data": {
      "text/plain": [
       "array([2, 1, 3])"
      ]
     },
     "execution_count": 124,
     "metadata": {},
     "output_type": "execute_result"
    }
   ],
   "source": [
    "arr2"
   ]
  },
  {
   "cell_type": "code",
   "execution_count": 125,
   "id": "00e08043",
   "metadata": {},
   "outputs": [
    {
     "data": {
      "text/plain": [
       "array([5, 3, 7])"
      ]
     },
     "execution_count": 125,
     "metadata": {},
     "output_type": "execute_result"
    }
   ],
   "source": [
    "arr1[arr2] #numpy array로 인덱스 값 불러오기"
   ]
  },
  {
   "cell_type": "code",
   "execution_count": 126,
   "id": "d45edb3f",
   "metadata": {},
   "outputs": [
    {
     "data": {
      "text/plain": [
       "array([ 5,  7, 11, 13, 17])"
      ]
     },
     "execution_count": 126,
     "metadata": {},
     "output_type": "execute_result"
    }
   ],
   "source": [
    "arr1[2:7] #슬라이싱 2번 인덱스부터 (7-1)번 인덱스까지 불러오기"
   ]
  },
  {
   "cell_type": "code",
   "execution_count": 127,
   "id": "652cdefa",
   "metadata": {},
   "outputs": [
    {
     "data": {
      "text/plain": [
       "array([ 2,  3,  5,  7, 11, 13, 17, 19, 23, 29, 31])"
      ]
     },
     "execution_count": 127,
     "metadata": {},
     "output_type": "execute_result"
    }
   ],
   "source": [
    "arr1"
   ]
  },
  {
   "cell_type": "code",
   "execution_count": 128,
   "id": "085adffb",
   "metadata": {},
   "outputs": [
    {
     "data": {
      "text/plain": [
       "array([ 5, 13])"
      ]
     },
     "execution_count": 128,
     "metadata": {},
     "output_type": "execute_result"
    }
   ],
   "source": [
    "arr1[2:6:3] # 2번부터 (6-1)번 인덱스까지 숫자 3개 건너뛰기"
   ]
  },
  {
   "cell_type": "markdown",
   "id": "ab831232",
   "metadata": {},
   "source": [
    "# 기본연산\n",
    "> numpy array는 모든 연산이 가능하다"
   ]
  },
  {
   "cell_type": "code",
   "execution_count": 129,
   "id": "99565305",
   "metadata": {},
   "outputs": [
    {
     "data": {
      "text/plain": [
       "array([0, 1, 2, 3, 4, 5, 6, 7, 8, 9])"
      ]
     },
     "execution_count": 129,
     "metadata": {},
     "output_type": "execute_result"
    }
   ],
   "source": [
    "arr1 = np.arange(10)\n",
    "arr2 = np.arange(10,20)\n",
    "arr1"
   ]
  },
  {
   "cell_type": "code",
   "execution_count": 130,
   "id": "bfc4dadd",
   "metadata": {},
   "outputs": [
    {
     "data": {
      "text/plain": [
       "array([10, 11, 12, 13, 14, 15, 16, 17, 18, 19])"
      ]
     },
     "execution_count": 130,
     "metadata": {},
     "output_type": "execute_result"
    }
   ],
   "source": [
    "arr2"
   ]
  },
  {
   "cell_type": "code",
   "execution_count": 131,
   "id": "948f8b36",
   "metadata": {},
   "outputs": [
    {
     "data": {
      "text/plain": [
       "array([ 0,  2,  4,  6,  8, 10, 12, 14, 16, 18])"
      ]
     },
     "execution_count": 131,
     "metadata": {},
     "output_type": "execute_result"
    }
   ],
   "source": [
    "arr1 * 2"
   ]
  },
  {
   "cell_type": "code",
   "execution_count": 132,
   "id": "12144882",
   "metadata": {},
   "outputs": [
    {
     "data": {
      "text/plain": [
       "array([0. , 0.5, 1. , 1.5, 2. , 2.5, 3. , 3.5, 4. , 4.5])"
      ]
     },
     "execution_count": 132,
     "metadata": {},
     "output_type": "execute_result"
    }
   ],
   "source": [
    "arr1 /2"
   ]
  },
  {
   "cell_type": "code",
   "execution_count": 133,
   "id": "346551f6",
   "metadata": {},
   "outputs": [
    {
     "data": {
      "text/plain": [
       "array([ 2,  3,  4,  5,  6,  7,  8,  9, 10, 11])"
      ]
     },
     "execution_count": 133,
     "metadata": {},
     "output_type": "execute_result"
    }
   ],
   "source": [
    "arr1 +2"
   ]
  },
  {
   "cell_type": "code",
   "execution_count": 134,
   "id": "06b3823c",
   "metadata": {},
   "outputs": [
    {
     "data": {
      "text/plain": [
       "array([ 0,  1,  4,  9, 16, 25, 36, 49, 64, 81], dtype=int32)"
      ]
     },
     "execution_count": 134,
     "metadata": {},
     "output_type": "execute_result"
    }
   ],
   "source": [
    "arr1 **2"
   ]
  },
  {
   "cell_type": "code",
   "execution_count": 135,
   "id": "75fd6d1a",
   "metadata": {},
   "outputs": [],
   "source": [
    "arr1 = arr1+2"
   ]
  },
  {
   "cell_type": "code",
   "execution_count": 136,
   "id": "c63d3a50",
   "metadata": {},
   "outputs": [
    {
     "data": {
      "text/plain": [
       "array([ 2,  3,  4,  5,  6,  7,  8,  9, 10, 11])"
      ]
     },
     "execution_count": 136,
     "metadata": {},
     "output_type": "execute_result"
    }
   ],
   "source": [
    "arr1"
   ]
  },
  {
   "cell_type": "code",
   "execution_count": 137,
   "id": "47033b33",
   "metadata": {},
   "outputs": [
    {
     "data": {
      "text/plain": [
       "array([False, False, False,  True,  True,  True,  True,  True,  True,\n",
       "        True])"
      ]
     },
     "execution_count": 137,
     "metadata": {},
     "output_type": "execute_result"
    }
   ],
   "source": [
    "arr1 > 4"
   ]
  },
  {
   "cell_type": "code",
   "execution_count": 138,
   "id": "9eadd264",
   "metadata": {},
   "outputs": [
    {
     "data": {
      "text/plain": [
       "array([ True, False,  True, False,  True, False,  True, False,  True,\n",
       "       False])"
      ]
     },
     "execution_count": 138,
     "metadata": {},
     "output_type": "execute_result"
    }
   ],
   "source": [
    "arr1 % 2 == 0 "
   ]
  },
  {
   "cell_type": "markdown",
   "id": "2d584ad0",
   "metadata": {},
   "source": [
    "# 참/거짓 연산 "
   ]
  },
  {
   "cell_type": "code",
   "execution_count": 139,
   "id": "d095060d",
   "metadata": {},
   "outputs": [],
   "source": [
    "booleans = np.array([True,True,True,True, False,False,True])"
   ]
  },
  {
   "cell_type": "code",
   "execution_count": 140,
   "id": "1182b4a6",
   "metadata": {},
   "outputs": [
    {
     "data": {
      "text/plain": [
       "(array([0, 1, 2, 3, 6], dtype=int64),)"
      ]
     },
     "execution_count": 140,
     "metadata": {},
     "output_type": "execute_result"
    }
   ],
   "source": [
    "np.where(booleans) #해당하는 값만 출력 (False값에 해당하면 안나온다.)"
   ]
  },
  {
   "cell_type": "code",
   "execution_count": 141,
   "id": "9e73e996",
   "metadata": {},
   "outputs": [
    {
     "name": "stdout",
     "output_type": "stream",
     "text": [
      "[  1   2   3   4   5   6   7   8   9  10  11  12  13  14  15  16  17  18\n",
      "  19  20  21  22  23  24  25  26  27  28  29  30  31  32  33  34  35  36\n",
      "  37  38  39  40  41  42  43  44  45  46  47  48  49  50  51  52  53  54\n",
      "  55  56  57  58  59  60  61  62  63  64  65  66  67  68  69  70  71  72\n",
      "  73  74  75  76  77  78  79  80  81  82  83  84  85  86  87  88  89  90\n",
      "  91  92  93  94  95  96  97  98  99 100]\n"
     ]
    }
   ],
   "source": [
    "arr1 = np.arange(1,101) # 1~101사이의 모든 값 넣어준다.\n",
    "print(arr1)"
   ]
  },
  {
   "cell_type": "code",
   "execution_count": 142,
   "id": "ce5d3323",
   "metadata": {},
   "outputs": [
    {
     "name": "stdout",
     "output_type": "stream",
     "text": [
      "[ 3  6  9 12 15 18 21 24 27 30 33 36 39 42 45 48 51 54 57 60 63 66 69 72\n",
      " 75 78 81 84 87 90 93 96 99]\n"
     ]
    }
   ],
   "source": [
    "arr = np.arange(3,101,3) # 3과 101 사이에서 3간격으로 만들어준다.\n",
    "print(arr)"
   ]
  },
  {
   "cell_type": "markdown",
   "id": "16fa91fe",
   "metadata": {},
   "source": [
    "# 문제풀기"
   ]
  },
  {
   "cell_type": "markdown",
   "id": "16220ed5",
   "metadata": {},
   "source": [
    "#  엔화로 바꾸기"
   ]
  },
  {
   "cell_type": "code",
   "execution_count": 179,
   "id": "0c74f851",
   "metadata": {},
   "outputs": [],
   "source": [
    "import numpy as np\n",
    "\n",
    "revenue_in_yen = [\n",
    "    300000, 340000, 320000, 360000, \n",
    "    440000, 140000, 180000, 340000, \n",
    "    330000, 290000, 280000, 380000, \n",
    "    170000, 140000, 230000, 390000, \n",
    "    400000, 350000, 380000, 150000, \n",
    "    110000, 240000, 380000, 380000, \n",
    "    340000, 420000, 150000, 130000, \n",
    "    360000, 320000, 250000\n",
    "]"
   ]
  },
  {
   "cell_type": "code",
   "execution_count": 181,
   "id": "2c1ad74d",
   "metadata": {},
   "outputs": [
    {
     "data": {
      "text/plain": [
       "array([3024000., 3427200., 3225600., 3628800., 4435200., 1411200.,\n",
       "       1814400., 3427200., 3326400., 2923200., 2822400., 3830400.,\n",
       "       1713600., 1411200., 2318400., 3931200., 4032000., 3528000.,\n",
       "       3830400., 1512000., 1108800., 2419200., 3830400., 3830400.,\n",
       "       3427200., 4233600., 1512000., 1310400., 3628800., 3225600.,\n",
       "       2520000.])"
      ]
     },
     "execution_count": 181,
     "metadata": {},
     "output_type": "execute_result"
    }
   ],
   "source": [
    "won = np.array(revenue_in_yen) * 10.08 # 리스트이기 때문에 넘파이 array로 바꾼다. 환율 적용하여 계산\n",
    "won"
   ]
  },
  {
   "cell_type": "markdown",
   "id": "8b8a5fb4",
   "metadata": {},
   "source": [
    "# 달러와 엔 합치기"
   ]
  },
  {
   "cell_type": "code",
   "execution_count": 176,
   "id": "eed835bb",
   "metadata": {},
   "outputs": [],
   "source": [
    "revenue_in_dollar = [\n",
    "    1200, 1600, 1400, 1300, \n",
    "    2100, 1400, 1500, 2100, \n",
    "    1500, 1500, 2300, 2100, \n",
    "    2800, 2600, 1700, 1400, \n",
    "    2100, 2300, 1600, 1800, \n",
    "    2200, 2400, 2100, 2800, \n",
    "    1900, 2100, 1800, 2200, \n",
    "    2100, 1600, 1800\n",
    "]"
   ]
  },
  {
   "cell_type": "code",
   "execution_count": 147,
   "id": "2400badc",
   "metadata": {},
   "outputs": [],
   "source": [
    "won = (np.array(revenue_in_dollar) * 1138) + (np.array(revenue_in_yen) * 10.08) # 달러와 엔을 합쳐준다. 환율 적용"
   ]
  },
  {
   "cell_type": "code",
   "execution_count": 217,
   "id": "1ab75aa3",
   "metadata": {},
   "outputs": [],
   "source": [
    "won = won.astype(int) # int로 변환"
   ]
  },
  {
   "cell_type": "code",
   "execution_count": 218,
   "id": "82dbbefb",
   "metadata": {},
   "outputs": [
    {
     "name": "stdout",
     "output_type": "stream",
     "text": [
      "[3024000 3427200 3225600 3628800 4435200 1411200 1814400 3427200 3326400\n",
      " 2923200 2822400 3830400 1713600 1411200 2318400 3931200 4032000 3528000\n",
      " 3830400 1512000 1108800 2419200 3830400 3830400 3427200 4233600 1512000\n",
      " 1310400 3628800 3225600 2520000]\n"
     ]
    }
   ],
   "source": [
    "print(won)"
   ]
  },
  {
   "cell_type": "markdown",
   "id": "f52dcfda",
   "metadata": {},
   "source": [
    "# 20만엔 이상만 보고싶다. "
   ]
  },
  {
   "cell_type": "code",
   "execution_count": 225,
   "id": "4bc6f7f9",
   "metadata": {},
   "outputs": [],
   "source": [
    "import numpy as np\n",
    "\n",
    "revenue_in_yen = [\n",
    "    300000, 340000, 320000, 360000, \n",
    "    440000, 140000, 180000, 340000, \n",
    "    330000, 290000, 280000, 380000, \n",
    "    170000, 140000, 230000, 390000, \n",
    "    400000, 350000, 380000, 150000, \n",
    "    110000, 240000, 380000, 380000, \n",
    "    340000, 420000, 150000, 130000, \n",
    "    360000, 320000, 250000\n",
    "]"
   ]
  },
  {
   "cell_type": "code",
   "execution_count": 226,
   "id": "d90d861e",
   "metadata": {},
   "outputs": [
    {
     "data": {
      "text/plain": [
       "(array([ 5,  6, 12, 13, 19, 20, 26, 27], dtype=int64),)"
      ]
     },
     "execution_count": 226,
     "metadata": {},
     "output_type": "execute_result"
    }
   ],
   "source": [
    "filt = np.where(yen <= 200000) #위에서 yen에 데이터를 넣어놨기 때문에 filter를 만들어준다. 이렇게하면 맞는 값의 인덱스만 저장된다.\n",
    "filt"
   ]
  },
  {
   "cell_type": "code",
   "execution_count": 222,
   "id": "4ec02054",
   "metadata": {},
   "outputs": [
    {
     "data": {
      "text/plain": [
       "array([140000, 180000, 170000, 140000, 150000, 110000, 150000, 130000])"
      ]
     },
     "execution_count": 222,
     "metadata": {},
     "output_type": "execute_result"
    }
   ],
   "source": [
    "yen[filt] # 앞에서 배웠던 불른과 같이 won[filt]를 하게되면 filt안에 들어있는 인덱스 값이 들어가게되고 인덱스 값에 맞는 값만 출력된다."
   ]
  },
  {
   "cell_type": "markdown",
   "id": "b78e561e",
   "metadata": {},
   "source": [
    "# 데이터 타입 바꾸는 방법"
   ]
  },
  {
   "cell_type": "code",
   "execution_count": 227,
   "id": "f23e024c",
   "metadata": {},
   "outputs": [
    {
     "data": {
      "text/plain": [
       "array([300000, 340000, 320000, 360000, 440000, 140000, 180000, 340000,\n",
       "       330000, 290000, 280000, 380000, 170000, 140000, 230000, 390000,\n",
       "       400000, 350000, 380000, 150000, 110000, 240000, 380000, 380000,\n",
       "       340000, 420000, 150000, 130000, 360000, 320000, 250000])"
      ]
     },
     "execution_count": 227,
     "metadata": {},
     "output_type": "execute_result"
    }
   ],
   "source": [
    "yen = np.array(revenue_in_yen) # 엔 데이터를 넘파이 array로 변경\n",
    "yen"
   ]
  },
  {
   "cell_type": "markdown",
   "id": "1a2f7e17",
   "metadata": {},
   "source": [
    "#  두번째 방법"
   ]
  },
  {
   "cell_type": "code",
   "execution_count": 229,
   "id": "499ad67a",
   "metadata": {},
   "outputs": [],
   "source": [
    "import numpy as np\n",
    "\n",
    "revenue_in_yen = [\n",
    "    300000, 340000, 320000, 360000, \n",
    "    440000, 140000, 180000, 340000, \n",
    "    330000, 290000, 280000, 380000, \n",
    "    170000, 140000, 230000, 390000, \n",
    "    400000, 350000, 380000, 150000, \n",
    "    110000, 240000, 380000, 380000, \n",
    "    340000, 420000, 150000, 130000, \n",
    "    360000, 320000, 250000\n",
    "]"
   ]
  },
  {
   "cell_type": "code",
   "execution_count": 230,
   "id": "94e6d40d",
   "metadata": {},
   "outputs": [],
   "source": [
    "yen = np.array(revenue_in_yen) # 엔 데이터를 넘파이 array로 변경"
   ]
  },
  {
   "cell_type": "code",
   "execution_count": 231,
   "id": "f063ff14",
   "metadata": {},
   "outputs": [
    {
     "data": {
      "text/plain": [
       "array([False, False, False, False, False,  True,  True, False, False,\n",
       "       False, False, False,  True,  True, False, False, False, False,\n",
       "       False,  True,  True, False, False, False, False, False,  True,\n",
       "        True, False, False, False])"
      ]
     },
     "execution_count": 231,
     "metadata": {},
     "output_type": "execute_result"
    }
   ],
   "source": [
    "filter = yen <= 200000\n",
    "filter"
   ]
  },
  {
   "cell_type": "code",
   "execution_count": 232,
   "id": "a708d121",
   "metadata": {},
   "outputs": [
    {
     "data": {
      "text/plain": [
       "array([140000, 180000, 170000, 140000, 150000, 110000, 150000, 130000])"
      ]
     },
     "execution_count": 232,
     "metadata": {},
     "output_type": "execute_result"
    }
   ],
   "source": [
    "yen[filter]"
   ]
  },
  {
   "cell_type": "markdown",
   "id": "2d2c00d3",
   "metadata": {},
   "source": [
    "# 세번째 방법"
   ]
  },
  {
   "cell_type": "code",
   "execution_count": 233,
   "id": "e109e451",
   "metadata": {},
   "outputs": [],
   "source": [
    "import numpy as np\n",
    "\n",
    "revenue_in_yen = [\n",
    "    300000, 340000, 320000, 360000, \n",
    "    440000, 140000, 180000, 340000, \n",
    "    330000, 290000, 280000, 380000, \n",
    "    170000, 140000, 230000, 390000, \n",
    "    400000, 350000, 380000, 150000, \n",
    "    110000, 240000, 380000, 380000, \n",
    "    340000, 420000, 150000, 130000, \n",
    "    360000, 320000, 250000\n",
    "]"
   ]
  },
  {
   "cell_type": "code",
   "execution_count": 234,
   "id": "2748f677",
   "metadata": {},
   "outputs": [],
   "source": [
    "yen = np.array(revenue_in_yen) # 엔 데이터를 넘파이 array로 변경"
   ]
  },
  {
   "cell_type": "code",
   "execution_count": 235,
   "id": "74f9e2cc",
   "metadata": {},
   "outputs": [
    {
     "data": {
      "text/plain": [
       "array([140000, 180000, 170000, 140000, 150000, 110000, 150000, 130000])"
      ]
     },
     "execution_count": 235,
     "metadata": {},
     "output_type": "execute_result"
    }
   ],
   "source": [
    "yen[yen<= 200000]"
   ]
  },
  {
   "cell_type": "markdown",
   "id": "9948d9a3",
   "metadata": {},
   "source": [
    "# 최대값 최솟값"
   ]
  },
  {
   "cell_type": "code",
   "execution_count": 240,
   "id": "acb159a1",
   "metadata": {},
   "outputs": [
    {
     "name": "stdout",
     "output_type": "stream",
     "text": [
      "31\n",
      "5\n"
     ]
    }
   ],
   "source": [
    "import numpy as np\n",
    "\n",
    "array1 = np.array([14, 6, 13, 21, 23, 31, 9, 5])\n",
    "\n",
    "print(array1.max()) #최대값\n",
    "print(array1.min()) #최솟값"
   ]
  },
  {
   "cell_type": "markdown",
   "id": "0256c5a2",
   "metadata": {},
   "source": [
    "# 평균"
   ]
  },
  {
   "cell_type": "code",
   "execution_count": 241,
   "id": "bebbdedb",
   "metadata": {},
   "outputs": [
    {
     "name": "stdout",
     "output_type": "stream",
     "text": [
      "15.25\n"
     ]
    }
   ],
   "source": [
    "import numpy as np\n",
    "array1 = np.array([14, 6, 13, 21, 23, 31, 9, 5])\n",
    "print(array1.mean()) #평균"
   ]
  },
  {
   "cell_type": "markdown",
   "id": "76f42561",
   "metadata": {},
   "source": [
    "# 중앙값"
   ]
  },
  {
   "cell_type": "code",
   "execution_count": 242,
   "id": "df69b386",
   "metadata": {},
   "outputs": [
    {
     "name": "stdout",
     "output_type": "stream",
     "text": [
      "12.0\n",
      "13.5\n"
     ]
    }
   ],
   "source": [
    "import numpy as np\n",
    "array1 = np.array([8, 12, 9, 15, 16])\n",
    "array2 = np.array([14, 6, 13, 21, 23, 31, 9, 5])\n",
    "\n",
    "print(np.median(array1)) #중앙값\n",
    "print(np.median(array2)) #중앙값\n",
    "#평균은 모든 수들을 더해서 나눠주고 중앙값은 진짜 숫자들의 중앙에 있는 값"
   ]
  },
  {
   "cell_type": "markdown",
   "id": "5fc4971f",
   "metadata": {},
   "source": [
    "# numpy로 행렬 만들기"
   ]
  },
  {
   "cell_type": "code",
   "execution_count": 1,
   "id": "b1642b33",
   "metadata": {},
   "outputs": [],
   "source": [
    "import numpy as np # numpy불러오기"
   ]
  },
  {
   "cell_type": "code",
   "execution_count": 2,
   "id": "890746a0",
   "metadata": {},
   "outputs": [],
   "source": [
    "A = np.array([\n",
    "    [1, -1, 2],\n",
    "    [3, 2, 2],\n",
    "    [4, 1, 2],\n",
    "    [7, 5, 6]\n",
    "])             #행렬을 만들기 위해 numpy의 array 메소드 사용(4X3 행렬)"
   ]
  },
  {
   "cell_type": "code",
   "execution_count": 3,
   "id": "b0a1c72a",
   "metadata": {},
   "outputs": [
    {
     "data": {
      "text/plain": [
       "array([[ 1, -1,  2],\n",
       "       [ 3,  2,  2],\n",
       "       [ 4,  1,  2],\n",
       "       [ 7,  5,  6]])"
      ]
     },
     "execution_count": 3,
     "metadata": {},
     "output_type": "execute_result"
    }
   ],
   "source": [
    "A"
   ]
  },
  {
   "cell_type": "code",
   "execution_count": 4,
   "id": "92350c66",
   "metadata": {},
   "outputs": [],
   "source": [
    "B = np.array([\n",
    "    [1, 2],\n",
    "    [3, -4],\n",
    "    [-5, 6]\n",
    "])"
   ]
  },
  {
   "cell_type": "code",
   "execution_count": 5,
   "id": "80ac9746",
   "metadata": {},
   "outputs": [
    {
     "data": {
      "text/plain": [
       "array([[ 1,  2],\n",
       "       [ 3, -4],\n",
       "       [-5,  6]])"
      ]
     },
     "execution_count": 5,
     "metadata": {},
     "output_type": "execute_result"
    }
   ],
   "source": [
    "B"
   ]
  },
  {
   "cell_type": "code",
   "execution_count": 6,
   "id": "b6ee6ba1",
   "metadata": {},
   "outputs": [],
   "source": [
    "C = np.random.rand(3, 5) #행렬에 random값 넣어기, ()안에는 차원값을 넣어준다."
   ]
  },
  {
   "cell_type": "code",
   "execution_count": 8,
   "id": "ec71d11b",
   "metadata": {},
   "outputs": [
    {
     "data": {
      "text/plain": [
       "array([[4.51017609e-01, 9.89843980e-01, 9.68834294e-01, 2.99321163e-01,\n",
       "        9.76763644e-04],\n",
       "       [1.82285598e-01, 4.33489167e-02, 4.76171374e-01, 1.87990600e-01,\n",
       "        8.06752766e-01],\n",
       "       [8.15570376e-01, 6.47367359e-01, 1.18147300e-01, 1.45966930e-01,\n",
       "        4.43998476e-01]])"
      ]
     },
     "execution_count": 8,
     "metadata": {},
     "output_type": "execute_result"
    }
   ],
   "source": [
    "C"
   ]
  },
  {
   "cell_type": "code",
   "execution_count": 9,
   "id": "b3f2db21",
   "metadata": {},
   "outputs": [],
   "source": [
    "D = np.zeros((2,4)) # 모든값이 0 인 행렬 만들때, ()안에 차원값 넣기"
   ]
  },
  {
   "cell_type": "code",
   "execution_count": 10,
   "id": "3716a69d",
   "metadata": {},
   "outputs": [
    {
     "data": {
      "text/plain": [
       "array([[0., 0., 0., 0.],\n",
       "       [0., 0., 0., 0.]])"
      ]
     },
     "execution_count": 10,
     "metadata": {},
     "output_type": "execute_result"
    }
   ],
   "source": [
    "D"
   ]
  },
  {
   "cell_type": "code",
   "execution_count": 11,
   "id": "2279d473",
   "metadata": {},
   "outputs": [
    {
     "data": {
      "text/plain": [
       "array([[ 1, -1,  2],\n",
       "       [ 3,  2,  2],\n",
       "       [ 4,  1,  2],\n",
       "       [ 7,  5,  6]])"
      ]
     },
     "execution_count": 11,
     "metadata": {},
     "output_type": "execute_result"
    }
   ],
   "source": [
    "A"
   ]
  },
  {
   "cell_type": "code",
   "execution_count": 12,
   "id": "7f219dfb",
   "metadata": {},
   "outputs": [
    {
     "data": {
      "text/plain": [
       "2"
      ]
     },
     "execution_count": 12,
     "metadata": {},
     "output_type": "execute_result"
    }
   ],
   "source": [
    "A[0][2]   #행렬 A의 1X3을 받아오고 싶을 때, Python은 0부터 시작한다."
   ]
  },
  {
   "cell_type": "markdown",
   "id": "31b9987d",
   "metadata": {},
   "source": [
    "# 문제"
   ]
  },
  {
   "cell_type": "markdown",
   "id": "c4beb49c",
   "metadata": {},
   "source": [
    "## 1. 4X3 행렬 A를 numpy array로 정의해보기"
   ]
  },
  {
   "cell_type": "code",
   "execution_count": 13,
   "id": "bca0c9ce",
   "metadata": {},
   "outputs": [
    {
     "data": {
      "text/plain": [
       "[[1, 2, 3], [-1, 0, 2], [3, 4, 5], [2, -2, -3]]"
      ]
     },
     "execution_count": 13,
     "metadata": {},
     "output_type": "execute_result"
    }
   ],
   "source": [
    "A = ([\n",
    "    [1, 2, 3],\n",
    "    [-1, 0, 2],\n",
    "    [3, 4, 5],\n",
    "    [2, -2, -3]\n",
    "])\n",
    "A"
   ]
  },
  {
   "cell_type": "markdown",
   "id": "272ce0b3",
   "metadata": {},
   "source": [
    "## 2. 3X2행렬 B를 numpy array로 정의해보기"
   ]
  },
  {
   "cell_type": "code",
   "execution_count": 14,
   "id": "a7f9c0d5",
   "metadata": {},
   "outputs": [
    {
     "data": {
      "text/plain": [
       "[[0, 2], [1, -2], [3, -4]]"
      ]
     },
     "execution_count": 14,
     "metadata": {},
     "output_type": "execute_result"
    }
   ],
   "source": [
    "B = ([\n",
    "    [0, 2],\n",
    "    [1, -2],\n",
    "    [3, -4]\n",
    "])\n",
    "B"
   ]
  },
  {
   "cell_type": "markdown",
   "id": "4922cc2e",
   "metadata": {},
   "source": [
    "## 정의한 행렬 A의 2행2열 원소 찾기 "
   ]
  },
  {
   "cell_type": "code",
   "execution_count": 15,
   "id": "cb806e0e",
   "metadata": {},
   "outputs": [
    {
     "data": {
      "text/plain": [
       "0"
      ]
     },
     "execution_count": 15,
     "metadata": {},
     "output_type": "execute_result"
    }
   ],
   "source": [
    "A[1][1]"
   ]
  },
  {
   "cell_type": "markdown",
   "id": "d710650d",
   "metadata": {},
   "source": [
    "## 정의한 행렬 B의 3행 1열 원소 찾기"
   ]
  },
  {
   "cell_type": "code",
   "execution_count": 16,
   "id": "af9923f7",
   "metadata": {},
   "outputs": [
    {
     "data": {
      "text/plain": [
       "3"
      ]
     },
     "execution_count": 16,
     "metadata": {},
     "output_type": "execute_result"
    }
   ],
   "source": [
    "B[2][0]"
   ]
  },
  {
   "cell_type": "code",
   "execution_count": null,
   "id": "1a94a511",
   "metadata": {},
   "outputs": [],
   "source": []
  }
 ],
 "metadata": {
  "kernelspec": {
   "display_name": "Python 3",
   "language": "python",
   "name": "python3"
  },
  "language_info": {
   "codemirror_mode": {
    "name": "ipython",
    "version": 3
   },
   "file_extension": ".py",
   "mimetype": "text/x-python",
   "name": "python",
   "nbconvert_exporter": "python",
   "pygments_lexer": "ipython3",
   "version": "3.8.8"
  }
 },
 "nbformat": 4,
 "nbformat_minor": 5
}
