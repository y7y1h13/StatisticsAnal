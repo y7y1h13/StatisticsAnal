{
 "cells": [
  {
   "cell_type": "code",
   "execution_count": 61,
   "id": "52bfc658",
   "metadata": {},
   "outputs": [],
   "source": [
    "import pandas as pd\n",
    "import matplotlib.pyplot as plt\n",
    "from matplotlib import font_manager, rc\n",
    "import matplotlib\n",
    "import platform\n",
    "if platform.system() == 'Windows':\n",
    "    matplotlib.rc('font', family='Malgun Gothic')\n",
    "    #Malgun \n",
    "%matplotlib inline"
   ]
  },
  {
   "cell_type": "code",
   "execution_count": 62,
   "id": "4d69288e",
   "metadata": {},
   "outputs": [],
   "source": [
    "df = pd.read_csv('data2/sen_acc.txt')"
   ]
  },
  {
   "cell_type": "code",
   "execution_count": 63,
   "id": "94085727",
   "metadata": {},
   "outputs": [
    {
     "data": {
      "text/html": [
       "<div>\n",
       "<style scoped>\n",
       "    .dataframe tbody tr th:only-of-type {\n",
       "        vertical-align: middle;\n",
       "    }\n",
       "\n",
       "    .dataframe tbody tr th {\n",
       "        vertical-align: top;\n",
       "    }\n",
       "\n",
       "    .dataframe thead th {\n",
       "        text-align: right;\n",
       "    }\n",
       "</style>\n",
       "<table border=\"1\" class=\"dataframe\">\n",
       "  <thead>\n",
       "    <tr style=\"text-align: right;\">\n",
       "      <th></th>\n",
       "      <th>0</th>\n",
       "      <th>1</th>\n",
       "      <th>2</th>\n",
       "      <th>3</th>\n",
       "      <th>4</th>\n",
       "      <th>5</th>\n",
       "      <th>6</th>\n",
       "      <th>7</th>\n",
       "      <th>8</th>\n",
       "      <th>9</th>\n",
       "      <th>10</th>\n",
       "      <th>11</th>\n",
       "      <th>12</th>\n",
       "      <th>13</th>\n",
       "    </tr>\n",
       "  </thead>\n",
       "  <tbody>\n",
       "    <tr>\n",
       "      <th>Unnamed: 0</th>\n",
       "      <td>0</td>\n",
       "      <td>1</td>\n",
       "      <td>2</td>\n",
       "      <td>3</td>\n",
       "      <td>4</td>\n",
       "      <td>5</td>\n",
       "      <td>6</td>\n",
       "      <td>7</td>\n",
       "      <td>8</td>\n",
       "      <td>9</td>\n",
       "      <td>10</td>\n",
       "      <td>11</td>\n",
       "      <td>12</td>\n",
       "      <td>13</td>\n",
       "    </tr>\n",
       "    <tr>\n",
       "      <th>지정일</th>\n",
       "      <td>2007</td>\n",
       "      <td>2008</td>\n",
       "      <td>2009</td>\n",
       "      <td>2010</td>\n",
       "      <td>2011</td>\n",
       "      <td>2012</td>\n",
       "      <td>2013</td>\n",
       "      <td>2014</td>\n",
       "      <td>2015</td>\n",
       "      <td>2016</td>\n",
       "      <td>2017</td>\n",
       "      <td>2018</td>\n",
       "      <td>2019</td>\n",
       "      <td>2020</td>\n",
       "    </tr>\n",
       "    <tr>\n",
       "      <th>합계</th>\n",
       "      <td>2642</td>\n",
       "      <td>3100</td>\n",
       "      <td>3609</td>\n",
       "      <td>3528</td>\n",
       "      <td>3733</td>\n",
       "      <td>4197</td>\n",
       "      <td>4492</td>\n",
       "      <td>5009</td>\n",
       "      <td>5388</td>\n",
       "      <td>5219</td>\n",
       "      <td>5357</td>\n",
       "      <td>5761</td>\n",
       "      <td>5912</td>\n",
       "      <td>5056</td>\n",
       "    </tr>\n",
       "    <tr>\n",
       "      <th>종로구</th>\n",
       "      <td>108</td>\n",
       "      <td>101</td>\n",
       "      <td>122</td>\n",
       "      <td>139</td>\n",
       "      <td>148</td>\n",
       "      <td>144</td>\n",
       "      <td>143</td>\n",
       "      <td>140</td>\n",
       "      <td>168</td>\n",
       "      <td>173</td>\n",
       "      <td>192</td>\n",
       "      <td>191</td>\n",
       "      <td>184</td>\n",
       "      <td>147</td>\n",
       "    </tr>\n",
       "    <tr>\n",
       "      <th>중구</th>\n",
       "      <td>82</td>\n",
       "      <td>95</td>\n",
       "      <td>140</td>\n",
       "      <td>124</td>\n",
       "      <td>134</td>\n",
       "      <td>143</td>\n",
       "      <td>145</td>\n",
       "      <td>162</td>\n",
       "      <td>165</td>\n",
       "      <td>139</td>\n",
       "      <td>156</td>\n",
       "      <td>164</td>\n",
       "      <td>151</td>\n",
       "      <td>161</td>\n",
       "    </tr>\n",
       "  </tbody>\n",
       "</table>\n",
       "</div>"
      ],
      "text/plain": [
       "              0     1     2     3     4     5     6     7     8     9     10  \\\n",
       "Unnamed: 0     0     1     2     3     4     5     6     7     8     9    10   \n",
       "지정일         2007  2008  2009  2010  2011  2012  2013  2014  2015  2016  2017   \n",
       "합계          2642  3100  3609  3528  3733  4197  4492  5009  5388  5219  5357   \n",
       "종로구          108   101   122   139   148   144   143   140   168   173   192   \n",
       "중구            82    95   140   124   134   143   145   162   165   139   156   \n",
       "\n",
       "              11    12    13  \n",
       "Unnamed: 0    11    12    13  \n",
       "지정일         2018  2019  2020  \n",
       "합계          5761  5912  5056  \n",
       "종로구          191   184   147  \n",
       "중구           164   151   161  "
      ]
     },
     "execution_count": 63,
     "metadata": {},
     "output_type": "execute_result"
    }
   ],
   "source": [
    "df = df.T\n",
    "df.head()"
   ]
  },
  {
   "cell_type": "code",
   "execution_count": 64,
   "id": "7a988647",
   "metadata": {},
   "outputs": [],
   "source": [
    "df.drop('Unnamed: 0',inplace=True)"
   ]
  },
  {
   "cell_type": "code",
   "execution_count": 65,
   "id": "f95747bd",
   "metadata": {},
   "outputs": [
    {
     "data": {
      "text/html": [
       "<div>\n",
       "<style scoped>\n",
       "    .dataframe tbody tr th:only-of-type {\n",
       "        vertical-align: middle;\n",
       "    }\n",
       "\n",
       "    .dataframe tbody tr th {\n",
       "        vertical-align: top;\n",
       "    }\n",
       "\n",
       "    .dataframe thead th {\n",
       "        text-align: right;\n",
       "    }\n",
       "</style>\n",
       "<table border=\"1\" class=\"dataframe\">\n",
       "  <thead>\n",
       "    <tr style=\"text-align: right;\">\n",
       "      <th></th>\n",
       "      <th>0</th>\n",
       "      <th>1</th>\n",
       "      <th>2</th>\n",
       "      <th>3</th>\n",
       "      <th>4</th>\n",
       "      <th>5</th>\n",
       "      <th>6</th>\n",
       "      <th>7</th>\n",
       "      <th>8</th>\n",
       "      <th>9</th>\n",
       "      <th>10</th>\n",
       "      <th>11</th>\n",
       "      <th>12</th>\n",
       "      <th>13</th>\n",
       "    </tr>\n",
       "  </thead>\n",
       "  <tbody>\n",
       "    <tr>\n",
       "      <th>지정일</th>\n",
       "      <td>2007</td>\n",
       "      <td>2008</td>\n",
       "      <td>2009</td>\n",
       "      <td>2010</td>\n",
       "      <td>2011</td>\n",
       "      <td>2012</td>\n",
       "      <td>2013</td>\n",
       "      <td>2014</td>\n",
       "      <td>2015</td>\n",
       "      <td>2016</td>\n",
       "      <td>2017</td>\n",
       "      <td>2018</td>\n",
       "      <td>2019</td>\n",
       "      <td>2020</td>\n",
       "    </tr>\n",
       "    <tr>\n",
       "      <th>합계</th>\n",
       "      <td>2642</td>\n",
       "      <td>3100</td>\n",
       "      <td>3609</td>\n",
       "      <td>3528</td>\n",
       "      <td>3733</td>\n",
       "      <td>4197</td>\n",
       "      <td>4492</td>\n",
       "      <td>5009</td>\n",
       "      <td>5388</td>\n",
       "      <td>5219</td>\n",
       "      <td>5357</td>\n",
       "      <td>5761</td>\n",
       "      <td>5912</td>\n",
       "      <td>5056</td>\n",
       "    </tr>\n",
       "    <tr>\n",
       "      <th>종로구</th>\n",
       "      <td>108</td>\n",
       "      <td>101</td>\n",
       "      <td>122</td>\n",
       "      <td>139</td>\n",
       "      <td>148</td>\n",
       "      <td>144</td>\n",
       "      <td>143</td>\n",
       "      <td>140</td>\n",
       "      <td>168</td>\n",
       "      <td>173</td>\n",
       "      <td>192</td>\n",
       "      <td>191</td>\n",
       "      <td>184</td>\n",
       "      <td>147</td>\n",
       "    </tr>\n",
       "    <tr>\n",
       "      <th>중구</th>\n",
       "      <td>82</td>\n",
       "      <td>95</td>\n",
       "      <td>140</td>\n",
       "      <td>124</td>\n",
       "      <td>134</td>\n",
       "      <td>143</td>\n",
       "      <td>145</td>\n",
       "      <td>162</td>\n",
       "      <td>165</td>\n",
       "      <td>139</td>\n",
       "      <td>156</td>\n",
       "      <td>164</td>\n",
       "      <td>151</td>\n",
       "      <td>161</td>\n",
       "    </tr>\n",
       "    <tr>\n",
       "      <th>용산구</th>\n",
       "      <td>88</td>\n",
       "      <td>84</td>\n",
       "      <td>115</td>\n",
       "      <td>114</td>\n",
       "      <td>87</td>\n",
       "      <td>119</td>\n",
       "      <td>137</td>\n",
       "      <td>158</td>\n",
       "      <td>169</td>\n",
       "      <td>167</td>\n",
       "      <td>163</td>\n",
       "      <td>170</td>\n",
       "      <td>144</td>\n",
       "      <td>95</td>\n",
       "    </tr>\n",
       "  </tbody>\n",
       "</table>\n",
       "</div>"
      ],
      "text/plain": [
       "       0     1     2     3     4     5     6     7     8     9     10    11  \\\n",
       "지정일  2007  2008  2009  2010  2011  2012  2013  2014  2015  2016  2017  2018   \n",
       "합계   2642  3100  3609  3528  3733  4197  4492  5009  5388  5219  5357  5761   \n",
       "종로구   108   101   122   139   148   144   143   140   168   173   192   191   \n",
       "중구     82    95   140   124   134   143   145   162   165   139   156   164   \n",
       "용산구    88    84   115   114    87   119   137   158   169   167   163   170   \n",
       "\n",
       "       12    13  \n",
       "지정일  2019  2020  \n",
       "합계   5912  5056  \n",
       "종로구   184   147  \n",
       "중구    151   161  \n",
       "용산구   144    95  "
      ]
     },
     "execution_count": 65,
     "metadata": {},
     "output_type": "execute_result"
    }
   ],
   "source": [
    "df.head()"
   ]
  },
  {
   "cell_type": "code",
   "execution_count": null,
   "id": "d81cd9b1",
   "metadata": {},
   "outputs": [],
   "source": []
  },
  {
   "cell_type": "code",
   "execution_count": null,
   "id": "59d314af",
   "metadata": {},
   "outputs": [],
   "source": []
  },
  {
   "cell_type": "code",
   "execution_count": null,
   "id": "6ad9948b",
   "metadata": {},
   "outputs": [],
   "source": []
  },
  {
   "cell_type": "code",
   "execution_count": 66,
   "id": "ea7b78ac",
   "metadata": {},
   "outputs": [],
   "source": [
    "df.drop('합계',inplace=True)"
   ]
  },
  {
   "cell_type": "code",
   "execution_count": 67,
   "id": "0dc36fa0",
   "metadata": {},
   "outputs": [],
   "source": [
    "df = df[[11,12,13]]"
   ]
  },
  {
   "cell_type": "code",
   "execution_count": 68,
   "id": "9a3a432f",
   "metadata": {},
   "outputs": [
    {
     "data": {
      "text/html": [
       "<div>\n",
       "<style scoped>\n",
       "    .dataframe tbody tr th:only-of-type {\n",
       "        vertical-align: middle;\n",
       "    }\n",
       "\n",
       "    .dataframe tbody tr th {\n",
       "        vertical-align: top;\n",
       "    }\n",
       "\n",
       "    .dataframe thead th {\n",
       "        text-align: right;\n",
       "    }\n",
       "</style>\n",
       "<table border=\"1\" class=\"dataframe\">\n",
       "  <thead>\n",
       "    <tr style=\"text-align: right;\">\n",
       "      <th></th>\n",
       "      <th>11</th>\n",
       "      <th>12</th>\n",
       "      <th>13</th>\n",
       "    </tr>\n",
       "  </thead>\n",
       "  <tbody>\n",
       "    <tr>\n",
       "      <th>지정일</th>\n",
       "      <td>2018</td>\n",
       "      <td>2019</td>\n",
       "      <td>2020</td>\n",
       "    </tr>\n",
       "    <tr>\n",
       "      <th>종로구</th>\n",
       "      <td>191</td>\n",
       "      <td>184</td>\n",
       "      <td>147</td>\n",
       "    </tr>\n",
       "    <tr>\n",
       "      <th>중구</th>\n",
       "      <td>164</td>\n",
       "      <td>151</td>\n",
       "      <td>161</td>\n",
       "    </tr>\n",
       "    <tr>\n",
       "      <th>용산구</th>\n",
       "      <td>170</td>\n",
       "      <td>144</td>\n",
       "      <td>95</td>\n",
       "    </tr>\n",
       "    <tr>\n",
       "      <th>성동구</th>\n",
       "      <td>158</td>\n",
       "      <td>162</td>\n",
       "      <td>158</td>\n",
       "    </tr>\n",
       "  </tbody>\n",
       "</table>\n",
       "</div>"
      ],
      "text/plain": [
       "       11    12    13\n",
       "지정일  2018  2019  2020\n",
       "종로구   191   184   147\n",
       "중구    164   151   161\n",
       "용산구   170   144    95\n",
       "성동구   158   162   158"
      ]
     },
     "execution_count": 68,
     "metadata": {},
     "output_type": "execute_result"
    }
   ],
   "source": [
    "df.head()"
   ]
  },
  {
   "cell_type": "code",
   "execution_count": 69,
   "id": "66744782",
   "metadata": {},
   "outputs": [],
   "source": [
    "df.columns = ['2018','2019','2020']"
   ]
  },
  {
   "cell_type": "code",
   "execution_count": 70,
   "id": "9ae8602a",
   "metadata": {},
   "outputs": [],
   "source": [
    "df.drop('지정일',inplace=True)"
   ]
  },
  {
   "cell_type": "code",
   "execution_count": null,
   "id": "e9d9ae20",
   "metadata": {},
   "outputs": [],
   "source": []
  },
  {
   "cell_type": "code",
   "execution_count": 83,
   "id": "784be85d",
   "metadata": {},
   "outputs": [],
   "source": [
    "df_18 = df.sort_values('2018',ascending=False)\n",
    "df_19 = df.sort_values('2019',ascending=False)\n",
    "df_20 = df.sort_values('2020',ascending=False)"
   ]
  },
  {
   "cell_type": "code",
   "execution_count": 111,
   "id": "edd4cf0a",
   "metadata": {},
   "outputs": [],
   "source": [
    "df_18 = df_18[0:5]\n",
    "df_19 = df_19[0:5]\n",
    "df_20 = df_20[0:5]"
   ]
  },
  {
   "cell_type": "code",
   "execution_count": 119,
   "id": "5517176b",
   "metadata": {},
   "outputs": [
    {
     "name": "stderr",
     "output_type": "stream",
     "text": [
      "C:\\ProgramData\\Anaconda3\\lib\\site-packages\\pandas\\core\\frame.py:4308: SettingWithCopyWarning: \n",
      "A value is trying to be set on a copy of a slice from a DataFrame\n",
      "\n",
      "See the caveats in the documentation: https://pandas.pydata.org/pandas-docs/stable/user_guide/indexing.html#returning-a-view-versus-a-copy\n",
      "  return super().drop(\n"
     ]
    }
   ],
   "source": [
    "df_18.drop(['2019','2020'],axis=1,inplace=True)"
   ]
  },
  {
   "cell_type": "code",
   "execution_count": 120,
   "id": "8c231e6f",
   "metadata": {},
   "outputs": [],
   "source": [
    "df_19.drop(['2018','2020'],axis=1,inplace=True)\n",
    "df_20.drop(['2018','2019'],axis=1,inplace=True)"
   ]
  },
  {
   "cell_type": "code",
   "execution_count": 124,
   "id": "1d8ed4c4",
   "metadata": {},
   "outputs": [
    {
     "data": {
      "text/html": [
       "<div>\n",
       "<style scoped>\n",
       "    .dataframe tbody tr th:only-of-type {\n",
       "        vertical-align: middle;\n",
       "    }\n",
       "\n",
       "    .dataframe tbody tr th {\n",
       "        vertical-align: top;\n",
       "    }\n",
       "\n",
       "    .dataframe thead th {\n",
       "        text-align: right;\n",
       "    }\n",
       "</style>\n",
       "<table border=\"1\" class=\"dataframe\">\n",
       "  <thead>\n",
       "    <tr style=\"text-align: right;\">\n",
       "      <th></th>\n",
       "      <th>2020</th>\n",
       "    </tr>\n",
       "  </thead>\n",
       "  <tbody>\n",
       "    <tr>\n",
       "      <th>강남구</th>\n",
       "      <td>359</td>\n",
       "    </tr>\n",
       "    <tr>\n",
       "      <th>송파구</th>\n",
       "      <td>336</td>\n",
       "    </tr>\n",
       "    <tr>\n",
       "      <th>영등포구</th>\n",
       "      <td>296</td>\n",
       "    </tr>\n",
       "    <tr>\n",
       "      <th>동대문구</th>\n",
       "      <td>289</td>\n",
       "    </tr>\n",
       "    <tr>\n",
       "      <th>서초구</th>\n",
       "      <td>247</td>\n",
       "    </tr>\n",
       "  </tbody>\n",
       "</table>\n",
       "</div>"
      ],
      "text/plain": [
       "      2020\n",
       "강남구    359\n",
       "송파구    336\n",
       "영등포구   296\n",
       "동대문구   289\n",
       "서초구    247"
      ]
     },
     "execution_count": 124,
     "metadata": {},
     "output_type": "execute_result"
    }
   ],
   "source": []
  },
  {
   "cell_type": "code",
   "execution_count": 126,
   "id": "d8578e57",
   "metadata": {},
   "outputs": [],
   "source": [
    "df_18.to_csv('data2/노인교통사고_2018.csv',encoding='utf-8')\n",
    "df_19.to_csv('data2/노인교통사고_2019.csv')\n",
    "df_20.to_csv('data2/노인교통사고_2020.csv')"
   ]
  },
  {
   "cell_type": "code",
   "execution_count": 116,
   "id": "b3509d20",
   "metadata": {
    "collapsed": true
   },
   "outputs": [
    {
     "data": {
      "image/png": "[encoded data removed]",
      "text/plain": [
       "<Figure size 1008x504 with 1 Axes>"
      ]
     },
     "metadata": {},
     "output_type": "display_data"
    }
   ],
   "source": [
    "plt.rcParams[\"figure.figsize\"] = (14,7)\n",
    "plt.rcParams['font.size'] = 12\n",
    "plt.pie(df_18['2018'],labels=df_18.index,autopct='%.1f%%')\n",
    "plt.title('2018년도 노인교통사고')\n",
    "plt.show()"
   ]
  },
  {
   "cell_type": "code",
   "execution_count": 43,
   "id": "cf85b442",
   "metadata": {},
   "outputs": [],
   "source": [
    "df.to_csv('data2/노인교통사고 3년.csv')"
   ]
  },
  {
   "cell_type": "code",
   "execution_count": 118,
   "id": "c6891d14",
   "metadata": {
    "collapsed": true
   },
   "outputs": [
    {
     "data": {
      "image/png": "[encoded data removed]",
      "text/plain": [
       "<Figure size 1008x504 with 1 Axes>"
      ]
     },
     "metadata": {},
     "output_type": "display_data"
    }
   ],
   "source": [
    "plt.pie(df_19['2019'],labels=df_19.index,autopct='%.1f%%')\n",
    "plt.title('2019년도 노인교통사고')\n",
    "plt.show()"
   ]
  },
  {
   "cell_type": "code",
   "execution_count": 117,
   "id": "2955a63f",
   "metadata": {
    "collapsed": true
   },
   "outputs": [
    {
     "data": {
      "image/png": "[encoded data removed]",
      "text/plain": [
       "<Figure size 1008x504 with 1 Axes>"
      ]
     },
     "metadata": {},
     "output_type": "display_data"
    }
   ],
   "source": [
    "plt.pie(df_20['2020'],labels=df_20.index,autopct='%.1f%%')\n",
    "plt.title('2020년도 노인교통사고')\n",
    "plt.show()"
   ]
  },
  {
   "cell_type": "code",
   "execution_count": null,
   "id": "efcc71bd",
   "metadata": {},
   "outputs": [],
   "source": []
  }
 ],
 "metadata": {
  "kernelspec": {
   "display_name": "Python 3",
   "language": "python",
   "name": "python3"
  },
  "language_info": {
   "codemirror_mode": {
    "name": "ipython",
    "version": 3
   },
   "file_extension": ".py",
   "mimetype": "text/x-python",
   "name": "python",
   "nbconvert_exporter": "python",
   "pygments_lexer": "ipython3",
   "version": "3.8.8"
  }
 },
 "nbformat": 4,
 "nbformat_minor": 5
}
