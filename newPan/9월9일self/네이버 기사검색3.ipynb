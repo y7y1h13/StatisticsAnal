{
 "cells": [
  {
   "cell_type": "markdown",
   "id": "7a1d270b",
   "metadata": {},
   "source": [
    "# 한페이지만 검색"
   ]
  },
  {
   "cell_type": "code",
   "execution_count": 1,
   "id": "690b4ae0",
   "metadata": {},
   "outputs": [
    {
     "ename": "KeyboardInterrupt",
     "evalue": "Interrupted by user",
     "output_type": "error",
     "traceback": [
      "\u001b[1;31m---------------------------------------------------------------------------\u001b[0m",
      "\u001b[1;31mKeyboardInterrupt\u001b[0m                         Traceback (most recent call last)",
      "\u001b[1;32m<ipython-input-1-17bae9acfa60>\u001b[0m in \u001b[0;36m<module>\u001b[1;34m\u001b[0m\n\u001b[0;32m      4\u001b[0m \u001b[1;32mimport\u001b[0m \u001b[0mre\u001b[0m\u001b[1;33m\u001b[0m\u001b[1;33m\u001b[0m\u001b[0m\n\u001b[0;32m      5\u001b[0m \u001b[1;33m\u001b[0m\u001b[0m\n\u001b[1;32m----> 6\u001b[1;33m \u001b[0mkeyword\u001b[0m \u001b[1;33m=\u001b[0m \u001b[0minput\u001b[0m\u001b[1;33m(\u001b[0m\u001b[1;34m'검색하실 키워드를 입력하세요(ex:커피,코로나...) : '\u001b[0m\u001b[1;33m)\u001b[0m\u001b[1;33m\u001b[0m\u001b[1;33m\u001b[0m\u001b[0m\n\u001b[0m\u001b[0;32m      7\u001b[0m \u001b[0mkeyword1\u001b[0m \u001b[1;33m=\u001b[0m \u001b[0murllib\u001b[0m\u001b[1;33m.\u001b[0m\u001b[0mparse\u001b[0m\u001b[1;33m.\u001b[0m\u001b[0mquote\u001b[0m\u001b[1;33m(\u001b[0m\u001b[0mkeyword\u001b[0m\u001b[1;33m)\u001b[0m\u001b[1;33m\u001b[0m\u001b[1;33m\u001b[0m\u001b[0m\n\u001b[0;32m      8\u001b[0m \u001b[1;33m\u001b[0m\u001b[0m\n",
      "\u001b[1;32mC:\\ProgramData\\Anaconda3\\lib\\site-packages\\ipykernel\\kernelbase.py\u001b[0m in \u001b[0;36mraw_input\u001b[1;34m(self, prompt)\u001b[0m\n\u001b[0;32m    858\u001b[0m                 \u001b[1;34m\"raw_input was called, but this frontend does not support input requests.\"\u001b[0m\u001b[1;33m\u001b[0m\u001b[1;33m\u001b[0m\u001b[0m\n\u001b[0;32m    859\u001b[0m             )\n\u001b[1;32m--> 860\u001b[1;33m         return self._input_request(str(prompt),\n\u001b[0m\u001b[0;32m    861\u001b[0m             \u001b[0mself\u001b[0m\u001b[1;33m.\u001b[0m\u001b[0m_parent_ident\u001b[0m\u001b[1;33m,\u001b[0m\u001b[1;33m\u001b[0m\u001b[1;33m\u001b[0m\u001b[0m\n\u001b[0;32m    862\u001b[0m             \u001b[0mself\u001b[0m\u001b[1;33m.\u001b[0m\u001b[0m_parent_header\u001b[0m\u001b[1;33m,\u001b[0m\u001b[1;33m\u001b[0m\u001b[1;33m\u001b[0m\u001b[0m\n",
      "\u001b[1;32mC:\\ProgramData\\Anaconda3\\lib\\site-packages\\ipykernel\\kernelbase.py\u001b[0m in \u001b[0;36m_input_request\u001b[1;34m(self, prompt, ident, parent, password)\u001b[0m\n\u001b[0;32m    902\u001b[0m             \u001b[1;32mexcept\u001b[0m \u001b[0mKeyboardInterrupt\u001b[0m\u001b[1;33m:\u001b[0m\u001b[1;33m\u001b[0m\u001b[1;33m\u001b[0m\u001b[0m\n\u001b[0;32m    903\u001b[0m                 \u001b[1;31m# re-raise KeyboardInterrupt, to truncate traceback\u001b[0m\u001b[1;33m\u001b[0m\u001b[1;33m\u001b[0m\u001b[1;33m\u001b[0m\u001b[0m\n\u001b[1;32m--> 904\u001b[1;33m                 \u001b[1;32mraise\u001b[0m \u001b[0mKeyboardInterrupt\u001b[0m\u001b[1;33m(\u001b[0m\u001b[1;34m\"Interrupted by user\"\u001b[0m\u001b[1;33m)\u001b[0m \u001b[1;32mfrom\u001b[0m \u001b[1;32mNone\u001b[0m\u001b[1;33m\u001b[0m\u001b[1;33m\u001b[0m\u001b[0m\n\u001b[0m\u001b[0;32m    905\u001b[0m             \u001b[1;32mexcept\u001b[0m \u001b[0mException\u001b[0m \u001b[1;32mas\u001b[0m \u001b[0me\u001b[0m\u001b[1;33m:\u001b[0m\u001b[1;33m\u001b[0m\u001b[1;33m\u001b[0m\u001b[0m\n\u001b[0;32m    906\u001b[0m                 \u001b[0mself\u001b[0m\u001b[1;33m.\u001b[0m\u001b[0mlog\u001b[0m\u001b[1;33m.\u001b[0m\u001b[0mwarning\u001b[0m\u001b[1;33m(\u001b[0m\u001b[1;34m\"Invalid Message:\"\u001b[0m\u001b[1;33m,\u001b[0m \u001b[0mexc_info\u001b[0m\u001b[1;33m=\u001b[0m\u001b[1;32mTrue\u001b[0m\u001b[1;33m)\u001b[0m\u001b[1;33m\u001b[0m\u001b[1;33m\u001b[0m\u001b[0m\n",
      "\u001b[1;31mKeyboardInterrupt\u001b[0m: Interrupted by user"
     ]
    }
   ],
   "source": [
    "import requests\n",
    "from bs4 import BeautifulSoup\n",
    "import urllib\n",
    "import re\n",
    "\n",
    "keyword = input('검색하실 키워드를 입력하세요(ex:커피,코로나...) : ')\n",
    "keyword1 = urllib.parse.quote(keyword)\n",
    "\n",
    "\n",
    "headers = {'User-Agent' : 'mozilla/5.0', 'Accept-Encoding':'gzip,deflate','Accept':'*/*','Connection':'keep-alive'}\n",
    "page = requests.get('https://search.naver.com/search.naver?where=news&sm=tab_jum&query={0}'.format(keyword1))\n",
    "html = page.text\n",
    "\n",
    "soup = BeautifulSoup(html, 'lxml')\n",
    "\n",
    "data = soup.find('div',{'id':'main_pack'})\n",
    "\n",
    "data2 = data.find_all('div', {'class':'news_area'})\n",
    "\n",
    "\n",
    "result_title = []\n",
    "\n",
    "for temp in data2:\n",
    "    titletemp = temp.find('a',{'class':'news_tit'})\n",
    "    result_title.append(re.sub('[^A-Za-z0-9가-힣]',' ',titletemp.attrs['title']))\n",
    "\n",
    "\n",
    "data3 = data.find_all('a', {'class':'api_txt_lines dsc_txt_wrap'})\n",
    "\n",
    "result_desc = []\n",
    "\n",
    "for temp in data3:\n",
    "    result_desc.append(re.sub('[^A-Za-z0-9가-힣]', ' ', temp.text))\n",
    "\n",
    "\n",
    "result = []\n",
    "\n",
    "for temp in range(0, 10):\n",
    "    temp1 = []\n",
    "    temp1.append(result_title[temp])\n",
    "    temp1.append(result_desc[temp])\n",
    "    \n",
    "    result.append(temp1)\n",
    "\n",
    "\n",
    "f = open('{0} 데이터.csv'.format(keyword), 'w')\n",
    "f.write('제목' +',' + '내용' + '\\n')\n",
    "\n",
    "for temp in result:\n",
    "    f.write(temp[0]+','+temp[1]+'\\n')\n",
    "f.close()\n",
    "\n"
   ]
  },
  {
   "cell_type": "markdown",
   "id": "21aa3022",
   "metadata": {},
   "source": [
    "# 10페이지까지 검색"
   ]
  },
  {
   "cell_type": "code",
   "execution_count": 3,
   "id": "5293abd0",
   "metadata": {},
   "outputs": [
    {
     "name": "stdout",
     "output_type": "stream",
     "text": [
      "검색하실 키워드를 입력하세요(ex:커피,코로나...) : 금천+노인보호구역\n",
      "[' 26일 조달청 입찰정보 종합  2020년 생활악취 상시감시 대행용역 긴급   계북당저지구 생활환경정비사업외 나라장터 입찰 공고', '  입찰명    노인보호구역 기본관리게획 수립용역 견적 제출   계약방법   수의 총액 소액 견적입찰 2인    공고기관   서울특별시 금천구  입찰마감일시    2020 03 30 10 00   발주처 수요기관    서울특별시 금천구    ']\n",
      "---------------------------------------------\n",
      "[' 27일 조달청 입찰정보 종합  2020년 지방하천 유지관리사업 상패천 1구간 준설   2020학년도 대구논공초등학교 학교급식용 우유 구매 소액수의 견적제출 공고외 나라장터 입찰 공고', '  입찰명    2020년 산림유전자원보호구역 관리효과성평가 용역   계약방법   일반 총액 협상에의한계약     공고기관   서울특별시 금천구  입찰마감일시    2020 02 27 10 00   발주처 수요기관    서울특별시 금천구    ']\n",
      "---------------------------------------------\n",
      "[' 20일 조달청 입찰정보 종합  월계마을 진입로 정비공사  영주시 시내버스 표준운송원가산정 및 노선조정 연구용역외 나라장터 입찰 공고', '  입찰명    노인보호구역 개선사업   계약방법   수의 소액  견적입찰 2인 이상 견적 제출   공고기관      입찰명    금천면 고동리마을 안길정비사업   계약방법   수의 소액  견적입찰 2인 이상 견적 제출    ']\n",
      "---------------------------------------------\n",
      "[' 19일 조달청 입찰정보 종합  관용차량 종합보험 가입  2020년 국가해양관측시설 보험가입외 나라장터 입찰 공고', '  입찰명    금천소방서 건립 소방공사   계약방법   지역제한  공고기관   서울특별시  입찰마감일시      입찰명    음성팔성3리 노인보호구역개선공사   계약방법   수의 소액  견적입찰 2인 이상 견적 제출    ']\n",
      "---------------------------------------------\n",
      "[' 1일 낙찰 계약 동향  화잠초등학교 공기청정기 임차 및 유지관리용역  2020학년도 급식실 잔반처리 용역 계약  신남중학교 2020학년도 정수기유지보수용역 계약  낙찰 계약 동향', '  낙찰업체    주 에스엠구조안전진단  계약금액   2 073 000 원   계약명   대신면노인복지회관 편의시설      낙찰업체   유네스 주식회사  계약금액   41 823 000 원   계약명   2020년 종로구 보호구역 정비사업 기본 및   ']\n",
      "---------------------------------------------\n",
      "[' 5일 조달청 입찰정보 종합  해외자원개발 융자사업 관리체계 개편방안 연구용역  고압 컴프레셔외 나라장터 입찰 공고', '공고기관   서울특별시 금천구  입찰마감일시    2020 03 06 15 00   발주처 수요기관    서울특별시 금천구       입찰명    노인보호구역 신규지정 및 장애인 보행안전 개선사업 기본 및 실시설계 용역   계약방법   ']\n",
      "---------------------------------------------\n",
      "[' 3일 낙찰 계약 동향  매곡중 2020학년도 3 5월 전기유지보수 용역 계약  인천상정고 2020학년도 정수기 유지보수 계약  인천상정고 2020학년도 전산시스템 유지보수 용역 계약  낙찰 계약 동향', '  낙찰업체   담쟁이 건축사사무소  계약금액   19 470 000 원   계약명   복흥면 청소년문화의집 및 노인교      낙찰업체   대영유비텍 주식회사  계약금액   3 506 000 원   계약명   어린이보호구역 노란신호등   ']\n",
      "---------------------------------------------\n",
      "[' 28일 조달청 입찰정보 종합  2020년 교량 및 고가차도 일상유지보수공사 연간단가   2020년 덕남정수장 정 배수지 및 정수처리시설 청소용역외 나라장터 입찰 공고', '  입찰명    2020년 관악 금천구 관내 상수도공사 송배수관 포장복구  건설폐기물처리용역 장기계속       입찰명    구수동경로당 노인보호구역 정비사업 소액수의 견적제출 안내 공고   계약방법   수의 소액    ']\n",
      "---------------------------------------------\n",
      "[' 10일 낙찰 계약 동향  2020년 제1차 숲가꾸기사업  부론면 정산리 공말 외 6개소 마을상수도 보수공사  진정 1 2리 배수로 설치공사  낙찰 계약 동향', '  낙찰업체   성진건설 주   계약금액   41 098 200 원   계약명   돌산읍 모장 금천 도로포장공사  계약기관      낙찰업체   주식회사 대한도장  계약금액   29 502 680 원   계약명   봉산동 노인회관 노인보호구역   ']\n",
      "---------------------------------------------\n",
      "[' 17일 조달청 입찰정보 종합  2020학년도 의령유치원 외 3개교 급식용 우유 공동구매 소액수의 단가  견적제출 안내  외국인주민 집중거주지역 야외공연장 건립공사외 나라장터 입찰 공고', '  입찰명    국지도 49호 충주 화심경로당 노인보호구역 개선사업   계약방법   수의 소액  견적입찰 2인      입찰명    국도1호선 나주시 다시면 월태리 나주시 금천I C교차로 등 2개소 차선도색공사   계약방법   ']\n",
      "---------------------------------------------\n"
     ]
    }
   ],
   "source": [
    "import requests\n",
    "from bs4 import BeautifulSoup\n",
    "import urllib\n",
    "import re\n",
    "\n",
    "keyword = input('검색하실 키워드를 입력하세요(ex:커피,코로나...) : ')\n",
    "keyword1 = urllib.parse.quote(keyword)\n",
    "for i in range(1,101,10):\n",
    "   \n",
    "    page = requests.get('https://search.naver.com/search.naver?where=news&sm=tab_pge&query={0}&start={1}'.format(keyword1,i))\n",
    "    html = page.text\n",
    "\n",
    "    soup = BeautifulSoup(html, 'lxml')\n",
    "\n",
    "    data = soup.find('div',{'id':'main_pack'})\n",
    "\n",
    "    data2 = data.find_all('div', {'class':'news_area'})\n",
    "\n",
    "\n",
    "    result_title = []\n",
    "\n",
    "    for temp in data2:\n",
    "        titletemp = temp.find('a',{'class':'news_tit'})\n",
    "        result_title.append(re.sub('[^A-Za-z0-9가-힣]',' ',titletemp.attrs['title']))\n",
    "\n",
    "\n",
    "    data3 = data.find_all('a', {'class':'api_txt_lines dsc_txt_wrap'})\n",
    "\n",
    "    result_desc = []\n",
    "\n",
    "    for temp in data3:\n",
    "        result_desc.append(re.sub('[^A-Za-z0-9가-힣]', ' ', temp.text))\n",
    "\n",
    "    result = []\n",
    "\n",
    "    for temp in range(0, 10):\n",
    "        temp1 = []\n",
    "        temp1.append(result_title[temp])\n",
    "        temp1.append(result_desc[temp])\n",
    "\n",
    "        result.append(temp1)\n",
    "\n",
    "\n",
    "    f = open('{0} 데이터.csv'.format(keyword), 'a')\n",
    "    if i == 1:\n",
    "        f.write('제목' +',' + '내용' + '\\n')\n",
    "    \n",
    "    for temp in result:\n",
    "        f.write(temp[0]+','+temp[1]+'\\n')\n",
    "    f.close()\n",
    "for i in result:\n",
    "    print(i)\n",
    "    print('---------------------------------------------')\n"
   ]
  },
  {
   "cell_type": "code",
   "execution_count": 3,
   "id": "b9a708e7",
   "metadata": {},
   "outputs": [],
   "source": [
    "import random\n",
    "import time\n",
    "time.sleep(random.randrange(1,3))"
   ]
  },
  {
   "cell_type": "code",
   "execution_count": null,
   "id": "fe9a6fec",
   "metadata": {},
   "outputs": [],
   "source": []
  }
 ],
 "metadata": {
  "kernelspec": {
   "display_name": "Python 3",
   "language": "python",
   "name": "python3"
  },
  "language_info": {
   "codemirror_mode": {
    "name": "ipython",
    "version": 3
   },
   "file_extension": ".py",
   "mimetype": "text/x-python",
   "name": "python",
   "nbconvert_exporter": "python",
   "pygments_lexer": "ipython3",
   "version": "3.8.8"
  }
 },
 "nbformat": 4,
 "nbformat_minor": 5
}
