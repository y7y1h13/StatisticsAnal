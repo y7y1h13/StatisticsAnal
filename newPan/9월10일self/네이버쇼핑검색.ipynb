{
 "cells": [
  {
   "cell_type": "code",
   "execution_count": 2,
   "id": "0b3e3579",
   "metadata": {},
   "outputs": [],
   "source": [
    "import requests\n",
    "from bs4 import BeautifulSoup\n",
    "import json\n",
    "import urllib\n",
    "import time"
   ]
  },
  {
   "cell_type": "code",
   "execution_count": 3,
   "id": "92e682e9",
   "metadata": {},
   "outputs": [],
   "source": [
    "#json 데이터 구조\n",
    "result = ' {\"name\":\"홍길동\" , \"age\":29} '\n",
    "\n",
    "#json 데이터 불러오기\n",
    "jdata = json.loads(result)"
   ]
  },
  {
   "cell_type": "code",
   "execution_count": 5,
   "id": "048910b7",
   "metadata": {},
   "outputs": [
    {
     "name": "stdout",
     "output_type": "stream",
     "text": [
      "네이버 쇼핑 검색어 : \n"
     ]
    },
    {
     "data": {
      "text/plain": [
       "'<!DOCTYPE html><html lang=\"ko\"><head><link rel=\"preconnect\" href=\"https://static.nid.naver.com\"/><link rel=\"preconnect\" href=\"https://lcs.naver.com\"/><link rel=\"preconnect\" href=\"http://shopping.phinf.naver.net\"/><link rel=\"preconnect\" href=\"https://ssl.pstatic.net\"/><link rel=\"preconnect\" href=\"https://shopping-phinf.pstatic.net\"/><link rel=\"preconnect\" href=\"https://volts.shopping.naver.com\"/><meta name=\"viewport\" content=\"width=device-width\"/><meta charSet=\"utf-8\"/><title>네이버쇼핑</title><link rel=\"shortcut icon\" href=\"https://ssl.pstatic.net/shoppingsearch/static/pc/pc-210910-173957/img/favicon.ico\"/><meta property=\"og:title\" content=\"네이버쇼핑\"/><meta property=\"og:image\" content=\"https://ssl.pstatic.net/imgshopping/static/mo2014/icon/og_shopping_v2.png\"/><meta property=\"og:description\" content=\"\"/><meta name=\"next-head-count\" content=\"7\"/><link rel=\"preload\" href=\"https://ssl.pstatic.net/shoppingsearch/static/pc/pc-210910-173957/_next/static/css/166b5ded003cc5ae471a.css\" as=\"style\"/><link rel=\"stylesheet\" href=\"https://ssl.pstatic.net/shoppingsearch/static/pc/pc-210910-173957/_next/static/css/166b5ded003cc5ae471a.css\" data-n-g=\"\"/><link rel=\"preload\" href=\"https://ssl.pstatic.net/shoppingsearch/static/pc/pc-210910-173957/_next/static/css/a4983a97c8db7431cc12.css\" as=\"style\"/><link rel=\"stylesheet\" href=\"https://ssl.pstatic.net/shoppingsearch/static/pc/pc-210910-173957/_next/static/css/a4983a97c8db7431cc12.css\" data-n-p=\"\"/><link rel=\"preload\" href=\"https://ssl.pstatic.net/shoppingsearch/static/pc/pc-210910-173957/_next/static/css/15a0d2d569ab430dc6d5.css\" as=\"style\"/><link rel=\"stylesheet\" href=\"https://ssl.pstatic.net/shoppingsearch/static/pc/pc-210910-173957/_next/static/css/15a0d2d569ab430dc6d5.css\" data-n-p=\"\"/><link rel=\"preload\" href=\"https://ssl.pstatic.net/shoppingsearch/static/pc/pc-210910-173957/_next/static/css/cfa7551fddb5e25618e8.css\" as=\"style\"/><link rel=\"stylesheet\" href=\"https://ssl.pstatic.net/shoppingsearch/static/pc/pc-210910-173957/_next/static/css/cfa7551fddb5e25618e8.css\"/><noscript data-n-css=\"\"></noscript><meta name=\"next-image-preload\"/><script defer=\"\" nomodule=\"\" src=\"https://ssl.pstatic.net/shoppingsearch/static/pc/pc-210910-173957/_next/static/chunks/polyfills-49fbfeb2e55439fea737.js\"></script><script defer=\"\" src=\"https://ssl.pstatic.net/shoppingsearch/static/pc/pc-210910-173957/_next/static/chunks/1421.69666bedf6bc7309cd77.js\"></script><script defer=\"\" src=\"https://ssl.pstatic.net/shoppingsearch/static/pc/pc-210910-173957/_next/static/chunks/5567.4d8964c195a6e7c74ed7.js\"></script><script src=\"https://ssl.pstatic.net/shoppingsearch/static/pc/pc-210910-173957/_next/static/chunks/webpack-2ea666f8cab9ffccbee4.js\" defer=\"\"></script><script src=\"https://ssl.pstatic.net/shoppingsearch/static/pc/pc-210910-173957/_next/static/chunks/framework-730d858f1f84572cae79.js\" defer=\"\"></script><script src=\"https://ssl.pstatic.net/shoppingsearch/static/pc/pc-210910-173957/_next/static/chunks/main-0a602ab84a3c3d68aa8f.js\" defer=\"\"></script><script src=\"https://ssl.pstatic.net/shoppingsearch/static/pc/pc-210910-173957/_next/static/chunks/pages/_app-d32133e11991f3cb645d.js\" defer=\"\"></script><script src=\"https://ssl.pstatic.net/shoppingsearch/static/pc/pc-210910-173957/_next/static/chunks/7176-5b53f8d80adca1463cf6.js\" defer=\"\"></script><script src=\"https://ssl.pstatic.net/shoppingsearch/static/pc/pc-210910-173957/_next/static/chunks/5100-10f24c64a0ba207c6f6d.js\" defer=\"\"></script><script src=\"https://ssl.pstatic.net/shoppingsearch/static/pc/pc-210910-173957/_next/static/chunks/7617-904f60064ba690cbedd4.js\" defer=\"\"></script><script src=\"https://ssl.pstatic.net/shoppingsearch/static/pc/pc-210910-173957/_next/static/chunks/8871-6a9deaa990d9e083cacd.js\" defer=\"\"></script><script src=\"https://ssl.pstatic.net/shoppingsearch/static/pc/pc-210910-173957/_next/static/chunks/pages/search/all-ac030635f751559d0349.js\" defer=\"\"></script><script src=\"https://ssl.pstatic.net/shoppingsearch/static/pc/pc-210910-173957/_next/static/E31ENL5qlozb3abtjEc-h/_buildManifest.js\" defer=\"\"></script><script src=\"https://ssl.pstatic.net/shoppingsearch/static/pc/pc-210910-173957/_next/static/E31ENL5qlozb3abtjEc-h/_ssgManifest.js\" defer=\"\"></script></head><body><div id=\"__next\"><div class=\"style_wrap__37f4c\"><div class=\"header_header__3Owj1\"><div class=\"header_fix\"><div class=\"gnb_header_gnb__97B-P\"><div class=\"gnb_header_inner__3uvb2\"><div class=\"gnb_main_site__AcrdT\"><a href=\"https://www.naver.com\" class=\"gnb_link_naver__3lL9D\" title=\"나의 경쟁력, 네이버\" data-nclick=\"N=a:GNB.naver\">NAVER</a><a href=\"https://order.pay.naver.com/home?frm=s_logo\" class=\"gnb_link_npay__WnZeO\" data-nclick=\"N=a:GNB.naverpay\" title=\"네이버 아이디로 간편구매, 네이버페이\">네이버페이</a></div><div class=\"gnb_shopping_gnb_wrap__1UHeC\"><a href=\"https://shopping.naver.com/cart\" class=\"gnb_link_cart__2rZ_7\" data-nclick=\"N=a:GNB.cart\"><em class=\"gnb_num_area__2RDRo\"><span class=\"gnb_num__2HPdl\"><span class=\"blind\">담긴상품</span>0<span class=\"gnb_plus__2kUuh\">+</span></span></em>장바구니</a><div id=\"gnb\" class=\"gnb_dark_type2\"></div></div></div></div><div class=\"gnb_header_shop__Rg3py\"><div class=\"gnb_header_inner__3uvb2\"><h1 class=\"gnb_title__3pqmA\"><a href=\"https://shopping.naver.com/\" data-nclick=\"N=a:SNB.home\">네이버 쇼핑</a></h1><div class=\"gnb_live_area__2XDnA\"><a href=\"https://shoppinglive.naver.com\" class=\"gnb_link_live__1QJhL\" data-nclick=\"N=a:SNB.shoppinglive\"><span class=\"blind\">쇼핑LIVE</span></a></div><div class=\"gnbSearch_search_area__4rI2c\" role=\"presentation\"><h2 class=\"blind\">검색영역</h2><form name=\"search\" method=\"get\"><fieldset><legend>네이버쇼핑 검색</legend><div class=\"gnbSearch_inner__3IDUl\"><input type=\"text\" class=\"searchInput_search_input__1Eclz\" title=\"검색어 입력\" value=\"\" data-nclick=\"N=a:SNB.search\"/><button type=\"button\" class=\"searchInput_btn_search_auto__2olg6\"><span class=\"searchInput_more__yQyac\" data-nclick=\"N=a:sch.close\">자동완성 펼치기</span></button><div class=\"searchInput_layer_tooltip__2fQRq\"><span class=\"searchInput_inner__2vsDE\">자동완성 펼치기</span></div><button type=\"button\" class=\"searchInput_btn_search__2Jzpc\" data-nclick=\"N=a:SNB.searchbut\">네이버쇼핑 검색</button></div><div class=\"gnbSearch_detail_wrap__1ySdB\"><button type=\"button\" class=\"gnbSearch_btn_detail__ycRcC\" data-nclick=\"N=a:SNB.detailsearch\"><span class=\"gnbSearch_text__2oS6u\">상세검색</span><span class=\"gnbSearch_more__1FnBn\">펼치기</span></button></div></fieldset></form></div><div class=\"gnb_category_button__3USf_\" data-nclick=\"N=a:SNB.category\"><button type=\"button\" class=\"gnb_category__BCQD4\" data-nclick=\"N=a:SNB.category\">카테고리</button></div><div class=\"gnb_shop_site__2aTya\"><a href=\"/best100v2/main.nhn\" class=\"gnb_link_best__a51Qj\" data-nclick=\"N=a:SNB.best100\">베스트 100</a><span class=\"gnb_bar__NHsiq\">|</span><a href=\"/allmall\" class=\"gnb_link_mall__2ZdWy\" data-nclick=\"N=a:SNB.mall\">몰전체보기</a></div><div class=\"gnb_shop_my__3dkeA\" data-nclick=\"N=a:SNB.shoppingmy\"><button type=\"button\" class=\"gnb_btn_my__15fHn\"><span class=\"blind\">쇼핑MY <!-- -->펼치기</span></button><div class=\"gnb_layer_my__376nj blind\"><ul class=\"gnb_list_my__S8kAd\"><li><a href=\"https://shopping.naver.com/my/home\" data-nclick=\"N=a:SNB*m.home\">MY 홈</a></li><li><a href=\"https://shopping.naver.com/my/keep-products\" data-nclick=\"N=a:SNB*m.my\">찜한 상품</a></li><li><a href=\"https://shopping.naver.com/my/keep-stores\" data-nclick=\"N=a:SNB*m.shop\">찜한 스토어</a></li><li><a href=\"https://shopping.naver.com/my/writable-reviews\" data-nclick=\"N=a:SNB*m.review\">상품 리뷰</a></li><li><a href=\"https://shopping.naver.com/cart\" data-nclick=\"N=a:SNB*m.cart\">장바구니</a></li><li><a href=\"https://order.pay.naver.com/home?tabMenu=SHOPPING\" data-nclick=\"N=a:SNB*m.order\">주문확인/배송조회</a></li><li><a href=\"https://benefit.pay.naver.com/coupon\" data-nclick=\"N=a:SNB*m.coupon\">쿠폰</a></li></ul></div></div></div></div></div></div><div class=\"style_container__1YjHN\"><div class=\"style_inner__18zZX\"><h2 class=\"blind\">검색결과</h2><div class=\"filter_finder__1Gtei\"><div class=\"filter_finder_filter__1DTIN\"><h3 class=\"blind\">검색 도구</h3></div></div><div class=\"style_content_wrap__1PzEo\"><div class=\"style_content__2T20F\"><div class=\"noResult_no_result__1ad0P\"></div><div id=\"powerlink-div\" class=\"powerlink_powerlink_area__18vIc\"></div></div></div></div></div><a href=\"#u_skip\" class=\"style_wrap_top__3C1dV\">맨위로가기</a><div class=\"style_footer__3DocH\"><div class=\"style_footer_area__9dqvk\"><h2 class=\"blind\">하위영역</h2><div class=\"style_info_site__XYOYu\"><a href=\"http://www.naver.com/rules/service.html\" rel=\"noopener\" target=\"_blank\" data-nclick=\"N=a:fot.agreement\">네이버 이용약관</a><a href=\"http://pay.naver.com/provision?viewType=use\" rel=\"noopener\" target=\"_blank\" data-nclick=\"N=a:fot.payagreement\">네이버페이 이용약관</a><a href=\"http://www.naver.com/rules/privacy.html\" rel=\"noopener\" target=\"_blank\" data-nclick=\"N=a:fot.privacy\"><strong>개인정보처리방침</strong></a><a href=\"https://shopping.naver.com/user/legalbasis.nhn\" rel=\"noopener\" target=\"_blank\" data-nclick=\"N=a:fot.disclaimer\">법적고지 및 주의사항</a><a href=\"http://join.shopping.naver.com/index.nhn\" rel=\"noopener\" target=\"_blank\" data-nclick=\"N=a:fot.join\">입점안내</a><a href=\"https://sell.smartstore.naver.com/#/home/about?tipModal=WINDOW_EXPOSURE&amp;tap=style\" rel=\"noopener\" target=\"_blank\" data-nclick=\"N=a:fot.shoppingw\">쇼핑윈도 노출안내</a><a href=\"https://center.shopping.naver.com/\" rel=\"noopener\" target=\"_blank\" data-nclick=\"N=a:fot.ad\">쇼핑파트너센터</a><a href=\"https://sell.smartstore.naver.com/#/home/about\" rel=\"noopener\" target=\"_blank\" data-nclick=\"N=a:fot.sfsell\">스마트스토어센터</a><a href=\"https://safety.shopping.naver.com\" target=\"_blank\" rel=\"noopener\" data-nclick=\"N=a:fot.safety\">안전거래센터</a><a href=\"https://help.pay.naver.com/index.nhn\" rel=\"noopener\" target=\"_blank\" data-nclick=\"N=a:fot.help\">쇼핑&amp;페이 고객센터</a></div><p class=\"style_marketing__1PdGy\">네이버㈜는 통신판매중개자이며, 통신판매의 당사자가 아닙니다. 상품, 상품정보, 거래에 관한 의무와 책임은 판매자에게 있습니다.</p><address class=\"style_address__35JID\"><span class=\"style_item__E6EiJ\">사업자등록번호 : 220-81-62517</span><span class=\"style_item__E6EiJ\">통신판매업신고번호 : 제2006-경기성남-0692호</span><span class=\"style_item__E6EiJ\">대표이사 : 한성숙</span><a href=\"http://www.ftc.go.kr/bizCommPop.do?wrkr_no=2208162517\" rel=\"noopener\" target=\"_blank\" class=\"style_item__E6EiJ\" data-nclick=\"N=a:fot.rbinformation\">사업자등록정보확인</a><span class=\"style_item__E6EiJ\">이메일 : helpcustomer@naver.com</span><br/><span class=\"style_item__E6EiJ\">주소 : 경기도 성남시 분당구 불정로 6 네이버 그린팩토리 13561</span><span class=\"style_item__E6EiJ\">대표전화 : 1588-3819</span><span class=\"style_item__E6EiJ\"><a href=\"https://help.pay.naver.com/faq/alias/naver-gu.help\" rel=\"noopener\" target=\"_blank\"><strong>1:1문의 바로가기</strong></a></span><span class=\"style_item__E6EiJ\">호스팅 서비스 제공 : NAVER Cloud</span></address><p class=\"style_copyright__x-9aZ\"><a href=\"http://www.naver.com\" class=\"style_logo__2mKah\" rel=\"noopener\" target=\"_blank\">NAVER</a>Copyright ©<strong><a href=\"http://www.navercorp.com/ko/index.nhn\" rel=\"noopener\" target=\"_blank\">NAVER Corp.</a></strong>All Rights Reserved.</p></div></div></div></div><script id=\"__NEXT_DATA__\" type=\"application/json\">{\"props\":{\"initialProps\":{\"pageProps\":{},\"ogTag\":{\"title\":\"네이버쇼핑\",\"image\":\"https://ssl.pstatic.net/imgshopping/static/mo2014/icon/og_shopping_v2.png\",\"description\":\"\"}},\"initialState\":{\"bucketId\":\"\",\"mallZzim\":{},\"nClick\":{\"susVal\":\"\",\"pageUid\":\"\",\"code\":\"\",\"codeType\":\"nsc\"},\"productZzim\":{},\"userInfo\":{\"nickName\":\"\",\"isAdultUser\":false,\"isValidMembership\":false},\"gnb\":{\"searchBar\":{\"isHome\":false,\"isOpen\":false},\"category\":{\"isOpen\":false},\"searchLayer\":{\"isOpen\":false},\"recentHistory\":{\"isOpen\":false,\"isActive\":true,\"isLoading\":true,\"isLoaded\":false,\"isModified\":false,\"keywords\":[],\"products\":[],\"totalKeywordCount\":0,\"totalProductCount\":0},\"autoComplete\":{\"isOpen\":false,\"isActive\":true,\"keyword\":\"\",\"keywordQuery\":[],\"selected\":-1,\"totalCount\":0,\"data\":{}},\"autoCompletePC\":{\"isOpen\":false,\"isActive\":true,\"typedKeyword\":\"\",\"currentKeyword\":\"\",\"currentIndex\":-1,\"lndURL\":\"\",\"suggestions\":{\"totalCount\":0}},\"brandSearch\":{\"isOpen\":false}},\"products\":{\"list\":[],\"total\":0,\"adBucketId\":null},\"groceryFilters\":[],\"mainFilters\":[],\"subFilters\":[],\"selectedFilters\":[],\"searchParam\":{\"query\":\"\",\"origQuery\":\"\",\"sort\":\"rel\",\"pagingIndex\":1,\"pagingSize\":40,\"viewType\":\"list\",\"productSet\":\"total\",\"timestamp\":\"\",\"catId\":\"\"},\"searchBanInfo\":{},\"smartPriceSort\":null,\"address\":{\"baseAddress\":\"\",\"detailAddress\":\"\",\"addressBooks\":[],\"recentlyUseds\":[]},\"pageType\":null,\"cmpResult\":{\"catId\":\"\"},\"banners\":[],\"eventBanner\":null,\"applySmartPriceSort\":false,\"stringQueryType\":\"\",\"categoryNames\":null,\"catalog\":{\"info\":null,\"category\":null,\"priceHistory\":{\"data\":null},\"groups\":null,\"images\":[],\"imageProvider\":null,\"adContent\":null,\"brandContent\":null,\"brandStore\":null,\"dataLab\":null,\"review\":{\"summary\":null,\"filteredReview\":null},\"reviewParam\":{\"nvMid\":null,\"topicCode\":null,\"reviewType\":\"ALL\",\"sort\":\"QUALITY\",\"score\":null,\"isNeedAggregation\":\"Y\",\"isApplyFilter\":\"N\",\"reviewId\":null,\"page\":1,\"pageSize\":20},\"summaryReviews\":null,\"bannerAttributes\":null,\"param\":null,\"blogContents\":null,\"cosmeticIngredient\":{\"allIngredients\":null,\"allIngredientsCount\":null,\"cosmeticIngredients\":[],\"goodIngredients\":[],\"badIngredients\":[],\"countReactionBySkinType\":[],\"syncDate\":null},\"foodIngredient\":{\"modifyDate\":\"\",\"servings\":[],\"nutrients\":[],\"materials\":[],\"allergies\":[],\"noAdditives\":[],\"percentOrganic\":\"0\",\"weight\":\"\",\"origin\":\"\",\"warnings\":\"\",\"foodType\":\"\",\"certifications\":[],\"attributes\":[]},\"petFoodIngredient\":{\"petLifeStage\":\"\",\"hardness\":\"\",\"thickness\":\"\",\"servings\":[],\"nutrients\":[],\"material\":\"\",\"ingredientsTitle\":\"\",\"notContains\":[],\"petType\":\"\",\"itemForm\":\"\",\"weight\":\"\",\"origin\":\"\",\"feedRecommend\":\"\",\"materialFeature\":\"\",\"warnings\":\"\",\"certifications\":[],\"feedIngredientsNo\":\"\"},\"specInfo\":null,\"recommend\":{\"aitemsParams\":null,\"comparision\":null,\"explore\":null,\"storeCatalogComparison\":null,\"storeCatalogExplore\":null,\"luxury\":null},\"adRecommend\":{\"adUnits\":[]},\"shoesContent\":null,\"productByMallParam\":{\"byMall\":true,\"deviceType\":\"PC\",\"nvMid\":null,\"sort\":\"POPULAR\",\"deliveryCharge\":false,\"cardDiscount\":false,\"isNPayPlus\":false,\"lowestPrice\":null,\"page\":1,\"pageSize\":10},\"productParam\":{\"byMall\":false,\"deviceType\":\"PC\",\"nvMid\":null,\"sort\":\"POPULAR\",\"deliveryCharge\":false,\"cardDiscount\":false,\"isNPayPlus\":false,\"lowestPrice\":null,\"page\":1,\"pageSize\":10},\"samePriceProductParam\":{},\"products\":[],\"date\":null,\"trCode\":null,\"c1MallNaverPayEvent\":{\"dataSeq\":null,\"expsEndDate\":null,\"expsStrtDate\":null,\"items\":{},\"modifyDate\":null,\"templateSeq\":null},\"benefit\":{},\"membership\":{},\"catalogType\":null,\"catalogStatistics\":null},\"recommendTrend\":{\"tags\":[]},\"relatedTags\":[],\"mallShortCut\":{\"expose\":false,\"exposeType\":null,\"mallNm\":null,\"url\":null,\"verified\":false},\"verticalCollections\":{},\"myCartProductCount\":0},\"__N_SSP\":true,\"pageProps\":{\"initialState\":{\"bucketId\":\"\",\"mallZzim\":{},\"nClick\":{\"code\":\"svc.shopping.v3\",\"codeType\":\"ssc\",\"pageUid\":\"hgWlilpl6GJedmZRZ3N-144740\",\"susVal\":\"\",\"query\":\"-\"},\"productZzim\":{},\"userInfo\":{\"nickName\":\"\",\"isAdultUser\":false,\"isValidMembership\":false,\"naverMembershipEndDate\":\"\"},\"gnb\":{\"searchBar\":{\"isHome\":false,\"isOpen\":false},\"category\":{\"isOpen\":false},\"searchLayer\":{\"isOpen\":false},\"recentHistory\":{\"isOpen\":false,\"isActive\":true,\"isLoading\":true,\"isLoaded\":false,\"isModified\":false,\"keywords\":[],\"products\":[],\"totalKeywordCount\":0,\"totalProductCount\":0},\"autoComplete\":{\"isOpen\":false,\"isActive\":true,\"keyword\":\"\",\"keywordQuery\":[],\"selected\":-1,\"totalCount\":0,\"data\":{}},\"autoCompletePC\":{\"isOpen\":false,\"isActive\":true,\"typedKeyword\":null,\"currentKeyword\":\"\",\"currentIndex\":-1,\"lndURL\":\"\",\"suggestions\":{\"totalCount\":0}},\"brandSearch\":{\"isOpen\":false}},\"products\":{\"list\":[],\"total\":null,\"adBucketId\":\"0\"},\"groceryFilters\":[],\"mainFilters\":[],\"subFilters\":[],\"selectedFilters\":[],\"searchParam\":{\"sort\":\"rel\",\"pagingIndex\":1,\"pagingSize\":40,\"viewType\":\"list\",\"productSet\":\"total\",\"deliveryFee\":[],\"deliveryTypeValue\":[],\"frm\":\"NVSCTAB\",\"query\":null,\"origQuery\":null,\"iq\":[],\"eq\":[],\"xq\":[],\"timestamp\":\"\"},\"searchBanInfo\":{},\"smartPriceSort\":null,\"address\":{\"baseAddress\":\"\",\"detailAddress\":\"\",\"addressBooks\":[],\"recentlyUseds\":[]},\"pageType\":\"ALL_SEARCH\",\"cmpResult\":{\"catId\":\"\"},\"banners\":[],\"eventBanner\":null,\"applySmartPriceSort\":false,\"stringQueryType\":\"\",\"categoryNames\":null,\"catalog\":{\"info\":null,\"category\":null,\"priceHistory\":{\"data\":null},\"groups\":null,\"images\":[],\"imageProvider\":null,\"adContent\":null,\"brandContent\":null,\"brandStore\":null,\"dataLab\":null,\"review\":{\"summary\":null,\"filteredReview\":null},\"reviewParam\":{\"nvMid\":null,\"topicCode\":null,\"reviewType\":\"ALL\",\"sort\":\"QUALITY\",\"score\":null,\"isNeedAggregation\":\"Y\",\"isApplyFilter\":\"N\",\"reviewId\":null,\"page\":1,\"pageSize\":20},\"summaryReviews\":null,\"bannerAttributes\":null,\"param\":null,\"blogContents\":null,\"cosmeticIngredient\":{\"allIngredients\":null,\"allIngredientsCount\":null,\"cosmeticIngredients\":[],\"goodIngredients\":[],\"badIngredients\":[],\"countReactionBySkinType\":[],\"syncDate\":null},\"foodIngredient\":{\"modifyDate\":\"\",\"servings\":[],\"nutrients\":[],\"materials\":[],\"allergies\":[],\"noAdditives\":[],\"percentOrganic\":\"0\",\"weight\":\"\",\"origin\":\"\",\"warnings\":\"\",\"foodType\":\"\",\"certifications\":[],\"attributes\":[]},\"petFoodIngredient\":{\"petLifeStage\":\"\",\"hardness\":\"\",\"thickness\":\"\",\"servings\":[],\"nutrients\":[],\"material\":\"\",\"ingredientsTitle\":\"\",\"notContains\":[],\"petType\":\"\",\"itemForm\":\"\",\"weight\":\"\",\"origin\":\"\",\"feedRecommend\":\"\",\"materialFeature\":\"\",\"warnings\":\"\",\"certifications\":[],\"feedIngredientsNo\":\"\"},\"specInfo\":null,\"recommend\":{\"aitemsParams\":null,\"comparision\":null,\"explore\":null,\"storeCatalogComparison\":null,\"storeCatalogExplore\":null,\"luxury\":null},\"adRecommend\":{\"adUnits\":[]},\"shoesContent\":null,\"productByMallParam\":{\"byMall\":true,\"deviceType\":\"PC\",\"nvMid\":null,\"sort\":\"POPULAR\",\"deliveryCharge\":false,\"cardDiscount\":false,\"isNPayPlus\":false,\"lowestPrice\":null,\"page\":1,\"pageSize\":10},\"productParam\":{\"byMall\":false,\"deviceType\":\"PC\",\"nvMid\":null,\"sort\":\"POPULAR\",\"deliveryCharge\":false,\"cardDiscount\":false,\"isNPayPlus\":false,\"lowestPrice\":null,\"page\":1,\"pageSize\":10},\"samePriceProductParam\":{},\"products\":[],\"date\":null,\"trCode\":null,\"c1MallNaverPayEvent\":{\"dataSeq\":null,\"expsEndDate\":null,\"expsStrtDate\":null,\"items\":{},\"modifyDate\":null,\"templateSeq\":null},\"benefit\":{},\"membership\":{},\"catalogType\":null,\"catalogStatistics\":null},\"recommendTrend\":{\"tags\":[]},\"relatedTags\":[],\"mallShortCut\":{\"expose\":false,\"exposeType\":null,\"mallNm\":null,\"url\":null,\"verified\":false},\"verticalCollections\":{},\"myCartProductCount\":0},\"cmpResult\":null,\"nluAppliedResult\":null,\"partialSearched\":null,\"deepSearch\":0,\"banners\":null,\"surls\":[]}},\"page\":\"/search/all\",\"query\":{\"where\":\"all\",\"frm\":\"NVSCTAB\",\"query\":\"\"},\"buildId\":\"E31ENL5qlozb3abtjEc-h\",\"assetPrefix\":\"https://ssl.pstatic.net/shoppingsearch/static/pc/pc-210910-173957\",\"runtimeConfig\":{\"DEPLOY_ENV\":\"production\"},\"isFallback\":false,\"dynamicIds\":[21421,5567],\"gssp\":true,\"appGip\":true,\"scriptLoader\":[]}</script></body></html>'"
      ]
     },
     "execution_count": 5,
     "metadata": {},
     "output_type": "execute_result"
    }
   ],
   "source": [
    "#검색하고 싶은 키워드를 받는다.\n",
    "keyword = input('네이버 쇼핑 검색어 : ')\n",
    "#한글로 바로넣으면 오류가나기 때문에 변환\n",
    "keyword = urllib.parse.quote(keyword)\n",
    "\n",
    "#url을 넣어 데이터를 받아온다.\n",
    "page = requests.get('https://search.shopping.naver.com/search/all?where=all&frm=NVSCTAB&query={0}'.format(keyword))\n",
    "\n",
    "#받아온 페이지를 텍스트만 가져옴\n",
    "html = page.text\n",
    "html"
   ]
  },
  {
   "cell_type": "code",
   "execution_count": 6,
   "id": "945d40da",
   "metadata": {},
   "outputs": [],
   "source": [
    "#html태그들을 나눠준다.\n",
    "soup = BeautifulSoup(html,'lxml')\n",
    "\n",
    "\n",
    "#json데이터를 찾는다. \n",
    "# tip : 검색기능을 이용하여 { 이게 시작하는곳을 찾으면 빠름\n",
    "jsonresult = soup.find('script',{'id':'__NEXT_DATA__'})\n"
   ]
  },
  {
   "cell_type": "code",
   "execution_count": 9,
   "id": "938e0531",
   "metadata": {},
   "outputs": [
    {
     "data": {
      "text/plain": [
       "[]"
      ]
     },
     "execution_count": 9,
     "metadata": {},
     "output_type": "execute_result"
    }
   ],
   "source": [
    "#json 데이터를 로드한다.(str형식으로)\n",
    "jsondata = json.loads(jsonresult.string)\n",
    "\n",
    "#이게 좀 짜증나는데 우리가 원하는 내용이 있는곳까지 들어가야해서 하나하나씩 json데이터를 살펴봐야함\n",
    "jdata1 = jsondata['props']['pageProps']['initialState']['products']['list']\n",
    "\n",
    "#결과를 담을 리스트 생성\n",
    "result = []\n",
    "\n",
    "\n",
    "#json데이터를 for문에 넣고 하나씩 꺼내온다.\n",
    "for temp in jdata1:\n",
    "    #꺼내온 데이터를 저장할 리스트를 생성\n",
    "    rtemp = []\n",
    "    #이것도 짜증나는데 item이름이 어디있는지 찾아야함 ;;;\n",
    "    rtemp.append(temp['item']['productTitle'])\n",
    "    #이것도 마찬가지,, 가격을 찾아야함\n",
    "    rtemp.append(temp['item']['lowPrice'])\n",
    "    #result에 가져온 값을 넣는다.\n",
    "    result.append(rtemp)\n",
    "    \n",
    "result\n",
    "    \n"
   ]
  },
  {
   "cell_type": "code",
   "execution_count": null,
   "id": "6bf34694",
   "metadata": {},
   "outputs": [],
   "source": []
  }
 ],
 "metadata": {
  "kernelspec": {
   "display_name": "Python 3",
   "language": "python",
   "name": "python3"
  },
  "language_info": {
   "codemirror_mode": {
    "name": "ipython",
    "version": 3
   },
   "file_extension": ".py",
   "mimetype": "text/x-python",
   "name": "python",
   "nbconvert_exporter": "python",
   "pygments_lexer": "ipython3",
   "version": "3.8.8"
  }
 },
 "nbformat": 4,
 "nbformat_minor": 5
}
