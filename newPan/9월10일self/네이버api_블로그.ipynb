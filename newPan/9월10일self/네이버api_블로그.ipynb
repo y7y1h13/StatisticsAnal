{
 "cells": [
  {
   "cell_type": "markdown",
   "id": "bea184b9",
   "metadata": {},
   "source": [
    "### 네이버 api 사용법\n",
    "1. https://developers.naver.com/main/ 접속해서 로그인\n",
    "2. 맨위에 Application -> 애플리케이션 등록\n",
    "3. 이름은 뭐 아무거나 ,,, 네이버 크롤링? 정도로하면된다.\n",
    "4. 사용 API는 검색으로 선택\n",
    "5. 비로그인 오픈 API 서비스 환경은 WEB으로 설정하고 URL은 http://naver.com 으로 설정한다.\n",
    "6. Client ID 와 Client Secret를 저장해놓는다.\n",
    "7. 맨위에  Documents -> 검색으로 들어간다.\n",
    "8. 들어가서 내려보면 Python이 있다. 그걸 긁어와서 그대로 주피터에 붙여넣는다."
   ]
  },
  {
   "cell_type": "code",
   "execution_count": 2,
   "id": "02239294",
   "metadata": {},
   "outputs": [
    {
     "name": "stdout",
     "output_type": "stream",
     "text": [
      "블로그 검색어를 입력해주세요서울+공원+불편\n"
     ]
    }
   ],
   "source": [
    "import os\n",
    "import sys\n",
    "import urllib.request\n",
    "import json\n",
    "import re\n",
    "\n",
    "client_id = \"ZfhA97N3n2D26_pj344P\"\n",
    "client_secret = \"WjSgWdzg65\"\n",
    "\n",
    "keyword = input('블로그 검색어를 입력해주세요')\n",
    "\n",
    "encText = urllib.parse.quote(keyword)\n",
    "\n",
    "tlist = []\n",
    "llist = []\n",
    "dlist = []\n",
    "\n",
    "\n",
    "#1000페이지 검색하기위해서 만들어준다.\n",
    "for pagenum in range(1,1000,100):\n",
    "    #만약 에러가 발생하면 저장이 안되기때문에 에러난건 제외하고 저장하기 위해서 \n",
    "    try:\n",
    "    \n",
    "        #문서에 들어가보면 요청변수가 여러개있음 그걸 이용해서 하면된다. 예를 들면 display는 검색결과출력건수를 지정하는데 최대 100이다.\n",
    "        # sort는 정렬옵션인데 sim을 넣으면 유사도순이고 dateㄴ는 날싸순이다.\n",
    "        url = \"https://openapi.naver.com/v1/search/blog?query=\" + encText +\"&display=100&sort=sim&start=\"+str(pagenum)# json 결과   블로그 1~100  101~200\n",
    "        # url = \"https://openapi.naver.com/v1/search/blog.xml?query=\" + encText # xml 결과\n",
    "        request = urllib.request.Request(url)\n",
    "        request.add_header(\"X-Naver-Client-Id\",client_id)\n",
    "        request.add_header(\"X-Naver-Client-Secret\",client_secret)\n",
    "        response = urllib.request.urlopen(request)\n",
    "        rescode = response.getcode()\n",
    "        if(rescode==200):\n",
    "            response_body = response.read()\n",
    "            jtemp = response_body.decode('utf-8')\n",
    "            jdata = json.loads(jtemp)\n",
    "\n",
    "            jdata['items']\n",
    "                \n",
    "                \n",
    "            #여기도 문서에 적혀있다. 출력결과가 어떤 변수로 저장되는지 그거 참고해서하면된다.\n",
    "            #https://developers.naver.com/docs/serviceapi/search/blog/blog.md#%EB%B8%94%EB%A1%9C%EA%B7%B8\n",
    "            #모르겠으면 여기 들어가서 쭉 내려보자...\n",
    "            for temp in jdata['items']:  \n",
    "                hangul = re.compile('[^ ㄱ-ㅎ|가-힣]+')\n",
    "                tdata = temp['title']\n",
    "                ldata = temp['link']\n",
    "                ddata = hangul.sub(r'',temp['description'])\n",
    "\n",
    "                tlist.append(tdata)\n",
    "                llist.append(ldata)\n",
    "                dlist.append(ddata)\n",
    "\n",
    "        else:\n",
    "            print(\"Error Code:\" + rescode)\n",
    "            \n",
    "    except:\n",
    "        print('Error')\n",
    "        \n",
    "        \n",
    "\n",
    "result = []\n",
    "for temp in range(len(tlist)):\n",
    "    temp1 = []\n",
    "    temp1.append(tlist[temp])\n",
    "    temp1.append(llist[temp])\n",
    "    temp1.append(dlist[temp])\n",
    "    \n",
    "    result.append(temp1)\n",
    "    \n",
    "    \n",
    "f = open('{0} - 네이버API 블로그검색.csv'.format(keyword) , 'w', encoding='utf-8')\n",
    "f.write('제목'+',' + '링크' + ',' + '내용' + '\\n')\n",
    "for temp in result:    \n",
    "        f.write(temp[0] + ',' + temp[1] + ',' + temp[2] +'\\n')\n",
    "f.close()"
   ]
  },
  {
   "cell_type": "code",
   "execution_count": null,
   "id": "ab602cc2",
   "metadata": {},
   "outputs": [],
   "source": [
    "#커피+스타벅스 두개같이 들어간거 찾아준다."
   ]
  }
 ],
 "metadata": {
  "kernelspec": {
   "display_name": "Python 3",
   "language": "python",
   "name": "python3"
  },
  "language_info": {
   "codemirror_mode": {
    "name": "ipython",
    "version": 3
   },
   "file_extension": ".py",
   "mimetype": "text/x-python",
   "name": "python",
   "nbconvert_exporter": "python",
   "pygments_lexer": "ipython3",
   "version": "3.8.8"
  }
 },
 "nbformat": 4,
 "nbformat_minor": 5
}
