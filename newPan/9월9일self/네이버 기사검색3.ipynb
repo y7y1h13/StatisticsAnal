{
 "cells": [
  {
   "cell_type": "markdown",
   "id": "7a1d270b",
   "metadata": {},
   "source": [
    "# 한페이지만 검색"
   ]
  },
  {
   "cell_type": "code",
   "execution_count": 23,
   "id": "690b4ae0",
   "metadata": {},
   "outputs": [
    {
     "name": "stdout",
     "output_type": "stream",
     "text": [
      "검색하실 키워드를 입력하세요(ex:커피,코로나...) : 칫솔\n"
     ]
    }
   ],
   "source": [
    "import requests\n",
    "from bs4 import BeautifulSoup\n",
    "import urllib\n",
    "import re\n",
    "\n",
    "keyword = input('검색하실 키워드를 입력하세요(ex:커피,코로나...) : ')\n",
    "keyword1 = urllib.parse.quote(keyword)\n",
    "\n",
    "\n",
    "headers = {'User-Agent' : 'mozilla/5.0', 'Accept-Encoding':'gzip,deflate','Accept':'*/*','Connection':'keep-alive'}\n",
    "page = requests.get('https://search.naver.com/search.naver?where=news&sm=tab_jum&query={0}'.format(keyword1))\n",
    "html = page.text\n",
    "\n",
    "soup = BeautifulSoup(html, 'lxml')\n",
    "\n",
    "data = soup.find('div',{'id':'main_pack'})\n",
    "\n",
    "data2 = data.find_all('div', {'class':'news_area'})\n",
    "\n",
    "\n",
    "result_title = []\n",
    "\n",
    "for temp in data2:\n",
    "    titletemp = temp.find('a',{'class':'news_tit'})\n",
    "    result_title.append(re.sub('[^A-Za-z0-9가-힣]',' ',titletemp.attrs['title']))\n",
    "\n",
    "\n",
    "data3 = data.find_all('a', {'class':'api_txt_lines dsc_txt_wrap'})\n",
    "\n",
    "result_desc = []\n",
    "\n",
    "for temp in data3:\n",
    "    result_desc.append(re.sub('[^A-Za-z0-9가-힣]', ' ', temp.text))\n",
    "\n",
    "\n",
    "result = []\n",
    "\n",
    "for temp in range(0, 10):\n",
    "    temp1 = []\n",
    "    temp1.append(result_title[temp])\n",
    "    temp1.append(result_desc[temp])\n",
    "    \n",
    "    result.append(temp1)\n",
    "\n",
    "\n",
    "f = open('{0} 데이터.csv'.format(keyword), 'w')\n",
    "f.write('제목' +',' + '내용' + '\\n')\n",
    "\n",
    "for temp in result:\n",
    "    f.write(temp[0]+','+temp[1]+'\\n')\n",
    "f.close()\n",
    "\n"
   ]
  },
  {
   "cell_type": "markdown",
   "id": "21aa3022",
   "metadata": {},
   "source": [
    "# 10페이지까지 검색"
   ]
  },
  {
   "cell_type": "code",
   "execution_count": null,
   "id": "5293abd0",
   "metadata": {},
   "outputs": [],
   "source": [
    "import requests\n",
    "from bs4 import BeautifulSoup\n",
    "import urllib\n",
    "import re\n",
    "\n",
    "keyword = input('검색하실 키워드를 입력하세요(ex:커피,코로나...) : ')\n",
    "keyword1 = urllib.parse.quote(keyword)\n",
    "for i in range(1,101,10):\n",
    "   \n",
    "    page = requests.get('https://search.naver.com/search.naver?where=news&sm=tab_pge&query={0}&start={1}'.format(keyword1,i))\n",
    "    html = page.text\n",
    "\n",
    "    soup = BeautifulSoup(html, 'lxml')\n",
    "\n",
    "    data = soup.find('div',{'id':'main_pack'})\n",
    "\n",
    "    data2 = data.find_all('div', {'class':'news_area'})\n",
    "\n",
    "\n",
    "    result_title = []\n",
    "\n",
    "    for temp in data2:\n",
    "        titletemp = temp.find('a',{'class':'news_tit'})\n",
    "        result_title.append(re.sub('[^A-Za-z0-9가-힣]',' ',titletemp.attrs['title']))\n",
    "\n",
    "\n",
    "    data3 = data.find_all('a', {'class':'api_txt_lines dsc_txt_wrap'})\n",
    "\n",
    "    result_desc = []\n",
    "\n",
    "    for temp in data3:\n",
    "        result_desc.append(re.sub('[^A-Za-z0-9가-힣]', ' ', temp.text))\n",
    "\n",
    "    result = []\n",
    "\n",
    "    for temp in range(0, 10):\n",
    "        temp1 = []\n",
    "        temp1.append(result_title[temp])\n",
    "        temp1.append(result_desc[temp])\n",
    "\n",
    "        result.append(temp1)\n",
    "\n",
    "\n",
    "    f = open('{0} 데이터.csv'.format(keyword), 'a')\n",
    "    if i == 1:\n",
    "        f.write('제목' +',' + '내용' + '\\n')\n",
    "    \n",
    "    for temp in result:\n",
    "        f.write(temp[0]+','+temp[1]+'\\n')\n",
    "    f.close()\n",
    "\n"
   ]
  },
  {
   "cell_type": "code",
   "execution_count": 3,
   "id": "b9a708e7",
   "metadata": {},
   "outputs": [],
   "source": [
    "import random\n",
    "import time\n",
    "time.sleep(random.randrange(1,3))"
   ]
  },
  {
   "cell_type": "code",
   "execution_count": null,
   "id": "fe9a6fec",
   "metadata": {},
   "outputs": [],
   "source": []
  }
 ],
 "metadata": {
  "kernelspec": {
   "display_name": "Python 3",
   "language": "python",
   "name": "python3"
  },
  "language_info": {
   "codemirror_mode": {
    "name": "ipython",
    "version": 3
   },
   "file_extension": ".py",
   "mimetype": "text/x-python",
   "name": "python",
   "nbconvert_exporter": "python",
   "pygments_lexer": "ipython3",
   "version": "3.8.8"
  }
 },
 "nbformat": 4,
 "nbformat_minor": 5
}
