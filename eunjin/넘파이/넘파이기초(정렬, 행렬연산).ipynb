{
 "cells": [
  {
   "cell_type": "markdown",
   "id": "eb06fcbb",
   "metadata": {},
   "source": [
    "### 행렬의 정렬\n",
    "### sort()\n",
    "### sort() 호출방법은 여러가지가 있다.\n",
    "### np.sort => 넘파이에서 호출 (원 행렬 그대로 유지함)\n",
    "### ndarray.sort() => 행렬 자체에서 호출 (원 행렬을 정렬해버림)"
   ]
  },
  {
   "cell_type": "code",
   "execution_count": 2,
   "id": "587ff6fd",
   "metadata": {},
   "outputs": [],
   "source": [
    "import numpy as np"
   ]
  },
  {
   "cell_type": "code",
   "execution_count": 5,
   "id": "8cba756f",
   "metadata": {},
   "outputs": [
    {
     "name": "stdout",
     "output_type": "stream",
     "text": [
      "원본 행렬: [3 1 9 5]\n",
      "\n",
      "np.sort() 호출 후 반환된 정렬 행렬: [1 3 5 9]\n",
      "np.sort() 호출 후 원본 행렬: [3 1 9 5]\n",
      "\n",
      "org_arr.sort() 호출 후 반환된 행렬: None\n",
      "org_arr.sort9) 호출 후 원본 행렬: [1 3 5 9]\n"
     ]
    }
   ],
   "source": [
    "org_arr = np.array([3,1,9,5])\n",
    "print('원본 행렬:', org_arr)\n",
    "print()\n",
    "# np.sort()로 정렬\n",
    "sort_arr1 = np.sort(org_arr)\n",
    "print('np.sort() 호출 후 반환된 정렬 행렬:',sort_arr1)\n",
    "print('np.sort() 호출 후 원본 행렬:', org_arr)\n",
    "print()\n",
    "\n",
    "sort_arr2 = org_arr.sort()\n",
    "print('org_arr.sort() 호출 후 반환된 행렬:', sort_arr2)\n",
    "print('org_arr.sort9) 호출 후 원본 행렬:', org_arr)"
   ]
  },
  {
   "cell_type": "markdown",
   "id": "2d4005e6",
   "metadata": {},
   "source": [
    "### sort()를 하면 기본적으로 오름차순으로 정렬한다.\n",
    "### 내림차순으로 정렬하려면 [::-1] 사용"
   ]
  },
  {
   "cell_type": "code",
   "execution_count": 7,
   "id": "f615f344",
   "metadata": {},
   "outputs": [
    {
     "name": "stdout",
     "output_type": "stream",
     "text": [
      "내림차순으로 정렬: [9 5 3 1]\n"
     ]
    }
   ],
   "source": [
    "sort_arr1_desc = np.sort(org_arr)[::-1]\n",
    "print('내림차순으로 정렬:', sort_arr1_desc)"
   ]
  },
  {
   "cell_type": "markdown",
   "id": "85863bf9",
   "metadata": {},
   "source": [
    "### 2차원 이상일경우 axis로 행 렬 방향 정렬이 가능함"
   ]
  },
  {
   "cell_type": "code",
   "execution_count": 8,
   "id": "bd1bbc01",
   "metadata": {},
   "outputs": [
    {
     "name": "stdout",
     "output_type": "stream",
     "text": [
      "로우 방향으로 정렬:\n",
      " [[ 7  1]\n",
      " [ 8 12]]\n",
      "\n",
      "컬럼 방향으로 정렬:\n",
      " [[ 8 12]\n",
      " [ 1  7]]\n"
     ]
    }
   ],
   "source": [
    "arr2d = np.array([[8, 12],\n",
    "                 [7,1]])\n",
    "\n",
    "sort_arr2d_axis0 = np.sort(arr2d, axis=0)\n",
    "print('로우 방향으로 정렬:\\n', sort_arr2d_axis0)\n",
    "print()\n",
    "\n",
    "sort_arr2d_axis1 = np.sort(arr2d, axis=1)\n",
    "print('컬럼 방향으로 정렬:\\n', sort_arr2d_axis1)"
   ]
  },
  {
   "cell_type": "markdown",
   "id": "a437ad69",
   "metadata": {},
   "source": [
    "### 정렬된 행렬의 인덱스가 알고싶다면?\n",
    "### np.argsort()를 쓴다!\n",
    "### 반환은 ndarray로 된다"
   ]
  },
  {
   "cell_type": "code",
   "execution_count": 3,
   "id": "deb4cb96",
   "metadata": {},
   "outputs": [
    {
     "name": "stdout",
     "output_type": "stream",
     "text": [
      "<class 'numpy.ndarray'>\n",
      "행렬 정렬 시 원본 행렬의 인덱스: [1 0 3 2]\n",
      "[3 1 9 5]\n"
     ]
    }
   ],
   "source": [
    "org_arr = np.array([3,1,9,5])\n",
    "sort_in = np.argsort(org_arr)\n",
    "print(type(sort_in))\n",
    "print('행렬 정렬 시 원본 행렬의 인덱스:', sort_in)\n",
    "print(org_arr)"
   ]
  },
  {
   "cell_type": "markdown",
   "id": "8ebc9808",
   "metadata": {},
   "source": [
    "### 오름차순이 아닌 내림차순으로 졍렬 시 앞에서와 똑같이 [::-1] 붙여준다"
   ]
  },
  {
   "cell_type": "code",
   "execution_count": 11,
   "id": "d5f15a98",
   "metadata": {},
   "outputs": [
    {
     "name": "stdout",
     "output_type": "stream",
     "text": [
      "행렬 내림차순 정렬 시 원본 행렬의 인덱스: [2 3 0 1]\n"
     ]
    }
   ],
   "source": [
    "org_arr = np.array([3,1,9,5])\n",
    "sort_in_desc = np.argsort(org_arr)[::-1]\n",
    "print('행렬 내림차순 정렬 시 원본 행렬의 인덱스:', sort_in_desc)"
   ]
  },
  {
   "cell_type": "code",
   "execution_count": null,
   "id": "8d71c64e",
   "metadata": {},
   "outputs": [],
   "source": []
  }
 ],
 "metadata": {
  "kernelspec": {
   "display_name": "Python 3",
   "language": "python",
   "name": "python3"
  },
  "language_info": {
   "codemirror_mode": {
    "name": "ipython",
    "version": 3
   },
   "file_extension": ".py",
   "mimetype": "text/x-python",
   "name": "python",
   "nbconvert_exporter": "python",
   "pygments_lexer": "ipython3",
   "version": "3.8.8"
  }
 },
 "nbformat": 4,
 "nbformat_minor": 5
}
