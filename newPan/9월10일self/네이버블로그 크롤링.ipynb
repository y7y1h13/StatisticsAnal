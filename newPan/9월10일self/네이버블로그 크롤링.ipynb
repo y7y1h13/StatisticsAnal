{
 "cells": [
  {
   "cell_type": "code",
   "execution_count": 1,
   "id": "bf6e32ae",
   "metadata": {},
   "outputs": [],
   "source": [
    "#모바일로 보기/ pc버전은 크롤링안된다.\n"
   ]
  },
  {
   "cell_type": "code",
   "execution_count": 11,
   "id": "5701ff88",
   "metadata": {},
   "outputs": [
    {
     "data": {
      "text/plain": [
       "'\\n\\n\\n\\n\\n\\n\\n<!DOCTYPE html PUBLIC \"-//W3C//DTD XHTML 1.0 Transitional//EN\" \"http://www.w3.org/TR/xhtml1/DTD/xhtml1-transitional.dtd\">\\n<html lang=\"ko\">\\n<head>\\n<meta http-equiv=\"Pragma\" content=\"no-cache\"/>\\n<meta http-equiv=\"Expires\" content=\"-1\"/>\\n<meta name=\"robots\" content=\"noindex,follow\"/>\\n<meta name=\"referrer\" content=\"always\"/>\\n<meta http-equiv=\"content-type\" content=\"text/html;charset=UTF-8\"/>\\n<meta http-equiv=\"X-UA-Compatible\" content=\"IE=edge,chrome=1\" />\\n<link rel=\"shortcut icon\" type=\"image/x-icon\" href=\"/favicon.ico?3\" />\\n<link rel=\"alternate\" type=\"application/rss+xml\" href=\"https://rss.blog.naver.com/woojehee00.xml\" title=\"RSS feed for woojehee00 Blog\"/>\\n<link rel=\"wlwmanifest\" type=\"application/wlwmanifest+xml\" href=\"https://blog.naver.com/NBlogWlwLayout.naver?blogId=woojehee00\" />\\n\\n\\n\\n\\n<title>Beautiful tomorrow : 네이버 블로그</title>\\n</head>\\n<script type=\"text/javascript\" src=\"https://ssl.pstatic.net/t.static.blog/mylog/versioning/Frameset-584146299_https.js\" charset=\"UTF-8\"></script>\\n\\n<script type=\"text/javascript\" charset=\"UTF-8\">\\nvar photoContent=\"\";\\nvar postContent=\"\";\\n\\nvar videoId \\t  = \"\";\\nvar thumbnail \\t  = \"\";\\nvar inKey \\t\\t  = \"\";\\nvar movieFileSize = \"\";\\nvar playTime \\t  = \"\";\\nvar screenSize \\t  = \"\";\\n\\nvar blogId = \\'woojehee00\\';\\nvar blogURL = \\'https://blog.naver.com\\';\\nvar eventCnt = \\'\\';\\n\\nvar g_ShareObject = {};\\ng_ShareObject.referer = \"\";\\n\\n\\njsMVC.setController(\"framesetTitleController\", FramesetTitleController);\\njsMVC.setController(\"framesetUrlController\", FramesetUrlController);\\njsMVC.setController(\"framesetMusicController\", FramesetMusicController);\\nvar oFramesetTitleController = jsMVC.getController(\"framesetTitleController\");\\nvar oFramesetUrlController = jsMVC.getController(\"framesetUrlController\");\\nvar oFramesetMusicController = jsMVC.getController(\"framesetMusicController\");\\nvar sTitle = document.title;\\n\\nvar topFrameAlert = function(message){\\n\\talert(message);\\n};\\n\\nvar topFrameConfirm = function(message){\\n\\tif(confirm(message)){\\n\\t\\treturn true;\\n\\t} else {\\n\\t\\treturn false;\\n\\t}\\n};\\n</script>\\n<style type=\"text/css\">\\n    html{width:100%;height:100%;}\\n    body{width:100%;height:100%;margin:0;padding:0;font-size:0;}\\n    #mainFrame{width:100%;height:100%;margin:0;padding:0;border:0;}\\n    #hiddenFrame{width:0;height:0;margin:0;padding:0;border:0;}\\n</style>\\n<body>\\n    <iframe id=\"mainFrame\" name=\"mainFrame\" allowfullscreen=\"true\" src=\"/PostView.naver?blogId=woojehee00&logNo=222482005992&redirect=Dlog&widgetTypeCall=true&directAccess=false\" scrolling=\"auto\"  onload=\"oFramesetTitleController.start(self.frames[\\'mainFrame\\'], self, sTitle);oFramesetTitleController.onLoadFrame();oFramesetUrlController.start(self.frames[\\'mainFrame\\']);oFramesetUrlController.onLoadFrame()\" allowfullscreen></iframe>\\n</body>\\n</html>'"
      ]
     },
     "execution_count": 11,
     "metadata": {},
     "output_type": "execute_result"
    }
   ],
   "source": [
    "import requests\n",
    "from bs4 import BeautifulSoup\n",
    "\n",
    "\n",
    "url = 'https://blog.naver.com/woojehee00/222482005992'\n",
    "    \n",
    "page = requests.get(url)\n",
    "html = page.text\n",
    "html"
   ]
  },
  {
   "cell_type": "code",
   "execution_count": 7,
   "id": "bdb688c5",
   "metadata": {},
   "outputs": [
    {
     "data": {
      "text/plain": [
       "'Beautiful tomorrow : 네이버 블로그'"
      ]
     },
     "execution_count": 7,
     "metadata": {},
     "output_type": "execute_result"
    }
   ],
   "source": [
    "soup = BeautifulSoup(html,'lxml')\n",
    "titledata = soup.find('title')\n",
    "titledata.text"
   ]
  },
  {
   "cell_type": "code",
   "execution_count": 8,
   "id": "a1ece3f0",
   "metadata": {},
   "outputs": [],
   "source": [
    "titledata = soup.find('div',{'class': 'se-section se-section-documentTitle se-l-default se-section-align-center'})"
   ]
  },
  {
   "cell_type": "code",
   "execution_count": 10,
   "id": "6b66b463",
   "metadata": {},
   "outputs": [
    {
     "ename": "AttributeError",
     "evalue": "'NoneType' object has no attribute 'find'",
     "output_type": "error",
     "traceback": [
      "\u001b[1;31m---------------------------------------------------------------------------\u001b[0m",
      "\u001b[1;31mAttributeError\u001b[0m                            Traceback (most recent call last)",
      "\u001b[1;32m<ipython-input-10-e0c7185013d7>\u001b[0m in \u001b[0;36m<module>\u001b[1;34m\u001b[0m\n\u001b[1;32m----> 1\u001b[1;33m \u001b[0ma\u001b[0m\u001b[1;33m=\u001b[0m \u001b[0mtitledata\u001b[0m\u001b[1;33m.\u001b[0m\u001b[0mfind\u001b[0m\u001b[1;33m(\u001b[0m\u001b[1;34m'span'\u001b[0m\u001b[1;33m)\u001b[0m\u001b[1;33m.\u001b[0m\u001b[0mtext\u001b[0m\u001b[1;33m\u001b[0m\u001b[1;33m\u001b[0m\u001b[0m\n\u001b[0m\u001b[0;32m      2\u001b[0m \u001b[0ma\u001b[0m\u001b[1;33m\u001b[0m\u001b[1;33m\u001b[0m\u001b[0m\n",
      "\u001b[1;31mAttributeError\u001b[0m: 'NoneType' object has no attribute 'find'"
     ]
    }
   ],
   "source": [
    "titledata.find('span').text"
   ]
  },
  {
   "cell_type": "code",
   "execution_count": null,
   "id": "37c0dd90",
   "metadata": {},
   "outputs": [],
   "source": []
  }
 ],
 "metadata": {
  "kernelspec": {
   "display_name": "Python 3",
   "language": "python",
   "name": "python3"
  },
  "language_info": {
   "codemirror_mode": {
    "name": "ipython",
    "version": 3
   },
   "file_extension": ".py",
   "mimetype": "text/x-python",
   "name": "python",
   "nbconvert_exporter": "python",
   "pygments_lexer": "ipython3",
   "version": "3.8.8"
  }
 },
 "nbformat": 4,
 "nbformat_minor": 5
}
