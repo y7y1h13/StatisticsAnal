{
 "cells": [
  {
   "cell_type": "markdown",
   "id": "bac06bc2",
   "metadata": {},
   "source": [
    "## 1.csv 파일을 불러오세 "
   ]
  },
  {
   "cell_type": "code",
   "execution_count": 37,
   "id": "efa0f89e",
   "metadata": {},
   "outputs": [],
   "source": [
    "import pandas as pd\n",
    "import matplotlib.pyplot as plt\n",
    "from matplotlib import font_manager, rc\n",
    "import matplotlib\n",
    "import platform\n",
    "if platform.system() == 'Windows': \n",
    "    matplotlib.rc('font', family='Malgun Gothic')\n",
    "\n",
    "\n",
    "%matplotlib inline\n",
    "\n",
    "df = pd.read_csv('./data/서울시공공와이파이.csv' , encoding='euc-kr')"
   ]
  },
  {
   "cell_type": "code",
   "execution_count": 32,
   "id": "e05e2ea5",
   "metadata": {
    "scrolled": true
   },
   "outputs": [
    {
     "name": "stdout",
     "output_type": "stream",
     "text": [
      "<class 'pandas.core.frame.DataFrame'>\n",
      "RangeIndex: 13535 entries, 0 to 13534\n",
      "Data columns (total 16 columns):\n",
      " #   Column    Non-Null Count  Dtype  \n",
      "---  ------    --------------  -----  \n",
      " 0   관리번호      13535 non-null  object \n",
      " 1   자치구       13535 non-null  object \n",
      " 2   와이파이명     13535 non-null  object \n",
      " 3   도로명주소     13469 non-null  object \n",
      " 4   상세주소      12101 non-null  object \n",
      " 5   설치위치(층)   4562 non-null   object \n",
      " 6   설치유형      13535 non-null  object \n",
      " 7   설치기관      13535 non-null  object \n",
      " 8   서비스구분     13535 non-null  object \n",
      " 9   망종류       13535 non-null  object \n",
      " 10  설치년도      13535 non-null  int64  \n",
      " 11  실내외구분     13535 non-null  object \n",
      " 12  wifi접속환경  0 non-null      float64\n",
      " 13  X좌표       13535 non-null  float64\n",
      " 14  Y좌표       13535 non-null  float64\n",
      " 15  작업일자      13535 non-null  object \n",
      "dtypes: float64(3), int64(1), object(12)\n",
      "memory usage: 1.7+ MB\n"
     ]
    }
   ],
   "source": [
    "df.info()"
   ]
  },
  {
   "cell_type": "markdown",
   "id": "09254131",
   "metadata": {},
   "source": [
    "각 구별 공공데이터 설치 갯수를 파악하세요"
   ]
  },
  {
   "cell_type": "code",
   "execution_count": 9,
   "id": "0e4b2306",
   "metadata": {
    "scrolled": true
   },
   "outputs": [
    {
     "data": {
      "text/html": [
       "<div>\n",
       "<style scoped>\n",
       "    .dataframe tbody tr th:only-of-type {\n",
       "        vertical-align: middle;\n",
       "    }\n",
       "\n",
       "    .dataframe tbody tr th {\n",
       "        vertical-align: top;\n",
       "    }\n",
       "\n",
       "    .dataframe thead th {\n",
       "        text-align: right;\n",
       "    }\n",
       "</style>\n",
       "<table border=\"1\" class=\"dataframe\">\n",
       "  <thead>\n",
       "    <tr style=\"text-align: right;\">\n",
       "      <th></th>\n",
       "      <th>관리번호</th>\n",
       "      <th>자치구</th>\n",
       "      <th>와이파이명</th>\n",
       "      <th>도로명주소</th>\n",
       "      <th>상세주소</th>\n",
       "      <th>설치위치(층)</th>\n",
       "      <th>설치유형</th>\n",
       "      <th>설치기관</th>\n",
       "      <th>서비스구분</th>\n",
       "      <th>망종류</th>\n",
       "      <th>설치년도</th>\n",
       "      <th>실내외구분</th>\n",
       "      <th>wifi접속환경</th>\n",
       "      <th>X좌표</th>\n",
       "      <th>Y좌표</th>\n",
       "      <th>작업일자</th>\n",
       "    </tr>\n",
       "  </thead>\n",
       "  <tbody>\n",
       "    <tr>\n",
       "      <th>0</th>\n",
       "      <td>ARI00001</td>\n",
       "      <td>서대문구</td>\n",
       "      <td>상수도사업본부</td>\n",
       "      <td>서대문구 서소문로 51</td>\n",
       "      <td>본관 1F</td>\n",
       "      <td>1</td>\n",
       "      <td>7-1. 커뮤니티 - 행정</td>\n",
       "      <td>서울시(AP)</td>\n",
       "      <td>공공WiFi</td>\n",
       "      <td>수도사업소자가망</td>\n",
       "      <td>2014</td>\n",
       "      <td>실내</td>\n",
       "      <td>NaN</td>\n",
       "      <td>126.96675</td>\n",
       "      <td>37.561924</td>\n",
       "      <td>2021-09-06 10:57:42.0</td>\n",
       "    </tr>\n",
       "    <tr>\n",
       "      <th>1</th>\n",
       "      <td>ARI00002</td>\n",
       "      <td>서대문구</td>\n",
       "      <td>상수도사업본부</td>\n",
       "      <td>서대문구 서소문로 51</td>\n",
       "      <td>본관 2F</td>\n",
       "      <td>2</td>\n",
       "      <td>7-1. 커뮤니티 - 행정</td>\n",
       "      <td>서울시(AP)</td>\n",
       "      <td>공공WiFi</td>\n",
       "      <td>수도사업소자가망</td>\n",
       "      <td>2014</td>\n",
       "      <td>실내</td>\n",
       "      <td>NaN</td>\n",
       "      <td>126.96675</td>\n",
       "      <td>37.561924</td>\n",
       "      <td>2021-09-06 10:57:42.0</td>\n",
       "    </tr>\n",
       "    <tr>\n",
       "      <th>2</th>\n",
       "      <td>ARI00003</td>\n",
       "      <td>서대문구</td>\n",
       "      <td>상수도사업본부</td>\n",
       "      <td>서대문구 서소문로 51</td>\n",
       "      <td>본관 2F</td>\n",
       "      <td>2</td>\n",
       "      <td>7-1. 커뮤니티 - 행정</td>\n",
       "      <td>서울시(AP)</td>\n",
       "      <td>공공WiFi</td>\n",
       "      <td>수도사업소자가망</td>\n",
       "      <td>2014</td>\n",
       "      <td>실내</td>\n",
       "      <td>NaN</td>\n",
       "      <td>126.96675</td>\n",
       "      <td>37.561924</td>\n",
       "      <td>2021-09-06 10:57:42.0</td>\n",
       "    </tr>\n",
       "    <tr>\n",
       "      <th>3</th>\n",
       "      <td>ARI00004</td>\n",
       "      <td>서대문구</td>\n",
       "      <td>상수도사업본부</td>\n",
       "      <td>서대문구 서소문로 51</td>\n",
       "      <td>본관 2F</td>\n",
       "      <td>2</td>\n",
       "      <td>7-1. 커뮤니티 - 행정</td>\n",
       "      <td>서울시(AP)</td>\n",
       "      <td>공공WiFi</td>\n",
       "      <td>수도사업소자가망</td>\n",
       "      <td>2014</td>\n",
       "      <td>실내</td>\n",
       "      <td>NaN</td>\n",
       "      <td>126.96675</td>\n",
       "      <td>37.561924</td>\n",
       "      <td>2021-09-06 10:57:42.0</td>\n",
       "    </tr>\n",
       "    <tr>\n",
       "      <th>4</th>\n",
       "      <td>ARI00005</td>\n",
       "      <td>서대문구</td>\n",
       "      <td>상수도사업본부</td>\n",
       "      <td>서대문구 서소문로 51</td>\n",
       "      <td>본관 2F</td>\n",
       "      <td>2</td>\n",
       "      <td>7-1. 커뮤니티 - 행정</td>\n",
       "      <td>서울시(AP)</td>\n",
       "      <td>공공WiFi</td>\n",
       "      <td>수도사업소자가망</td>\n",
       "      <td>2014</td>\n",
       "      <td>실내</td>\n",
       "      <td>NaN</td>\n",
       "      <td>126.96675</td>\n",
       "      <td>37.561924</td>\n",
       "      <td>2021-09-06 10:57:42.0</td>\n",
       "    </tr>\n",
       "  </tbody>\n",
       "</table>\n",
       "</div>"
      ],
      "text/plain": [
       "       관리번호   자치구    와이파이명         도로명주소   상세주소 설치위치(층)            설치유형  \\\n",
       "0  ARI00001  서대문구  상수도사업본부  서대문구 서소문로 51  본관 1F       1  7-1. 커뮤니티 - 행정   \n",
       "1  ARI00002  서대문구  상수도사업본부  서대문구 서소문로 51  본관 2F       2  7-1. 커뮤니티 - 행정   \n",
       "2  ARI00003  서대문구  상수도사업본부  서대문구 서소문로 51  본관 2F       2  7-1. 커뮤니티 - 행정   \n",
       "3  ARI00004  서대문구  상수도사업본부  서대문구 서소문로 51  본관 2F       2  7-1. 커뮤니티 - 행정   \n",
       "4  ARI00005  서대문구  상수도사업본부  서대문구 서소문로 51  본관 2F       2  7-1. 커뮤니티 - 행정   \n",
       "\n",
       "      설치기관   서비스구분       망종류  설치년도 실내외구분  wifi접속환경        X좌표        Y좌표  \\\n",
       "0  서울시(AP)  공공WiFi  수도사업소자가망  2014    실내       NaN  126.96675  37.561924   \n",
       "1  서울시(AP)  공공WiFi  수도사업소자가망  2014    실내       NaN  126.96675  37.561924   \n",
       "2  서울시(AP)  공공WiFi  수도사업소자가망  2014    실내       NaN  126.96675  37.561924   \n",
       "3  서울시(AP)  공공WiFi  수도사업소자가망  2014    실내       NaN  126.96675  37.561924   \n",
       "4  서울시(AP)  공공WiFi  수도사업소자가망  2014    실내       NaN  126.96675  37.561924   \n",
       "\n",
       "                    작업일자  \n",
       "0  2021-09-06 10:57:42.0  \n",
       "1  2021-09-06 10:57:42.0  \n",
       "2  2021-09-06 10:57:42.0  \n",
       "3  2021-09-06 10:57:42.0  \n",
       "4  2021-09-06 10:57:42.0  "
      ]
     },
     "execution_count": 9,
     "metadata": {},
     "output_type": "execute_result"
    }
   ],
   "source": [
    "df.head()"
   ]
  },
  {
   "cell_type": "code",
   "execution_count": 11,
   "id": "0b03b85c",
   "metadata": {},
   "outputs": [
    {
     "data": {
      "text/plain": [
       "자치구\n",
       "강남구      539\n",
       "강동구      433\n",
       "강북구      274\n",
       "강서구     1323\n",
       "과천시       13\n",
       "관악구      292\n",
       "광진구      276\n",
       "구로구      841\n",
       "금천구      445\n",
       "노원구      685\n",
       "도봉구      584\n",
       "동대문구     358\n",
       "동작구      225\n",
       "마포구      704\n",
       "서대문구     513\n",
       "서초구      582\n",
       "성동구      860\n",
       "성북구      247\n",
       "송파구      338\n",
       "양천구      616\n",
       "영등포구     456\n",
       "용산구      433\n",
       "은평구      931\n",
       "종로구      277\n",
       "중구       983\n",
       "중랑구      307\n",
       "Name: 관리번호, dtype: int64"
      ]
     },
     "execution_count": 11,
     "metadata": {},
     "output_type": "execute_result"
    }
   ],
   "source": [
    "wifidata = df.groupby(df['자치구']).count().관리번호\n",
    "wifidata"
   ]
  },
  {
   "cell_type": "code",
   "execution_count": 14,
   "id": "def65102",
   "metadata": {},
   "outputs": [
    {
     "data": {
      "text/plain": [
       "{'서대문구': 513,\n",
       " '중구': 983,\n",
       " '성동구': 860,\n",
       " '강북구': 274,\n",
       " '양천구': 616,\n",
       " '동작구': 225,\n",
       " '강남구': 539,\n",
       " '강동구': 433,\n",
       " '광진구': 276,\n",
       " '강서구': 1323,\n",
       " '관악구': 292,\n",
       " '구로구': 841,\n",
       " '금천구': 445,\n",
       " '노원구': 685,\n",
       " '도봉구': 584,\n",
       " '동대문구': 358,\n",
       " '마포구': 704,\n",
       " '서초구': 582,\n",
       " '성북구': 247,\n",
       " '송파구': 338,\n",
       " '영등포구': 456,\n",
       " '용산구': 433,\n",
       " '은평구': 931,\n",
       " '종로구': 277,\n",
       " '중랑구': 307,\n",
       " '과천시': 13}"
      ]
     },
     "execution_count": 14,
     "metadata": {},
     "output_type": "execute_result"
    }
   ],
   "source": [
    "wifidict = {}\n",
    "\n",
    "for temp in df['자치구']:\n",
    "    if temp in wifidict:\n",
    "        wifidict[temp] = wifidict[temp] + 1\n",
    "    else :\n",
    "        wifidict[temp] = 1\n",
    "        \n",
    "wifidict\n"
   ]
  },
  {
   "cell_type": "code",
   "execution_count": 41,
   "id": "7633c4a7",
   "metadata": {},
   "outputs": [],
   "source": [
    "wifidata = df.value_counts(df['자치구'])\n",
    "wdf = pd.DataFrame(wifidata)\n",
    "wdf = wdf.rename(columns={0:'설치현황'})"
   ]
  },
  {
   "cell_type": "code",
   "execution_count": 42,
   "id": "0cd8431a",
   "metadata": {},
   "outputs": [
    {
     "data": {
      "text/plain": [
       "<AxesSubplot:title={'center':'서울시 구별 wifi 현황'}, xlabel='자치구'>"
      ]
     },
     "execution_count": 42,
     "metadata": {},
     "output_type": "execute_result"
    },
    {
     "data": {
      "image/png": "[encoded data removed]",
      "text/plain": [
       "<Figure size 432x288 with 1 Axes>"
      ]
     },
     "metadata": {
      "needs_background": "light"
     },
     "output_type": "display_data"
    }
   ],
   "source": [
    "wdf.plot(kind='bar' , label ='구' , legend=True, title='서울시 구별 wifi 현황')"
   ]
  },
  {
   "cell_type": "code",
   "execution_count": 56,
   "id": "407affc5",
   "metadata": {},
   "outputs": [
    {
     "data": {
      "image/png": "[encoded data removed]",
      "text/plain": [
       "<Figure size 1224x576 with 1 Axes>"
      ]
     },
     "metadata": {
      "needs_background": "light"
     },
     "output_type": "display_data"
    }
   ],
   "source": [
    "import seaborn as sns\n",
    "\n",
    "plt.figure(figsize=(17,8))\n",
    "bp = sns.barplot(x=wdf.index , y='설치현황' , data = wdf)\n",
    "bp.set_title('서울시 공공wifi 현황', fontsize=30)\n",
    "bp.set_xlabel('지역명',fontsize=20)\n",
    "bp.set_ylabel('설치수(개)',fontsize=20)\n",
    "\n",
    "for temp in bp.patches:\n",
    "    bp.annotate('%d'%temp.get_height(), (temp.get_x()+temp.get_width()/2 , temp.get_height()) , ha = 'center' , va='bottom')\n",
    "\n",
    "plt.grid(axis='y' , alpha=0.5)\n",
    "plt.show()"
   ]
  },
  {
   "cell_type": "code",
   "execution_count": 44,
   "id": "715fe29b",
   "metadata": {},
   "outputs": [
    {
     "data": {
      "text/plain": [
       "Index(['강서구', '중구', '은평구', '성동구', '구로구', '마포구', '노원구', '양천구', '도봉구', '서초구',\n",
       "       '강남구', '서대문구', '영등포구', '금천구', '강동구', '용산구', '동대문구', '송파구', '중랑구', '관악구',\n",
       "       '종로구', '광진구', '강북구', '성북구', '동작구', '과천시'],\n",
       "      dtype='object', name='자치구')"
      ]
     },
     "execution_count": 44,
     "metadata": {},
     "output_type": "execute_result"
    }
   ],
   "source": [
    "wdf.index"
   ]
  },
  {
   "cell_type": "code",
   "execution_count": 52,
   "id": "4630cc97",
   "metadata": {},
   "outputs": [
    {
     "name": "stdout",
     "output_type": "stream",
     "text": [
      "Rectangle(xy=(-0.4, 0), width=0.8, height=1323, angle=0)\n",
      "Rectangle(xy=(0.6, 0), width=0.8, height=983, angle=0)\n",
      "Rectangle(xy=(1.6, 0), width=0.8, height=931, angle=0)\n",
      "Rectangle(xy=(2.6, 0), width=0.8, height=860, angle=0)\n",
      "Rectangle(xy=(3.6, 0), width=0.8, height=841, angle=0)\n",
      "Rectangle(xy=(4.6, 0), width=0.8, height=704, angle=0)\n",
      "Rectangle(xy=(5.6, 0), width=0.8, height=685, angle=0)\n",
      "Rectangle(xy=(6.6, 0), width=0.8, height=616, angle=0)\n",
      "Rectangle(xy=(7.6, 0), width=0.8, height=584, angle=0)\n",
      "Rectangle(xy=(8.6, 0), width=0.8, height=582, angle=0)\n",
      "Rectangle(xy=(9.6, 0), width=0.8, height=539, angle=0)\n",
      "Rectangle(xy=(10.6, 0), width=0.8, height=513, angle=0)\n",
      "Rectangle(xy=(11.6, 0), width=0.8, height=456, angle=0)\n",
      "Rectangle(xy=(12.6, 0), width=0.8, height=445, angle=0)\n",
      "Rectangle(xy=(13.6, 0), width=0.8, height=433, angle=0)\n",
      "Rectangle(xy=(14.6, 0), width=0.8, height=433, angle=0)\n",
      "Rectangle(xy=(15.6, 0), width=0.8, height=358, angle=0)\n",
      "Rectangle(xy=(16.6, 0), width=0.8, height=338, angle=0)\n",
      "Rectangle(xy=(17.6, 0), width=0.8, height=307, angle=0)\n",
      "Rectangle(xy=(18.6, 0), width=0.8, height=292, angle=0)\n",
      "Rectangle(xy=(19.6, 0), width=0.8, height=277, angle=0)\n",
      "Rectangle(xy=(20.6, 0), width=0.8, height=276, angle=0)\n",
      "Rectangle(xy=(21.6, 0), width=0.8, height=274, angle=0)\n",
      "Rectangle(xy=(22.6, 0), width=0.8, height=247, angle=0)\n",
      "Rectangle(xy=(23.6, 0), width=0.8, height=225, angle=0)\n",
      "Rectangle(xy=(24.6, 0), width=0.8, height=13, angle=0)\n"
     ]
    }
   ],
   "source": [
    "for temp in bp.patches:\n",
    "    print(temp)"
   ]
  },
  {
   "cell_type": "code",
   "execution_count": 57,
   "id": "6e969d11",
   "metadata": {},
   "outputs": [
    {
     "data": {
      "text/html": [
       "<div>\n",
       "<style scoped>\n",
       "    .dataframe tbody tr th:only-of-type {\n",
       "        vertical-align: middle;\n",
       "    }\n",
       "\n",
       "    .dataframe tbody tr th {\n",
       "        vertical-align: top;\n",
       "    }\n",
       "\n",
       "    .dataframe thead th {\n",
       "        text-align: right;\n",
       "    }\n",
       "</style>\n",
       "<table border=\"1\" class=\"dataframe\">\n",
       "  <thead>\n",
       "    <tr style=\"text-align: right;\">\n",
       "      <th></th>\n",
       "      <th>설치년도</th>\n",
       "      <th>wifi접속환경</th>\n",
       "      <th>X좌표</th>\n",
       "      <th>Y좌표</th>\n",
       "    </tr>\n",
       "  </thead>\n",
       "  <tbody>\n",
       "    <tr>\n",
       "      <th>count</th>\n",
       "      <td>13535.000000</td>\n",
       "      <td>0.0</td>\n",
       "      <td>13535.000000</td>\n",
       "      <td>13535.000000</td>\n",
       "    </tr>\n",
       "    <tr>\n",
       "      <th>mean</th>\n",
       "      <td>2018.292870</td>\n",
       "      <td>NaN</td>\n",
       "      <td>126.970124</td>\n",
       "      <td>37.561020</td>\n",
       "    </tr>\n",
       "    <tr>\n",
       "      <th>std</th>\n",
       "      <td>2.323909</td>\n",
       "      <td>NaN</td>\n",
       "      <td>0.087563</td>\n",
       "      <td>0.771491</td>\n",
       "    </tr>\n",
       "    <tr>\n",
       "      <th>min</th>\n",
       "      <td>2007.000000</td>\n",
       "      <td>NaN</td>\n",
       "      <td>126.795650</td>\n",
       "      <td>37.430710</td>\n",
       "    </tr>\n",
       "    <tr>\n",
       "      <th>25%</th>\n",
       "      <td>2017.000000</td>\n",
       "      <td>NaN</td>\n",
       "      <td>126.896386</td>\n",
       "      <td>37.516504</td>\n",
       "    </tr>\n",
       "    <tr>\n",
       "      <th>50%</th>\n",
       "      <td>2019.000000</td>\n",
       "      <td>NaN</td>\n",
       "      <td>126.974686</td>\n",
       "      <td>37.556220</td>\n",
       "    </tr>\n",
       "    <tr>\n",
       "      <th>75%</th>\n",
       "      <td>2020.000000</td>\n",
       "      <td>NaN</td>\n",
       "      <td>127.043633</td>\n",
       "      <td>37.579193</td>\n",
       "    </tr>\n",
       "    <tr>\n",
       "      <th>max</th>\n",
       "      <td>2021.000000</td>\n",
       "      <td>NaN</td>\n",
       "      <td>127.179900</td>\n",
       "      <td>127.101166</td>\n",
       "    </tr>\n",
       "  </tbody>\n",
       "</table>\n",
       "</div>"
      ],
      "text/plain": [
       "               설치년도  wifi접속환경           X좌표           Y좌표\n",
       "count  13535.000000       0.0  13535.000000  13535.000000\n",
       "mean    2018.292870       NaN    126.970124     37.561020\n",
       "std        2.323909       NaN      0.087563      0.771491\n",
       "min     2007.000000       NaN    126.795650     37.430710\n",
       "25%     2017.000000       NaN    126.896386     37.516504\n",
       "50%     2019.000000       NaN    126.974686     37.556220\n",
       "75%     2020.000000       NaN    127.043633     37.579193\n",
       "max     2021.000000       NaN    127.179900    127.101166"
      ]
     },
     "execution_count": 57,
     "metadata": {},
     "output_type": "execute_result"
    }
   ],
   "source": [
    "df.describe()"
   ]
  },
  {
   "cell_type": "code",
   "execution_count": null,
   "id": "f26bbb68",
   "metadata": {},
   "outputs": [],
   "source": []
  }
 ],
 "metadata": {
  "kernelspec": {
   "display_name": "Python 3",
   "language": "python",
   "name": "python3"
  },
  "language_info": {
   "codemirror_mode": {
    "name": "ipython",
    "version": 3
   },
   "file_extension": ".py",
   "mimetype": "text/x-python",
   "name": "python",
   "nbconvert_exporter": "python",
   "pygments_lexer": "ipython3",
   "version": "3.8.8"
  }
 },
 "nbformat": 4,
 "nbformat_minor": 5
}
