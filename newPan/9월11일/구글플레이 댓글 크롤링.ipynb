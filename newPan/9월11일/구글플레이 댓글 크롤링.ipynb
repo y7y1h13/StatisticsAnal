{
 "cells": [
  {
   "cell_type": "code",
   "execution_count": 18,
   "id": "8b045254",
   "metadata": {},
   "outputs": [
    {
     "name": "stdout",
     "output_type": "stream",
     "text": [
      "더보기 없음\n",
      "더보기 없음\n",
      "더보기 없음\n",
      "더보기 없음\n",
      "더보기 없음\n",
      "더보기 없음\n",
      "더보기 없음\n"
     ]
    },
    {
     "data": {
      "text/plain": [
       "[]"
      ]
     },
     "execution_count": 18,
     "metadata": {},
     "output_type": "execute_result"
    }
   ],
   "source": [
    "from selenium import webdriver\n",
    "import time\n",
    "from bs4 import BeautifulSoup\n",
    "import pandas as pd\n",
    "import requests\n",
    "import json\n",
    "\n",
    "\n",
    "url = 'https://play.google.com/store/apps/details?id=com.towneers.www&showAllReviews=true'\n",
    "\n",
    "\n",
    "driver = webdriver.Chrome('chromedriver.exe')#크롬드라이버 로드\n",
    "driver.implicitly_wait(1)#딜레이\n",
    "driver.get(url)\n",
    "time.sleep(3) #3초 딜레이\n",
    "\n",
    "\n",
    "for i in range(0, 10):#계속해서 스크롤만 내리는 역할\n",
    "    #스크롤바의 시작지점\n",
    "    sheight = (driver.execute_script('return document.body.scrollHeight'))\n",
    "   \n",
    "    #스크롤바를 화면 밑으로 내림\n",
    "    driver.execute_script('window.scrollTo(0, document.body.scrollHeight);')\n",
    "    \n",
    "    time.sleep(2)\n",
    "    #현재 스크롤바 위치 저장\n",
    "    lastheight = (driver.execute_script('return document.body.scrollHeight'))\n",
    "    \n",
    "    #시작지점과 마지막 지점이 일치하면\n",
    "    if sheight == lastheight:\n",
    "        #크롤링 멈추는거 대비\n",
    "        try:\n",
    "            driver.findelement_by_class_name('Cwak9').click()\n",
    "            time.sleep(2)\n",
    "        \n",
    "        except:\n",
    "            print('더보기 없음')\n",
    "\n",
    "html = driver.page_source\n",
    "soup = BeautifulSoup(html,'lxml')\n",
    "result = soup.find_all('span',{'jsname':'bn97Pc'})"
   ]
  }
 ],
 "metadata": {
  "kernelspec": {
   "display_name": "Python 3",
   "language": "python",
   "name": "python3"
  },
  "language_info": {
   "codemirror_mode": {
    "name": "ipython",
    "version": 3
   },
   "file_extension": ".py",
   "mimetype": "text/x-python",
   "name": "python",
   "nbconvert_exporter": "python",
   "pygments_lexer": "ipython3",
   "version": "3.8.8"
  }
 },
 "nbformat": 4,
 "nbformat_minor": 5
}
