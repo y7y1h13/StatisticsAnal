{
 "cells": [
  {
   "cell_type": "markdown",
   "id": "688ba219",
   "metadata": {},
   "source": [
    "# 넘파이 시작"
   ]
  },
  {
   "cell_type": "markdown",
   "id": "8db2ca57",
   "metadata": {},
   "source": [
    ">넘파이의 기반 데이터 타입은 ndarray\n",
    "ndarray를 이용해 넘파이에서 다차워 배열을 쉽게 생성하고 다양한 연산 수행가능"
   ]
  },
  {
   "cell_type": "code",
   "execution_count": 5,
   "id": "2ed428f3",
   "metadata": {},
   "outputs": [],
   "source": [
    "import numpy as np #넘파이 임포트 as의 의미는 사용할때 마다 numpy라고 쓰면 불편하니까 줄여서 쓰겠다라고 정의해주는 것"
   ]
  },
  {
   "cell_type": "markdown",
   "id": "65fe3d15",
   "metadata": {},
   "source": [
    "## array()\n",
    ">넘파이의 array()함수는 파이썬 리스트와 같은 다양한 인자를 입력 받아 ndarray로 변환해준다.\n",
    "ndarray 배열의 shape변수는 ndarray의 크기, 즉 행과 열의 수를 튜플로 가지고 있어서 ndarray배열의 차원까지 알 수 있다"
   ]
  },
  {
   "cell_type": "code",
   "execution_count": 11,
   "id": "7c6ed014",
   "metadata": {},
   "outputs": [
    {
     "name": "stdout",
     "output_type": "stream",
     "text": [
      "<class 'numpy.ndarray'>\n",
      "(3,)\n"
     ]
    }
   ],
   "source": [
    "arr1 = np.array([1,2,3]) # 1차원\n",
    "print(type(arr1)) # arr1의 타입\n",
    "print(arr1.shape) # arr1의 모양(차원)"
   ]
  },
  {
   "cell_type": "code",
   "execution_count": 12,
   "id": "306a0bcc",
   "metadata": {},
   "outputs": [
    {
     "name": "stdout",
     "output_type": "stream",
     "text": [
      "<class 'numpy.ndarray'>\n",
      "(2, 3)\n"
     ]
    }
   ],
   "source": [
    "arr2 = np.array([[1,2,3],\n",
    "                 [2,3,4]]) # 2차원\n",
    "print(type(arr2)) # arr2의 타입\n",
    "print(arr2.shape) # arr2의 모양(차원)"
   ]
  },
  {
   "cell_type": "code",
   "execution_count": 13,
   "id": "ca5f6480",
   "metadata": {},
   "outputs": [
    {
     "name": "stdout",
     "output_type": "stream",
     "text": [
      "<class 'numpy.ndarray'>\n",
      "(1, 3)\n"
     ]
    }
   ],
   "source": [
    "arr3 = np.array([[1,2,3]]) # 이렇게 써도 2차원\n",
    "print(type(arr3))\n",
    "print(arr3.shape)"
   ]
  },
  {
   "cell_type": "code",
   "execution_count": 28,
   "id": "62a71959",
   "metadata": {},
   "outputs": [
    {
     "data": {
      "text/plain": [
       "3"
      ]
     },
     "execution_count": 28,
     "metadata": {},
     "output_type": "execute_result"
    }
   ],
   "source": [
    "arr4 = np.array([[[ 0, 1], [ 2, 3], [ 4, 5]], \n",
    "                 [[ 6, 7], [ 8, 9], [10, 11]], \n",
    "                 [[12, 13], [14, 15], [16, 17]],\n",
    "                 [[18, 19], [20, 21], [22, 23]]]) # 3차원\n",
    "\n",
    "arr4.shape"
   ]
  },
  {
   "cell_type": "markdown",
   "id": "85b36972",
   "metadata": {},
   "source": [
    "###  차원이 다른 데이터를 입출력 변환을 하면 오류가 난다!"
   ]
  },
  {
   "cell_type": "code",
   "execution_count": 27,
   "id": "708d5c39",
   "metadata": {},
   "outputs": [
    {
     "name": "stdout",
     "output_type": "stream",
     "text": [
      "array1:1차원, array2:2차원, array3: 2차원, array4:  3차원\n"
     ]
    }
   ],
   "source": [
    "print('array1:{:0}차원, array2:{:1}차원, array3:{:2}차원, array4:{:3}차원'.format(arr1.ndim, arr2.ndim, arr3.ndim, arr4.ndim))"
   ]
  },
  {
   "cell_type": "markdown",
   "id": "038f0559",
   "metadata": {},
   "source": [
    "### [ ] : 1차원, [[ ]] : 2차원 [[[ ]]] : 3차원 ..... / ndim은 차원을 알려준다.\n",
    "### ndarray내의 데이터값은 숫자 문자 다 가능함.\n",
    "### 같은 데이터 타입만 가능하다, 즉 ndarray안에 int와 float 같이 못씀\n",
    "### 속성은 dtype로 확인가능"
   ]
  },
  {
   "cell_type": "code",
   "execution_count": 6,
   "id": "ba0c5f79",
   "metadata": {},
   "outputs": [
    {
     "name": "stdout",
     "output_type": "stream",
     "text": [
      "<class 'list'>\n",
      "<class 'numpy.ndarray'>\n",
      "[1 2 3] int32\n"
     ]
    }
   ],
   "source": [
    "list1 = [1,2,3]\n",
    "print(type(list1)) # 리스트\n",
    "arr1 = np.array(list1) # 리스트를 ndarray로 변환\n",
    "print(type(arr1)) # 타입 출력\n",
    "print(arr1, arr1.dtype) # 속성 데이터타입 출력"
   ]
  },
  {
   "cell_type": "code",
   "execution_count": 3,
   "id": "dd24d83f",
   "metadata": {},
   "outputs": [
    {
     "data": {
      "text/plain": [
       "bool"
      ]
     },
     "execution_count": 3,
     "metadata": {},
     "output_type": "execute_result"
    }
   ],
   "source": [
    "a = True\n",
    "type(a)"
   ]
  },
  {
   "cell_type": "markdown",
   "id": "dca23dfc",
   "metadata": {},
   "source": [
    "### 만약 데이터 타입이 섞이면 가장 큰 데이터타입으로 형변환을 일괄 적용한다."
   ]
  },
  {
   "cell_type": "code",
   "execution_count": 9,
   "id": "f3084bde",
   "metadata": {},
   "outputs": [
    {
     "data": {
      "text/plain": [
       "dtype('<U11')"
      ]
     },
     "execution_count": 9,
     "metadata": {},
     "output_type": "execute_result"
    }
   ],
   "source": [
    "list2 = [1,2,'test']\n",
    "arr2 = np.array(list2)\n",
    "arr2.dtype"
   ]
  },
  {
   "cell_type": "code",
   "execution_count": 33,
   "id": "37ba807a",
   "metadata": {},
   "outputs": [
    {
     "name": "stdout",
     "output_type": "stream",
     "text": [
      "[1. 2. 3.] float64\n"
     ]
    }
   ],
   "source": [
    "list3 = [1,2,3.0]\n",
    "arr3 = np.array(list3)\n",
    "print(arr3, arr3.dtype)"
   ]
  },
  {
   "cell_type": "markdown",
   "id": "fc3d3e7b",
   "metadata": {},
   "source": [
    "### 데이터값의 타입변경은 astype()으로 가능"
   ]
  },
  {
   "cell_type": "code",
   "execution_count": 34,
   "id": "5b0eb40c",
   "metadata": {},
   "outputs": [
    {
     "name": "stdout",
     "output_type": "stream",
     "text": [
      "[1. 2. 3.] float64\n"
     ]
    }
   ],
   "source": [
    "array_int = np.array([1, 2, 3]) #int생성\n",
    "array_float = array_int.astype('float64') #float로 변경\n",
    "print(array_float, array_float.dtype)"
   ]
  },
  {
   "cell_type": "code",
   "execution_count": 35,
   "id": "1baaf579",
   "metadata": {},
   "outputs": [
    {
     "name": "stdout",
     "output_type": "stream",
     "text": [
      "[1 2 3] int32\n"
     ]
    }
   ],
   "source": [
    "array_int1 = array_float.astype('int32') #int로변경\n",
    "print(array_int1, array_int1.dtype)"
   ]
  },
  {
   "cell_type": "code",
   "execution_count": 36,
   "id": "dd4b4eb9",
   "metadata": {},
   "outputs": [
    {
     "name": "stdout",
     "output_type": "stream",
     "text": [
      "[1 2 3] int32\n"
     ]
    }
   ],
   "source": [
    "array_float1 = np.array([1.1,2.1,3.1]) #float\n",
    "array_int2 = array_float1.astype('int32') #int로변경\n",
    "print(array_int2, array_int2.dtype)"
   ]
  },
  {
   "cell_type": "markdown",
   "id": "34b67059",
   "metadata": {},
   "source": [
    "### ndarray 편하게 생성하려면 arange, zeros, ones 를 잘 활용해야함.\n",
    "### arange()는 순차적으로 데이터값으로 변환.\n",
    "### 기본형식 = np.arange(시작값, 끝값, 어떤간격(step))\n",
    "### 시작값이 생략되면 0부터 시작하고 step이 생략되면 기본값인 1이 들어간다"
   ]
  },
  {
   "cell_type": "code",
   "execution_count": 10,
   "id": "3c83e78e",
   "metadata": {},
   "outputs": [
    {
     "name": "stdout",
     "output_type": "stream",
     "text": [
      "[1 2 3 4 5 6 7 8 9]\n",
      "int32 (9,)\n"
     ]
    }
   ],
   "source": [
    "seq = np.arange(1,10) # 시작값이 생략되어있다. 생략되면 0부터 setp도 생략 1이 들어감\n",
    "#0~10 까지 1간격으로 생성 / 10은 포함안된다.\n",
    "print(seq)\n",
    "print(seq.dtype, seq.shape) #seq의 type과 모양 알려줌"
   ]
  },
  {
   "cell_type": "markdown",
   "id": "9ce867be",
   "metadata": {},
   "source": [
    "### zeros()는 함수 인자로 shape 값을 입력하면 모든 값을 0으로 채워준다.\n",
    "### 기본형식 : np.zeros((모양), dtype='데이터타입')"
   ]
  },
  {
   "cell_type": "code",
   "execution_count": 39,
   "id": "ec363874",
   "metadata": {},
   "outputs": [
    {
     "name": "stdout",
     "output_type": "stream",
     "text": [
      "[[0 0]\n",
      " [0 0]\n",
      " [0 0]]\n",
      "int32 (3, 2)\n"
     ]
    }
   ],
   "source": [
    "ze = np.zeros((3,2), dtype='int32') # 3행2열 모양으로 만들고 0으로 채워준다. 타입은 int32\n",
    "print(ze)\n",
    "print(ze.dtype, ze.shape) # type과 shape 출력 / 처음에 적어준 모양대로 shape값이 출력된다."
   ]
  },
  {
   "cell_type": "code",
   "execution_count": 40,
   "id": "1b77ebf3",
   "metadata": {},
   "outputs": [
    {
     "name": "stdout",
     "output_type": "stream",
     "text": [
      "int32\n"
     ]
    }
   ],
   "source": [
    "a = np.zeros((3,2)) #dtype생략하면 int로 자동설정된다.\n",
    "print(ze.dtype)"
   ]
  },
  {
   "cell_type": "markdown",
   "id": "270def7d",
   "metadata": {},
   "source": [
    "### ones()는 zeros와 똑같으나 0대신 1로 채워서 만들어준다."
   ]
  },
  {
   "cell_type": "code",
   "execution_count": 41,
   "id": "0f57b6ad",
   "metadata": {},
   "outputs": [
    {
     "name": "stdout",
     "output_type": "stream",
     "text": [
      "[[1. 1.]\n",
      " [1. 1.]\n",
      " [1. 1.]]\n",
      "float64 (3, 2)\n"
     ]
    }
   ],
   "source": [
    "one = np.ones((3,2))\n",
    "print(one)\n",
    "print(one.dtype, one.shape)"
   ]
  },
  {
   "cell_type": "markdown",
   "id": "6d9843c7",
   "metadata": {},
   "source": [
    "### np.empty() 쓰레기값으로 초기화 해준다."
   ]
  },
  {
   "cell_type": "code",
   "execution_count": 53,
   "id": "fa307598",
   "metadata": {},
   "outputs": [
    {
     "name": "stdout",
     "output_type": "stream",
     "text": [
      "[[1. 1.]\n",
      " [1. 1.]\n",
      " [1. 1.]]\n"
     ]
    }
   ],
   "source": [
    "k = np.empty((3,2))\n",
    "print(a)"
   ]
  },
  {
   "cell_type": "markdown",
   "id": "ed9e401b",
   "metadata": {},
   "source": [
    "### np.full() 은 지정된 값으로 채워준다"
   ]
  },
  {
   "cell_type": "code",
   "execution_count": 56,
   "id": "f555b9c2",
   "metadata": {},
   "outputs": [
    {
     "name": "stdout",
     "output_type": "stream",
     "text": [
      "[[7 7 7 7 7]\n",
      " [7 7 7 7 7]\n",
      " [7 7 7 7 7]]\n"
     ]
    }
   ],
   "source": [
    "b = np.full((3,5),7) # 3행5열을 7로 다채워!\n",
    "print(b)"
   ]
  },
  {
   "cell_type": "markdown",
   "id": "17bb52ad",
   "metadata": {},
   "source": [
    "### np.eye() 는 단위행렬을 만들어준다.\n",
    "### 단위행렬? A행렬 X 단위행렬 = A \n",
    "### 어떤 행렬과 곱하면 자기자신이 나온다"
   ]
  },
  {
   "cell_type": "code",
   "execution_count": 60,
   "id": "85b3cd7f",
   "metadata": {},
   "outputs": [
    {
     "name": "stdout",
     "output_type": "stream",
     "text": [
      "[[1. 0. 0.]\n",
      " [0. 1. 0.]\n",
      " [0. 0. 1.]]\n"
     ]
    }
   ],
   "source": [
    "e = np.eye(3)\n",
    "print(e)"
   ]
  },
  {
   "cell_type": "markdown",
   "id": "23a5fe7f",
   "metadata": {},
   "source": [
    "### np.linspace() : arange와 유사하지만 균등한 간격을 둔 시퀸스 생성\n",
    "### 기본형식 : np.linspace(start, stop, num, endpoint, dtype)\n",
    "#### start : 시작값\n",
    "#### stop : 마지막값\n",
    "#### num : 전체 갯수 / 기본값은 50이다\n",
    "#### endpoin : stop값을 포함시킬지\n",
    "#### dtype : type을 지정"
   ]
  },
  {
   "cell_type": "code",
   "execution_count": 64,
   "id": "309d3d2f",
   "metadata": {},
   "outputs": [
    {
     "name": "stdout",
     "output_type": "stream",
     "text": [
      "[1.   3.25 5.5  7.75]\n",
      "[ 1.  4.  7. 10.]\n"
     ]
    }
   ],
   "source": [
    "a = np.linspace(1, 10, 4, endpoint=False) # 10 포함 x\n",
    "print(a)\n",
    "\n",
    "b = np.linspace(1, 10 , 4, endpoint=True) # 10 포함 o\n",
    "print(b)"
   ]
  },
  {
   "cell_type": "markdown",
   "id": "cb7b7651",
   "metadata": {},
   "source": [
    "### random 써서 ndarray 만들기"
   ]
  },
  {
   "cell_type": "code",
   "execution_count": 12,
   "id": "6f9ff641",
   "metadata": {},
   "outputs": [
    {
     "data": {
      "text/plain": [
       "array([[[0.88387405, 0.02557828, 0.64258956],\n",
       "        [0.74533272, 0.59711451, 0.11956338],\n",
       "        [0.99585705, 0.42997101, 0.92622113],\n",
       "        [0.87140547, 0.42523316, 0.38141891],\n",
       "        [0.19310873, 0.69360337, 0.56672521]],\n",
       "\n",
       "       [[0.95004793, 0.44578306, 0.75150674],\n",
       "        [0.71019721, 0.63286259, 0.95826963],\n",
       "        [0.21276196, 0.01708355, 0.53271069],\n",
       "        [0.4522597 , 0.98687426, 0.96209366],\n",
       "        [0.14478066, 0.06732973, 0.43799458]],\n",
       "\n",
       "       [[0.55353089, 0.04479332, 0.31578532],\n",
       "        [0.13806708, 0.23436765, 0.68259531],\n",
       "        [0.40850702, 0.0862441 , 0.42327164],\n",
       "        [0.50066659, 0.87662943, 0.67507183],\n",
       "        [0.26340366, 0.06727427, 0.53806156]],\n",
       "\n",
       "       [[0.70914135, 0.23920355, 0.00377609],\n",
       "        [0.06348479, 0.54330751, 0.57159103],\n",
       "        [0.26654441, 0.27983524, 0.51396562],\n",
       "        [0.27613386, 0.59221157, 0.53521823],\n",
       "        [0.77847861, 0.78516016, 0.6343229 ]]])"
      ]
     },
     "execution_count": 12,
     "metadata": {},
     "output_type": "execute_result"
    }
   ],
   "source": [
    "np.random.rand(4,5,3) # 0~1 사이에 분포로 랜덤한 ndarray 생성"
   ]
  },
  {
   "cell_type": "markdown",
   "id": "a390ad3b",
   "metadata": {},
   "source": [
    "### randn 함수\n",
    "### n = 정규분포\n",
    "### 정규분포로 샘플링된 랜덤 ndarray 생성"
   ]
  },
  {
   "cell_type": "code",
   "execution_count": 13,
   "id": "69ac453b",
   "metadata": {},
   "outputs": [
    {
     "data": {
      "text/plain": [
       "array([ 1.13207842,  1.09749716, -1.4171171 ,  1.8417992 , -0.17318822])"
      ]
     },
     "execution_count": 13,
     "metadata": {},
     "output_type": "execute_result"
    }
   ],
   "source": [
    "np.random.randn(5)"
   ]
  },
  {
   "cell_type": "code",
   "execution_count": 14,
   "id": "5fb38e34",
   "metadata": {},
   "outputs": [
    {
     "data": {
      "text/plain": [
       "array([[[ 0.89651894, -1.4133683 ],\n",
       "        [-0.38151104, -0.37371451],\n",
       "        [-0.79749611, -0.88531562],\n",
       "        [-1.38614207, -1.70291762]],\n",
       "\n",
       "       [[-0.6139104 , -1.12055672],\n",
       "        [-0.89797542,  0.21901616],\n",
       "        [-0.18746359, -0.43663057],\n",
       "        [-1.00989619,  0.56085446]],\n",
       "\n",
       "       [[ 0.30493073,  1.46559685],\n",
       "        [-0.15003833, -0.45986577],\n",
       "        [ 1.24656084,  0.30093946],\n",
       "        [ 1.25452429,  0.05954225]]])"
      ]
     },
     "execution_count": 14,
     "metadata": {},
     "output_type": "execute_result"
    }
   ],
   "source": [
    "np.random.randn(3, 4, 2)"
   ]
  },
  {
   "cell_type": "markdown",
   "id": "a4b3cc42",
   "metadata": {},
   "source": [
    "### randint 함수\n",
    "### 특정 정수 사이에서 랜덤하게 샘플링"
   ]
  },
  {
   "cell_type": "code",
   "execution_count": 16,
   "id": "e7d6ad94",
   "metadata": {},
   "outputs": [
    {
     "data": {
      "text/plain": [
       "array([20, 66, 91, 47, 71])"
      ]
     },
     "execution_count": 16,
     "metadata": {},
     "output_type": "execute_result"
    }
   ],
   "source": [
    "np.random.randint(1, 100, size=(5,)) # 1~100 사이 1차원으로"
   ]
  },
  {
   "cell_type": "markdown",
   "id": "ac2fda0b",
   "metadata": {},
   "source": [
    "### seed함수\n",
    "### 랜덤한 값을 동일하게 다시 생성하고자 할 때"
   ]
  },
  {
   "cell_type": "code",
   "execution_count": 17,
   "id": "361950a6",
   "metadata": {},
   "outputs": [
    {
     "data": {
      "text/plain": [
       "array([[ 0.66698806,  0.02581308, -0.77761941,  0.94863382],\n",
       "       [ 0.70167179, -1.05108156, -0.36754812, -1.13745969],\n",
       "       [-1.32214752,  1.77225828, -0.34745899,  0.67014016]])"
      ]
     },
     "execution_count": 17,
     "metadata": {},
     "output_type": "execute_result"
    }
   ],
   "source": [
    "np.random.seed(23)\n",
    "np.random.randn(3,4)"
   ]
  },
  {
   "cell_type": "markdown",
   "id": "dd9bb0fe",
   "metadata": {},
   "source": [
    "### choice\n",
    "### 주어진 1차원 ndarray로 부터 랜덤하게 샘플링\n",
    "### 정수가 주어진 경우, np.arange(해당숫자)"
   ]
  },
  {
   "cell_type": "code",
   "execution_count": 20,
   "id": "60eb1f44",
   "metadata": {},
   "outputs": [
    {
     "data": {
      "text/plain": [
       "array([[83, 58, 25, 66],\n",
       "       [74, 35, 96, 56],\n",
       "       [13, 60, 22, 38]])"
      ]
     },
     "execution_count": 20,
     "metadata": {},
     "output_type": "execute_result"
    }
   ],
   "source": [
    "np.random.choice(100, size=(3,4)) #정수가 주어진 경우 0~100 사이라고 간주"
   ]
  },
  {
   "cell_type": "code",
   "execution_count": 21,
   "id": "fa788dc3",
   "metadata": {},
   "outputs": [
    {
     "data": {
      "text/plain": [
       "array([[2. , 1.5],\n",
       "       [2.6, 3. ]])"
      ]
     },
     "execution_count": 21,
     "metadata": {},
     "output_type": "execute_result"
    }
   ],
   "source": [
    "x = np.array([1, 2, 3, 1.5, 2.6, 4.9])\n",
    "np.random.choice(x, size=(2,2), replace=False)"
   ]
  },
  {
   "cell_type": "markdown",
   "id": "3fa2ef08",
   "metadata": {},
   "source": [
    "### 확률분포에 따른 ndarray 생성\n",
    "### uniform\n",
    "### normal 등등... 몰라도 되긴함 그냥 있다정도마?"
   ]
  },
  {
   "cell_type": "code",
   "execution_count": 22,
   "id": "7e254f16",
   "metadata": {},
   "outputs": [
    {
     "data": {
      "text/plain": [
       "array([[2.26833065, 2.84085397, 1.26336399, 2.67879335, 2.40971945],\n",
       "       [2.93578399, 2.80844986, 1.58561196, 1.29487279, 1.28251   ],\n",
       "       [2.9085976 , 1.00084711, 1.58142383, 1.97754057, 1.05987474],\n",
       "       [2.75684919, 1.22128512, 2.40958431, 1.05439985, 1.379564  ]])"
      ]
     },
     "execution_count": 22,
     "metadata": {},
     "output_type": "execute_result"
    }
   ],
   "source": [
    "np.random.uniform(1.0, 3.0, size=(4,5))"
   ]
  },
  {
   "cell_type": "code",
   "execution_count": 23,
   "id": "94e437d7",
   "metadata": {},
   "outputs": [
    {
     "data": {
      "text/plain": [
       "array([[-1.05613798,  0.82083419,  2.63419759, -0.0901257 ],\n",
       "       [-1.85951523, -1.30404589, -2.60154296, -0.32092369],\n",
       "       [ 0.94574687, -1.34668195, -0.89885805,  1.0212697 ]])"
      ]
     },
     "execution_count": 23,
     "metadata": {},
     "output_type": "execute_result"
    }
   ],
   "source": [
    "np.random.normal(size=(3,4))\n",
    "np.random.randn(3,4)"
   ]
  },
  {
   "cell_type": "markdown",
   "id": "0b9b5f66",
   "metadata": {},
   "source": [
    "<hr>"
   ]
  },
  {
   "cell_type": "markdown",
   "id": "78fbf44f",
   "metadata": {},
   "source": [
    "### reshape() 특정 차원 및 크기로 변환해준다."
   ]
  },
  {
   "cell_type": "code",
   "execution_count": 49,
   "id": "005a485e",
   "metadata": {},
   "outputs": [
    {
     "name": "stdout",
     "output_type": "stream",
     "text": [
      "arr1:\n",
      " [0 1 2 3 4 5 6 7 8 9]\n",
      "\n",
      "arr2:\n",
      " [[0 1 2 3 4]\n",
      " [5 6 7 8 9]]\n",
      "\n",
      "arr3:\n",
      " [[0 1]\n",
      " [2 3]\n",
      " [4 5]\n",
      " [6 7]\n",
      " [8 9]]\n"
     ]
    }
   ],
   "source": [
    "arr1 = np.arange(10) # 0~10까지 생성\n",
    "print('arr1:\\n',arr1)\n",
    "print()\n",
    "\n",
    "arr2 = arr1.reshape(2, 5) # arr1의 모양을 2행 5열로 바꿈\n",
    "print('arr2:\\n' ,arr2)\n",
    "print()\n",
    "\n",
    "arr3 = arr1.reshape(5, 2) # arr1의 모양을 5행 2열로 바꿈\n",
    "print('arr3:\\n', arr3)"
   ]
  },
  {
   "cell_type": "markdown",
   "id": "e0949ff4",
   "metadata": {},
   "source": [
    "###  reshape 꿀팁 ! \n",
    "### 원래 데이터의 갯수 = reshape안에 들어있는 숫자의 곱과 같아야한다\n",
    "### -1을 활용 잘해야함\n",
    "### reshape(2,5) 와 reshape(-1,5)와 같다.\n",
    "### -1을 적으면 numpy가 알아서 맞춰준다"
   ]
  },
  {
   "cell_type": "code",
   "execution_count": 11,
   "id": "b2fe788a",
   "metadata": {},
   "outputs": [
    {
     "name": "stdout",
     "output_type": "stream",
     "text": [
      "arr1:\n",
      " [0 1 2 3 4 5 6 7 8 9]\n",
      "\n",
      "arr2:\n",
      " [[0 1 2 3 4]\n",
      " [5 6 7 8 9]]\n",
      "\n",
      "arr3:\n",
      " [[0 1 2 3 4]\n",
      " [5 6 7 8 9]]\n"
     ]
    }
   ],
   "source": [
    "arr1 = np.arange(10)\n",
    "print('arr1:\\n',arr1)\n",
    "print()\n",
    "\n",
    "arr2 = arr1.reshape(-1, 5)\n",
    "print('arr2:\\n' ,arr2)\n",
    "print()\n",
    "\n",
    "arr3 = arr1.reshape(2, -1)\n",
    "print('arr3:\\n', arr3)"
   ]
  },
  {
   "cell_type": "code",
   "execution_count": 67,
   "id": "9d74a00f",
   "metadata": {},
   "outputs": [
    {
     "ename": "ValueError",
     "evalue": "cannot reshape array of size 10 into shape (4)",
     "output_type": "error",
     "traceback": [
      "\u001b[1;31m---------------------------------------------------------------------------\u001b[0m",
      "\u001b[1;31mValueError\u001b[0m                                Traceback (most recent call last)",
      "\u001b[1;32m<ipython-input-67-6e6a151d49af>\u001b[0m in \u001b[0;36m<module>\u001b[1;34m\u001b[0m\n\u001b[0;32m      2\u001b[0m \u001b[1;33m\u001b[0m\u001b[0m\n\u001b[0;32m      3\u001b[0m \u001b[0marr1\u001b[0m \u001b[1;33m=\u001b[0m \u001b[0mnp\u001b[0m\u001b[1;33m.\u001b[0m\u001b[0marange\u001b[0m\u001b[1;33m(\u001b[0m\u001b[1;36m10\u001b[0m\u001b[1;33m)\u001b[0m\u001b[1;33m\u001b[0m\u001b[1;33m\u001b[0m\u001b[0m\n\u001b[1;32m----> 4\u001b[1;33m \u001b[0marr4\u001b[0m \u001b[1;33m=\u001b[0m \u001b[0marr1\u001b[0m\u001b[1;33m.\u001b[0m\u001b[0mreshape\u001b[0m\u001b[1;33m(\u001b[0m\u001b[1;33m-\u001b[0m\u001b[1;36m1\u001b[0m\u001b[1;33m,\u001b[0m \u001b[1;36m4\u001b[0m\u001b[1;33m)\u001b[0m\u001b[1;33m\u001b[0m\u001b[1;33m\u001b[0m\u001b[0m\n\u001b[0m",
      "\u001b[1;31mValueError\u001b[0m: cannot reshape array of size 10 into shape (4)"
     ]
    }
   ],
   "source": [
    "#에러나는거 보여줌\n",
    "\n",
    "arr1 = np.arange(10)\n",
    "arr4 = arr1.reshape(-1, 4)"
   ]
  },
  {
   "cell_type": "markdown",
   "id": "03de8d50",
   "metadata": {},
   "source": [
    "### 보통 (-1,1) 많이쓴다. 원본이 어떤 형태라도 2차원이고, 무조건 1개의 칼럼을 가진 친구로 변환해줌"
   ]
  },
  {
   "cell_type": "code",
   "execution_count": 76,
   "id": "38756ba4",
   "metadata": {},
   "outputs": [
    {
     "name": "stdout",
     "output_type": "stream",
     "text": [
      "arr3d:\n",
      " [[[0, 1], [2, 3]], [[4, 5], [6, 7]]]\n",
      "arr3d shape: (2, 2, 2)\n",
      "\n",
      "arr5:\n",
      " [[0], [1], [2], [3], [4], [5], [6], [7]]\n",
      "arr5 shape: (8, 1)\n",
      "\n",
      "arr6:\n",
      " [[0], [1], [2], [3], [4], [5], [6], [7]]\n",
      "arr6 shape: (8, 1)\n"
     ]
    }
   ],
   "source": [
    "arr1 = np.arange(8)\n",
    "arr3d = arr1.reshape((2,2,2)) # 3차원으로 변경\n",
    "print('arr3d:\\n',arr3d.tolist())# tolist는 리스트로 변환해주는 함수이다.\n",
    "print('arr3d shape:', arr3d.shape)\n",
    "print()\n",
    "# 3차원 ndarray를 2차원 ndarray로 변환\n",
    "arr5 = arr3d.reshape(-1, 1)\n",
    "print('arr5:\\n',arr5.tolist())\n",
    "print('arr5 shape:', arr5.shape)\n",
    "print()\n",
    "\n",
    "# 1차원 ndarray를 2차원 ndarray로 변환\n",
    "arr6 = arr1.reshape(-1, 1)\n",
    "print('arr6:\\n', arr6.tolist())\n",
    "print('arr6 shape:', arr6.shape)\n",
    "#괄호를 잘보자!!!!!"
   ]
  },
  {
   "cell_type": "markdown",
   "id": "e4d1e8f3",
   "metadata": {},
   "source": [
    "###  flatten()\n",
    "### 다차원 배열을 1차원으로 변경해준다.\n",
    "### 이친구는 쓰면 원본데이터를 안건들인다.\n",
    "### C => row 우선변경, F => column 우선변경"
   ]
  },
  {
   "cell_type": "code",
   "execution_count": 13,
   "id": "a2e7c84d",
   "metadata": {},
   "outputs": [
    {
     "name": "stdout",
     "output_type": "stream",
     "text": [
      "[[ 0  1  2  3  4]\n",
      " [ 5  6  7  8  9]\n",
      " [10 11 12 13 14]]\n"
     ]
    }
   ],
   "source": [
    "y = np.arange(15).reshape(3,5)\n",
    "print(y)"
   ]
  },
  {
   "cell_type": "code",
   "execution_count": 14,
   "id": "98ebe7b3",
   "metadata": {},
   "outputs": [
    {
     "name": "stdout",
     "output_type": "stream",
     "text": [
      "[ 0  1  2  3  4  5  6  7  8  9 10 11 12 13 14]\n"
     ]
    }
   ],
   "source": [
    "t2 = y.flatten(order='C')\n",
    "print(t2)"
   ]
  },
  {
   "cell_type": "markdown",
   "id": "80bd450c",
   "metadata": {},
   "source": [
    "###  ravel\n",
    "### 이친구도 1차원으로 변경이긴한데\n",
    "### 얘는 쓰면 원본데이터가 바뀌어버림\n",
    "### C랑 F도 위에 친구랑 같다"
   ]
  },
  {
   "cell_type": "code",
   "execution_count": 5,
   "id": "52349b9d",
   "metadata": {},
   "outputs": [
    {
     "name": "stdout",
     "output_type": "stream",
     "text": [
      "[[ 0  1  2  3  4]\n",
      " [ 5  6  7  8  9]\n",
      " [10 11 12 13 14]]\n"
     ]
    }
   ],
   "source": [
    "x = np.arange(15).reshape(3,5)\n",
    "print(x)"
   ]
  },
  {
   "cell_type": "code",
   "execution_count": 6,
   "id": "a237e7df",
   "metadata": {},
   "outputs": [
    {
     "data": {
      "text/plain": [
       "array([ 0,  5, 10,  1,  6, 11,  2,  7, 12,  3,  8, 13,  4,  9, 14])"
      ]
     },
     "execution_count": 6,
     "metadata": {},
     "output_type": "execute_result"
    }
   ],
   "source": [
    "np.ravel(x, order='F') #방법 1"
   ]
  },
  {
   "cell_type": "code",
   "execution_count": 10,
   "id": "9be93bc1",
   "metadata": {},
   "outputs": [
    {
     "name": "stdout",
     "output_type": "stream",
     "text": [
      "[ 0  1  2  3  4  5  6  7  8  9 10 11 12 13 14]\n"
     ]
    },
    {
     "data": {
      "text/plain": [
       "array([[ 0,  1,  2,  3,  4],\n",
       "       [ 5,  6,  7,  8,  9],\n",
       "       [10, 11, 12, 13, 14]])"
      ]
     },
     "execution_count": 10,
     "metadata": {},
     "output_type": "execute_result"
    }
   ],
   "source": [
    "temp = x.ravel() # 방법 2\n",
    "print(temp)"
   ]
  },
  {
   "cell_type": "code",
   "execution_count": null,
   "id": "acd65687",
   "metadata": {},
   "outputs": [],
   "source": []
  }
 ],
 "metadata": {
  "kernelspec": {
   "display_name": "Python 3",
   "language": "python",
   "name": "python3"
  },
  "language_info": {
   "codemirror_mode": {
    "name": "ipython",
    "version": 3
   },
   "file_extension": ".py",
   "mimetype": "text/x-python",
   "name": "python",
   "nbconvert_exporter": "python",
   "pygments_lexer": "ipython3",
   "version": "3.8.8"
  }
 },
 "nbformat": 4,
 "nbformat_minor": 5
}
