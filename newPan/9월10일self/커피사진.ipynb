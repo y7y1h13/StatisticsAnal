{
 "cells": [
  {
   "cell_type": "code",
   "execution_count": 47,
   "id": "2ac97e23",
   "metadata": {},
   "outputs": [],
   "source": [
    "import urllib.request\n",
    "import requests\n",
    "import time\n",
    "from bs4 import BeautifulSoup\n",
    "\n",
    "\n",
    "# url = 'https://search.pstatic.net/common/?src=http%3A%2F%2Fblogfiles.naver.net%2FMjAyMTA4MzFfNjkg%2FMDAxNjMwMzkwNzYzMTI3.AAdvwiu2rs-wftQWbG6_BhKgW9-jXwBNQBp5imv54awg.MDhB5FwTRGkwNEg2ZJwK2JloQ73XrW7C2P0zwvLqAH4g.PNG.positive-yang%2Fimage.png&type=a340'\n",
    "\n",
    "# urllib.request.urlretrieve(url, '커피1.jpg')\n",
    "\n"
   ]
  },
  {
   "cell_type": "markdown",
   "id": "21dcc7b1",
   "metadata": {},
   "source": [
    "1. 이미지 url을 크롤링\n",
    "2. url을 불러와서 커피이미지 폴더를 생성하고 저장하세요"
   ]
  },
  {
   "cell_type": "code",
   "execution_count": 68,
   "id": "de1cfb2b",
   "metadata": {},
   "outputs": [],
   "source": [
    "page = requests.get('https://search.naver.com/search.naver?where=image&sm=tab_jum&query=%EC%BB%A4%ED%94%BC')\n",
    "html = page.text"
   ]
  },
  {
   "cell_type": "code",
   "execution_count": null,
   "id": "026f5c4e",
   "metadata": {},
   "outputs": [],
   "source": []
  }
 ],
 "metadata": {
  "kernelspec": {
   "display_name": "Python 3",
   "language": "python",
   "name": "python3"
  },
  "language_info": {
   "codemirror_mode": {
    "name": "ipython",
    "version": 3
   },
   "file_extension": ".py",
   "mimetype": "text/x-python",
   "name": "python",
   "nbconvert_exporter": "python",
   "pygments_lexer": "ipython3",
   "version": "3.8.8"
  }
 },
 "nbformat": 4,
 "nbformat_minor": 5
}
