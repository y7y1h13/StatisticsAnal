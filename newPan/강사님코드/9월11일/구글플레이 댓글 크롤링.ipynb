{
 "cells": [
  {
   "cell_type": "code",
   "execution_count": 5,
   "id": "67a41134",
   "metadata": {},
   "outputs": [
    {
     "name": "stdout",
     "output_type": "stream",
     "text": [
      "더보기 없음\n",
      "더보기 없음\n",
      "더보기 없음\n",
      "더보기 없음\n",
      "더보기 없음\n",
      "더보기 없음\n"
     ]
    }
   ],
   "source": [
    "from selenium import webdriver\n",
    "import time\n",
    "from bs4 import BeautifulSoup\n",
    "import pandas as pd\n",
    "\n",
    "\n",
    "url = 'https://play.google.com/store/apps/details?id=com.towneers.www&showAllReviews=true'\n",
    "\n",
    "driver = webdriver.Chrome('chromedriver.exe')\n",
    "driver.implicitly_wait(1)\n",
    "driver.get(url)\n",
    "time.sleep(3)\n",
    "\n",
    "\n",
    "for i in range(0,10):\n",
    "    sheight = (driver.execute_script(\"return document.body.scrollHeight\"))     #스크롤바의 시작지점\n",
    "    driver.execute_script(\"window.scrollTo(0,document.body.scrollHeight);\")    #스크롤바를 화면 밑으로 내림\n",
    "    time.sleep(2)\n",
    "    lastheight = (driver.execute_script(\"return document.body.scrollHeight\"))  #현재 스크롤바 위치 저장\n",
    "    \n",
    "    if sheight == lastheight:\n",
    "        try:\n",
    "            driver.find_element_by_class_name('CwaK9').click()\n",
    "            time.sleep(2)\n",
    "        except:\n",
    "            print('더보기 없음')\n",
    "            \n",
    "    \n",
    "    \n",
    "    \n",
    "    "
   ]
  },
  {
   "cell_type": "code",
   "execution_count": null,
   "id": "f2a2d01e",
   "metadata": {},
   "outputs": [],
   "source": []
  }
 ],
 "metadata": {
  "kernelspec": {
   "display_name": "Python 3",
   "language": "python",
   "name": "python3"
  },
  "language_info": {
   "codemirror_mode": {
    "name": "ipython",
    "version": 3
   },
   "file_extension": ".py",
   "mimetype": "text/x-python",
   "name": "python",
   "nbconvert_exporter": "python",
   "pygments_lexer": "ipython3",
   "version": "3.8.8"
  }
 },
 "nbformat": 4,
 "nbformat_minor": 5
}
