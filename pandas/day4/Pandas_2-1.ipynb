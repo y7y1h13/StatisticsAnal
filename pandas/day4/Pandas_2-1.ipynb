{
 "cells": [
  {
   "cell_type": "markdown",
   "metadata": {},
   "source": [
    "## DataFrame 인덱싱2"
   ]
  },
  {
   "cell_type": "code",
   "execution_count": 2,
   "metadata": {},
   "outputs": [],
   "source": [
    "import pandas as pd"
   ]
  },
  {
   "cell_type": "code",
   "execution_count": 3,
   "metadata": {},
   "outputs": [
    {
     "data": {
      "text/html": [
       "<div>\n",
       "<style scoped>\n",
       "    .dataframe tbody tr th:only-of-type {\n",
       "        vertical-align: middle;\n",
       "    }\n",
       "\n",
       "    .dataframe tbody tr th {\n",
       "        vertical-align: top;\n",
       "    }\n",
       "\n",
       "    .dataframe thead th {\n",
       "        text-align: right;\n",
       "    }\n",
       "</style>\n",
       "<table border=\"1\" class=\"dataframe\">\n",
       "  <thead>\n",
       "    <tr style=\"text-align: right;\">\n",
       "      <th></th>\n",
       "      <th>출시일</th>\n",
       "      <th>디스플레이</th>\n",
       "      <th>메모리</th>\n",
       "      <th>출시 버전</th>\n",
       "      <th>Face ID</th>\n",
       "    </tr>\n",
       "  </thead>\n",
       "  <tbody>\n",
       "    <tr>\n",
       "      <th>iPhone 7</th>\n",
       "      <td>2016-09-16</td>\n",
       "      <td>4.7</td>\n",
       "      <td>2GB</td>\n",
       "      <td>iOS 10.0</td>\n",
       "      <td>No</td>\n",
       "    </tr>\n",
       "    <tr>\n",
       "      <th>iPhone 7 Plus</th>\n",
       "      <td>2016-09-16</td>\n",
       "      <td>5.5</td>\n",
       "      <td>3GB</td>\n",
       "      <td>iOS 10.0</td>\n",
       "      <td>No</td>\n",
       "    </tr>\n",
       "    <tr>\n",
       "      <th>iPhone 8</th>\n",
       "      <td>2017-09-22</td>\n",
       "      <td>4.7</td>\n",
       "      <td>2GB</td>\n",
       "      <td>iOS 11.0</td>\n",
       "      <td>No</td>\n",
       "    </tr>\n",
       "    <tr>\n",
       "      <th>iPhone 8 Plus</th>\n",
       "      <td>2017-09-22</td>\n",
       "      <td>5.5</td>\n",
       "      <td>3GB</td>\n",
       "      <td>iOS 11.0</td>\n",
       "      <td>No</td>\n",
       "    </tr>\n",
       "    <tr>\n",
       "      <th>iPhone X</th>\n",
       "      <td>2017-11-03</td>\n",
       "      <td>5.8</td>\n",
       "      <td>3GB</td>\n",
       "      <td>iOS 11.1</td>\n",
       "      <td>Yes</td>\n",
       "    </tr>\n",
       "    <tr>\n",
       "      <th>iPhone XS</th>\n",
       "      <td>2018-09-21</td>\n",
       "      <td>5.8</td>\n",
       "      <td>4GB</td>\n",
       "      <td>iOS 12.0</td>\n",
       "      <td>Yes</td>\n",
       "    </tr>\n",
       "    <tr>\n",
       "      <th>iPhone XS Max</th>\n",
       "      <td>2018-09-21</td>\n",
       "      <td>6.5</td>\n",
       "      <td>4GB</td>\n",
       "      <td>iOS 12.0</td>\n",
       "      <td>Yes</td>\n",
       "    </tr>\n",
       "  </tbody>\n",
       "</table>\n",
       "</div>"
      ],
      "text/plain": [
       "                      출시일  디스플레이  메모리     출시 버전 Face ID\n",
       "iPhone 7       2016-09-16    4.7  2GB  iOS 10.0      No\n",
       "iPhone 7 Plus  2016-09-16    5.5  3GB  iOS 10.0      No\n",
       "iPhone 8       2017-09-22    4.7  2GB  iOS 11.0      No\n",
       "iPhone 8 Plus  2017-09-22    5.5  3GB  iOS 11.0      No\n",
       "iPhone X       2017-11-03    5.8  3GB  iOS 11.1     Yes\n",
       "iPhone XS      2018-09-21    5.8  4GB  iOS 12.0     Yes\n",
       "iPhone XS Max  2018-09-21    6.5  4GB  iOS 12.0     Yes"
      ]
     },
     "execution_count": 3,
     "metadata": {},
     "output_type": "execute_result"
    }
   ],
   "source": [
    "iphone_df = pd.read_csv('data/iphone.csv', index_col = 0)\n",
    "iphone_df"
   ]
  },
  {
   "cell_type": "code",
   "execution_count": 4,
   "metadata": {},
   "outputs": [],
   "source": [
    "# iphone X 정보 받아오기"
   ]
  },
  {
   "cell_type": "code",
   "execution_count": 5,
   "metadata": {},
   "outputs": [
    {
     "data": {
      "text/plain": [
       "출시일        2017-11-03\n",
       "디스플레이             5.8\n",
       "메모리               3GB\n",
       "출시 버전        iOS 11.1\n",
       "Face ID           Yes\n",
       "Name: iPhone X, dtype: object"
      ]
     },
     "execution_count": 5,
     "metadata": {},
     "output_type": "execute_result"
    }
   ],
   "source": [
    "iphone_df.loc['iPhone X']"
   ]
  },
  {
   "cell_type": "code",
   "execution_count": 6,
   "metadata": {},
   "outputs": [
    {
     "data": {
      "text/html": [
       "<div>\n",
       "<style scoped>\n",
       "    .dataframe tbody tr th:only-of-type {\n",
       "        vertical-align: middle;\n",
       "    }\n",
       "\n",
       "    .dataframe tbody tr th {\n",
       "        vertical-align: top;\n",
       "    }\n",
       "\n",
       "    .dataframe thead th {\n",
       "        text-align: right;\n",
       "    }\n",
       "</style>\n",
       "<table border=\"1\" class=\"dataframe\">\n",
       "  <thead>\n",
       "    <tr style=\"text-align: right;\">\n",
       "      <th></th>\n",
       "      <th>출시일</th>\n",
       "      <th>디스플레이</th>\n",
       "      <th>메모리</th>\n",
       "      <th>출시 버전</th>\n",
       "      <th>Face ID</th>\n",
       "    </tr>\n",
       "  </thead>\n",
       "  <tbody>\n",
       "    <tr>\n",
       "      <th>iPhone X</th>\n",
       "      <td>2017-11-03</td>\n",
       "      <td>5.8</td>\n",
       "      <td>3GB</td>\n",
       "      <td>iOS 11.1</td>\n",
       "      <td>Yes</td>\n",
       "    </tr>\n",
       "    <tr>\n",
       "      <th>iPhone 8</th>\n",
       "      <td>2017-09-22</td>\n",
       "      <td>4.7</td>\n",
       "      <td>2GB</td>\n",
       "      <td>iOS 11.0</td>\n",
       "      <td>No</td>\n",
       "    </tr>\n",
       "  </tbody>\n",
       "</table>\n",
       "</div>"
      ],
      "text/plain": [
       "                 출시일  디스플레이  메모리     출시 버전 Face ID\n",
       "iPhone X  2017-11-03    5.8  3GB  iOS 11.1     Yes\n",
       "iPhone 8  2017-09-22    4.7  2GB  iOS 11.0      No"
      ]
     },
     "execution_count": 6,
     "metadata": {},
     "output_type": "execute_result"
    }
   ],
   "source": [
    "iphone_df.loc[['iPhone X','iPhone 8']] # iphone X .iphone 8  row 두가지 정보 받아오기"
   ]
  },
  {
   "cell_type": "code",
   "execution_count": 7,
   "metadata": {},
   "outputs": [
    {
     "data": {
      "text/plain": [
       "pandas.core.frame.DataFrame"
      ]
     },
     "execution_count": 7,
     "metadata": {},
     "output_type": "execute_result"
    }
   ],
   "source": [
    "type(iphone_df.loc[['iPhone X','iPhone 8']])"
   ]
  },
  {
   "cell_type": "code",
   "execution_count": 10,
   "metadata": {},
   "outputs": [],
   "source": [
    "# colume 한가지 받아오기 "
   ]
  },
  {
   "cell_type": "code",
   "execution_count": 8,
   "metadata": {},
   "outputs": [
    {
     "data": {
      "text/plain": [
       "iPhone 7         2016-09-16\n",
       "iPhone 7 Plus    2016-09-16\n",
       "iPhone 8         2017-09-22\n",
       "iPhone 8 Plus    2017-09-22\n",
       "iPhone X         2017-11-03\n",
       "iPhone XS        2018-09-21\n",
       "iPhone XS Max    2018-09-21\n",
       "Name: 출시일, dtype: object"
      ]
     },
     "execution_count": 8,
     "metadata": {},
     "output_type": "execute_result"
    }
   ],
   "source": [
    "iphone_df['출시일']"
   ]
  },
  {
   "cell_type": "code",
   "execution_count": 12,
   "metadata": {},
   "outputs": [],
   "source": [
    "# colume 두가지 받아오기 "
   ]
  },
  {
   "cell_type": "code",
   "execution_count": 15,
   "metadata": {},
   "outputs": [
    {
     "data": {
      "text/html": [
       "<div>\n",
       "<style scoped>\n",
       "    .dataframe tbody tr th:only-of-type {\n",
       "        vertical-align: middle;\n",
       "    }\n",
       "\n",
       "    .dataframe tbody tr th {\n",
       "        vertical-align: top;\n",
       "    }\n",
       "\n",
       "    .dataframe thead th {\n",
       "        text-align: right;\n",
       "    }\n",
       "</style>\n",
       "<table border=\"1\" class=\"dataframe\">\n",
       "  <thead>\n",
       "    <tr style=\"text-align: right;\">\n",
       "      <th></th>\n",
       "      <th>출시일</th>\n",
       "      <th>메모리</th>\n",
       "    </tr>\n",
       "  </thead>\n",
       "  <tbody>\n",
       "    <tr>\n",
       "      <th>iPhone 7</th>\n",
       "      <td>2016-09-16</td>\n",
       "      <td>2GB</td>\n",
       "    </tr>\n",
       "    <tr>\n",
       "      <th>iPhone 7 Plus</th>\n",
       "      <td>2016-09-16</td>\n",
       "      <td>3GB</td>\n",
       "    </tr>\n",
       "    <tr>\n",
       "      <th>iPhone 8</th>\n",
       "      <td>2017-09-22</td>\n",
       "      <td>2GB</td>\n",
       "    </tr>\n",
       "    <tr>\n",
       "      <th>iPhone 8 Plus</th>\n",
       "      <td>2017-09-22</td>\n",
       "      <td>3GB</td>\n",
       "    </tr>\n",
       "    <tr>\n",
       "      <th>iPhone X</th>\n",
       "      <td>2017-11-03</td>\n",
       "      <td>3GB</td>\n",
       "    </tr>\n",
       "    <tr>\n",
       "      <th>iPhone XS</th>\n",
       "      <td>2018-09-21</td>\n",
       "      <td>4GB</td>\n",
       "    </tr>\n",
       "    <tr>\n",
       "      <th>iPhone XS Max</th>\n",
       "      <td>2018-09-21</td>\n",
       "      <td>4GB</td>\n",
       "    </tr>\n",
       "  </tbody>\n",
       "</table>\n",
       "</div>"
      ],
      "text/plain": [
       "                      출시일  메모리\n",
       "iPhone 7       2016-09-16  2GB\n",
       "iPhone 7 Plus  2016-09-16  3GB\n",
       "iPhone 8       2017-09-22  2GB\n",
       "iPhone 8 Plus  2017-09-22  3GB\n",
       "iPhone X       2017-11-03  3GB\n",
       "iPhone XS      2018-09-21  4GB\n",
       "iPhone XS Max  2018-09-21  4GB"
      ]
     },
     "execution_count": 15,
     "metadata": {},
     "output_type": "execute_result"
    }
   ],
   "source": [
    "iphone_df[['출시일','메모리']]"
   ]
  },
  {
   "cell_type": "code",
   "execution_count": 16,
   "metadata": {},
   "outputs": [],
   "source": [
    "# row 슬라이싱 해보기"
   ]
  },
  {
   "cell_type": "code",
   "execution_count": 19,
   "metadata": {},
   "outputs": [
    {
     "data": {
      "text/html": [
       "<div>\n",
       "<style scoped>\n",
       "    .dataframe tbody tr th:only-of-type {\n",
       "        vertical-align: middle;\n",
       "    }\n",
       "\n",
       "    .dataframe tbody tr th {\n",
       "        vertical-align: top;\n",
       "    }\n",
       "\n",
       "    .dataframe thead th {\n",
       "        text-align: right;\n",
       "    }\n",
       "</style>\n",
       "<table border=\"1\" class=\"dataframe\">\n",
       "  <thead>\n",
       "    <tr style=\"text-align: right;\">\n",
       "      <th></th>\n",
       "      <th>출시일</th>\n",
       "      <th>디스플레이</th>\n",
       "      <th>메모리</th>\n",
       "      <th>출시 버전</th>\n",
       "      <th>Face ID</th>\n",
       "    </tr>\n",
       "  </thead>\n",
       "  <tbody>\n",
       "    <tr>\n",
       "      <th>iPhone 8</th>\n",
       "      <td>2017-09-22</td>\n",
       "      <td>4.7</td>\n",
       "      <td>2GB</td>\n",
       "      <td>iOS 11.0</td>\n",
       "      <td>No</td>\n",
       "    </tr>\n",
       "    <tr>\n",
       "      <th>iPhone 8 Plus</th>\n",
       "      <td>2017-09-22</td>\n",
       "      <td>5.5</td>\n",
       "      <td>3GB</td>\n",
       "      <td>iOS 11.0</td>\n",
       "      <td>No</td>\n",
       "    </tr>\n",
       "    <tr>\n",
       "      <th>iPhone X</th>\n",
       "      <td>2017-11-03</td>\n",
       "      <td>5.8</td>\n",
       "      <td>3GB</td>\n",
       "      <td>iOS 11.1</td>\n",
       "      <td>Yes</td>\n",
       "    </tr>\n",
       "    <tr>\n",
       "      <th>iPhone XS</th>\n",
       "      <td>2018-09-21</td>\n",
       "      <td>5.8</td>\n",
       "      <td>4GB</td>\n",
       "      <td>iOS 12.0</td>\n",
       "      <td>Yes</td>\n",
       "    </tr>\n",
       "  </tbody>\n",
       "</table>\n",
       "</div>"
      ],
      "text/plain": [
       "                      출시일  디스플레이  메모리     출시 버전 Face ID\n",
       "iPhone 8       2017-09-22    4.7  2GB  iOS 11.0      No\n",
       "iPhone 8 Plus  2017-09-22    5.5  3GB  iOS 11.0      No\n",
       "iPhone X       2017-11-03    5.8  3GB  iOS 11.1     Yes\n",
       "iPhone XS      2018-09-21    5.8  4GB  iOS 12.0     Yes"
      ]
     },
     "execution_count": 19,
     "metadata": {},
     "output_type": "execute_result"
    }
   ],
   "source": [
    "iphone_df.loc['iPhone 8':'iPhone XS']"
   ]
  },
  {
   "cell_type": "code",
   "execution_count": 21,
   "metadata": {},
   "outputs": [
    {
     "data": {
      "text/html": [
       "<div>\n",
       "<style scoped>\n",
       "    .dataframe tbody tr th:only-of-type {\n",
       "        vertical-align: middle;\n",
       "    }\n",
       "\n",
       "    .dataframe tbody tr th {\n",
       "        vertical-align: top;\n",
       "    }\n",
       "\n",
       "    .dataframe thead th {\n",
       "        text-align: right;\n",
       "    }\n",
       "</style>\n",
       "<table border=\"1\" class=\"dataframe\">\n",
       "  <thead>\n",
       "    <tr style=\"text-align: right;\">\n",
       "      <th></th>\n",
       "      <th>출시일</th>\n",
       "      <th>디스플레이</th>\n",
       "      <th>메모리</th>\n",
       "      <th>출시 버전</th>\n",
       "      <th>Face ID</th>\n",
       "    </tr>\n",
       "  </thead>\n",
       "  <tbody>\n",
       "    <tr>\n",
       "      <th>iPhone 7</th>\n",
       "      <td>2016-09-16</td>\n",
       "      <td>4.7</td>\n",
       "      <td>2GB</td>\n",
       "      <td>iOS 10.0</td>\n",
       "      <td>No</td>\n",
       "    </tr>\n",
       "    <tr>\n",
       "      <th>iPhone 7 Plus</th>\n",
       "      <td>2016-09-16</td>\n",
       "      <td>5.5</td>\n",
       "      <td>3GB</td>\n",
       "      <td>iOS 10.0</td>\n",
       "      <td>No</td>\n",
       "    </tr>\n",
       "    <tr>\n",
       "      <th>iPhone 8</th>\n",
       "      <td>2017-09-22</td>\n",
       "      <td>4.7</td>\n",
       "      <td>2GB</td>\n",
       "      <td>iOS 11.0</td>\n",
       "      <td>No</td>\n",
       "    </tr>\n",
       "    <tr>\n",
       "      <th>iPhone 8 Plus</th>\n",
       "      <td>2017-09-22</td>\n",
       "      <td>5.5</td>\n",
       "      <td>3GB</td>\n",
       "      <td>iOS 11.0</td>\n",
       "      <td>No</td>\n",
       "    </tr>\n",
       "    <tr>\n",
       "      <th>iPhone X</th>\n",
       "      <td>2017-11-03</td>\n",
       "      <td>5.8</td>\n",
       "      <td>3GB</td>\n",
       "      <td>iOS 11.1</td>\n",
       "      <td>Yes</td>\n",
       "    </tr>\n",
       "    <tr>\n",
       "      <th>iPhone XS</th>\n",
       "      <td>2018-09-21</td>\n",
       "      <td>5.8</td>\n",
       "      <td>4GB</td>\n",
       "      <td>iOS 12.0</td>\n",
       "      <td>Yes</td>\n",
       "    </tr>\n",
       "  </tbody>\n",
       "</table>\n",
       "</div>"
      ],
      "text/plain": [
       "                      출시일  디스플레이  메모리     출시 버전 Face ID\n",
       "iPhone 7       2016-09-16    4.7  2GB  iOS 10.0      No\n",
       "iPhone 7 Plus  2016-09-16    5.5  3GB  iOS 10.0      No\n",
       "iPhone 8       2017-09-22    4.7  2GB  iOS 11.0      No\n",
       "iPhone 8 Plus  2017-09-22    5.5  3GB  iOS 11.0      No\n",
       "iPhone X       2017-11-03    5.8  3GB  iOS 11.1     Yes\n",
       "iPhone XS      2018-09-21    5.8  4GB  iOS 12.0     Yes"
      ]
     },
     "execution_count": 21,
     "metadata": {},
     "output_type": "execute_result"
    }
   ],
   "source": [
    "iphone_df.loc[:'iPhone XS']"
   ]
  },
  {
   "cell_type": "code",
   "execution_count": 23,
   "metadata": {},
   "outputs": [
    {
     "data": {
      "text/html": [
       "<div>\n",
       "<style scoped>\n",
       "    .dataframe tbody tr th:only-of-type {\n",
       "        vertical-align: middle;\n",
       "    }\n",
       "\n",
       "    .dataframe tbody tr th {\n",
       "        vertical-align: top;\n",
       "    }\n",
       "\n",
       "    .dataframe thead th {\n",
       "        text-align: right;\n",
       "    }\n",
       "</style>\n",
       "<table border=\"1\" class=\"dataframe\">\n",
       "  <thead>\n",
       "    <tr style=\"text-align: right;\">\n",
       "      <th></th>\n",
       "      <th>출시일</th>\n",
       "      <th>디스플레이</th>\n",
       "      <th>메모리</th>\n",
       "      <th>출시 버전</th>\n",
       "      <th>Face ID</th>\n",
       "    </tr>\n",
       "  </thead>\n",
       "  <tbody>\n",
       "    <tr>\n",
       "      <th>iPhone X</th>\n",
       "      <td>2017-11-03</td>\n",
       "      <td>5.8</td>\n",
       "      <td>3GB</td>\n",
       "      <td>iOS 11.1</td>\n",
       "      <td>Yes</td>\n",
       "    </tr>\n",
       "    <tr>\n",
       "      <th>iPhone 8</th>\n",
       "      <td>2017-09-22</td>\n",
       "      <td>4.7</td>\n",
       "      <td>2GB</td>\n",
       "      <td>iOS 11.0</td>\n",
       "      <td>No</td>\n",
       "    </tr>\n",
       "    <tr>\n",
       "      <th>iPhone 8 Plus</th>\n",
       "      <td>2017-09-22</td>\n",
       "      <td>5.5</td>\n",
       "      <td>3GB</td>\n",
       "      <td>iOS 11.0</td>\n",
       "      <td>No</td>\n",
       "    </tr>\n",
       "  </tbody>\n",
       "</table>\n",
       "</div>"
      ],
      "text/plain": [
       "                      출시일  디스플레이  메모리     출시 버전 Face ID\n",
       "iPhone X       2017-11-03    5.8  3GB  iOS 11.1     Yes\n",
       "iPhone 8       2017-09-22    4.7  2GB  iOS 11.0      No\n",
       "iPhone 8 Plus  2017-09-22    5.5  3GB  iOS 11.0      No"
      ]
     },
     "execution_count": 23,
     "metadata": {},
     "output_type": "execute_result"
    }
   ],
   "source": [
    "iphone_df.loc[['iPhone X','iPhone 8','iPhone 8 Plus']]"
   ]
  },
  {
   "cell_type": "code",
   "execution_count": 24,
   "metadata": {},
   "outputs": [
    {
     "data": {
      "text/html": [
       "<div>\n",
       "<style scoped>\n",
       "    .dataframe tbody tr th:only-of-type {\n",
       "        vertical-align: middle;\n",
       "    }\n",
       "\n",
       "    .dataframe tbody tr th {\n",
       "        vertical-align: top;\n",
       "    }\n",
       "\n",
       "    .dataframe thead th {\n",
       "        text-align: right;\n",
       "    }\n",
       "</style>\n",
       "<table border=\"1\" class=\"dataframe\">\n",
       "  <thead>\n",
       "    <tr style=\"text-align: right;\">\n",
       "      <th></th>\n",
       "      <th>출시일</th>\n",
       "      <th>디스플레이</th>\n",
       "      <th>메모리</th>\n",
       "      <th>출시 버전</th>\n",
       "      <th>Face ID</th>\n",
       "    </tr>\n",
       "  </thead>\n",
       "  <tbody>\n",
       "    <tr>\n",
       "      <th>iPhone 7</th>\n",
       "      <td>2016-09-16</td>\n",
       "      <td>4.7</td>\n",
       "      <td>2GB</td>\n",
       "      <td>iOS 10.0</td>\n",
       "      <td>No</td>\n",
       "    </tr>\n",
       "    <tr>\n",
       "      <th>iPhone 7 Plus</th>\n",
       "      <td>2016-09-16</td>\n",
       "      <td>5.5</td>\n",
       "      <td>3GB</td>\n",
       "      <td>iOS 10.0</td>\n",
       "      <td>No</td>\n",
       "    </tr>\n",
       "    <tr>\n",
       "      <th>iPhone 8</th>\n",
       "      <td>2017-09-22</td>\n",
       "      <td>4.7</td>\n",
       "      <td>2GB</td>\n",
       "      <td>iOS 11.0</td>\n",
       "      <td>No</td>\n",
       "    </tr>\n",
       "    <tr>\n",
       "      <th>iPhone 8 Plus</th>\n",
       "      <td>2017-09-22</td>\n",
       "      <td>5.5</td>\n",
       "      <td>3GB</td>\n",
       "      <td>iOS 11.0</td>\n",
       "      <td>No</td>\n",
       "    </tr>\n",
       "    <tr>\n",
       "      <th>iPhone X</th>\n",
       "      <td>2017-11-03</td>\n",
       "      <td>5.8</td>\n",
       "      <td>3GB</td>\n",
       "      <td>iOS 11.1</td>\n",
       "      <td>Yes</td>\n",
       "    </tr>\n",
       "    <tr>\n",
       "      <th>iPhone XS</th>\n",
       "      <td>2018-09-21</td>\n",
       "      <td>5.8</td>\n",
       "      <td>4GB</td>\n",
       "      <td>iOS 12.0</td>\n",
       "      <td>Yes</td>\n",
       "    </tr>\n",
       "    <tr>\n",
       "      <th>iPhone XS Max</th>\n",
       "      <td>2018-09-21</td>\n",
       "      <td>6.5</td>\n",
       "      <td>4GB</td>\n",
       "      <td>iOS 12.0</td>\n",
       "      <td>Yes</td>\n",
       "    </tr>\n",
       "  </tbody>\n",
       "</table>\n",
       "</div>"
      ],
      "text/plain": [
       "                      출시일  디스플레이  메모리     출시 버전 Face ID\n",
       "iPhone 7       2016-09-16    4.7  2GB  iOS 10.0      No\n",
       "iPhone 7 Plus  2016-09-16    5.5  3GB  iOS 10.0      No\n",
       "iPhone 8       2017-09-22    4.7  2GB  iOS 11.0      No\n",
       "iPhone 8 Plus  2017-09-22    5.5  3GB  iOS 11.0      No\n",
       "iPhone X       2017-11-03    5.8  3GB  iOS 11.1     Yes\n",
       "iPhone XS      2018-09-21    5.8  4GB  iOS 12.0     Yes\n",
       "iPhone XS Max  2018-09-21    6.5  4GB  iOS 12.0     Yes"
      ]
     },
     "execution_count": 24,
     "metadata": {},
     "output_type": "execute_result"
    }
   ],
   "source": [
    "iphone_df"
   ]
  },
  {
   "cell_type": "code",
   "execution_count": 20,
   "metadata": {},
   "outputs": [],
   "source": [
    "# column 슬라이싱 "
   ]
  },
  {
   "cell_type": "code",
   "execution_count": 25,
   "metadata": {},
   "outputs": [
    {
     "data": {
      "text/html": [
       "<div>\n",
       "<style scoped>\n",
       "    .dataframe tbody tr th:only-of-type {\n",
       "        vertical-align: middle;\n",
       "    }\n",
       "\n",
       "    .dataframe tbody tr th {\n",
       "        vertical-align: top;\n",
       "    }\n",
       "\n",
       "    .dataframe thead th {\n",
       "        text-align: right;\n",
       "    }\n",
       "</style>\n",
       "<table border=\"1\" class=\"dataframe\">\n",
       "  <thead>\n",
       "    <tr style=\"text-align: right;\">\n",
       "      <th></th>\n",
       "      <th>출시일</th>\n",
       "      <th>디스플레이</th>\n",
       "      <th>메모리</th>\n",
       "      <th>출시 버전</th>\n",
       "      <th>Face ID</th>\n",
       "    </tr>\n",
       "  </thead>\n",
       "  <tbody>\n",
       "  </tbody>\n",
       "</table>\n",
       "</div>"
      ],
      "text/plain": [
       "Empty DataFrame\n",
       "Columns: [출시일, 디스플레이, 메모리, 출시 버전, Face ID]\n",
       "Index: []"
      ]
     },
     "execution_count": 25,
     "metadata": {},
     "output_type": "execute_result"
    }
   ],
   "source": [
    "iphone_df['메모리':'Face ID']"
   ]
  },
  {
   "cell_type": "code",
   "execution_count": 26,
   "metadata": {},
   "outputs": [
    {
     "data": {
      "text/html": [
       "<div>\n",
       "<style scoped>\n",
       "    .dataframe tbody tr th:only-of-type {\n",
       "        vertical-align: middle;\n",
       "    }\n",
       "\n",
       "    .dataframe tbody tr th {\n",
       "        vertical-align: top;\n",
       "    }\n",
       "\n",
       "    .dataframe thead th {\n",
       "        text-align: right;\n",
       "    }\n",
       "</style>\n",
       "<table border=\"1\" class=\"dataframe\">\n",
       "  <thead>\n",
       "    <tr style=\"text-align: right;\">\n",
       "      <th></th>\n",
       "      <th>메모리</th>\n",
       "      <th>출시 버전</th>\n",
       "      <th>Face ID</th>\n",
       "    </tr>\n",
       "  </thead>\n",
       "  <tbody>\n",
       "    <tr>\n",
       "      <th>iPhone 7</th>\n",
       "      <td>2GB</td>\n",
       "      <td>iOS 10.0</td>\n",
       "      <td>No</td>\n",
       "    </tr>\n",
       "    <tr>\n",
       "      <th>iPhone 7 Plus</th>\n",
       "      <td>3GB</td>\n",
       "      <td>iOS 10.0</td>\n",
       "      <td>No</td>\n",
       "    </tr>\n",
       "    <tr>\n",
       "      <th>iPhone 8</th>\n",
       "      <td>2GB</td>\n",
       "      <td>iOS 11.0</td>\n",
       "      <td>No</td>\n",
       "    </tr>\n",
       "    <tr>\n",
       "      <th>iPhone 8 Plus</th>\n",
       "      <td>3GB</td>\n",
       "      <td>iOS 11.0</td>\n",
       "      <td>No</td>\n",
       "    </tr>\n",
       "    <tr>\n",
       "      <th>iPhone X</th>\n",
       "      <td>3GB</td>\n",
       "      <td>iOS 11.1</td>\n",
       "      <td>Yes</td>\n",
       "    </tr>\n",
       "    <tr>\n",
       "      <th>iPhone XS</th>\n",
       "      <td>4GB</td>\n",
       "      <td>iOS 12.0</td>\n",
       "      <td>Yes</td>\n",
       "    </tr>\n",
       "    <tr>\n",
       "      <th>iPhone XS Max</th>\n",
       "      <td>4GB</td>\n",
       "      <td>iOS 12.0</td>\n",
       "      <td>Yes</td>\n",
       "    </tr>\n",
       "  </tbody>\n",
       "</table>\n",
       "</div>"
      ],
      "text/plain": [
       "               메모리     출시 버전 Face ID\n",
       "iPhone 7       2GB  iOS 10.0      No\n",
       "iPhone 7 Plus  3GB  iOS 10.0      No\n",
       "iPhone 8       2GB  iOS 11.0      No\n",
       "iPhone 8 Plus  3GB  iOS 11.0      No\n",
       "iPhone X       3GB  iOS 11.1     Yes\n",
       "iPhone XS      4GB  iOS 12.0     Yes\n",
       "iPhone XS Max  4GB  iOS 12.0     Yes"
      ]
     },
     "execution_count": 26,
     "metadata": {},
     "output_type": "execute_result"
    }
   ],
   "source": [
    "iphone_df.loc[:,'메모리':'Face ID']"
   ]
  },
  {
   "cell_type": "code",
   "execution_count": 27,
   "metadata": {},
   "outputs": [
    {
     "data": {
      "text/html": [
       "<div>\n",
       "<style scoped>\n",
       "    .dataframe tbody tr th:only-of-type {\n",
       "        vertical-align: middle;\n",
       "    }\n",
       "\n",
       "    .dataframe tbody tr th {\n",
       "        vertical-align: top;\n",
       "    }\n",
       "\n",
       "    .dataframe thead th {\n",
       "        text-align: right;\n",
       "    }\n",
       "</style>\n",
       "<table border=\"1\" class=\"dataframe\">\n",
       "  <thead>\n",
       "    <tr style=\"text-align: right;\">\n",
       "      <th></th>\n",
       "      <th>출시일</th>\n",
       "      <th>디스플레이</th>\n",
       "      <th>메모리</th>\n",
       "      <th>출시 버전</th>\n",
       "      <th>Face ID</th>\n",
       "    </tr>\n",
       "  </thead>\n",
       "  <tbody>\n",
       "    <tr>\n",
       "      <th>iPhone 7</th>\n",
       "      <td>2016-09-16</td>\n",
       "      <td>4.7</td>\n",
       "      <td>2GB</td>\n",
       "      <td>iOS 10.0</td>\n",
       "      <td>No</td>\n",
       "    </tr>\n",
       "    <tr>\n",
       "      <th>iPhone 7 Plus</th>\n",
       "      <td>2016-09-16</td>\n",
       "      <td>5.5</td>\n",
       "      <td>3GB</td>\n",
       "      <td>iOS 10.0</td>\n",
       "      <td>No</td>\n",
       "    </tr>\n",
       "    <tr>\n",
       "      <th>iPhone 8</th>\n",
       "      <td>2017-09-22</td>\n",
       "      <td>4.7</td>\n",
       "      <td>2GB</td>\n",
       "      <td>iOS 11.0</td>\n",
       "      <td>No</td>\n",
       "    </tr>\n",
       "    <tr>\n",
       "      <th>iPhone 8 Plus</th>\n",
       "      <td>2017-09-22</td>\n",
       "      <td>5.5</td>\n",
       "      <td>3GB</td>\n",
       "      <td>iOS 11.0</td>\n",
       "      <td>No</td>\n",
       "    </tr>\n",
       "    <tr>\n",
       "      <th>iPhone X</th>\n",
       "      <td>2017-11-03</td>\n",
       "      <td>5.8</td>\n",
       "      <td>3GB</td>\n",
       "      <td>iOS 11.1</td>\n",
       "      <td>Yes</td>\n",
       "    </tr>\n",
       "    <tr>\n",
       "      <th>iPhone XS</th>\n",
       "      <td>2018-09-21</td>\n",
       "      <td>5.8</td>\n",
       "      <td>4GB</td>\n",
       "      <td>iOS 12.0</td>\n",
       "      <td>Yes</td>\n",
       "    </tr>\n",
       "    <tr>\n",
       "      <th>iPhone XS Max</th>\n",
       "      <td>2018-09-21</td>\n",
       "      <td>6.5</td>\n",
       "      <td>4GB</td>\n",
       "      <td>iOS 12.0</td>\n",
       "      <td>Yes</td>\n",
       "    </tr>\n",
       "  </tbody>\n",
       "</table>\n",
       "</div>"
      ],
      "text/plain": [
       "                      출시일  디스플레이  메모리     출시 버전 Face ID\n",
       "iPhone 7       2016-09-16    4.7  2GB  iOS 10.0      No\n",
       "iPhone 7 Plus  2016-09-16    5.5  3GB  iOS 10.0      No\n",
       "iPhone 8       2017-09-22    4.7  2GB  iOS 11.0      No\n",
       "iPhone 8 Plus  2017-09-22    5.5  3GB  iOS 11.0      No\n",
       "iPhone X       2017-11-03    5.8  3GB  iOS 11.1     Yes\n",
       "iPhone XS      2018-09-21    5.8  4GB  iOS 12.0     Yes\n",
       "iPhone XS Max  2018-09-21    6.5  4GB  iOS 12.0     Yes"
      ]
     },
     "execution_count": 27,
     "metadata": {},
     "output_type": "execute_result"
    }
   ],
   "source": [
    "iphone_df"
   ]
  },
  {
   "cell_type": "markdown",
   "metadata": {},
   "source": [
    " ## DataFrame 조건으로 인덱싱"
   ]
  },
  {
   "cell_type": "code",
   "execution_count": 28,
   "metadata": {},
   "outputs": [
    {
     "data": {
      "text/html": [
       "<div>\n",
       "<style scoped>\n",
       "    .dataframe tbody tr th:only-of-type {\n",
       "        vertical-align: middle;\n",
       "    }\n",
       "\n",
       "    .dataframe tbody tr th {\n",
       "        vertical-align: top;\n",
       "    }\n",
       "\n",
       "    .dataframe thead th {\n",
       "        text-align: right;\n",
       "    }\n",
       "</style>\n",
       "<table border=\"1\" class=\"dataframe\">\n",
       "  <thead>\n",
       "    <tr style=\"text-align: right;\">\n",
       "      <th></th>\n",
       "      <th>출시일</th>\n",
       "      <th>디스플레이</th>\n",
       "      <th>메모리</th>\n",
       "      <th>출시 버전</th>\n",
       "      <th>Face ID</th>\n",
       "    </tr>\n",
       "  </thead>\n",
       "  <tbody>\n",
       "    <tr>\n",
       "      <th>iPhone 7</th>\n",
       "      <td>2016-09-16</td>\n",
       "      <td>4.7</td>\n",
       "      <td>2GB</td>\n",
       "      <td>iOS 10.0</td>\n",
       "      <td>No</td>\n",
       "    </tr>\n",
       "    <tr>\n",
       "      <th>iPhone 8</th>\n",
       "      <td>2017-09-22</td>\n",
       "      <td>4.7</td>\n",
       "      <td>2GB</td>\n",
       "      <td>iOS 11.0</td>\n",
       "      <td>No</td>\n",
       "    </tr>\n",
       "    <tr>\n",
       "      <th>iPhone 8 Plus</th>\n",
       "      <td>2017-09-22</td>\n",
       "      <td>5.5</td>\n",
       "      <td>3GB</td>\n",
       "      <td>iOS 11.0</td>\n",
       "      <td>No</td>\n",
       "    </tr>\n",
       "    <tr>\n",
       "      <th>iPhone XS</th>\n",
       "      <td>2018-09-21</td>\n",
       "      <td>5.8</td>\n",
       "      <td>4GB</td>\n",
       "      <td>iOS 12.0</td>\n",
       "      <td>Yes</td>\n",
       "    </tr>\n",
       "  </tbody>\n",
       "</table>\n",
       "</div>"
      ],
      "text/plain": [
       "                      출시일  디스플레이  메모리     출시 버전 Face ID\n",
       "iPhone 7       2016-09-16    4.7  2GB  iOS 10.0      No\n",
       "iPhone 8       2017-09-22    4.7  2GB  iOS 11.0      No\n",
       "iPhone 8 Plus  2017-09-22    5.5  3GB  iOS 11.0      No\n",
       "iPhone XS      2018-09-21    5.8  4GB  iOS 12.0     Yes"
      ]
     },
     "execution_count": 28,
     "metadata": {},
     "output_type": "execute_result"
    }
   ],
   "source": [
    "iphone_df.loc[[True, False, True, True, False, True, False ]]   # 불린으로 인덱싱 하기 "
   ]
  },
  {
   "cell_type": "code",
   "execution_count": 28,
   "metadata": {},
   "outputs": [
    {
     "ename": "IndexError",
     "evalue": "Boolean index has wrong length: 4 instead of 7",
     "output_type": "error",
     "traceback": [
      "\u001b[1;31m---------------------------------------------------------------------------\u001b[0m",
      "\u001b[1;31mIndexError\u001b[0m                                Traceback (most recent call last)",
      "\u001b[1;32m<ipython-input-28-ae2dbbafe429>\u001b[0m in \u001b[0;36m<module>\u001b[1;34m\u001b[0m\n\u001b[1;32m----> 1\u001b[1;33m \u001b[0miphone_df\u001b[0m\u001b[1;33m.\u001b[0m\u001b[0mloc\u001b[0m\u001b[1;33m[\u001b[0m\u001b[1;33m[\u001b[0m\u001b[1;32mTrue\u001b[0m\u001b[1;33m,\u001b[0m \u001b[1;32mFalse\u001b[0m\u001b[1;33m,\u001b[0m \u001b[1;32mTrue\u001b[0m\u001b[1;33m,\u001b[0m \u001b[1;32mTrue\u001b[0m\u001b[1;33m]\u001b[0m\u001b[1;33m]\u001b[0m \u001b[1;31m# 갯수가 같지 않으면 오류발생\u001b[0m\u001b[1;33m\u001b[0m\u001b[1;33m\u001b[0m\u001b[0m\n\u001b[0m",
      "\u001b[1;32m~\\anaconda3\\lib\\site-packages\\pandas\\core\\indexing.py\u001b[0m in \u001b[0;36m__getitem__\u001b[1;34m(self, key)\u001b[0m\n\u001b[0;32m    877\u001b[0m \u001b[1;33m\u001b[0m\u001b[0m\n\u001b[0;32m    878\u001b[0m             \u001b[0mmaybe_callable\u001b[0m \u001b[1;33m=\u001b[0m \u001b[0mcom\u001b[0m\u001b[1;33m.\u001b[0m\u001b[0mapply_if_callable\u001b[0m\u001b[1;33m(\u001b[0m\u001b[0mkey\u001b[0m\u001b[1;33m,\u001b[0m \u001b[0mself\u001b[0m\u001b[1;33m.\u001b[0m\u001b[0mobj\u001b[0m\u001b[1;33m)\u001b[0m\u001b[1;33m\u001b[0m\u001b[1;33m\u001b[0m\u001b[0m\n\u001b[1;32m--> 879\u001b[1;33m             \u001b[1;32mreturn\u001b[0m \u001b[0mself\u001b[0m\u001b[1;33m.\u001b[0m\u001b[0m_getitem_axis\u001b[0m\u001b[1;33m(\u001b[0m\u001b[0mmaybe_callable\u001b[0m\u001b[1;33m,\u001b[0m \u001b[0maxis\u001b[0m\u001b[1;33m=\u001b[0m\u001b[0maxis\u001b[0m\u001b[1;33m)\u001b[0m\u001b[1;33m\u001b[0m\u001b[1;33m\u001b[0m\u001b[0m\n\u001b[0m\u001b[0;32m    880\u001b[0m \u001b[1;33m\u001b[0m\u001b[0m\n\u001b[0;32m    881\u001b[0m     \u001b[1;32mdef\u001b[0m \u001b[0m_is_scalar_access\u001b[0m\u001b[1;33m(\u001b[0m\u001b[0mself\u001b[0m\u001b[1;33m,\u001b[0m \u001b[0mkey\u001b[0m\u001b[1;33m:\u001b[0m \u001b[0mTuple\u001b[0m\u001b[1;33m)\u001b[0m\u001b[1;33m:\u001b[0m\u001b[1;33m\u001b[0m\u001b[1;33m\u001b[0m\u001b[0m\n",
      "\u001b[1;32m~\\anaconda3\\lib\\site-packages\\pandas\\core\\indexing.py\u001b[0m in \u001b[0;36m_getitem_axis\u001b[1;34m(self, key, axis)\u001b[0m\n\u001b[0;32m   1088\u001b[0m             \u001b[1;32mreturn\u001b[0m \u001b[0mself\u001b[0m\u001b[1;33m.\u001b[0m\u001b[0m_get_slice_axis\u001b[0m\u001b[1;33m(\u001b[0m\u001b[0mkey\u001b[0m\u001b[1;33m,\u001b[0m \u001b[0maxis\u001b[0m\u001b[1;33m=\u001b[0m\u001b[0maxis\u001b[0m\u001b[1;33m)\u001b[0m\u001b[1;33m\u001b[0m\u001b[1;33m\u001b[0m\u001b[0m\n\u001b[0;32m   1089\u001b[0m         \u001b[1;32melif\u001b[0m \u001b[0mcom\u001b[0m\u001b[1;33m.\u001b[0m\u001b[0mis_bool_indexer\u001b[0m\u001b[1;33m(\u001b[0m\u001b[0mkey\u001b[0m\u001b[1;33m)\u001b[0m\u001b[1;33m:\u001b[0m\u001b[1;33m\u001b[0m\u001b[1;33m\u001b[0m\u001b[0m\n\u001b[1;32m-> 1090\u001b[1;33m             \u001b[1;32mreturn\u001b[0m \u001b[0mself\u001b[0m\u001b[1;33m.\u001b[0m\u001b[0m_getbool_axis\u001b[0m\u001b[1;33m(\u001b[0m\u001b[0mkey\u001b[0m\u001b[1;33m,\u001b[0m \u001b[0maxis\u001b[0m\u001b[1;33m=\u001b[0m\u001b[0maxis\u001b[0m\u001b[1;33m)\u001b[0m\u001b[1;33m\u001b[0m\u001b[1;33m\u001b[0m\u001b[0m\n\u001b[0m\u001b[0;32m   1091\u001b[0m         \u001b[1;32melif\u001b[0m \u001b[0mis_list_like_indexer\u001b[0m\u001b[1;33m(\u001b[0m\u001b[0mkey\u001b[0m\u001b[1;33m)\u001b[0m\u001b[1;33m:\u001b[0m\u001b[1;33m\u001b[0m\u001b[1;33m\u001b[0m\u001b[0m\n\u001b[0;32m   1092\u001b[0m \u001b[1;33m\u001b[0m\u001b[0m\n",
      "\u001b[1;32m~\\anaconda3\\lib\\site-packages\\pandas\\core\\indexing.py\u001b[0m in \u001b[0;36m_getbool_axis\u001b[1;34m(self, key, axis)\u001b[0m\n\u001b[0;32m    894\u001b[0m         \u001b[1;31m# caller is responsible for ensuring non-None axis\u001b[0m\u001b[1;33m\u001b[0m\u001b[1;33m\u001b[0m\u001b[1;33m\u001b[0m\u001b[0m\n\u001b[0;32m    895\u001b[0m         \u001b[0mlabels\u001b[0m \u001b[1;33m=\u001b[0m \u001b[0mself\u001b[0m\u001b[1;33m.\u001b[0m\u001b[0mobj\u001b[0m\u001b[1;33m.\u001b[0m\u001b[0m_get_axis\u001b[0m\u001b[1;33m(\u001b[0m\u001b[0maxis\u001b[0m\u001b[1;33m)\u001b[0m\u001b[1;33m\u001b[0m\u001b[1;33m\u001b[0m\u001b[0m\n\u001b[1;32m--> 896\u001b[1;33m         \u001b[0mkey\u001b[0m \u001b[1;33m=\u001b[0m \u001b[0mcheck_bool_indexer\u001b[0m\u001b[1;33m(\u001b[0m\u001b[0mlabels\u001b[0m\u001b[1;33m,\u001b[0m \u001b[0mkey\u001b[0m\u001b[1;33m)\u001b[0m\u001b[1;33m\u001b[0m\u001b[1;33m\u001b[0m\u001b[0m\n\u001b[0m\u001b[0;32m    897\u001b[0m         \u001b[0minds\u001b[0m \u001b[1;33m=\u001b[0m \u001b[0mkey\u001b[0m\u001b[1;33m.\u001b[0m\u001b[0mnonzero\u001b[0m\u001b[1;33m(\u001b[0m\u001b[1;33m)\u001b[0m\u001b[1;33m[\u001b[0m\u001b[1;36m0\u001b[0m\u001b[1;33m]\u001b[0m\u001b[1;33m\u001b[0m\u001b[1;33m\u001b[0m\u001b[0m\n\u001b[0;32m    898\u001b[0m         \u001b[1;32mreturn\u001b[0m \u001b[0mself\u001b[0m\u001b[1;33m.\u001b[0m\u001b[0mobj\u001b[0m\u001b[1;33m.\u001b[0m\u001b[0m_take_with_is_copy\u001b[0m\u001b[1;33m(\u001b[0m\u001b[0minds\u001b[0m\u001b[1;33m,\u001b[0m \u001b[0maxis\u001b[0m\u001b[1;33m=\u001b[0m\u001b[0maxis\u001b[0m\u001b[1;33m)\u001b[0m\u001b[1;33m\u001b[0m\u001b[1;33m\u001b[0m\u001b[0m\n",
      "\u001b[1;32m~\\anaconda3\\lib\\site-packages\\pandas\\core\\indexing.py\u001b[0m in \u001b[0;36mcheck_bool_indexer\u001b[1;34m(index, key)\u001b[0m\n\u001b[0;32m   2195\u001b[0m         \u001b[1;31m# key may contain nan elements, check_array_indexer needs bool array\u001b[0m\u001b[1;33m\u001b[0m\u001b[1;33m\u001b[0m\u001b[1;33m\u001b[0m\u001b[0m\n\u001b[0;32m   2196\u001b[0m         \u001b[0mresult\u001b[0m \u001b[1;33m=\u001b[0m \u001b[0mpd_array\u001b[0m\u001b[1;33m(\u001b[0m\u001b[0mresult\u001b[0m\u001b[1;33m,\u001b[0m \u001b[0mdtype\u001b[0m\u001b[1;33m=\u001b[0m\u001b[0mbool\u001b[0m\u001b[1;33m)\u001b[0m\u001b[1;33m\u001b[0m\u001b[1;33m\u001b[0m\u001b[0m\n\u001b[1;32m-> 2197\u001b[1;33m     \u001b[1;32mreturn\u001b[0m \u001b[0mcheck_array_indexer\u001b[0m\u001b[1;33m(\u001b[0m\u001b[0mindex\u001b[0m\u001b[1;33m,\u001b[0m \u001b[0mresult\u001b[0m\u001b[1;33m)\u001b[0m\u001b[1;33m\u001b[0m\u001b[1;33m\u001b[0m\u001b[0m\n\u001b[0m\u001b[0;32m   2198\u001b[0m \u001b[1;33m\u001b[0m\u001b[0m\n\u001b[0;32m   2199\u001b[0m \u001b[1;33m\u001b[0m\u001b[0m\n",
      "\u001b[1;32m~\\anaconda3\\lib\\site-packages\\pandas\\core\\indexers.py\u001b[0m in \u001b[0;36mcheck_array_indexer\u001b[1;34m(array, indexer)\u001b[0m\n\u001b[0;32m    468\u001b[0m         \u001b[1;31m# GH26658\u001b[0m\u001b[1;33m\u001b[0m\u001b[1;33m\u001b[0m\u001b[1;33m\u001b[0m\u001b[0m\n\u001b[0;32m    469\u001b[0m         \u001b[1;32mif\u001b[0m \u001b[0mlen\u001b[0m\u001b[1;33m(\u001b[0m\u001b[0mindexer\u001b[0m\u001b[1;33m)\u001b[0m \u001b[1;33m!=\u001b[0m \u001b[0mlen\u001b[0m\u001b[1;33m(\u001b[0m\u001b[0marray\u001b[0m\u001b[1;33m)\u001b[0m\u001b[1;33m:\u001b[0m\u001b[1;33m\u001b[0m\u001b[1;33m\u001b[0m\u001b[0m\n\u001b[1;32m--> 470\u001b[1;33m             raise IndexError(\n\u001b[0m\u001b[0;32m    471\u001b[0m                 \u001b[1;34mf\"Boolean index has wrong length: \"\u001b[0m\u001b[1;33m\u001b[0m\u001b[1;33m\u001b[0m\u001b[0m\n\u001b[0;32m    472\u001b[0m                 \u001b[1;34mf\"{len(indexer)} instead of {len(array)}\"\u001b[0m\u001b[1;33m\u001b[0m\u001b[1;33m\u001b[0m\u001b[0m\n",
      "\u001b[1;31mIndexError\u001b[0m: Boolean index has wrong length: 4 instead of 7"
     ]
    }
   ],
   "source": [
    "iphone_df.loc[[True, False, True, True]] # 갯수가 같지 않으면 오류발생"
   ]
  },
  {
   "cell_type": "code",
   "execution_count": 33,
   "metadata": {},
   "outputs": [
    {
     "data": {
      "text/plain": [
       "iPhone 7         False\n",
       "iPhone 7 Plus     True\n",
       "iPhone 8         False\n",
       "iPhone 8 Plus     True\n",
       "iPhone X          True\n",
       "iPhone XS         True\n",
       "iPhone XS Max     True\n",
       "Name: 디스플레이, dtype: bool"
      ]
     },
     "execution_count": 33,
     "metadata": {},
     "output_type": "execute_result"
    }
   ],
   "source": [
    "iphone_df['디스플레이'] >5"
   ]
  },
  {
   "cell_type": "code",
   "execution_count": 29,
   "metadata": {},
   "outputs": [
    {
     "data": {
      "text/html": [
       "<div>\n",
       "<style scoped>\n",
       "    .dataframe tbody tr th:only-of-type {\n",
       "        vertical-align: middle;\n",
       "    }\n",
       "\n",
       "    .dataframe tbody tr th {\n",
       "        vertical-align: top;\n",
       "    }\n",
       "\n",
       "    .dataframe thead th {\n",
       "        text-align: right;\n",
       "    }\n",
       "</style>\n",
       "<table border=\"1\" class=\"dataframe\">\n",
       "  <thead>\n",
       "    <tr style=\"text-align: right;\">\n",
       "      <th></th>\n",
       "      <th>출시일</th>\n",
       "      <th>디스플레이</th>\n",
       "      <th>메모리</th>\n",
       "      <th>출시 버전</th>\n",
       "      <th>Face ID</th>\n",
       "    </tr>\n",
       "  </thead>\n",
       "  <tbody>\n",
       "    <tr>\n",
       "      <th>iPhone 7 Plus</th>\n",
       "      <td>2016-09-16</td>\n",
       "      <td>5.5</td>\n",
       "      <td>3GB</td>\n",
       "      <td>iOS 10.0</td>\n",
       "      <td>No</td>\n",
       "    </tr>\n",
       "    <tr>\n",
       "      <th>iPhone 8 Plus</th>\n",
       "      <td>2017-09-22</td>\n",
       "      <td>5.5</td>\n",
       "      <td>3GB</td>\n",
       "      <td>iOS 11.0</td>\n",
       "      <td>No</td>\n",
       "    </tr>\n",
       "    <tr>\n",
       "      <th>iPhone X</th>\n",
       "      <td>2017-11-03</td>\n",
       "      <td>5.8</td>\n",
       "      <td>3GB</td>\n",
       "      <td>iOS 11.1</td>\n",
       "      <td>Yes</td>\n",
       "    </tr>\n",
       "    <tr>\n",
       "      <th>iPhone XS</th>\n",
       "      <td>2018-09-21</td>\n",
       "      <td>5.8</td>\n",
       "      <td>4GB</td>\n",
       "      <td>iOS 12.0</td>\n",
       "      <td>Yes</td>\n",
       "    </tr>\n",
       "    <tr>\n",
       "      <th>iPhone XS Max</th>\n",
       "      <td>2018-09-21</td>\n",
       "      <td>6.5</td>\n",
       "      <td>4GB</td>\n",
       "      <td>iOS 12.0</td>\n",
       "      <td>Yes</td>\n",
       "    </tr>\n",
       "  </tbody>\n",
       "</table>\n",
       "</div>"
      ],
      "text/plain": [
       "                      출시일  디스플레이  메모리     출시 버전 Face ID\n",
       "iPhone 7 Plus  2016-09-16    5.5  3GB  iOS 10.0      No\n",
       "iPhone 8 Plus  2017-09-22    5.5  3GB  iOS 11.0      No\n",
       "iPhone X       2017-11-03    5.8  3GB  iOS 11.1     Yes\n",
       "iPhone XS      2018-09-21    5.8  4GB  iOS 12.0     Yes\n",
       "iPhone XS Max  2018-09-21    6.5  4GB  iOS 12.0     Yes"
      ]
     },
     "execution_count": 29,
     "metadata": {},
     "output_type": "execute_result"
    }
   ],
   "source": [
    "iphone_df.loc[iphone_df['디스플레이'] > 5]   # 디스플레이가 5보다 큰 수 인덱싱 하기 "
   ]
  },
  {
   "cell_type": "code",
   "execution_count": 36,
   "metadata": {},
   "outputs": [
    {
     "data": {
      "text/plain": [
       "iPhone 7         False\n",
       "iPhone 7 Plus    False\n",
       "iPhone 8         False\n",
       "iPhone 8 Plus    False\n",
       "iPhone X          True\n",
       "iPhone XS         True\n",
       "iPhone XS Max     True\n",
       "Name: Face ID, dtype: bool"
      ]
     },
     "execution_count": 36,
     "metadata": {},
     "output_type": "execute_result"
    }
   ],
   "source": [
    "iphone_df['Face ID'] == 'Yes'"
   ]
  },
  {
   "cell_type": "code",
   "execution_count": 31,
   "metadata": {},
   "outputs": [
    {
     "data": {
      "text/html": [
       "<div>\n",
       "<style scoped>\n",
       "    .dataframe tbody tr th:only-of-type {\n",
       "        vertical-align: middle;\n",
       "    }\n",
       "\n",
       "    .dataframe tbody tr th {\n",
       "        vertical-align: top;\n",
       "    }\n",
       "\n",
       "    .dataframe thead th {\n",
       "        text-align: right;\n",
       "    }\n",
       "</style>\n",
       "<table border=\"1\" class=\"dataframe\">\n",
       "  <thead>\n",
       "    <tr style=\"text-align: right;\">\n",
       "      <th></th>\n",
       "      <th>출시일</th>\n",
       "      <th>디스플레이</th>\n",
       "      <th>메모리</th>\n",
       "      <th>출시 버전</th>\n",
       "      <th>Face ID</th>\n",
       "    </tr>\n",
       "  </thead>\n",
       "  <tbody>\n",
       "    <tr>\n",
       "      <th>iPhone X</th>\n",
       "      <td>2017-11-03</td>\n",
       "      <td>5.8</td>\n",
       "      <td>3GB</td>\n",
       "      <td>iOS 11.1</td>\n",
       "      <td>Yes</td>\n",
       "    </tr>\n",
       "    <tr>\n",
       "      <th>iPhone XS</th>\n",
       "      <td>2018-09-21</td>\n",
       "      <td>5.8</td>\n",
       "      <td>4GB</td>\n",
       "      <td>iOS 12.0</td>\n",
       "      <td>Yes</td>\n",
       "    </tr>\n",
       "    <tr>\n",
       "      <th>iPhone XS Max</th>\n",
       "      <td>2018-09-21</td>\n",
       "      <td>6.5</td>\n",
       "      <td>4GB</td>\n",
       "      <td>iOS 12.0</td>\n",
       "      <td>Yes</td>\n",
       "    </tr>\n",
       "  </tbody>\n",
       "</table>\n",
       "</div>"
      ],
      "text/plain": [
       "                      출시일  디스플레이  메모리     출시 버전 Face ID\n",
       "iPhone X       2017-11-03    5.8  3GB  iOS 11.1     Yes\n",
       "iPhone XS      2018-09-21    5.8  4GB  iOS 12.0     Yes\n",
       "iPhone XS Max  2018-09-21    6.5  4GB  iOS 12.0     Yes"
      ]
     },
     "execution_count": 31,
     "metadata": {},
     "output_type": "execute_result"
    }
   ],
   "source": [
    "iphone_df.loc[iphone_df['Face ID'] == 'Yes']   # 얼굴인식이 가능한 것만 인덱싱 하기 "
   ]
  },
  {
   "cell_type": "code",
   "execution_count": 32,
   "metadata": {},
   "outputs": [],
   "source": [
    "# 디스플레이가 5보다 크면서 얼굴인식이 가능한 폰 인덱싱 하기 "
   ]
  },
  {
   "cell_type": "code",
   "execution_count": 33,
   "metadata": {},
   "outputs": [
    {
     "data": {
      "text/plain": [
       "iPhone 7         False\n",
       "iPhone 7 Plus    False\n",
       "iPhone 8         False\n",
       "iPhone 8 Plus    False\n",
       "iPhone X          True\n",
       "iPhone XS         True\n",
       "iPhone XS Max     True\n",
       "dtype: bool"
      ]
     },
     "execution_count": 33,
     "metadata": {},
     "output_type": "execute_result"
    }
   ],
   "source": [
    "(iphone_df['디스플레이'] > 5) &(iphone_df['Face ID'] == 'Yes')"
   ]
  },
  {
   "cell_type": "code",
   "execution_count": 34,
   "metadata": {},
   "outputs": [],
   "source": [
    "condition = (iphone_df['디스플레이'] > 5) &(iphone_df['Face ID'] == 'Yes')  # 두 조건 모두 충족해야 할때   \"&\""
   ]
  },
  {
   "cell_type": "code",
   "execution_count": 35,
   "metadata": {},
   "outputs": [
    {
     "data": {
      "text/html": [
       "<div>\n",
       "<style scoped>\n",
       "    .dataframe tbody tr th:only-of-type {\n",
       "        vertical-align: middle;\n",
       "    }\n",
       "\n",
       "    .dataframe tbody tr th {\n",
       "        vertical-align: top;\n",
       "    }\n",
       "\n",
       "    .dataframe thead th {\n",
       "        text-align: right;\n",
       "    }\n",
       "</style>\n",
       "<table border=\"1\" class=\"dataframe\">\n",
       "  <thead>\n",
       "    <tr style=\"text-align: right;\">\n",
       "      <th></th>\n",
       "      <th>출시일</th>\n",
       "      <th>디스플레이</th>\n",
       "      <th>메모리</th>\n",
       "      <th>출시 버전</th>\n",
       "      <th>Face ID</th>\n",
       "    </tr>\n",
       "  </thead>\n",
       "  <tbody>\n",
       "    <tr>\n",
       "      <th>iPhone X</th>\n",
       "      <td>2017-11-03</td>\n",
       "      <td>5.8</td>\n",
       "      <td>3GB</td>\n",
       "      <td>iOS 11.1</td>\n",
       "      <td>Yes</td>\n",
       "    </tr>\n",
       "    <tr>\n",
       "      <th>iPhone XS</th>\n",
       "      <td>2018-09-21</td>\n",
       "      <td>5.8</td>\n",
       "      <td>4GB</td>\n",
       "      <td>iOS 12.0</td>\n",
       "      <td>Yes</td>\n",
       "    </tr>\n",
       "    <tr>\n",
       "      <th>iPhone XS Max</th>\n",
       "      <td>2018-09-21</td>\n",
       "      <td>6.5</td>\n",
       "      <td>4GB</td>\n",
       "      <td>iOS 12.0</td>\n",
       "      <td>Yes</td>\n",
       "    </tr>\n",
       "  </tbody>\n",
       "</table>\n",
       "</div>"
      ],
      "text/plain": [
       "                      출시일  디스플레이  메모리     출시 버전 Face ID\n",
       "iPhone X       2017-11-03    5.8  3GB  iOS 11.1     Yes\n",
       "iPhone XS      2018-09-21    5.8  4GB  iOS 12.0     Yes\n",
       "iPhone XS Max  2018-09-21    6.5  4GB  iOS 12.0     Yes"
      ]
     },
     "execution_count": 35,
     "metadata": {},
     "output_type": "execute_result"
    }
   ],
   "source": [
    "iphone_df[condition]"
   ]
  },
  {
   "cell_type": "code",
   "execution_count": 37,
   "metadata": {},
   "outputs": [],
   "source": [
    "condition = (iphone_df['디스플레이'] > 5)|(iphone_df['Face ID'] == 'Yes') # 둘 중 하나만 충족해도 될때  \"|\""
   ]
  },
  {
   "cell_type": "code",
   "execution_count": 38,
   "metadata": {},
   "outputs": [
    {
     "data": {
      "text/html": [
       "<div>\n",
       "<style scoped>\n",
       "    .dataframe tbody tr th:only-of-type {\n",
       "        vertical-align: middle;\n",
       "    }\n",
       "\n",
       "    .dataframe tbody tr th {\n",
       "        vertical-align: top;\n",
       "    }\n",
       "\n",
       "    .dataframe thead th {\n",
       "        text-align: right;\n",
       "    }\n",
       "</style>\n",
       "<table border=\"1\" class=\"dataframe\">\n",
       "  <thead>\n",
       "    <tr style=\"text-align: right;\">\n",
       "      <th></th>\n",
       "      <th>출시일</th>\n",
       "      <th>디스플레이</th>\n",
       "      <th>메모리</th>\n",
       "      <th>출시 버전</th>\n",
       "      <th>Face ID</th>\n",
       "    </tr>\n",
       "  </thead>\n",
       "  <tbody>\n",
       "    <tr>\n",
       "      <th>iPhone 7 Plus</th>\n",
       "      <td>2016-09-16</td>\n",
       "      <td>5.5</td>\n",
       "      <td>3GB</td>\n",
       "      <td>iOS 10.0</td>\n",
       "      <td>No</td>\n",
       "    </tr>\n",
       "    <tr>\n",
       "      <th>iPhone 8 Plus</th>\n",
       "      <td>2017-09-22</td>\n",
       "      <td>5.5</td>\n",
       "      <td>3GB</td>\n",
       "      <td>iOS 11.0</td>\n",
       "      <td>No</td>\n",
       "    </tr>\n",
       "    <tr>\n",
       "      <th>iPhone X</th>\n",
       "      <td>2017-11-03</td>\n",
       "      <td>5.8</td>\n",
       "      <td>3GB</td>\n",
       "      <td>iOS 11.1</td>\n",
       "      <td>Yes</td>\n",
       "    </tr>\n",
       "    <tr>\n",
       "      <th>iPhone XS</th>\n",
       "      <td>2018-09-21</td>\n",
       "      <td>5.8</td>\n",
       "      <td>4GB</td>\n",
       "      <td>iOS 12.0</td>\n",
       "      <td>Yes</td>\n",
       "    </tr>\n",
       "    <tr>\n",
       "      <th>iPhone XS Max</th>\n",
       "      <td>2018-09-21</td>\n",
       "      <td>6.5</td>\n",
       "      <td>4GB</td>\n",
       "      <td>iOS 12.0</td>\n",
       "      <td>Yes</td>\n",
       "    </tr>\n",
       "  </tbody>\n",
       "</table>\n",
       "</div>"
      ],
      "text/plain": [
       "                      출시일  디스플레이  메모리     출시 버전 Face ID\n",
       "iPhone 7 Plus  2016-09-16    5.5  3GB  iOS 10.0      No\n",
       "iPhone 8 Plus  2017-09-22    5.5  3GB  iOS 11.0      No\n",
       "iPhone X       2017-11-03    5.8  3GB  iOS 11.1     Yes\n",
       "iPhone XS      2018-09-21    5.8  4GB  iOS 12.0     Yes\n",
       "iPhone XS Max  2018-09-21    6.5  4GB  iOS 12.0     Yes"
      ]
     },
     "execution_count": 38,
     "metadata": {},
     "output_type": "execute_result"
    }
   ],
   "source": [
    "iphone_df[condition]"
   ]
  },
  {
   "cell_type": "markdown",
   "metadata": {},
   "source": [
    "## DataFrame 위치로 인덱싱하기 "
   ]
  },
  {
   "cell_type": "code",
   "execution_count": 46,
   "metadata": {},
   "outputs": [
    {
     "data": {
      "text/html": [
       "<div>\n",
       "<style scoped>\n",
       "    .dataframe tbody tr th:only-of-type {\n",
       "        vertical-align: middle;\n",
       "    }\n",
       "\n",
       "    .dataframe tbody tr th {\n",
       "        vertical-align: top;\n",
       "    }\n",
       "\n",
       "    .dataframe thead th {\n",
       "        text-align: right;\n",
       "    }\n",
       "</style>\n",
       "<table border=\"1\" class=\"dataframe\">\n",
       "  <thead>\n",
       "    <tr style=\"text-align: right;\">\n",
       "      <th></th>\n",
       "      <th>출시일</th>\n",
       "      <th>디스플레이</th>\n",
       "      <th>메모리</th>\n",
       "      <th>출시 버전</th>\n",
       "      <th>Face ID</th>\n",
       "    </tr>\n",
       "  </thead>\n",
       "  <tbody>\n",
       "    <tr>\n",
       "      <th>iPhone 7</th>\n",
       "      <td>2016-09-16</td>\n",
       "      <td>4.7</td>\n",
       "      <td>2GB</td>\n",
       "      <td>iOS 10.0</td>\n",
       "      <td>No</td>\n",
       "    </tr>\n",
       "    <tr>\n",
       "      <th>iPhone 7 Plus</th>\n",
       "      <td>2016-09-16</td>\n",
       "      <td>5.5</td>\n",
       "      <td>3GB</td>\n",
       "      <td>iOS 10.0</td>\n",
       "      <td>No</td>\n",
       "    </tr>\n",
       "    <tr>\n",
       "      <th>iPhone 8</th>\n",
       "      <td>2017-09-22</td>\n",
       "      <td>4.7</td>\n",
       "      <td>2GB</td>\n",
       "      <td>iOS 11.0</td>\n",
       "      <td>No</td>\n",
       "    </tr>\n",
       "    <tr>\n",
       "      <th>iPhone 8 Plus</th>\n",
       "      <td>2017-09-22</td>\n",
       "      <td>5.5</td>\n",
       "      <td>3GB</td>\n",
       "      <td>iOS 11.0</td>\n",
       "      <td>No</td>\n",
       "    </tr>\n",
       "    <tr>\n",
       "      <th>iPhone X</th>\n",
       "      <td>2017-11-03</td>\n",
       "      <td>5.8</td>\n",
       "      <td>3GB</td>\n",
       "      <td>iOS 11.1</td>\n",
       "      <td>Yes</td>\n",
       "    </tr>\n",
       "    <tr>\n",
       "      <th>iPhone XS</th>\n",
       "      <td>2018-09-21</td>\n",
       "      <td>5.8</td>\n",
       "      <td>4GB</td>\n",
       "      <td>iOS 12.0</td>\n",
       "      <td>Yes</td>\n",
       "    </tr>\n",
       "    <tr>\n",
       "      <th>iPhone XS Max</th>\n",
       "      <td>2018-09-21</td>\n",
       "      <td>6.5</td>\n",
       "      <td>4GB</td>\n",
       "      <td>iOS 12.0</td>\n",
       "      <td>Yes</td>\n",
       "    </tr>\n",
       "  </tbody>\n",
       "</table>\n",
       "</div>"
      ],
      "text/plain": [
       "                      출시일  디스플레이  메모리     출시 버전 Face ID\n",
       "iPhone 7       2016-09-16    4.7  2GB  iOS 10.0      No\n",
       "iPhone 7 Plus  2016-09-16    5.5  3GB  iOS 10.0      No\n",
       "iPhone 8       2017-09-22    4.7  2GB  iOS 11.0      No\n",
       "iPhone 8 Plus  2017-09-22    5.5  3GB  iOS 11.0      No\n",
       "iPhone X       2017-11-03    5.8  3GB  iOS 11.1     Yes\n",
       "iPhone XS      2018-09-21    5.8  4GB  iOS 12.0     Yes\n",
       "iPhone XS Max  2018-09-21    6.5  4GB  iOS 12.0     Yes"
      ]
     },
     "execution_count": 46,
     "metadata": {},
     "output_type": "execute_result"
    }
   ],
   "source": [
    "iphone_df      # numpy처럼 숫자로 인덱싱하기 "
   ]
  },
  {
   "cell_type": "code",
   "execution_count": 39,
   "metadata": {},
   "outputs": [
    {
     "data": {
      "text/plain": [
       "'No'"
      ]
     },
     "execution_count": 39,
     "metadata": {},
     "output_type": "execute_result"
    }
   ],
   "source": [
    "iphone_df.iloc[2,4]   #iloc 는 정수의 위치를 나타냄 2번 row, 4번 column 인 Face ID 출력 "
   ]
  },
  {
   "cell_type": "code",
   "execution_count": 40,
   "metadata": {},
   "outputs": [
    {
     "data": {
      "text/html": [
       "<div>\n",
       "<style scoped>\n",
       "    .dataframe tbody tr th:only-of-type {\n",
       "        vertical-align: middle;\n",
       "    }\n",
       "\n",
       "    .dataframe tbody tr th {\n",
       "        vertical-align: top;\n",
       "    }\n",
       "\n",
       "    .dataframe thead th {\n",
       "        text-align: right;\n",
       "    }\n",
       "</style>\n",
       "<table border=\"1\" class=\"dataframe\">\n",
       "  <thead>\n",
       "    <tr style=\"text-align: right;\">\n",
       "      <th></th>\n",
       "      <th>디스플레이</th>\n",
       "      <th>Face ID</th>\n",
       "    </tr>\n",
       "  </thead>\n",
       "  <tbody>\n",
       "    <tr>\n",
       "      <th>iPhone 7 Plus</th>\n",
       "      <td>5.5</td>\n",
       "      <td>No</td>\n",
       "    </tr>\n",
       "    <tr>\n",
       "      <th>iPhone 8 Plus</th>\n",
       "      <td>5.5</td>\n",
       "      <td>No</td>\n",
       "    </tr>\n",
       "  </tbody>\n",
       "</table>\n",
       "</div>"
      ],
      "text/plain": [
       "               디스플레이 Face ID\n",
       "iPhone 7 Plus    5.5      No\n",
       "iPhone 8 Plus    5.5      No"
      ]
     },
     "execution_count": 40,
     "metadata": {},
     "output_type": "execute_result"
    }
   ],
   "source": [
    "iphone_df.iloc[[1,3],[1,4]]    # [1,3번] row, [1,4번] column 출력함 "
   ]
  },
  {
   "cell_type": "code",
   "execution_count": 41,
   "metadata": {},
   "outputs": [
    {
     "data": {
      "text/html": [
       "<div>\n",
       "<style scoped>\n",
       "    .dataframe tbody tr th:only-of-type {\n",
       "        vertical-align: middle;\n",
       "    }\n",
       "\n",
       "    .dataframe tbody tr th {\n",
       "        vertical-align: top;\n",
       "    }\n",
       "\n",
       "    .dataframe thead th {\n",
       "        text-align: right;\n",
       "    }\n",
       "</style>\n",
       "<table border=\"1\" class=\"dataframe\">\n",
       "  <thead>\n",
       "    <tr style=\"text-align: right;\">\n",
       "      <th></th>\n",
       "      <th>디스플레이</th>\n",
       "      <th>메모리</th>\n",
       "      <th>출시 버전</th>\n",
       "    </tr>\n",
       "  </thead>\n",
       "  <tbody>\n",
       "    <tr>\n",
       "      <th>iPhone 8 Plus</th>\n",
       "      <td>5.5</td>\n",
       "      <td>3GB</td>\n",
       "      <td>iOS 11.0</td>\n",
       "    </tr>\n",
       "    <tr>\n",
       "      <th>iPhone X</th>\n",
       "      <td>5.8</td>\n",
       "      <td>3GB</td>\n",
       "      <td>iOS 11.1</td>\n",
       "    </tr>\n",
       "    <tr>\n",
       "      <th>iPhone XS</th>\n",
       "      <td>5.8</td>\n",
       "      <td>4GB</td>\n",
       "      <td>iOS 12.0</td>\n",
       "    </tr>\n",
       "    <tr>\n",
       "      <th>iPhone XS Max</th>\n",
       "      <td>6.5</td>\n",
       "      <td>4GB</td>\n",
       "      <td>iOS 12.0</td>\n",
       "    </tr>\n",
       "  </tbody>\n",
       "</table>\n",
       "</div>"
      ],
      "text/plain": [
       "               디스플레이  메모리     출시 버전\n",
       "iPhone 8 Plus    5.5  3GB  iOS 11.0\n",
       "iPhone X         5.8  3GB  iOS 11.1\n",
       "iPhone XS        5.8  4GB  iOS 12.0\n",
       "iPhone XS Max    6.5  4GB  iOS 12.0"
      ]
     },
     "execution_count": 41,
     "metadata": {},
     "output_type": "execute_result"
    }
   ],
   "source": [
    "iphone_df.iloc[3:, 1:4]  # 연속된 데이터 슬라이싱, [1:4] 1번부터 4번 인덱스 전까지만 데이터 출력  "
   ]
  },
  {
   "cell_type": "code",
   "execution_count": null,
   "metadata": {},
   "outputs": [],
   "source": []
  }
 ],
 "metadata": {
  "kernelspec": {
   "display_name": "Python 3",
   "language": "python",
   "name": "python3"
  },
  "language_info": {
   "codemirror_mode": {
    "name": "ipython",
    "version": 3
   },
   "file_extension": ".py",
   "mimetype": "text/x-python",
   "name": "python",
   "nbconvert_exporter": "python",
   "pygments_lexer": "ipython3",
   "version": "3.8.5"
  }
 },
 "nbformat": 4,
 "nbformat_minor": 4
}
