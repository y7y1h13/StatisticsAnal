{
 "cells": [
  {
   "cell_type": "markdown",
   "id": "ba7e4158",
   "metadata": {},
   "source": [
    "## 인덱싱"
   ]
  },
  {
   "cell_type": "markdown",
   "id": "d36d276e",
   "metadata": {},
   "source": [
    "### 인덱싱이랑 슬라이싱은 너무 중요해"
   ]
  },
  {
   "cell_type": "markdown",
   "id": "df8f0b2b",
   "metadata": {},
   "source": [
    "### 단일 값 추출"
   ]
  },
  {
   "cell_type": "code",
   "execution_count": 2,
   "id": "e27497bc",
   "metadata": {},
   "outputs": [],
   "source": [
    "import numpy as np"
   ]
  },
  {
   "cell_type": "code",
   "execution_count": 3,
   "id": "622d1f20",
   "metadata": {},
   "outputs": [
    {
     "name": "stdout",
     "output_type": "stream",
     "text": [
      "arr1: [1 2 3 4 5 6 7 8 9]\n"
     ]
    }
   ],
   "source": [
    "# 1부터 9까지의 1차원 ndarray 생성\n",
    "arr1 = np.arange(start=1, stop=10)\n",
    "print('arr1:',arr1)"
   ]
  },
  {
   "cell_type": "code",
   "execution_count": 4,
   "id": "7d63241c",
   "metadata": {},
   "outputs": [
    {
     "name": "stdout",
     "output_type": "stream",
     "text": [
      "value:  3\n",
      "<class 'numpy.int32'>\n"
     ]
    }
   ],
   "source": [
    "# index는 0부터 시작하므로 arr1[2]는 3번째 index 위치의 데이터값을 의미\n",
    "value = arr1[2]\n",
    "print('value: ', value)\n",
    "print(type(value))"
   ]
  },
  {
   "cell_type": "markdown",
   "id": "d8a413b1",
   "metadata": {},
   "source": [
    "### 인덱스로 - 사용하기\n",
    "### -1은 맨뒤의 값을 의미하고 -2는 맨뒤에서 두 번째 있는 값을 의미"
   ]
  },
  {
   "cell_type": "code",
   "execution_count": 5,
   "id": "9eb47cca",
   "metadata": {},
   "outputs": [
    {
     "name": "stdout",
     "output_type": "stream",
     "text": [
      "맨 뒤의 값: 9 맨 뒤에서 두 번째 값: 8\n"
     ]
    }
   ],
   "source": [
    "print('맨 뒤의 값:',arr1[-1], '맨 뒤에서 두 번째 값:',arr1[-2])"
   ]
  },
  {
   "cell_type": "markdown",
   "id": "c017a3a7",
   "metadata": {},
   "source": [
    "### 다차원 ndarray에서 인덱싱은 원하는 값의 위치를 적어준다. [3,3] 이런식"
   ]
  },
  {
   "cell_type": "code",
   "execution_count": 3,
   "id": "d92ff2ef",
   "metadata": {},
   "outputs": [
    {
     "name": "stdout",
     "output_type": "stream",
     "text": [
      "[[1 2 3]\n",
      " [4 5 6]\n",
      " [7 8 9]]\n",
      "\n",
      "(row=0, col=0) index 가리키는 값: 1\n",
      "(row=0, col=1) index 가리키는 값: 2\n",
      "(row=1, col=0) index 가리키는 값: 4\n",
      "(row=2, col=2) index 가리키는 값: 9\n"
     ]
    }
   ],
   "source": [
    "arr1d = np.arange(1,10)\n",
    "arr2d = arr1d.reshape(3,3)\n",
    "print(arr2d)\n",
    "print()\n",
    "print('(row=0, col=0) index 가리키는 값:', arr2d[0, 0])\n",
    "print('(row=0, col=1) index 가리키는 값:', arr2d[0, 1])\n",
    "print('(row=1, col=0) index 가리키는 값:', arr2d[1, 0])\n",
    "print('(row=2, col=2) index 가리키는 값:', arr2d[2, 2])"
   ]
  },
  {
   "cell_type": "markdown",
   "id": "1fdb5bd7",
   "metadata": {},
   "source": [
    "### 그냥 외우기\n",
    "### axis 0은 row(행)\n",
    "### axis 1은 column(열)\n",
    "### axis 2는 heigh(높이) -> 3차원\n",
    "### axis가 생략되면 axis 0을 의미한다"
   ]
  },
  {
   "cell_type": "markdown",
   "id": "626af0f4",
   "metadata": {},
   "source": [
    "<hr>"
   ]
  },
  {
   "cell_type": "markdown",
   "id": "adbc0090",
   "metadata": {},
   "source": [
    "## 슬라이싱\n",
    "### 중요함...\n",
    "\n",
    "###  : 를 써서 슬라이싱 가능\n",
    "### [시작 : 끝]"
   ]
  },
  {
   "cell_type": "code",
   "execution_count": 10,
   "id": "caba925b",
   "metadata": {},
   "outputs": [
    {
     "name": "stdout",
     "output_type": "stream",
     "text": [
      "[1 2 3]\n",
      "<class 'numpy.ndarray'>\n"
     ]
    }
   ],
   "source": [
    "arr1 = np.arange(1, 10)\n",
    "arr3 = arr1[0:3]\n",
    "print(arr3)\n",
    "print(type(arr3))"
   ]
  },
  {
   "cell_type": "markdown",
   "id": "d0762f25",
   "metadata": {},
   "source": [
    "### : 기호 앞뒤로 생략해도 가능함\n",
    "### 앞을 생략하면 0이 들어감(맨 처음 인덱스)\n",
    "### 뒤를 생략하면 0이 들어감(맨 마지막 인덱스)\n",
    "### 둘다 생략하면 처음부터 끝까지를 의미 (모든 인덱스)"
   ]
  },
  {
   "cell_type": "code",
   "execution_count": 11,
   "id": "2d62b9fb",
   "metadata": {},
   "outputs": [
    {
     "name": "stdout",
     "output_type": "stream",
     "text": [
      "[1 2 3]\n",
      "\n",
      "[4 5 6 7 8 9]\n",
      "\n",
      "[1 2 3 4 5 6 7 8 9]\n"
     ]
    }
   ],
   "source": [
    "arr1 = np.arange(1, 10)\n",
    "arr4 = arr1[:3]\n",
    "print(arr4)\n",
    "print()\n",
    "\n",
    "arr5 = arr1[3:]\n",
    "print(arr5)\n",
    "print()\n",
    "\n",
    "arr6 = arr1[:]\n",
    "print(arr6)"
   ]
  },
  {
   "cell_type": "markdown",
   "id": "4aef0e23",
   "metadata": {},
   "source": [
    "###  2차원 슬라이싱"
   ]
  },
  {
   "cell_type": "code",
   "execution_count": 4,
   "id": "e822add8",
   "metadata": {},
   "outputs": [
    {
     "name": "stdout",
     "output_type": "stream",
     "text": [
      "arr2d:\n",
      " [[1 2 3]\n",
      " [4 5 6]\n",
      " [7 8 9]]\n",
      "\n",
      "arr2d [0:2, 0:2]\n",
      " [[1 2]\n",
      " [4 5]]\n",
      "\n",
      "arr2d [1:3, 0:3]\n",
      " [[4 5 6]\n",
      " [7 8 9]]\n",
      "\n",
      "arr2d [1:3, :]\n",
      " [[4 5 6]\n",
      " [7 8 9]]\n",
      "\n",
      "arr2d [:, :]\n",
      " [[1 2 3]\n",
      " [4 5 6]\n",
      " [7 8 9]]\n",
      "\n",
      "arr2d [:2,1:]\n",
      " [[2 3]\n",
      " [5 6]]\n",
      "\n",
      "arr2d [:2, 0]\n",
      " [1 4]\n",
      "arr2d:\n",
      " [[1 2 3]\n",
      " [4 5 6]\n",
      " [7 8 9]]\n",
      "\n",
      "arr2d [0:2, 0:2]\n",
      " [[1 2]\n",
      " [4 5]]\n",
      "\n",
      "arr2d [1:3, 0:3]\n",
      " [[4 5 6]\n",
      " [7 8 9]]\n",
      "\n",
      "arr2d [1:3, :]\n",
      " [[4 5 6]\n",
      " [7 8 9]]\n",
      "\n",
      "arr2d [:, :]\n",
      " [[1 2 3]\n",
      " [4 5 6]\n",
      " [7 8 9]]\n",
      "\n",
      "arr2d [:2,1:]\n",
      " [[2 3]\n",
      " [5 6]]\n",
      "\n",
      "arr2d [:2, 0]\n",
      " [1 4]\n"
     ]
    }
   ],
   "source": [
    "arr1d = np.arange(1, 10)\n",
    "arr2d = arr1d.reshape(3, 3)\n",
    "print('arr2d:\\n', arr2d)\n",
    "print()\n",
    "\n",
    "print('arr2d [0:2, 0:2]\\n', arr2d[0:2, 0:2])\n",
    "print()\n",
    "print('arr2d [1:3, 0:3]\\n', arr2d[1:3, 0:3])\n",
    "print()\n",
    "print('arr2d [1:3, :]\\n', arr2d[1:3, :])\n",
    "print()\n",
    "print('arr2d [:, :]\\n', arr2d[:,:])\n",
    "print()\n",
    "print('arr2d [:2,1:]\\n', arr2d[:2,1:])\n",
    "print()\n",
    "print('arr2d [:2, 0]\\n',arr2d[:2, 0])\n"
   ]
  },
  {
   "cell_type": "markdown",
   "id": "57b710c0",
   "metadata": {},
   "source": [
    "###  2차원에서 뒤에오는 인덱스 없애면 1차원 반환"
   ]
  },
  {
   "cell_type": "code",
   "execution_count": 21,
   "id": "efb64d12",
   "metadata": {},
   "outputs": [
    {
     "name": "stdout",
     "output_type": "stream",
     "text": [
      "[1 2 3]\n",
      "[4 5 6]\n",
      "arr2d[9] shape: (3,) arr2d[1] shape: (3,)\n"
     ]
    }
   ],
   "source": [
    "print(arr2d[0])\n",
    "print(arr2d[1])\n",
    "print('arr2d[9] shape:', arr2d[0].shape, 'arr2d[1] shape:', arr2d[1].shape)"
   ]
  },
  {
   "cell_type": "markdown",
   "id": "ccfcb23d",
   "metadata": {},
   "source": [
    "### 팬시 인덱싱"
   ]
  },
  {
   "cell_type": "code",
   "execution_count": 23,
   "id": "72ee9c0b",
   "metadata": {},
   "outputs": [
    {
     "name": "stdout",
     "output_type": "stream",
     "text": [
      "arr2d[[0, 1], 2] =>  [3, 6]\n",
      "arr2d[[0, 1], 0:2] =>  [[1, 2], [4, 5]]\n",
      "arr2d[[0,1]] =>  [[1, 2, 3], [4, 5, 6]]\n"
     ]
    }
   ],
   "source": [
    "arr1d = np.arange(1, 10)\n",
    "arr2d = arr1d.reshape(3, 3)\n",
    "\n",
    "arr3 = arr2d[[0, 1], 2]\n",
    "print('arr2d[[0, 1], 2] => ', arr3.tolist())\n",
    "\n",
    "arr4 = arr2d[[0, 1], 0:2]\n",
    "print('arr2d[[0, 1], 0:2] => ', arr4.tolist())\n",
    "\n",
    "arr5 = arr2d[[0,1]]\n",
    "print('arr2d[[0,1]] => ', arr5.tolist())"
   ]
  },
  {
   "cell_type": "markdown",
   "id": "a820f63f",
   "metadata": {},
   "source": [
    "### 불린 인덱싱\n",
    "### 조건으로 필터링하기 때문에 매우 자주쓴다!"
   ]
  },
  {
   "cell_type": "code",
   "execution_count": 5,
   "id": "3a3ffdbc",
   "metadata": {},
   "outputs": [
    {
     "name": "stdout",
     "output_type": "stream",
     "text": [
      "arr1d > 5 불린 인덱싱 결과 값 : [6 7 8 9]\n"
     ]
    }
   ],
   "source": [
    "arr1d = np.arange(1, 10)\n",
    "arr1d > 5\n",
    "# [ ] 안에 arr1d > 5 불린 인덱싱 적용\n",
    "arr3 = arr1d[arr1d > 5]\n",
    "print('arr1d > 5 불린 인덱싱 결과 값 :', arr3)"
   ]
  },
  {
   "cell_type": "code",
   "execution_count": 25,
   "id": "690354b1",
   "metadata": {},
   "outputs": [
    {
     "data": {
      "text/plain": [
       "array([False, False, False, False, False,  True,  True,  True,  True])"
      ]
     },
     "execution_count": 25,
     "metadata": {},
     "output_type": "execute_result"
    }
   ],
   "source": [
    "arr1d > 5"
   ]
  },
  {
   "cell_type": "code",
   "execution_count": 27,
   "id": "9fe98866",
   "metadata": {},
   "outputs": [
    {
     "name": "stdout",
     "output_type": "stream",
     "text": [
      "불린 인덱스로 필터링 결과: [6 7 8 9]\n"
     ]
    }
   ],
   "source": [
    "boolean_index = np.array([False, False, False, False, False,  True,  True,  True,  True])\n",
    "arr3 = arr1d[boolean_index]\n",
    "print('불린 인덱스로 필터링 결과:', arr3)"
   ]
  },
  {
   "cell_type": "code",
   "execution_count": null,
   "id": "10f2d20f",
   "metadata": {},
   "outputs": [],
   "source": []
  }
 ],
 "metadata": {
  "kernelspec": {
   "display_name": "Python 3",
   "language": "python",
   "name": "python3"
  },
  "language_info": {
   "codemirror_mode": {
    "name": "ipython",
    "version": 3
   },
   "file_extension": ".py",
   "mimetype": "text/x-python",
   "name": "python",
   "nbconvert_exporter": "python",
   "pygments_lexer": "ipython3",
   "version": "3.8.8"
  }
 },
 "nbformat": 4,
 "nbformat_minor": 5
}
